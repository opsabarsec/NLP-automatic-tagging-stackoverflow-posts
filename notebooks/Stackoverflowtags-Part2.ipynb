{
  "nbformat": 4,
  "nbformat_minor": 0,
  "metadata": {
    "colab": {
      "name": "Stackoverflowtags-Part2.ipynb",
      "provenance": [],
      "collapsed_sections": [],
      "toc_visible": true
    },
    "kernelspec": {
      "display_name": "Python 3",
      "language": "python",
      "name": "python3"
    },
    "language_info": {
      "codemirror_mode": {
        "name": "ipython",
        "version": 3
      },
      "file_extension": ".py",
      "mimetype": "text/x-python",
      "name": "python",
      "nbconvert_exporter": "python",
      "pygments_lexer": "ipython3",
      "version": "3.7.6"
    }
  },
  "cells": [
    {
      "cell_type": "markdown",
      "metadata": {
        "colab_type": "text",
        "id": "4jpKnAEbIR8_"
      },
      "source": [
        "# Stack Overflow Tag Prediction 2: Topic Modeling"
      ]
    },
    {
      "cell_type": "markdown",
      "metadata": {
        "colab_type": "text",
        "id": "Yq-biJY0IR9C"
      },
      "source": [
        "Stack Overflow is the largest, most trusted online community for developers to learn, share their programming knowledge, and build their careers. The goal of this project is to predict as many tags as possible with high precision and recall. Incorrect tags could impact user experience on StackOverflow. \n",
        "\n",
        "To automatically assign tags we use in a first step an unsupervised approach: the text analysis technique called topic modeling. The ultimate goal of topic modeling is to find various topics that are present in your corpus. Each document in the corpus will be made up of at least one topic, if not multiple topics."
      ]
    },
    {
      "cell_type": "markdown",
      "metadata": {
        "colab_type": "text",
        "id": "5qNeoPoJIR9G"
      },
      "source": [
        "## Import libraries and load dataset"
      ]
    },
    {
      "cell_type": "code",
      "metadata": {
        "colab_type": "code",
        "id": "8ovXyaPCIR9J",
        "colab": {}
      },
      "source": [
        "import pandas as pd\n",
        "import numpy as np\n",
        "import nltk, re, pprint\n",
        "from nltk import word_tokenize, pos_tag\n",
        "\n",
        "from sklearn.metrics.pairwise import cosine_similarity\n",
        "\n",
        "from sklearn.feature_extraction.text import CountVectorizer\n",
        "from sklearn.feature_extraction.text import TfidfTransformer\n",
        "from sklearn.feature_extraction.text import TfidfVectorizer\n",
        "\n",
        "from sklearn.decomposition import NMF, LatentDirichletAllocation, TruncatedSVD\n",
        "from gensim import matutils, models\n",
        "from gensim.models.ldamulticore import LdaMulticore\n",
        "from gensim.models import CoherenceModel\n",
        "from gensim import corpora\n",
        "from gensim.corpora.dictionary import Dictionary\n",
        "from gensim.parsing.preprocessing import preprocess_documents\n",
        "from gensim.utils import simple_preprocess\n",
        "from gensim.parsing.preprocessing import remove_stopwords\n",
        "from gensim.models.word2vec import Word2Vec\n",
        "import time\n",
        "\n",
        "import warnings\n",
        "warnings.filterwarnings('ignore')\n",
        "\n",
        "from sklearn.model_selection import train_test_split\n",
        "from matplotlib import pyplot as plt\n",
        "\n",
        "from matplotlib.legend_handler import HandlerLine2D\n",
        "\n",
        "from sklearn.dummy import DummyClassifier\n",
        "from sklearn.naive_bayes import MultinomialNB\n",
        "from sklearn.linear_model import SGDClassifier\n",
        "from sklearn.linear_model import LogisticRegression\n",
        "from sklearn.multiclass import OneVsRestClassifier\n",
        "from sklearn.svm import LinearSVC\n",
        "from sklearn.linear_model import Perceptron\n",
        "from sklearn.linear_model import PassiveAggressiveClassifier\n",
        "from sklearn.neural_network import MLPClassifier\n",
        "from sklearn.ensemble import RandomForestClassifier\n",
        "\n",
        "from sklearn.neighbors import KNeighborsClassifier\n",
        "\n",
        "from sklearn import model_selection\n",
        "\n",
        "from sklearn.metrics import make_scorer\n",
        "from sklearn.metrics import f1_score\n",
        "from sklearn.metrics import confusion_matrix\n",
        "from sklearn.metrics import hamming_loss\n",
        "from sklearn.metrics import roc_curve\n",
        "from sklearn.metrics import roc_auc_score\n",
        "from sklearn.metrics import jaccard_score\n",
        "\n",
        "from sklearn.cluster import KMeans\n",
        "from sklearn.model_selection import RandomizedSearchCV\n",
        "\n",
        "from scipy.stats import randint as sp_randint\n",
        "\n",
        "from sklearn.preprocessing import StandardScaler\n",
        "from sklearn.preprocessing import MultiLabelBinarizer\n",
        "from sklearn.decomposition import PCA\n",
        "\n",
        "from sklearn.datasets import make_multilabel_classification\n",
        "from sklearn.multioutput import MultiOutputClassifier\n",
        "from sklearn.metrics import accuracy_score\n",
        "import re\n"
      ],
      "execution_count": 0,
      "outputs": []
    },
    {
      "cell_type": "code",
      "metadata": {
        "colab_type": "code",
        "id": "Ln7IkimLIR9b",
        "outputId": "08459414-19ff-4a0b-8448-9f6c4cc59104",
        "colab": {
          "base_uri": "https://localhost:8080/",
          "height": 206
        }
      },
      "source": [
        "df_base = pd.read_csv('stackoverflow_processed_sample.csv', encoding='utf-8')\n",
        "df_base.head()"
      ],
      "execution_count": 2,
      "outputs": [
        {
          "output_type": "execute_result",
          "data": {
            "text/html": [
              "<div>\n",
              "<style scoped>\n",
              "    .dataframe tbody tr th:only-of-type {\n",
              "        vertical-align: middle;\n",
              "    }\n",
              "\n",
              "    .dataframe tbody tr th {\n",
              "        vertical-align: top;\n",
              "    }\n",
              "\n",
              "    .dataframe thead th {\n",
              "        text-align: right;\n",
              "    }\n",
              "</style>\n",
              "<table border=\"1\" class=\"dataframe\">\n",
              "  <thead>\n",
              "    <tr style=\"text-align: right;\">\n",
              "      <th></th>\n",
              "      <th>Lemma</th>\n",
              "      <th>lemmalist</th>\n",
              "      <th>tags</th>\n",
              "      <th>taglist</th>\n",
              "    </tr>\n",
              "  </thead>\n",
              "  <tbody>\n",
              "    <tr>\n",
              "      <th>0</th>\n",
              "      <td>['processing', 'sort', 'array', 'faster', 'pro...</td>\n",
              "      <td>processing sort array faster processing unsort...</td>\n",
              "      <td>['java', 'c++', 'performance', 'optimization',...</td>\n",
              "      <td>java c++ performance optimization branch-predi...</td>\n",
              "    </tr>\n",
              "    <tr>\n",
              "      <th>1</th>\n",
              "      <td>['undo', 'recent', 'local', 'commits', 'git', ...</td>\n",
              "      <td>undo recent local commits git accidentally com...</td>\n",
              "      <td>['git', 'version-control', 'git-commit', 'undo...</td>\n",
              "      <td>git version-control git-commit undo pre-commit</td>\n",
              "    </tr>\n",
              "    <tr>\n",
              "      <th>2</th>\n",
              "      <td>['delete', 'git', 'branch', 'locally', 'remote...</td>\n",
              "      <td>delete git branch locally remotely want delete...</td>\n",
              "      <td>['git', 'version-control', 'git-branch', 'git-...</td>\n",
              "      <td>git version-control git-branch git-push git-re...</td>\n",
              "    </tr>\n",
              "    <tr>\n",
              "      <th>3</th>\n",
              "      <td>['difference', 'git', 'pull', 'git', 'fetch', ...</td>\n",
              "      <td>difference git pull git fetch difference git p...</td>\n",
              "      <td>['git', 'version-control', 'git-pull', 'git-fe...</td>\n",
              "      <td>git version-control git-pull git-fetch</td>\n",
              "    </tr>\n",
              "    <tr>\n",
              "      <th>4</th>\n",
              "      <td>['correct', 'json', 'content', 'type', 'mess',...</td>\n",
              "      <td>correct json content type mess json time push ...</td>\n",
              "      <td>['json', 'http-headers', 'content-type']</td>\n",
              "      <td>json http-headers content-type</td>\n",
              "    </tr>\n",
              "  </tbody>\n",
              "</table>\n",
              "</div>"
            ],
            "text/plain": [
              "                                               Lemma  ...                                            taglist\n",
              "0  ['processing', 'sort', 'array', 'faster', 'pro...  ...  java c++ performance optimization branch-predi...\n",
              "1  ['undo', 'recent', 'local', 'commits', 'git', ...  ...     git version-control git-commit undo pre-commit\n",
              "2  ['delete', 'git', 'branch', 'locally', 'remote...  ...  git version-control git-branch git-push git-re...\n",
              "3  ['difference', 'git', 'pull', 'git', 'fetch', ...  ...             git version-control git-pull git-fetch\n",
              "4  ['correct', 'json', 'content', 'type', 'mess',...  ...                     json http-headers content-type\n",
              "\n",
              "[5 rows x 4 columns]"
            ]
          },
          "metadata": {
            "tags": []
          },
          "execution_count": 2
        }
      ]
    },
    {
      "cell_type": "code",
      "metadata": {
        "colab_type": "code",
        "id": "1Nje6HBsIR94",
        "colab": {}
      },
      "source": [
        "# Define a time counter function to test the algorythms performance \n",
        "_start_time = time.time()\n",
        "\n",
        "def process_time_starts():\n",
        "    global _start_time \n",
        "    _start_time = time.time()\n",
        "\n",
        "def time_elapsed():\n",
        "    t_sec = round(time.time() - _start_time)\n",
        "    (t_min, t_sec) = divmod(t_sec,60)\n",
        "    (t_hour,t_min) = divmod(t_min,60) \n",
        "    print('The process took: {}hour:{}min:{}sec'.format(t_hour,t_min,t_sec))"
      ],
      "execution_count": 0,
      "outputs": []
    },
    {
      "cell_type": "markdown",
      "metadata": {
        "colab_type": "text",
        "id": "NFEFO3CfIR-C"
      },
      "source": [
        "## Encoded target matrix"
      ]
    },
    {
      "cell_type": "code",
      "metadata": {
        "colab_type": "code",
        "id": "gA0_eDvyIR-E",
        "colab": {}
      },
      "source": [
        "one_hot = MultiLabelBinarizer() # encoder for the  tags \n",
        "y = df_base['taglist']\n",
        "y_onehot = one_hot.fit_transform(y.str.split(' ')) \n",
        "y_bin = pd.DataFrame(y_onehot, columns=one_hot.classes_ ) # transform it to Pandas object"
      ],
      "execution_count": 0,
      "outputs": []
    },
    {
      "cell_type": "code",
      "metadata": {
        "id": "Dtgkh1mM9RoS",
        "colab_type": "code",
        "outputId": "5840cb05-aae7-408a-b940-11cac3596d49",
        "colab": {
          "base_uri": "https://localhost:8080/",
          "height": 214
        }
      },
      "source": [
        "print(y_bin.shape) # verify the result\n",
        "y_bin[:2] # still lots of non-relevant columns\n"
      ],
      "execution_count": 5,
      "outputs": [
        {
          "output_type": "stream",
          "text": [
            "(37175, 8578)\n"
          ],
          "name": "stdout"
        },
        {
          "output_type": "execute_result",
          "data": {
            "text/html": [
              "<div>\n",
              "<style scoped>\n",
              "    .dataframe tbody tr th:only-of-type {\n",
              "        vertical-align: middle;\n",
              "    }\n",
              "\n",
              "    .dataframe tbody tr th {\n",
              "        vertical-align: top;\n",
              "    }\n",
              "\n",
              "    .dataframe thead th {\n",
              "        text-align: right;\n",
              "    }\n",
              "</style>\n",
              "<table border=\"1\" class=\"dataframe\">\n",
              "  <thead>\n",
              "    <tr style=\"text-align: right;\">\n",
              "      <th></th>\n",
              "      <th>.a</th>\n",
              "      <th>.bash-profile</th>\n",
              "      <th>.d.ts</th>\n",
              "      <th>.htaccess</th>\n",
              "      <th>.net</th>\n",
              "      <th>.net-2.0</th>\n",
              "      <th>.net-3.0</th>\n",
              "      <th>.net-3.5</th>\n",
              "      <th>.net-4.0</th>\n",
              "      <th>.net-4.5</th>\n",
              "      <th>.net-4.5.2</th>\n",
              "      <th>.net-assembly</th>\n",
              "      <th>.net-attributes</th>\n",
              "      <th>.net-client-profile</th>\n",
              "      <th>.net-core</th>\n",
              "      <th>.net-core-3.0</th>\n",
              "      <th>.net-framework-version</th>\n",
              "      <th>.net-standard</th>\n",
              "      <th>.net-standard-2.0</th>\n",
              "      <th>.when</th>\n",
              "      <th>16-bit</th>\n",
              "      <th>2048</th>\n",
              "      <th>2d</th>\n",
              "      <th>32-bit</th>\n",
              "      <th>32bit-64bit</th>\n",
              "      <th>3d</th>\n",
              "      <th>3g</th>\n",
              "      <th>3nf</th>\n",
              "      <th>64-bit</th>\n",
              "      <th>7zip</th>\n",
              "      <th>a-records</th>\n",
              "      <th>a-star</th>\n",
              "      <th>aapt</th>\n",
              "      <th>aar</th>\n",
              "      <th>abbreviation</th>\n",
              "      <th>abc</th>\n",
              "      <th>abi</th>\n",
              "      <th>abort</th>\n",
              "      <th>absolute</th>\n",
              "      <th>absolute-path</th>\n",
              "      <th>...</th>\n",
              "      <th>yeoman</th>\n",
              "      <th>yesod</th>\n",
              "      <th>yield</th>\n",
              "      <th>yield-keyword</th>\n",
              "      <th>yield-return</th>\n",
              "      <th>youtube</th>\n",
              "      <th>youtube-api</th>\n",
              "      <th>youtube-data-api</th>\n",
              "      <th>youtube-iframe-api</th>\n",
              "      <th>youtube-javascript-api</th>\n",
              "      <th>yui</th>\n",
              "      <th>yum</th>\n",
              "      <th>z-index</th>\n",
              "      <th>z-order</th>\n",
              "      <th>zalgo</th>\n",
              "      <th>zebra-puzzle</th>\n",
              "      <th>zen-of-python</th>\n",
              "      <th>zend-framework2</th>\n",
              "      <th>zend-studio</th>\n",
              "      <th>zepto</th>\n",
              "      <th>zero</th>\n",
              "      <th>zero-extension</th>\n",
              "      <th>zero-pad</th>\n",
              "      <th>zero-padding</th>\n",
              "      <th>zerofill</th>\n",
              "      <th>zeromq</th>\n",
              "      <th>zip</th>\n",
              "      <th>zipalign</th>\n",
              "      <th>ziparchive</th>\n",
              "      <th>zipcode</th>\n",
              "      <th>zipfile</th>\n",
              "      <th>zipper</th>\n",
              "      <th>zlib</th>\n",
              "      <th>zombie-process</th>\n",
              "      <th>zoo</th>\n",
              "      <th>zoom</th>\n",
              "      <th>zsh</th>\n",
              "      <th>zsh-completion</th>\n",
              "      <th>zurb-foundation</th>\n",
              "      <th>zxing</th>\n",
              "    </tr>\n",
              "  </thead>\n",
              "  <tbody>\n",
              "    <tr>\n",
              "      <th>0</th>\n",
              "      <td>0</td>\n",
              "      <td>0</td>\n",
              "      <td>0</td>\n",
              "      <td>0</td>\n",
              "      <td>0</td>\n",
              "      <td>0</td>\n",
              "      <td>0</td>\n",
              "      <td>0</td>\n",
              "      <td>0</td>\n",
              "      <td>0</td>\n",
              "      <td>0</td>\n",
              "      <td>0</td>\n",
              "      <td>0</td>\n",
              "      <td>0</td>\n",
              "      <td>0</td>\n",
              "      <td>0</td>\n",
              "      <td>0</td>\n",
              "      <td>0</td>\n",
              "      <td>0</td>\n",
              "      <td>0</td>\n",
              "      <td>0</td>\n",
              "      <td>0</td>\n",
              "      <td>0</td>\n",
              "      <td>0</td>\n",
              "      <td>0</td>\n",
              "      <td>0</td>\n",
              "      <td>0</td>\n",
              "      <td>0</td>\n",
              "      <td>0</td>\n",
              "      <td>0</td>\n",
              "      <td>0</td>\n",
              "      <td>0</td>\n",
              "      <td>0</td>\n",
              "      <td>0</td>\n",
              "      <td>0</td>\n",
              "      <td>0</td>\n",
              "      <td>0</td>\n",
              "      <td>0</td>\n",
              "      <td>0</td>\n",
              "      <td>0</td>\n",
              "      <td>...</td>\n",
              "      <td>0</td>\n",
              "      <td>0</td>\n",
              "      <td>0</td>\n",
              "      <td>0</td>\n",
              "      <td>0</td>\n",
              "      <td>0</td>\n",
              "      <td>0</td>\n",
              "      <td>0</td>\n",
              "      <td>0</td>\n",
              "      <td>0</td>\n",
              "      <td>0</td>\n",
              "      <td>0</td>\n",
              "      <td>0</td>\n",
              "      <td>0</td>\n",
              "      <td>0</td>\n",
              "      <td>0</td>\n",
              "      <td>0</td>\n",
              "      <td>0</td>\n",
              "      <td>0</td>\n",
              "      <td>0</td>\n",
              "      <td>0</td>\n",
              "      <td>0</td>\n",
              "      <td>0</td>\n",
              "      <td>0</td>\n",
              "      <td>0</td>\n",
              "      <td>0</td>\n",
              "      <td>0</td>\n",
              "      <td>0</td>\n",
              "      <td>0</td>\n",
              "      <td>0</td>\n",
              "      <td>0</td>\n",
              "      <td>0</td>\n",
              "      <td>0</td>\n",
              "      <td>0</td>\n",
              "      <td>0</td>\n",
              "      <td>0</td>\n",
              "      <td>0</td>\n",
              "      <td>0</td>\n",
              "      <td>0</td>\n",
              "      <td>0</td>\n",
              "    </tr>\n",
              "    <tr>\n",
              "      <th>1</th>\n",
              "      <td>0</td>\n",
              "      <td>0</td>\n",
              "      <td>0</td>\n",
              "      <td>0</td>\n",
              "      <td>0</td>\n",
              "      <td>0</td>\n",
              "      <td>0</td>\n",
              "      <td>0</td>\n",
              "      <td>0</td>\n",
              "      <td>0</td>\n",
              "      <td>0</td>\n",
              "      <td>0</td>\n",
              "      <td>0</td>\n",
              "      <td>0</td>\n",
              "      <td>0</td>\n",
              "      <td>0</td>\n",
              "      <td>0</td>\n",
              "      <td>0</td>\n",
              "      <td>0</td>\n",
              "      <td>0</td>\n",
              "      <td>0</td>\n",
              "      <td>0</td>\n",
              "      <td>0</td>\n",
              "      <td>0</td>\n",
              "      <td>0</td>\n",
              "      <td>0</td>\n",
              "      <td>0</td>\n",
              "      <td>0</td>\n",
              "      <td>0</td>\n",
              "      <td>0</td>\n",
              "      <td>0</td>\n",
              "      <td>0</td>\n",
              "      <td>0</td>\n",
              "      <td>0</td>\n",
              "      <td>0</td>\n",
              "      <td>0</td>\n",
              "      <td>0</td>\n",
              "      <td>0</td>\n",
              "      <td>0</td>\n",
              "      <td>0</td>\n",
              "      <td>...</td>\n",
              "      <td>0</td>\n",
              "      <td>0</td>\n",
              "      <td>0</td>\n",
              "      <td>0</td>\n",
              "      <td>0</td>\n",
              "      <td>0</td>\n",
              "      <td>0</td>\n",
              "      <td>0</td>\n",
              "      <td>0</td>\n",
              "      <td>0</td>\n",
              "      <td>0</td>\n",
              "      <td>0</td>\n",
              "      <td>0</td>\n",
              "      <td>0</td>\n",
              "      <td>0</td>\n",
              "      <td>0</td>\n",
              "      <td>0</td>\n",
              "      <td>0</td>\n",
              "      <td>0</td>\n",
              "      <td>0</td>\n",
              "      <td>0</td>\n",
              "      <td>0</td>\n",
              "      <td>0</td>\n",
              "      <td>0</td>\n",
              "      <td>0</td>\n",
              "      <td>0</td>\n",
              "      <td>0</td>\n",
              "      <td>0</td>\n",
              "      <td>0</td>\n",
              "      <td>0</td>\n",
              "      <td>0</td>\n",
              "      <td>0</td>\n",
              "      <td>0</td>\n",
              "      <td>0</td>\n",
              "      <td>0</td>\n",
              "      <td>0</td>\n",
              "      <td>0</td>\n",
              "      <td>0</td>\n",
              "      <td>0</td>\n",
              "      <td>0</td>\n",
              "    </tr>\n",
              "  </tbody>\n",
              "</table>\n",
              "<p>2 rows × 8578 columns</p>\n",
              "</div>"
            ],
            "text/plain": [
              "   .a  .bash-profile  .d.ts  ...  zsh-completion  zurb-foundation  zxing\n",
              "0   0              0      0  ...               0                0      0\n",
              "1   0              0      0  ...               0                0      0\n",
              "\n",
              "[2 rows x 8578 columns]"
            ]
          },
          "metadata": {
            "tags": []
          },
          "execution_count": 5
        }
      ]
    },
    {
      "cell_type": "markdown",
      "metadata": {
        "id": "7CNNG55ZoYl_",
        "colab_type": "text"
      },
      "source": [
        "**Tags to be selected**"
      ]
    },
    {
      "cell_type": "code",
      "metadata": {
        "id": "0tNvyhcWn_N0",
        "colab_type": "code",
        "colab": {}
      },
      "source": [
        "Number_tags = 150 # number to choose in order of popularity"
      ],
      "execution_count": 0,
      "outputs": []
    },
    {
      "cell_type": "code",
      "metadata": {
        "colab_type": "code",
        "id": "HbbDwtWKIR-S",
        "colab": {}
      },
      "source": [
        "df_tags = pd.read_csv('stackoverflow_processed_tags.csv', encoding='utf-8') # load the taglist in order to perform a tags selection\n",
        "df_tags = df_tags.dropna()\n",
        "tags = df_tags.tag #tags ordered by popularity\n",
        "\n",
        "popular_tags = tags[:Number_tags].tolist() # get the list of n most popular tags\n"
      ],
      "execution_count": 0,
      "outputs": []
    },
    {
      "cell_type": "markdown",
      "metadata": {
        "id": "CKzB-B1vl5ty",
        "colab_type": "text"
      },
      "source": [
        "select only popular tags from tags encoded matrix using filter function"
      ]
    },
    {
      "cell_type": "code",
      "metadata": {
        "colab_type": "code",
        "id": "XlfZjgFhIR-d",
        "outputId": "b0a099d3-fca3-4f70-e73d-44f818dca48b",
        "colab": {
          "base_uri": "https://localhost:8080/",
          "height": 196
        }
      },
      "source": [
        "y_bin = y_bin.filter(items=popular_tags)\n",
        "\n",
        "y_bin[:2]"
      ],
      "execution_count": 8,
      "outputs": [
        {
          "output_type": "execute_result",
          "data": {
            "text/html": [
              "<div>\n",
              "<style scoped>\n",
              "    .dataframe tbody tr th:only-of-type {\n",
              "        vertical-align: middle;\n",
              "    }\n",
              "\n",
              "    .dataframe tbody tr th {\n",
              "        vertical-align: top;\n",
              "    }\n",
              "\n",
              "    .dataframe thead th {\n",
              "        text-align: right;\n",
              "    }\n",
              "</style>\n",
              "<table border=\"1\" class=\"dataframe\">\n",
              "  <thead>\n",
              "    <tr style=\"text-align: right;\">\n",
              "      <th></th>\n",
              "      <th>javascript</th>\n",
              "      <th>python</th>\n",
              "      <th>java</th>\n",
              "      <th>c#</th>\n",
              "      <th>android</th>\n",
              "      <th>html</th>\n",
              "      <th>git</th>\n",
              "      <th>css</th>\n",
              "      <th>jquery</th>\n",
              "      <th>c++</th>\n",
              "      <th>ios</th>\n",
              "      <th>.net</th>\n",
              "      <th>php</th>\n",
              "      <th>string</th>\n",
              "      <th>sql</th>\n",
              "      <th>mysql</th>\n",
              "      <th>bash</th>\n",
              "      <th>node.js</th>\n",
              "      <th>arrays</th>\n",
              "      <th>c</th>\n",
              "      <th>linux</th>\n",
              "      <th>objective-c</th>\n",
              "      <th>sql-server</th>\n",
              "      <th>ruby</th>\n",
              "      <th>swift</th>\n",
              "      <th>json</th>\n",
              "      <th>shell</th>\n",
              "      <th>ruby-on-rails</th>\n",
              "      <th>iphone</th>\n",
              "      <th>angularjs</th>\n",
              "      <th>list</th>\n",
              "      <th>xcode</th>\n",
              "      <th>windows</th>\n",
              "      <th>regex</th>\n",
              "      <th>r</th>\n",
              "      <th>visual-studio</th>\n",
              "      <th>performance</th>\n",
              "      <th>asp.net</th>\n",
              "      <th>database</th>\n",
              "      <th>macos</th>\n",
              "      <th>...</th>\n",
              "      <th>enums</th>\n",
              "      <th>ubuntu</th>\n",
              "      <th>batch-file</th>\n",
              "      <th>design-patterns</th>\n",
              "      <th>random</th>\n",
              "      <th>ssh</th>\n",
              "      <th>loops</th>\n",
              "      <th>gcc</th>\n",
              "      <th>pip</th>\n",
              "      <th>ecmascript-6</th>\n",
              "      <th>inheritance</th>\n",
              "      <th>powershell</th>\n",
              "      <th>coding-style</th>\n",
              "      <th>file-io</th>\n",
              "      <th>path</th>\n",
              "      <th>terminal</th>\n",
              "      <th>visual-studio-2010</th>\n",
              "      <th>laravel</th>\n",
              "      <th>oracle</th>\n",
              "      <th>directory</th>\n",
              "      <th>optimization</th>\n",
              "      <th>android-fragments</th>\n",
              "      <th>reflection</th>\n",
              "      <th>parsing</th>\n",
              "      <th>operators</th>\n",
              "      <th>lambda</th>\n",
              "      <th>branch</th>\n",
              "      <th>csv</th>\n",
              "      <th>ruby-on-rails-3</th>\n",
              "      <th>math</th>\n",
              "      <th>terminology</th>\n",
              "      <th>asynchronous</th>\n",
              "      <th>time</th>\n",
              "      <th>validation</th>\n",
              "      <th>scripting</th>\n",
              "      <th>uitableview</th>\n",
              "      <th>visual-studio-code</th>\n",
              "      <th>hibernate</th>\n",
              "      <th>unicode</th>\n",
              "      <th>floating-point</th>\n",
              "    </tr>\n",
              "  </thead>\n",
              "  <tbody>\n",
              "    <tr>\n",
              "      <th>0</th>\n",
              "      <td>0</td>\n",
              "      <td>0</td>\n",
              "      <td>1</td>\n",
              "      <td>0</td>\n",
              "      <td>0</td>\n",
              "      <td>0</td>\n",
              "      <td>0</td>\n",
              "      <td>0</td>\n",
              "      <td>0</td>\n",
              "      <td>1</td>\n",
              "      <td>0</td>\n",
              "      <td>0</td>\n",
              "      <td>0</td>\n",
              "      <td>0</td>\n",
              "      <td>0</td>\n",
              "      <td>0</td>\n",
              "      <td>0</td>\n",
              "      <td>0</td>\n",
              "      <td>0</td>\n",
              "      <td>0</td>\n",
              "      <td>0</td>\n",
              "      <td>0</td>\n",
              "      <td>0</td>\n",
              "      <td>0</td>\n",
              "      <td>0</td>\n",
              "      <td>0</td>\n",
              "      <td>0</td>\n",
              "      <td>0</td>\n",
              "      <td>0</td>\n",
              "      <td>0</td>\n",
              "      <td>0</td>\n",
              "      <td>0</td>\n",
              "      <td>0</td>\n",
              "      <td>0</td>\n",
              "      <td>0</td>\n",
              "      <td>0</td>\n",
              "      <td>1</td>\n",
              "      <td>0</td>\n",
              "      <td>0</td>\n",
              "      <td>0</td>\n",
              "      <td>...</td>\n",
              "      <td>0</td>\n",
              "      <td>0</td>\n",
              "      <td>0</td>\n",
              "      <td>0</td>\n",
              "      <td>0</td>\n",
              "      <td>0</td>\n",
              "      <td>0</td>\n",
              "      <td>0</td>\n",
              "      <td>0</td>\n",
              "      <td>0</td>\n",
              "      <td>0</td>\n",
              "      <td>0</td>\n",
              "      <td>0</td>\n",
              "      <td>0</td>\n",
              "      <td>0</td>\n",
              "      <td>0</td>\n",
              "      <td>0</td>\n",
              "      <td>0</td>\n",
              "      <td>0</td>\n",
              "      <td>0</td>\n",
              "      <td>1</td>\n",
              "      <td>0</td>\n",
              "      <td>0</td>\n",
              "      <td>0</td>\n",
              "      <td>0</td>\n",
              "      <td>0</td>\n",
              "      <td>0</td>\n",
              "      <td>0</td>\n",
              "      <td>0</td>\n",
              "      <td>0</td>\n",
              "      <td>0</td>\n",
              "      <td>0</td>\n",
              "      <td>0</td>\n",
              "      <td>0</td>\n",
              "      <td>0</td>\n",
              "      <td>0</td>\n",
              "      <td>0</td>\n",
              "      <td>0</td>\n",
              "      <td>0</td>\n",
              "      <td>0</td>\n",
              "    </tr>\n",
              "    <tr>\n",
              "      <th>1</th>\n",
              "      <td>0</td>\n",
              "      <td>0</td>\n",
              "      <td>0</td>\n",
              "      <td>0</td>\n",
              "      <td>0</td>\n",
              "      <td>0</td>\n",
              "      <td>1</td>\n",
              "      <td>0</td>\n",
              "      <td>0</td>\n",
              "      <td>0</td>\n",
              "      <td>0</td>\n",
              "      <td>0</td>\n",
              "      <td>0</td>\n",
              "      <td>0</td>\n",
              "      <td>0</td>\n",
              "      <td>0</td>\n",
              "      <td>0</td>\n",
              "      <td>0</td>\n",
              "      <td>0</td>\n",
              "      <td>0</td>\n",
              "      <td>0</td>\n",
              "      <td>0</td>\n",
              "      <td>0</td>\n",
              "      <td>0</td>\n",
              "      <td>0</td>\n",
              "      <td>0</td>\n",
              "      <td>0</td>\n",
              "      <td>0</td>\n",
              "      <td>0</td>\n",
              "      <td>0</td>\n",
              "      <td>0</td>\n",
              "      <td>0</td>\n",
              "      <td>0</td>\n",
              "      <td>0</td>\n",
              "      <td>0</td>\n",
              "      <td>0</td>\n",
              "      <td>0</td>\n",
              "      <td>0</td>\n",
              "      <td>0</td>\n",
              "      <td>0</td>\n",
              "      <td>...</td>\n",
              "      <td>0</td>\n",
              "      <td>0</td>\n",
              "      <td>0</td>\n",
              "      <td>0</td>\n",
              "      <td>0</td>\n",
              "      <td>0</td>\n",
              "      <td>0</td>\n",
              "      <td>0</td>\n",
              "      <td>0</td>\n",
              "      <td>0</td>\n",
              "      <td>0</td>\n",
              "      <td>0</td>\n",
              "      <td>0</td>\n",
              "      <td>0</td>\n",
              "      <td>0</td>\n",
              "      <td>0</td>\n",
              "      <td>0</td>\n",
              "      <td>0</td>\n",
              "      <td>0</td>\n",
              "      <td>0</td>\n",
              "      <td>0</td>\n",
              "      <td>0</td>\n",
              "      <td>0</td>\n",
              "      <td>0</td>\n",
              "      <td>0</td>\n",
              "      <td>0</td>\n",
              "      <td>0</td>\n",
              "      <td>0</td>\n",
              "      <td>0</td>\n",
              "      <td>0</td>\n",
              "      <td>0</td>\n",
              "      <td>0</td>\n",
              "      <td>0</td>\n",
              "      <td>0</td>\n",
              "      <td>0</td>\n",
              "      <td>0</td>\n",
              "      <td>0</td>\n",
              "      <td>0</td>\n",
              "      <td>0</td>\n",
              "      <td>0</td>\n",
              "    </tr>\n",
              "  </tbody>\n",
              "</table>\n",
              "<p>2 rows × 150 columns</p>\n",
              "</div>"
            ],
            "text/plain": [
              "   javascript  python  java  ...  hibernate  unicode  floating-point\n",
              "0           0       0     1  ...          0        0               0\n",
              "1           0       0     0  ...          0        0               0\n",
              "\n",
              "[2 rows x 150 columns]"
            ]
          },
          "metadata": {
            "tags": []
          },
          "execution_count": 8
        }
      ]
    },
    {
      "cell_type": "code",
      "metadata": {
        "id": "_6VBKU_Xqi04",
        "colab_type": "code",
        "outputId": "4e151386-9b41-4558-b573-1797692d934a",
        "colab": {
          "base_uri": "https://localhost:8080/",
          "height": 34
        }
      },
      "source": [
        "print(y_bin.shape) # verify shape"
      ],
      "execution_count": 9,
      "outputs": [
        {
          "output_type": "stream",
          "text": [
            "(37175, 150)\n"
          ],
          "name": "stdout"
        }
      ]
    },
    {
      "cell_type": "markdown",
      "metadata": {
        "colab_type": "text",
        "id": "0OjEnDe3IR-l"
      },
      "source": [
        "## 1. Document-term matrix\n",
        "\n",
        "\n",
        "To use a topic modeling technique, we calculate have to calculate (1) a document-term matrix and (2) choose the number of topics for the algorithm to pick up.\n",
        "Documemt-term matrix is calculated using either using the \"Bag of Words\" or \"TF-IDF\" approach.\n",
        "The number of topics is chosen beforehands"
      ]
    },
    {
      "cell_type": "markdown",
      "metadata": {
        "id": "1N9MoRaTojLP",
        "colab_type": "text"
      },
      "source": [
        "**Features to be modeled**"
      ]
    },
    {
      "cell_type": "code",
      "metadata": {
        "colab_type": "code",
        "id": "8bD2-FL0IR-n",
        "colab": {}
      },
      "source": [
        "num_features = 220"
      ],
      "execution_count": 0,
      "outputs": []
    },
    {
      "cell_type": "markdown",
      "metadata": {
        "colab_type": "text",
        "id": "s5JRfe7DIR-w"
      },
      "source": [
        "### 1.1 Bag of Words approach\n",
        "\n",
        "In order to perform machine learning on text documents, we first need to turn the text content into numerical feature vectors, i.e build a document-term matrix.\n",
        "One common approach is called a Bag of Words. The Bag of Words model learns a vocabulary from all of the documents, then models each document by counting the number of times each word appears. "
      ]
    },
    {
      "cell_type": "code",
      "metadata": {
        "colab_type": "code",
        "id": "psAJZPv3IR-x",
        "colab": {}
      },
      "source": [
        "# Initialize the \"CountVectorizer\" object, which is scikit-learn's bag of words tool\n",
        "c_vectorizer = CountVectorizer(analyzer = \"word\",tokenizer = None,  min_df=5, max_df = 0.8, max_features = num_features, ngram_range=(1, 2)) # count vectorizer with bigrams\n",
        "#The input to fit_transform should be a list of strings like column \"Lemma\" and \"tags\" in our dataframe."
      ],
      "execution_count": 0,
      "outputs": []
    },
    {
      "cell_type": "markdown",
      "metadata": {
        "colab_type": "text",
        "id": "zNKoAhN0IR-4"
      },
      "source": [
        "- parameters explanation:\n",
        "ngram_range: We want to consider both unigrams and bigrams.\n",
        "max_df: When building the vocabulary ignore terms that have a document frequency strictly higher than the given threshold\n",
        "min_df: When building the vocabulary ignore terms that have a document frequency strictly lower than the given threshold.\n",
        "max_features: Build a vocabulary that only consider the top max 500_features ordered by term frequency across the corpus\n"
      ]
    },
    {
      "cell_type": "code",
      "metadata": {
        "colab_type": "code",
        "id": "T4u7cDCnIR-6",
        "colab": {}
      },
      "source": [
        "# apply the vectorizer\n",
        "bag_of_words = c_vectorizer.fit_transform(df_base['Lemma']) \n",
        "# fit_transform() does two functions: First, it fits the model\n",
        "# and learns the vocabulary; second, it transforms our data\n",
        "# into feature vectors. "
      ],
      "execution_count": 0,
      "outputs": []
    },
    {
      "cell_type": "code",
      "metadata": {
        "colab_type": "code",
        "id": "k5cMiZ-OIR_D",
        "colab": {}
      },
      "source": [
        "# Numpy arrays are easy to work with, so convert the result to an array\n",
        "bag_of_words_array = bag_of_words.toarray()\n",
        "bag_of_words_dense = bag_of_words.todense()"
      ],
      "execution_count": 0,
      "outputs": []
    },
    {
      "cell_type": "markdown",
      "metadata": {
        "colab_type": "text",
        "id": "jrj-tuIkIR_O"
      },
      "source": [
        "document-term matrix calculated with \"Bag of Words\" method"
      ]
    },
    {
      "cell_type": "code",
      "metadata": {
        "colab_type": "code",
        "id": "jP9XTWg5IR_P",
        "outputId": "ef8ba31a-bfc1-4e6d-d22e-498c13056edc",
        "colab": {
          "base_uri": "https://localhost:8080/",
          "height": 273
        }
      },
      "source": [
        "# define vocabulary words\n",
        "vocab = c_vectorizer.get_feature_names()\n",
        "# build a dataframe out of the bag of words\n",
        "df_tf = pd.DataFrame(bag_of_words_dense, columns=vocab)\n",
        "print(df_tf.shape)\n",
        "df_tf.head() # visualize the matrix"
      ],
      "execution_count": 15,
      "outputs": [
        {
          "output_type": "stream",
          "text": [
            "(37175, 220)\n"
          ],
          "name": "stdout"
        },
        {
          "output_type": "execute_result",
          "data": {
            "text/html": [
              "<div>\n",
              "<style scoped>\n",
              "    .dataframe tbody tr th:only-of-type {\n",
              "        vertical-align: middle;\n",
              "    }\n",
              "\n",
              "    .dataframe tbody tr th {\n",
              "        vertical-align: top;\n",
              "    }\n",
              "\n",
              "    .dataframe thead th {\n",
              "        text-align: right;\n",
              "    }\n",
              "</style>\n",
              "<table border=\"1\" class=\"dataframe\">\n",
              "  <thead>\n",
              "    <tr style=\"text-align: right;\">\n",
              "      <th></th>\n",
              "      <th>able</th>\n",
              "      <th>access</th>\n",
              "      <th>add</th>\n",
              "      <th>allow</th>\n",
              "      <th>android</th>\n",
              "      <th>answer</th>\n",
              "      <th>api</th>\n",
              "      <th>app</th>\n",
              "      <th>application</th>\n",
              "      <th>array</th>\n",
              "      <th>attribute</th>\n",
              "      <th>background</th>\n",
              "      <th>bar</th>\n",
              "      <th>base</th>\n",
              "      <th>best</th>\n",
              "      <th>branch</th>\n",
              "      <th>browser</th>\n",
              "      <th>build</th>\n",
              "      <th>button</th>\n",
              "      <th>call</th>\n",
              "      <th>case</th>\n",
              "      <th>change</th>\n",
              "      <th>character</th>\n",
              "      <th>check</th>\n",
              "      <th>class</th>\n",
              "      <th>click</th>\n",
              "      <th>code</th>\n",
              "      <th>color</th>\n",
              "      <th>column</th>\n",
              "      <th>come</th>\n",
              "      <th>command</th>\n",
              "      <th>commit</th>\n",
              "      <th>compile</th>\n",
              "      <th>contain</th>\n",
              "      <th>content</th>\n",
              "      <th>convert</th>\n",
              "      <th>create</th>\n",
              "      <th>current</th>\n",
              "      <th>data</th>\n",
              "      <th>database</th>\n",
              "      <th>...</th>\n",
              "      <th>start</th>\n",
              "      <th>static</th>\n",
              "      <th>store</th>\n",
              "      <th>string</th>\n",
              "      <th>studio</th>\n",
              "      <th>style</th>\n",
              "      <th>support</th>\n",
              "      <th>sure</th>\n",
              "      <th>system</th>\n",
              "      <th>table</th>\n",
              "      <th>tag</th>\n",
              "      <th>test</th>\n",
              "      <th>text</th>\n",
              "      <th>thanks</th>\n",
              "      <th>thing</th>\n",
              "      <th>think</th>\n",
              "      <th>thread</th>\n",
              "      <th>time</th>\n",
              "      <th>true</th>\n",
              "      <th>try</th>\n",
              "      <th>type</th>\n",
              "      <th>understand</th>\n",
              "      <th>update</th>\n",
              "      <th>url</th>\n",
              "      <th>use</th>\n",
              "      <th>user</th>\n",
              "      <th>value</th>\n",
              "      <th>var</th>\n",
              "      <th>variable</th>\n",
              "      <th>version</th>\n",
              "      <th>view</th>\n",
              "      <th>visual</th>\n",
              "      <th>void</th>\n",
              "      <th>want</th>\n",
              "      <th>way</th>\n",
              "      <th>web</th>\n",
              "      <th>width</th>\n",
              "      <th>window</th>\n",
              "      <th>work</th>\n",
              "      <th>write</th>\n",
              "    </tr>\n",
              "  </thead>\n",
              "  <tbody>\n",
              "    <tr>\n",
              "      <th>0</th>\n",
              "      <td>0</td>\n",
              "      <td>0</td>\n",
              "      <td>0</td>\n",
              "      <td>0</td>\n",
              "      <td>0</td>\n",
              "      <td>0</td>\n",
              "      <td>0</td>\n",
              "      <td>0</td>\n",
              "      <td>0</td>\n",
              "      <td>5</td>\n",
              "      <td>0</td>\n",
              "      <td>0</td>\n",
              "      <td>0</td>\n",
              "      <td>0</td>\n",
              "      <td>0</td>\n",
              "      <td>0</td>\n",
              "      <td>0</td>\n",
              "      <td>0</td>\n",
              "      <td>0</td>\n",
              "      <td>0</td>\n",
              "      <td>0</td>\n",
              "      <td>0</td>\n",
              "      <td>0</td>\n",
              "      <td>0</td>\n",
              "      <td>1</td>\n",
              "      <td>0</td>\n",
              "      <td>5</td>\n",
              "      <td>0</td>\n",
              "      <td>0</td>\n",
              "      <td>0</td>\n",
              "      <td>0</td>\n",
              "      <td>0</td>\n",
              "      <td>0</td>\n",
              "      <td>0</td>\n",
              "      <td>0</td>\n",
              "      <td>0</td>\n",
              "      <td>0</td>\n",
              "      <td>0</td>\n",
              "      <td>18</td>\n",
              "      <td>0</td>\n",
              "      <td>...</td>\n",
              "      <td>4</td>\n",
              "      <td>1</td>\n",
              "      <td>0</td>\n",
              "      <td>1</td>\n",
              "      <td>0</td>\n",
              "      <td>0</td>\n",
              "      <td>0</td>\n",
              "      <td>0</td>\n",
              "      <td>0</td>\n",
              "      <td>0</td>\n",
              "      <td>0</td>\n",
              "      <td>2</td>\n",
              "      <td>0</td>\n",
              "      <td>0</td>\n",
              "      <td>0</td>\n",
              "      <td>2</td>\n",
              "      <td>0</td>\n",
              "      <td>1</td>\n",
              "      <td>0</td>\n",
              "      <td>1</td>\n",
              "      <td>0</td>\n",
              "      <td>0</td>\n",
              "      <td>0</td>\n",
              "      <td>0</td>\n",
              "      <td>0</td>\n",
              "      <td>0</td>\n",
              "      <td>0</td>\n",
              "      <td>0</td>\n",
              "      <td>0</td>\n",
              "      <td>0</td>\n",
              "      <td>0</td>\n",
              "      <td>0</td>\n",
              "      <td>1</td>\n",
              "      <td>0</td>\n",
              "      <td>0</td>\n",
              "      <td>0</td>\n",
              "      <td>0</td>\n",
              "      <td>0</td>\n",
              "      <td>0</td>\n",
              "      <td>0</td>\n",
              "    </tr>\n",
              "    <tr>\n",
              "      <th>1</th>\n",
              "      <td>0</td>\n",
              "      <td>0</td>\n",
              "      <td>0</td>\n",
              "      <td>0</td>\n",
              "      <td>0</td>\n",
              "      <td>0</td>\n",
              "      <td>0</td>\n",
              "      <td>0</td>\n",
              "      <td>0</td>\n",
              "      <td>0</td>\n",
              "      <td>0</td>\n",
              "      <td>0</td>\n",
              "      <td>0</td>\n",
              "      <td>0</td>\n",
              "      <td>0</td>\n",
              "      <td>0</td>\n",
              "      <td>0</td>\n",
              "      <td>0</td>\n",
              "      <td>0</td>\n",
              "      <td>0</td>\n",
              "      <td>0</td>\n",
              "      <td>0</td>\n",
              "      <td>0</td>\n",
              "      <td>0</td>\n",
              "      <td>0</td>\n",
              "      <td>0</td>\n",
              "      <td>0</td>\n",
              "      <td>0</td>\n",
              "      <td>0</td>\n",
              "      <td>0</td>\n",
              "      <td>0</td>\n",
              "      <td>2</td>\n",
              "      <td>0</td>\n",
              "      <td>0</td>\n",
              "      <td>0</td>\n",
              "      <td>0</td>\n",
              "      <td>0</td>\n",
              "      <td>0</td>\n",
              "      <td>0</td>\n",
              "      <td>0</td>\n",
              "      <td>...</td>\n",
              "      <td>0</td>\n",
              "      <td>0</td>\n",
              "      <td>0</td>\n",
              "      <td>0</td>\n",
              "      <td>0</td>\n",
              "      <td>0</td>\n",
              "      <td>0</td>\n",
              "      <td>0</td>\n",
              "      <td>0</td>\n",
              "      <td>0</td>\n",
              "      <td>0</td>\n",
              "      <td>0</td>\n",
              "      <td>0</td>\n",
              "      <td>0</td>\n",
              "      <td>0</td>\n",
              "      <td>0</td>\n",
              "      <td>0</td>\n",
              "      <td>0</td>\n",
              "      <td>0</td>\n",
              "      <td>0</td>\n",
              "      <td>0</td>\n",
              "      <td>0</td>\n",
              "      <td>0</td>\n",
              "      <td>0</td>\n",
              "      <td>0</td>\n",
              "      <td>0</td>\n",
              "      <td>0</td>\n",
              "      <td>0</td>\n",
              "      <td>0</td>\n",
              "      <td>0</td>\n",
              "      <td>0</td>\n",
              "      <td>0</td>\n",
              "      <td>0</td>\n",
              "      <td>0</td>\n",
              "      <td>0</td>\n",
              "      <td>0</td>\n",
              "      <td>0</td>\n",
              "      <td>0</td>\n",
              "      <td>0</td>\n",
              "      <td>0</td>\n",
              "    </tr>\n",
              "    <tr>\n",
              "      <th>2</th>\n",
              "      <td>0</td>\n",
              "      <td>0</td>\n",
              "      <td>0</td>\n",
              "      <td>0</td>\n",
              "      <td>0</td>\n",
              "      <td>0</td>\n",
              "      <td>0</td>\n",
              "      <td>0</td>\n",
              "      <td>0</td>\n",
              "      <td>0</td>\n",
              "      <td>0</td>\n",
              "      <td>0</td>\n",
              "      <td>0</td>\n",
              "      <td>0</td>\n",
              "      <td>0</td>\n",
              "      <td>11</td>\n",
              "      <td>0</td>\n",
              "      <td>0</td>\n",
              "      <td>0</td>\n",
              "      <td>0</td>\n",
              "      <td>0</td>\n",
              "      <td>0</td>\n",
              "      <td>0</td>\n",
              "      <td>0</td>\n",
              "      <td>0</td>\n",
              "      <td>0</td>\n",
              "      <td>0</td>\n",
              "      <td>0</td>\n",
              "      <td>0</td>\n",
              "      <td>0</td>\n",
              "      <td>0</td>\n",
              "      <td>0</td>\n",
              "      <td>0</td>\n",
              "      <td>0</td>\n",
              "      <td>0</td>\n",
              "      <td>0</td>\n",
              "      <td>0</td>\n",
              "      <td>0</td>\n",
              "      <td>0</td>\n",
              "      <td>0</td>\n",
              "      <td>...</td>\n",
              "      <td>0</td>\n",
              "      <td>0</td>\n",
              "      <td>0</td>\n",
              "      <td>0</td>\n",
              "      <td>0</td>\n",
              "      <td>0</td>\n",
              "      <td>0</td>\n",
              "      <td>0</td>\n",
              "      <td>0</td>\n",
              "      <td>0</td>\n",
              "      <td>0</td>\n",
              "      <td>0</td>\n",
              "      <td>0</td>\n",
              "      <td>0</td>\n",
              "      <td>0</td>\n",
              "      <td>0</td>\n",
              "      <td>0</td>\n",
              "      <td>0</td>\n",
              "      <td>0</td>\n",
              "      <td>0</td>\n",
              "      <td>0</td>\n",
              "      <td>0</td>\n",
              "      <td>0</td>\n",
              "      <td>0</td>\n",
              "      <td>0</td>\n",
              "      <td>0</td>\n",
              "      <td>0</td>\n",
              "      <td>0</td>\n",
              "      <td>0</td>\n",
              "      <td>0</td>\n",
              "      <td>0</td>\n",
              "      <td>0</td>\n",
              "      <td>0</td>\n",
              "      <td>1</td>\n",
              "      <td>0</td>\n",
              "      <td>0</td>\n",
              "      <td>0</td>\n",
              "      <td>0</td>\n",
              "      <td>0</td>\n",
              "      <td>0</td>\n",
              "    </tr>\n",
              "    <tr>\n",
              "      <th>3</th>\n",
              "      <td>0</td>\n",
              "      <td>0</td>\n",
              "      <td>0</td>\n",
              "      <td>0</td>\n",
              "      <td>0</td>\n",
              "      <td>0</td>\n",
              "      <td>0</td>\n",
              "      <td>0</td>\n",
              "      <td>0</td>\n",
              "      <td>0</td>\n",
              "      <td>0</td>\n",
              "      <td>0</td>\n",
              "      <td>0</td>\n",
              "      <td>0</td>\n",
              "      <td>0</td>\n",
              "      <td>0</td>\n",
              "      <td>0</td>\n",
              "      <td>0</td>\n",
              "      <td>0</td>\n",
              "      <td>0</td>\n",
              "      <td>0</td>\n",
              "      <td>0</td>\n",
              "      <td>0</td>\n",
              "      <td>0</td>\n",
              "      <td>0</td>\n",
              "      <td>0</td>\n",
              "      <td>0</td>\n",
              "      <td>0</td>\n",
              "      <td>0</td>\n",
              "      <td>0</td>\n",
              "      <td>0</td>\n",
              "      <td>0</td>\n",
              "      <td>0</td>\n",
              "      <td>0</td>\n",
              "      <td>0</td>\n",
              "      <td>0</td>\n",
              "      <td>0</td>\n",
              "      <td>0</td>\n",
              "      <td>0</td>\n",
              "      <td>0</td>\n",
              "      <td>...</td>\n",
              "      <td>0</td>\n",
              "      <td>0</td>\n",
              "      <td>0</td>\n",
              "      <td>0</td>\n",
              "      <td>0</td>\n",
              "      <td>0</td>\n",
              "      <td>0</td>\n",
              "      <td>0</td>\n",
              "      <td>0</td>\n",
              "      <td>0</td>\n",
              "      <td>0</td>\n",
              "      <td>0</td>\n",
              "      <td>0</td>\n",
              "      <td>0</td>\n",
              "      <td>0</td>\n",
              "      <td>0</td>\n",
              "      <td>0</td>\n",
              "      <td>0</td>\n",
              "      <td>0</td>\n",
              "      <td>0</td>\n",
              "      <td>0</td>\n",
              "      <td>0</td>\n",
              "      <td>0</td>\n",
              "      <td>0</td>\n",
              "      <td>0</td>\n",
              "      <td>0</td>\n",
              "      <td>0</td>\n",
              "      <td>0</td>\n",
              "      <td>0</td>\n",
              "      <td>0</td>\n",
              "      <td>0</td>\n",
              "      <td>0</td>\n",
              "      <td>0</td>\n",
              "      <td>0</td>\n",
              "      <td>0</td>\n",
              "      <td>0</td>\n",
              "      <td>0</td>\n",
              "      <td>0</td>\n",
              "      <td>0</td>\n",
              "      <td>0</td>\n",
              "    </tr>\n",
              "    <tr>\n",
              "      <th>4</th>\n",
              "      <td>0</td>\n",
              "      <td>0</td>\n",
              "      <td>0</td>\n",
              "      <td>0</td>\n",
              "      <td>0</td>\n",
              "      <td>1</td>\n",
              "      <td>1</td>\n",
              "      <td>0</td>\n",
              "      <td>0</td>\n",
              "      <td>0</td>\n",
              "      <td>0</td>\n",
              "      <td>0</td>\n",
              "      <td>0</td>\n",
              "      <td>0</td>\n",
              "      <td>1</td>\n",
              "      <td>0</td>\n",
              "      <td>1</td>\n",
              "      <td>0</td>\n",
              "      <td>0</td>\n",
              "      <td>0</td>\n",
              "      <td>0</td>\n",
              "      <td>0</td>\n",
              "      <td>0</td>\n",
              "      <td>0</td>\n",
              "      <td>0</td>\n",
              "      <td>0</td>\n",
              "      <td>0</td>\n",
              "      <td>0</td>\n",
              "      <td>0</td>\n",
              "      <td>0</td>\n",
              "      <td>0</td>\n",
              "      <td>0</td>\n",
              "      <td>0</td>\n",
              "      <td>0</td>\n",
              "      <td>2</td>\n",
              "      <td>0</td>\n",
              "      <td>0</td>\n",
              "      <td>0</td>\n",
              "      <td>0</td>\n",
              "      <td>0</td>\n",
              "      <td>...</td>\n",
              "      <td>1</td>\n",
              "      <td>0</td>\n",
              "      <td>0</td>\n",
              "      <td>0</td>\n",
              "      <td>0</td>\n",
              "      <td>0</td>\n",
              "      <td>1</td>\n",
              "      <td>0</td>\n",
              "      <td>0</td>\n",
              "      <td>0</td>\n",
              "      <td>0</td>\n",
              "      <td>0</td>\n",
              "      <td>1</td>\n",
              "      <td>0</td>\n",
              "      <td>1</td>\n",
              "      <td>0</td>\n",
              "      <td>0</td>\n",
              "      <td>1</td>\n",
              "      <td>0</td>\n",
              "      <td>0</td>\n",
              "      <td>3</td>\n",
              "      <td>0</td>\n",
              "      <td>0</td>\n",
              "      <td>0</td>\n",
              "      <td>0</td>\n",
              "      <td>0</td>\n",
              "      <td>0</td>\n",
              "      <td>0</td>\n",
              "      <td>0</td>\n",
              "      <td>0</td>\n",
              "      <td>0</td>\n",
              "      <td>0</td>\n",
              "      <td>0</td>\n",
              "      <td>0</td>\n",
              "      <td>0</td>\n",
              "      <td>0</td>\n",
              "      <td>0</td>\n",
              "      <td>0</td>\n",
              "      <td>0</td>\n",
              "      <td>0</td>\n",
              "    </tr>\n",
              "  </tbody>\n",
              "</table>\n",
              "<p>5 rows × 220 columns</p>\n",
              "</div>"
            ],
            "text/plain": [
              "   able  access  add  allow  android  ...  web  width  window  work  write\n",
              "0     0       0    0      0        0  ...    0      0       0     0      0\n",
              "1     0       0    0      0        0  ...    0      0       0     0      0\n",
              "2     0       0    0      0        0  ...    0      0       0     0      0\n",
              "3     0       0    0      0        0  ...    0      0       0     0      0\n",
              "4     0       0    0      0        0  ...    0      0       0     0      0\n",
              "\n",
              "[5 rows x 220 columns]"
            ]
          },
          "metadata": {
            "tags": []
          },
          "execution_count": 15
        }
      ]
    },
    {
      "cell_type": "markdown",
      "metadata": {
        "colab_type": "text",
        "id": "GqaU7kiRIR_W"
      },
      "source": [
        "### 1.2 TF-IDF approach\n",
        "\n",
        "Text frequency - inverse documents frequency is a more advanced approach to build a document-term matrix than bag of words where only word counts (text frequency) is used.\n",
        "Inverse document frequency means, how common or rare a word is in the entire document set.\n",
        "It varies between 0 and 1. The closer it is to 0, the more common a word is.\n",
        "Before building the matrix here we check which are the most popular terms, i.e. the words with highest TF-IDF score. Those should correspond to the most popular tags."
      ]
    },
    {
      "cell_type": "markdown",
      "metadata": {
        "colab_type": "text",
        "id": "DOksFtifIR_W"
      },
      "source": [
        "#### 1.2.1 Word count and TF-IDF score\n"
      ]
    },
    {
      "cell_type": "markdown",
      "metadata": {
        "colab_type": "text",
        "id": "hWX4PZZBIR_Y"
      },
      "source": [
        "Word counts (term frequency)"
      ]
    },
    {
      "cell_type": "code",
      "metadata": {
        "colab_type": "code",
        "id": "SZuK5DkAIR_a",
        "colab": {}
      },
      "source": [
        "# Sum up the counts of each vocabulary word\n",
        "dist = np.sum(bag_of_words_array, axis=0)\n",
        "\n",
        "# For each, append to a list the vocabulary word and the number of times it \n",
        "# appears in the training set\n",
        "counts = []\n",
        "words = []\n",
        "for word, count in zip(vocab, dist):\n",
        "    counts.append(count)\n",
        "    words.append(word)\n",
        "    \n",
        "df_wordcount = pd.DataFrame({'words': words, 'count':counts})"
      ],
      "execution_count": 0,
      "outputs": []
    },
    {
      "cell_type": "markdown",
      "metadata": {
        "colab_type": "text",
        "id": "MLXcgaeKIR_k"
      },
      "source": [
        "IDF values calculated from the bag-of-words matrix"
      ]
    },
    {
      "cell_type": "code",
      "metadata": {
        "colab_type": "code",
        "id": "-Ti3n7cYIR_l",
        "outputId": "82ba8def-77cd-4e2c-b25c-1bfe557e3392",
        "colab": {
          "base_uri": "https://localhost:8080/",
          "height": 34
        }
      },
      "source": [
        "tfidf_transformer=TfidfTransformer(smooth_idf=True,use_idf=True)\n",
        "tfidf_transformer.fit(bag_of_words)"
      ],
      "execution_count": 17,
      "outputs": [
        {
          "output_type": "execute_result",
          "data": {
            "text/plain": [
              "TfidfTransformer(norm='l2', smooth_idf=True, sublinear_tf=False, use_idf=True)"
            ]
          },
          "metadata": {
            "tags": []
          },
          "execution_count": 17
        }
      ]
    },
    {
      "cell_type": "code",
      "metadata": {
        "colab_type": "code",
        "id": "wqFfg1P_IR_q",
        "colab": {}
      },
      "source": [
        "# get idf values\n",
        "df_idf = pd.DataFrame(tfidf_transformer.idf_, index= c_vectorizer.get_feature_names(),columns=[\"idf_weight\"]).reset_index()\n",
        "df_idf.rename(columns={'index':'words'},inplace=True) \n",
        "\n",
        "# join with word counts data\n",
        "df_words = pd.merge(df_idf, df_wordcount, on='words', how='inner')"
      ],
      "execution_count": 0,
      "outputs": []
    },
    {
      "cell_type": "markdown",
      "metadata": {
        "colab_type": "text",
        "id": "TCaqBxfsIR_z"
      },
      "source": [
        "Finally we get a words dataframe ordered by TF-IDF scores"
      ]
    },
    {
      "cell_type": "code",
      "metadata": {
        "colab_type": "code",
        "id": "f1pbJBcCIR_0",
        "outputId": "596d193c-227b-4494-b4ce-a2d6ff9608e9",
        "colab": {
          "base_uri": "https://localhost:8080/",
          "height": 363
        }
      },
      "source": [
        "#calculate the TF-IDF score\n",
        "df_words['TF_IDF score'] = df_words[\"idf_weight\"]*df_words['count']\n",
        "df_words = df_words.sort_values(by=['TF_IDF score'], ascending=False).reset_index(drop = True)# sort ascending\n",
        "df_words[:10]"
      ],
      "execution_count": 19,
      "outputs": [
        {
          "output_type": "execute_result",
          "data": {
            "text/html": [
              "<div>\n",
              "<style scoped>\n",
              "    .dataframe tbody tr th:only-of-type {\n",
              "        vertical-align: middle;\n",
              "    }\n",
              "\n",
              "    .dataframe tbody tr th {\n",
              "        vertical-align: top;\n",
              "    }\n",
              "\n",
              "    .dataframe thead th {\n",
              "        text-align: right;\n",
              "    }\n",
              "</style>\n",
              "<table border=\"1\" class=\"dataframe\">\n",
              "  <thead>\n",
              "    <tr style=\"text-align: right;\">\n",
              "      <th></th>\n",
              "      <th>words</th>\n",
              "      <th>idf_weight</th>\n",
              "      <th>count</th>\n",
              "      <th>TF_IDF score</th>\n",
              "    </tr>\n",
              "  </thead>\n",
              "  <tbody>\n",
              "    <tr>\n",
              "      <th>0</th>\n",
              "      <td>file</td>\n",
              "      <td>2.736351</td>\n",
              "      <td>17370</td>\n",
              "      <td>47530.417314</td>\n",
              "    </tr>\n",
              "    <tr>\n",
              "      <th>1</th>\n",
              "      <td>android</td>\n",
              "      <td>3.915541</td>\n",
              "      <td>10096</td>\n",
              "      <td>39531.297872</td>\n",
              "    </tr>\n",
              "    <tr>\n",
              "      <th>2</th>\n",
              "      <td>string</td>\n",
              "      <td>3.048507</td>\n",
              "      <td>12716</td>\n",
              "      <td>38764.813379</td>\n",
              "    </tr>\n",
              "    <tr>\n",
              "      <th>3</th>\n",
              "      <td>class</td>\n",
              "      <td>3.145947</td>\n",
              "      <td>11375</td>\n",
              "      <td>35785.151931</td>\n",
              "    </tr>\n",
              "    <tr>\n",
              "      <th>4</th>\n",
              "      <td>error</td>\n",
              "      <td>3.020527</td>\n",
              "      <td>11575</td>\n",
              "      <td>34962.603081</td>\n",
              "    </tr>\n",
              "    <tr>\n",
              "      <th>5</th>\n",
              "      <td>use</td>\n",
              "      <td>2.386402</td>\n",
              "      <td>14324</td>\n",
              "      <td>34182.821721</td>\n",
              "    </tr>\n",
              "    <tr>\n",
              "      <th>6</th>\n",
              "      <td>like</td>\n",
              "      <td>2.264955</td>\n",
              "      <td>14620</td>\n",
              "      <td>33113.642445</td>\n",
              "    </tr>\n",
              "    <tr>\n",
              "      <th>7</th>\n",
              "      <td>function</td>\n",
              "      <td>3.100097</td>\n",
              "      <td>10272</td>\n",
              "      <td>31844.193251</td>\n",
              "    </tr>\n",
              "    <tr>\n",
              "      <th>8</th>\n",
              "      <td>value</td>\n",
              "      <td>3.125460</td>\n",
              "      <td>9943</td>\n",
              "      <td>31076.444477</td>\n",
              "    </tr>\n",
              "    <tr>\n",
              "      <th>9</th>\n",
              "      <td>code</td>\n",
              "      <td>2.616212</td>\n",
              "      <td>11800</td>\n",
              "      <td>30871.307214</td>\n",
              "    </tr>\n",
              "  </tbody>\n",
              "</table>\n",
              "</div>"
            ],
            "text/plain": [
              "      words  idf_weight  count  TF_IDF score\n",
              "0      file    2.736351  17370  47530.417314\n",
              "1   android    3.915541  10096  39531.297872\n",
              "2    string    3.048507  12716  38764.813379\n",
              "3     class    3.145947  11375  35785.151931\n",
              "4     error    3.020527  11575  34962.603081\n",
              "5       use    2.386402  14324  34182.821721\n",
              "6      like    2.264955  14620  33113.642445\n",
              "7  function    3.100097  10272  31844.193251\n",
              "8     value    3.125460   9943  31076.444477\n",
              "9      code    2.616212  11800  30871.307214"
            ]
          },
          "metadata": {
            "tags": []
          },
          "execution_count": 19
        }
      ]
    },
    {
      "cell_type": "markdown",
      "metadata": {
        "colab_type": "text",
        "id": "oaCKXz05IR_-"
      },
      "source": [
        "#### 1.2.2 Build the matrix: TF-IDF scores to vectors"
      ]
    },
    {
      "cell_type": "code",
      "metadata": {
        "colab_type": "code",
        "id": "fhd2Xx24IR__",
        "colab": {}
      },
      "source": [
        "tfidfVectorizer = TfidfVectorizer(norm=None,analyzer='word',min_df = 5, max_df = 0.8, ngram_range=(1,2),max_features = num_features, use_idf=True)"
      ],
      "execution_count": 0,
      "outputs": []
    },
    {
      "cell_type": "code",
      "metadata": {
        "colab_type": "code",
        "id": "Mjf0OuuLISAE",
        "colab": {}
      },
      "source": [
        "# TF-IDF matrices\n",
        "TF_IDF = tfidfVectorizer.fit_transform(df_base['Lemma'])\n"
      ],
      "execution_count": 0,
      "outputs": []
    },
    {
      "cell_type": "code",
      "metadata": {
        "colab_type": "code",
        "id": "NGb7svMjISAM",
        "colab": {}
      },
      "source": [
        "TF_IDF_dense = TF_IDF.todense()\n"
      ],
      "execution_count": 0,
      "outputs": []
    },
    {
      "cell_type": "code",
      "metadata": {
        "colab_type": "code",
        "id": "RS7pTaPBISAU",
        "colab": {}
      },
      "source": [
        "denselist = TF_IDF_dense.tolist()"
      ],
      "execution_count": 0,
      "outputs": []
    },
    {
      "cell_type": "code",
      "metadata": {
        "colab_type": "code",
        "id": "bk9mbNrXISAd",
        "outputId": "58c1151e-526f-438f-932f-8eef05aa2815",
        "colab": {
          "base_uri": "https://localhost:8080/",
          "height": 273
        }
      },
      "source": [
        "df_tf_idf = pd.DataFrame(denselist, columns = tfidfVectorizer.get_feature_names())\n",
        "df_tf_idf.rename(columns={'index':'words'},inplace=True)\n",
        "print(df_tf_idf.shape)\n",
        "df_tf_idf.head()"
      ],
      "execution_count": 24,
      "outputs": [
        {
          "output_type": "stream",
          "text": [
            "(37175, 220)\n"
          ],
          "name": "stdout"
        },
        {
          "output_type": "execute_result",
          "data": {
            "text/html": [
              "<div>\n",
              "<style scoped>\n",
              "    .dataframe tbody tr th:only-of-type {\n",
              "        vertical-align: middle;\n",
              "    }\n",
              "\n",
              "    .dataframe tbody tr th {\n",
              "        vertical-align: top;\n",
              "    }\n",
              "\n",
              "    .dataframe thead th {\n",
              "        text-align: right;\n",
              "    }\n",
              "</style>\n",
              "<table border=\"1\" class=\"dataframe\">\n",
              "  <thead>\n",
              "    <tr style=\"text-align: right;\">\n",
              "      <th></th>\n",
              "      <th>able</th>\n",
              "      <th>access</th>\n",
              "      <th>add</th>\n",
              "      <th>allow</th>\n",
              "      <th>android</th>\n",
              "      <th>answer</th>\n",
              "      <th>api</th>\n",
              "      <th>app</th>\n",
              "      <th>application</th>\n",
              "      <th>array</th>\n",
              "      <th>attribute</th>\n",
              "      <th>background</th>\n",
              "      <th>bar</th>\n",
              "      <th>base</th>\n",
              "      <th>best</th>\n",
              "      <th>branch</th>\n",
              "      <th>browser</th>\n",
              "      <th>build</th>\n",
              "      <th>button</th>\n",
              "      <th>call</th>\n",
              "      <th>case</th>\n",
              "      <th>change</th>\n",
              "      <th>character</th>\n",
              "      <th>check</th>\n",
              "      <th>class</th>\n",
              "      <th>click</th>\n",
              "      <th>code</th>\n",
              "      <th>color</th>\n",
              "      <th>column</th>\n",
              "      <th>come</th>\n",
              "      <th>command</th>\n",
              "      <th>commit</th>\n",
              "      <th>compile</th>\n",
              "      <th>contain</th>\n",
              "      <th>content</th>\n",
              "      <th>convert</th>\n",
              "      <th>create</th>\n",
              "      <th>current</th>\n",
              "      <th>data</th>\n",
              "      <th>database</th>\n",
              "      <th>...</th>\n",
              "      <th>start</th>\n",
              "      <th>static</th>\n",
              "      <th>store</th>\n",
              "      <th>string</th>\n",
              "      <th>studio</th>\n",
              "      <th>style</th>\n",
              "      <th>support</th>\n",
              "      <th>sure</th>\n",
              "      <th>system</th>\n",
              "      <th>table</th>\n",
              "      <th>tag</th>\n",
              "      <th>test</th>\n",
              "      <th>text</th>\n",
              "      <th>thanks</th>\n",
              "      <th>thing</th>\n",
              "      <th>think</th>\n",
              "      <th>thread</th>\n",
              "      <th>time</th>\n",
              "      <th>true</th>\n",
              "      <th>try</th>\n",
              "      <th>type</th>\n",
              "      <th>understand</th>\n",
              "      <th>update</th>\n",
              "      <th>url</th>\n",
              "      <th>use</th>\n",
              "      <th>user</th>\n",
              "      <th>value</th>\n",
              "      <th>var</th>\n",
              "      <th>variable</th>\n",
              "      <th>version</th>\n",
              "      <th>view</th>\n",
              "      <th>visual</th>\n",
              "      <th>void</th>\n",
              "      <th>want</th>\n",
              "      <th>way</th>\n",
              "      <th>web</th>\n",
              "      <th>width</th>\n",
              "      <th>window</th>\n",
              "      <th>work</th>\n",
              "      <th>write</th>\n",
              "    </tr>\n",
              "  </thead>\n",
              "  <tbody>\n",
              "    <tr>\n",
              "      <th>0</th>\n",
              "      <td>0.0</td>\n",
              "      <td>0.0</td>\n",
              "      <td>0.0</td>\n",
              "      <td>0.0</td>\n",
              "      <td>0.0</td>\n",
              "      <td>0.000000</td>\n",
              "      <td>0.000000</td>\n",
              "      <td>0.0</td>\n",
              "      <td>0.0</td>\n",
              "      <td>20.33771</td>\n",
              "      <td>0.0</td>\n",
              "      <td>0.0</td>\n",
              "      <td>0.0</td>\n",
              "      <td>0.0</td>\n",
              "      <td>0.000000</td>\n",
              "      <td>0.000000</td>\n",
              "      <td>0.000000</td>\n",
              "      <td>0.0</td>\n",
              "      <td>0.0</td>\n",
              "      <td>0.0</td>\n",
              "      <td>0.0</td>\n",
              "      <td>0.0</td>\n",
              "      <td>0.0</td>\n",
              "      <td>0.0</td>\n",
              "      <td>3.145947</td>\n",
              "      <td>0.0</td>\n",
              "      <td>13.081062</td>\n",
              "      <td>0.0</td>\n",
              "      <td>0.0</td>\n",
              "      <td>0.0</td>\n",
              "      <td>0.0</td>\n",
              "      <td>0.000000</td>\n",
              "      <td>0.0</td>\n",
              "      <td>0.0</td>\n",
              "      <td>0.000000</td>\n",
              "      <td>0.0</td>\n",
              "      <td>0.0</td>\n",
              "      <td>0.0</td>\n",
              "      <td>62.371645</td>\n",
              "      <td>0.0</td>\n",
              "      <td>...</td>\n",
              "      <td>15.157189</td>\n",
              "      <td>4.536852</td>\n",
              "      <td>0.0</td>\n",
              "      <td>3.048507</td>\n",
              "      <td>0.0</td>\n",
              "      <td>0.0</td>\n",
              "      <td>0.000000</td>\n",
              "      <td>0.0</td>\n",
              "      <td>0.0</td>\n",
              "      <td>0.0</td>\n",
              "      <td>0.0</td>\n",
              "      <td>7.546469</td>\n",
              "      <td>0.000000</td>\n",
              "      <td>0.0</td>\n",
              "      <td>0.00000</td>\n",
              "      <td>7.438335</td>\n",
              "      <td>0.0</td>\n",
              "      <td>3.373528</td>\n",
              "      <td>0.0</td>\n",
              "      <td>2.55668</td>\n",
              "      <td>0.00000</td>\n",
              "      <td>0.0</td>\n",
              "      <td>0.0</td>\n",
              "      <td>0.0</td>\n",
              "      <td>0.0</td>\n",
              "      <td>0.0</td>\n",
              "      <td>0.0</td>\n",
              "      <td>0.0</td>\n",
              "      <td>0.0</td>\n",
              "      <td>0.0</td>\n",
              "      <td>0.0</td>\n",
              "      <td>0.0</td>\n",
              "      <td>4.261492</td>\n",
              "      <td>0.000000</td>\n",
              "      <td>0.0</td>\n",
              "      <td>0.0</td>\n",
              "      <td>0.0</td>\n",
              "      <td>0.0</td>\n",
              "      <td>0.0</td>\n",
              "      <td>0.0</td>\n",
              "    </tr>\n",
              "    <tr>\n",
              "      <th>1</th>\n",
              "      <td>0.0</td>\n",
              "      <td>0.0</td>\n",
              "      <td>0.0</td>\n",
              "      <td>0.0</td>\n",
              "      <td>0.0</td>\n",
              "      <td>0.000000</td>\n",
              "      <td>0.000000</td>\n",
              "      <td>0.0</td>\n",
              "      <td>0.0</td>\n",
              "      <td>0.00000</td>\n",
              "      <td>0.0</td>\n",
              "      <td>0.0</td>\n",
              "      <td>0.0</td>\n",
              "      <td>0.0</td>\n",
              "      <td>0.000000</td>\n",
              "      <td>0.000000</td>\n",
              "      <td>0.000000</td>\n",
              "      <td>0.0</td>\n",
              "      <td>0.0</td>\n",
              "      <td>0.0</td>\n",
              "      <td>0.0</td>\n",
              "      <td>0.0</td>\n",
              "      <td>0.0</td>\n",
              "      <td>0.0</td>\n",
              "      <td>0.000000</td>\n",
              "      <td>0.0</td>\n",
              "      <td>0.000000</td>\n",
              "      <td>0.0</td>\n",
              "      <td>0.0</td>\n",
              "      <td>0.0</td>\n",
              "      <td>0.0</td>\n",
              "      <td>9.584801</td>\n",
              "      <td>0.0</td>\n",
              "      <td>0.0</td>\n",
              "      <td>0.000000</td>\n",
              "      <td>0.0</td>\n",
              "      <td>0.0</td>\n",
              "      <td>0.0</td>\n",
              "      <td>0.000000</td>\n",
              "      <td>0.0</td>\n",
              "      <td>...</td>\n",
              "      <td>0.000000</td>\n",
              "      <td>0.000000</td>\n",
              "      <td>0.0</td>\n",
              "      <td>0.000000</td>\n",
              "      <td>0.0</td>\n",
              "      <td>0.0</td>\n",
              "      <td>0.000000</td>\n",
              "      <td>0.0</td>\n",
              "      <td>0.0</td>\n",
              "      <td>0.0</td>\n",
              "      <td>0.0</td>\n",
              "      <td>0.000000</td>\n",
              "      <td>0.000000</td>\n",
              "      <td>0.0</td>\n",
              "      <td>0.00000</td>\n",
              "      <td>0.000000</td>\n",
              "      <td>0.0</td>\n",
              "      <td>0.000000</td>\n",
              "      <td>0.0</td>\n",
              "      <td>0.00000</td>\n",
              "      <td>0.00000</td>\n",
              "      <td>0.0</td>\n",
              "      <td>0.0</td>\n",
              "      <td>0.0</td>\n",
              "      <td>0.0</td>\n",
              "      <td>0.0</td>\n",
              "      <td>0.0</td>\n",
              "      <td>0.0</td>\n",
              "      <td>0.0</td>\n",
              "      <td>0.0</td>\n",
              "      <td>0.0</td>\n",
              "      <td>0.0</td>\n",
              "      <td>0.000000</td>\n",
              "      <td>0.000000</td>\n",
              "      <td>0.0</td>\n",
              "      <td>0.0</td>\n",
              "      <td>0.0</td>\n",
              "      <td>0.0</td>\n",
              "      <td>0.0</td>\n",
              "      <td>0.0</td>\n",
              "    </tr>\n",
              "    <tr>\n",
              "      <th>2</th>\n",
              "      <td>0.0</td>\n",
              "      <td>0.0</td>\n",
              "      <td>0.0</td>\n",
              "      <td>0.0</td>\n",
              "      <td>0.0</td>\n",
              "      <td>0.000000</td>\n",
              "      <td>0.000000</td>\n",
              "      <td>0.0</td>\n",
              "      <td>0.0</td>\n",
              "      <td>0.00000</td>\n",
              "      <td>0.0</td>\n",
              "      <td>0.0</td>\n",
              "      <td>0.0</td>\n",
              "      <td>0.0</td>\n",
              "      <td>0.000000</td>\n",
              "      <td>54.933998</td>\n",
              "      <td>0.000000</td>\n",
              "      <td>0.0</td>\n",
              "      <td>0.0</td>\n",
              "      <td>0.0</td>\n",
              "      <td>0.0</td>\n",
              "      <td>0.0</td>\n",
              "      <td>0.0</td>\n",
              "      <td>0.0</td>\n",
              "      <td>0.000000</td>\n",
              "      <td>0.0</td>\n",
              "      <td>0.000000</td>\n",
              "      <td>0.0</td>\n",
              "      <td>0.0</td>\n",
              "      <td>0.0</td>\n",
              "      <td>0.0</td>\n",
              "      <td>0.000000</td>\n",
              "      <td>0.0</td>\n",
              "      <td>0.0</td>\n",
              "      <td>0.000000</td>\n",
              "      <td>0.0</td>\n",
              "      <td>0.0</td>\n",
              "      <td>0.0</td>\n",
              "      <td>0.000000</td>\n",
              "      <td>0.0</td>\n",
              "      <td>...</td>\n",
              "      <td>0.000000</td>\n",
              "      <td>0.000000</td>\n",
              "      <td>0.0</td>\n",
              "      <td>0.000000</td>\n",
              "      <td>0.0</td>\n",
              "      <td>0.0</td>\n",
              "      <td>0.000000</td>\n",
              "      <td>0.0</td>\n",
              "      <td>0.0</td>\n",
              "      <td>0.0</td>\n",
              "      <td>0.0</td>\n",
              "      <td>0.000000</td>\n",
              "      <td>0.000000</td>\n",
              "      <td>0.0</td>\n",
              "      <td>0.00000</td>\n",
              "      <td>0.000000</td>\n",
              "      <td>0.0</td>\n",
              "      <td>0.000000</td>\n",
              "      <td>0.0</td>\n",
              "      <td>0.00000</td>\n",
              "      <td>0.00000</td>\n",
              "      <td>0.0</td>\n",
              "      <td>0.0</td>\n",
              "      <td>0.0</td>\n",
              "      <td>0.0</td>\n",
              "      <td>0.0</td>\n",
              "      <td>0.0</td>\n",
              "      <td>0.0</td>\n",
              "      <td>0.0</td>\n",
              "      <td>0.0</td>\n",
              "      <td>0.0</td>\n",
              "      <td>0.0</td>\n",
              "      <td>0.000000</td>\n",
              "      <td>2.448669</td>\n",
              "      <td>0.0</td>\n",
              "      <td>0.0</td>\n",
              "      <td>0.0</td>\n",
              "      <td>0.0</td>\n",
              "      <td>0.0</td>\n",
              "      <td>0.0</td>\n",
              "    </tr>\n",
              "    <tr>\n",
              "      <th>3</th>\n",
              "      <td>0.0</td>\n",
              "      <td>0.0</td>\n",
              "      <td>0.0</td>\n",
              "      <td>0.0</td>\n",
              "      <td>0.0</td>\n",
              "      <td>0.000000</td>\n",
              "      <td>0.000000</td>\n",
              "      <td>0.0</td>\n",
              "      <td>0.0</td>\n",
              "      <td>0.00000</td>\n",
              "      <td>0.0</td>\n",
              "      <td>0.0</td>\n",
              "      <td>0.0</td>\n",
              "      <td>0.0</td>\n",
              "      <td>0.000000</td>\n",
              "      <td>0.000000</td>\n",
              "      <td>0.000000</td>\n",
              "      <td>0.0</td>\n",
              "      <td>0.0</td>\n",
              "      <td>0.0</td>\n",
              "      <td>0.0</td>\n",
              "      <td>0.0</td>\n",
              "      <td>0.0</td>\n",
              "      <td>0.0</td>\n",
              "      <td>0.000000</td>\n",
              "      <td>0.0</td>\n",
              "      <td>0.000000</td>\n",
              "      <td>0.0</td>\n",
              "      <td>0.0</td>\n",
              "      <td>0.0</td>\n",
              "      <td>0.0</td>\n",
              "      <td>0.000000</td>\n",
              "      <td>0.0</td>\n",
              "      <td>0.0</td>\n",
              "      <td>0.000000</td>\n",
              "      <td>0.0</td>\n",
              "      <td>0.0</td>\n",
              "      <td>0.0</td>\n",
              "      <td>0.000000</td>\n",
              "      <td>0.0</td>\n",
              "      <td>...</td>\n",
              "      <td>0.000000</td>\n",
              "      <td>0.000000</td>\n",
              "      <td>0.0</td>\n",
              "      <td>0.000000</td>\n",
              "      <td>0.0</td>\n",
              "      <td>0.0</td>\n",
              "      <td>0.000000</td>\n",
              "      <td>0.0</td>\n",
              "      <td>0.0</td>\n",
              "      <td>0.0</td>\n",
              "      <td>0.0</td>\n",
              "      <td>0.000000</td>\n",
              "      <td>0.000000</td>\n",
              "      <td>0.0</td>\n",
              "      <td>0.00000</td>\n",
              "      <td>0.000000</td>\n",
              "      <td>0.0</td>\n",
              "      <td>0.000000</td>\n",
              "      <td>0.0</td>\n",
              "      <td>0.00000</td>\n",
              "      <td>0.00000</td>\n",
              "      <td>0.0</td>\n",
              "      <td>0.0</td>\n",
              "      <td>0.0</td>\n",
              "      <td>0.0</td>\n",
              "      <td>0.0</td>\n",
              "      <td>0.0</td>\n",
              "      <td>0.0</td>\n",
              "      <td>0.0</td>\n",
              "      <td>0.0</td>\n",
              "      <td>0.0</td>\n",
              "      <td>0.0</td>\n",
              "      <td>0.000000</td>\n",
              "      <td>0.000000</td>\n",
              "      <td>0.0</td>\n",
              "      <td>0.0</td>\n",
              "      <td>0.0</td>\n",
              "      <td>0.0</td>\n",
              "      <td>0.0</td>\n",
              "      <td>0.0</td>\n",
              "    </tr>\n",
              "    <tr>\n",
              "      <th>4</th>\n",
              "      <td>0.0</td>\n",
              "      <td>0.0</td>\n",
              "      <td>0.0</td>\n",
              "      <td>0.0</td>\n",
              "      <td>0.0</td>\n",
              "      <td>3.899777</td>\n",
              "      <td>4.660661</td>\n",
              "      <td>0.0</td>\n",
              "      <td>0.0</td>\n",
              "      <td>0.00000</td>\n",
              "      <td>0.0</td>\n",
              "      <td>0.0</td>\n",
              "      <td>0.0</td>\n",
              "      <td>0.0</td>\n",
              "      <td>3.950916</td>\n",
              "      <td>0.000000</td>\n",
              "      <td>4.507706</td>\n",
              "      <td>0.0</td>\n",
              "      <td>0.0</td>\n",
              "      <td>0.0</td>\n",
              "      <td>0.0</td>\n",
              "      <td>0.0</td>\n",
              "      <td>0.0</td>\n",
              "      <td>0.0</td>\n",
              "      <td>0.000000</td>\n",
              "      <td>0.0</td>\n",
              "      <td>0.000000</td>\n",
              "      <td>0.0</td>\n",
              "      <td>0.0</td>\n",
              "      <td>0.0</td>\n",
              "      <td>0.0</td>\n",
              "      <td>0.000000</td>\n",
              "      <td>0.0</td>\n",
              "      <td>0.0</td>\n",
              "      <td>8.310158</td>\n",
              "      <td>0.0</td>\n",
              "      <td>0.0</td>\n",
              "      <td>0.0</td>\n",
              "      <td>0.000000</td>\n",
              "      <td>0.0</td>\n",
              "      <td>...</td>\n",
              "      <td>3.789297</td>\n",
              "      <td>0.000000</td>\n",
              "      <td>0.0</td>\n",
              "      <td>0.000000</td>\n",
              "      <td>0.0</td>\n",
              "      <td>0.0</td>\n",
              "      <td>4.489031</td>\n",
              "      <td>0.0</td>\n",
              "      <td>0.0</td>\n",
              "      <td>0.0</td>\n",
              "      <td>0.0</td>\n",
              "      <td>0.000000</td>\n",
              "      <td>3.740611</td>\n",
              "      <td>0.0</td>\n",
              "      <td>3.85299</td>\n",
              "      <td>0.000000</td>\n",
              "      <td>0.0</td>\n",
              "      <td>3.373528</td>\n",
              "      <td>0.0</td>\n",
              "      <td>0.00000</td>\n",
              "      <td>9.89455</td>\n",
              "      <td>0.0</td>\n",
              "      <td>0.0</td>\n",
              "      <td>0.0</td>\n",
              "      <td>0.0</td>\n",
              "      <td>0.0</td>\n",
              "      <td>0.0</td>\n",
              "      <td>0.0</td>\n",
              "      <td>0.0</td>\n",
              "      <td>0.0</td>\n",
              "      <td>0.0</td>\n",
              "      <td>0.0</td>\n",
              "      <td>0.000000</td>\n",
              "      <td>0.000000</td>\n",
              "      <td>0.0</td>\n",
              "      <td>0.0</td>\n",
              "      <td>0.0</td>\n",
              "      <td>0.0</td>\n",
              "      <td>0.0</td>\n",
              "      <td>0.0</td>\n",
              "    </tr>\n",
              "  </tbody>\n",
              "</table>\n",
              "<p>5 rows × 220 columns</p>\n",
              "</div>"
            ],
            "text/plain": [
              "   able  access  add  allow  android  ...  web  width  window  work  write\n",
              "0   0.0     0.0  0.0    0.0      0.0  ...  0.0    0.0     0.0   0.0    0.0\n",
              "1   0.0     0.0  0.0    0.0      0.0  ...  0.0    0.0     0.0   0.0    0.0\n",
              "2   0.0     0.0  0.0    0.0      0.0  ...  0.0    0.0     0.0   0.0    0.0\n",
              "3   0.0     0.0  0.0    0.0      0.0  ...  0.0    0.0     0.0   0.0    0.0\n",
              "4   0.0     0.0  0.0    0.0      0.0  ...  0.0    0.0     0.0   0.0    0.0\n",
              "\n",
              "[5 rows x 220 columns]"
            ]
          },
          "metadata": {
            "tags": []
          },
          "execution_count": 24
        }
      ]
    },
    {
      "cell_type": "markdown",
      "metadata": {
        "id": "VDyQJiFOmUCA",
        "colab_type": "text"
      },
      "source": [
        "### 1.3 create test and train datasets"
      ]
    },
    {
      "cell_type": "code",
      "metadata": {
        "id": "utdq79xmvrK8",
        "colab_type": "code",
        "colab": {}
      },
      "source": [
        "# 80/20 split Bag of words\n",
        "X_train, X_test,X_bag_of_words_train, X_bag_of_words_test, y_train, y_test, y_train_bin, y_test_bin  = train_test_split(df_base['Lemma'],bag_of_words, y, y_bin,  test_size=0.2,train_size=0.8, random_state=0)\n"
      ],
      "execution_count": 0,
      "outputs": []
    },
    {
      "cell_type": "code",
      "metadata": {
        "id": "qP87QSB_DFUy",
        "colab_type": "code",
        "colab": {}
      },
      "source": [
        "# 80/20 split TF-IDF\n",
        "X_train, X_test,X_tfidf_train, X_tfidf_test, y_train, y_test, y_train_bin, y_test_bin = train_test_split(df_base['Lemma'],TF_IDF_dense, y, y_bin,  test_size=0.2,train_size=0.8, random_state=0)"
      ],
      "execution_count": 0,
      "outputs": []
    },
    {
      "cell_type": "markdown",
      "metadata": {
        "colab_type": "text",
        "id": "EZ2VM5-jISAt"
      },
      "source": [
        "## 2. Unsupervised topic modeling"
      ]
    },
    {
      "cell_type": "code",
      "metadata": {
        "colab_type": "code",
        "id": "vSYskKc3ISAv",
        "outputId": "b04886d0-31f9-47eb-fb38-40f025a11151",
        "colab": {
          "base_uri": "https://localhost:8080/",
          "height": 34
        }
      },
      "source": [
        "#model 5 topics for our corpus both by LDA and NMF, see if they compare with top tags\n",
        "process_time_starts()\n",
        "\n",
        "lda_first_model = LatentDirichletAllocation(n_components=5, max_iter=5,\n",
        "                                        learning_method='online',\n",
        "                                        learning_offset=50.,\n",
        "                                        random_state=0).fit(X_bag_of_words_train)\n",
        "time_elapsed()"
      ],
      "execution_count": 29,
      "outputs": [
        {
          "output_type": "stream",
          "text": [
            "The process took: 0hour:0min:44sec\n"
          ],
          "name": "stdout"
        }
      ]
    },
    {
      "cell_type": "code",
      "metadata": {
        "colab_type": "code",
        "id": "r3dgpJbQISA2",
        "outputId": "874b4c11-6162-4258-833b-2cb70cd63518",
        "colab": {
          "base_uri": "https://localhost:8080/",
          "height": 34
        }
      },
      "source": [
        "process_time_starts()\n",
        "\n",
        "nmf_first_model = NMF(n_components=5, random_state=1,\n",
        "          alpha=.1, l1_ratio=.5).fit(X_bag_of_words_train)\n",
        "\n",
        "time_elapsed()"
      ],
      "execution_count": 30,
      "outputs": [
        {
          "output_type": "stream",
          "text": [
            "The process took: 0hour:0min:2sec\n"
          ],
          "name": "stdout"
        }
      ]
    },
    {
      "cell_type": "code",
      "metadata": {
        "colab_type": "code",
        "id": "YZloJs1TISA7",
        "colab": {}
      },
      "source": [
        "def print_top_words(model):\n",
        "    feature_names = c_vectorizer.get_feature_names()\n",
        "    for topic_idx, topic in enumerate(model.components_):\n",
        "        message = \"Topic #%d: \" % topic_idx\n",
        "        n_top_words = 10\n",
        "        message += \" \".join([feature_names[i]\n",
        "                             for i in topic.argsort()[:-n_top_words - 1:-1]])\n",
        "        print(message)\n",
        "    print()"
      ],
      "execution_count": 0,
      "outputs": []
    },
    {
      "cell_type": "code",
      "metadata": {
        "colab_type": "code",
        "id": "owGtMnsNISBC",
        "outputId": "11dc18f4-72ea-4cdb-927d-3e1cb78a15f9",
        "colab": {
          "base_uri": "https://localhost:8080/",
          "height": 121
        }
      },
      "source": [
        "print_top_words(lda_first_model)"
      ],
      "execution_count": 32,
      "outputs": [
        {
          "output_type": "stream",
          "text": [
            "Topic #0: value data var table array key select like id date\n",
            "Topic #1: android div text view page image class html button input\n",
            "Topic #2: use difference line like find code python app version application\n",
            "Topic #3: file error git run command try project work change script\n",
            "Topic #4: string class return function method public new list int object\n",
            "\n"
          ],
          "name": "stdout"
        }
      ]
    },
    {
      "cell_type": "code",
      "metadata": {
        "colab_type": "code",
        "id": "vKSUnyU5ISBH",
        "outputId": "0a8ad186-da94-4259-cbaf-0a8b5f99609a",
        "colab": {
          "base_uri": "https://localhost:8080/",
          "height": 121
        }
      },
      "source": [
        "print_top_words(nmf_first_model)"
      ],
      "execution_count": 33,
      "outputs": [
        {
          "output_type": "stream",
          "text": [
            "Topic #0: android id px text true view background button app item\n",
            "Topic #1: string public new return int code function like use method\n",
            "Topic #2: option value time select key php input type id name\n",
            "Topic #3: file error git directory version run find http line build\n",
            "Topic #4: div class id px text button type width input form\n",
            "\n"
          ],
          "name": "stdout"
        }
      ]
    },
    {
      "cell_type": "markdown",
      "metadata": {
        "colab_type": "text",
        "id": "JJMKrz3kISBW"
      },
      "source": [
        "### 2.1 Latent Dirichlet Allocation (LDA) topic model\n",
        "\n",
        "#### 2.1.1 Choice of training data and hyperparameters: perplexity and coherence metrics"
      ]
    },
    {
      "cell_type": "markdown",
      "metadata": {
        "colab_type": "text",
        "id": "Be4OcpeVISBW"
      },
      "source": [
        "Perplexity is essentially a measure of how puzzled a trained model is by previously unseen documents. The core measure here is log-likelihood, which looks at the probability of seeing the content of the unseen documents given the trained model — i.e. does the model generalize? If it doesn’t, the log-likelihood is very low and perplexity ((exp(-1. * log-likelihood per word)) is high. A good model will have low perplexity."
      ]
    },
    {
      "cell_type": "code",
      "metadata": {
        "colab_type": "code",
        "id": "wSS6dz8iISBY",
        "colab": {}
      },
      "source": [
        "# given a vectorizer and set of data we calculate the perplexity as a function of topics evaluated\n",
        "\n",
        "def lda(vectorizer, data_train, data_test):\n",
        "\n",
        "    ''' Showing the perplexity score for several LDA models with different values\n",
        "    for n_components parameter, and printing the top words for the best LDA model\n",
        "    (the one with the lowest perplexity)\n",
        "    Parameters:\n",
        "    vectorizer: TF-IDF or Bag-of-Words convertizer                                              \n",
        "    data_train: data to fit the model with\n",
        "    data_test: data to test\n",
        "    '''\n",
        "\n",
        "    best_perplexity = np.inf\n",
        "    best_lda = 0\n",
        "    perplexity_list = []\n",
        "    n_topics_list = []\n",
        "    print(\"Extracting term frequency features for LDA...\")\n",
        "\n",
        "    for n_topics in np.linspace(10, 200, 5, dtype='int'):\n",
        "        lda_model = LatentDirichletAllocation(n_components=n_topics, max_iter=5,\n",
        "                                        learning_method='online',\n",
        "                                        learning_offset=50.,\n",
        "                                        random_state=0).fit(data_train)\n",
        "        n_topics_list.append(n_topics)\n",
        "        perplexity = lda_model.perplexity(data_test)\n",
        "        perplexity_list.append(perplexity)\n",
        "\n",
        "        # Perplexity is defined as exp(-1. * log-likelihood per word)\n",
        "        # Perplexity: The smaller the better\n",
        "        if perplexity <= best_perplexity:\n",
        "            best_perplexity = perplexity\n",
        "            best_lda = lda_model\n",
        "                                \n",
        "    plt.title(\"Evolution of perplexity score depending on number of topics\")\n",
        "    plt.xlabel(\"Number of topics\")\n",
        "    plt.ylabel(\"Perplexity\")\n",
        "    plt.plot(n_topics_list, perplexity_list)\n",
        "    plt.show()"
      ],
      "execution_count": 0,
      "outputs": []
    },
    {
      "cell_type": "code",
      "metadata": {
        "colab_type": "code",
        "id": "l6v46QkhISBc",
        "outputId": "95180eb6-02e2-47dc-cb30-eae673ebd700",
        "colab": {
          "base_uri": "https://localhost:8080/",
          "height": 330
        }
      },
      "source": [
        "process_time_starts()\n",
        "lda(c_vectorizer, X_bag_of_words_train, X_bag_of_words_test)\n",
        "time_elapsed()"
      ],
      "execution_count": 60,
      "outputs": [
        {
          "output_type": "stream",
          "text": [
            "Extracting term frequency features for LDA...\n"
          ],
          "name": "stdout"
        },
        {
          "output_type": "display_data",
          "data": {
            "image/png": "[encoded data removed]",
            "text/plain": [
              "<Figure size 432x288 with 1 Axes>"
            ]
          },
          "metadata": {
            "tags": [],
            "needs_background": "light"
          }
        },
        {
          "output_type": "stream",
          "text": [
            "The process took: 0hour:4min:19sec\n"
          ],
          "name": "stdout"
        }
      ]
    },
    {
      "cell_type": "code",
      "metadata": {
        "colab_type": "code",
        "id": "07JgkdwyISBg",
        "outputId": "8a45578d-3cde-4393-f695-7d8eba9f674f",
        "colab": {
          "base_uri": "https://localhost:8080/",
          "height": 330
        }
      },
      "source": [
        "process_time_starts()\n",
        "lda(tfidfVectorizer,X_tfidf_train, X_tfidf_test )\n",
        "time_elapsed()"
      ],
      "execution_count": 61,
      "outputs": [
        {
          "output_type": "stream",
          "text": [
            "Extracting term frequency features for LDA...\n"
          ],
          "name": "stdout"
        },
        {
          "output_type": "display_data",
          "data": {
            "image/png": "[encoded data removed]",
            "text/plain": [
              "<Figure size 432x288 with 1 Axes>"
            ]
          },
          "metadata": {
            "tags": [],
            "needs_background": "light"
          }
        },
        {
          "output_type": "stream",
          "text": [
            "The process took: 0hour:4min:6sec\n"
          ],
          "name": "stdout"
        }
      ]
    },
    {
      "cell_type": "markdown",
      "metadata": {
        "colab_type": "text",
        "id": "kFMkY12KISBp"
      },
      "source": [
        "#### 2.1.2 Recommendation algorithm based on unsupervised topic modeling\n",
        "Topics are automatically assigned based on word and component weight"
      ]
    },
    {
      "cell_type": "code",
      "metadata": {
        "colab_type": "code",
        "id": "yECudx8BISBq",
        "colab": {}
      },
      "source": [
        "n_topics = 55 # based on perplexity calculations"
      ],
      "execution_count": 0,
      "outputs": []
    },
    {
      "cell_type": "code",
      "metadata": {
        "colab_type": "code",
        "id": "8WVznws_ISBw",
        "colab": {}
      },
      "source": [
        "def Recommend_tags(text, model):\n",
        "    \n",
        "    ''' Recomendation system for stackoverflow posts based on a lda model, \n",
        "    it returns up to 5 tags.\n",
        "    Parameters:\n",
        "    text: the stackoverflow post of user\n",
        "    data_train: data to fit the model with\n",
        "    '''\n",
        "\n",
        "    threshold = 0.011\n",
        "    list_scores = []\n",
        "    list_words = []\n",
        "    used = set()\n",
        "       \n",
        "    text_tfidf = tfidfVectorizer.transform([text])\n",
        "    text_projection = model.transform(text_tfidf)\n",
        "    feature_names = tfidfVectorizer.get_feature_names()\n",
        "    components = model.components_ / model.components_.sum(axis=1)[:, np.newaxis] # normalization\n",
        "\n",
        "    for topic in range(n_topics):\n",
        "        topic_score = text_projection[0][topic]\n",
        "\n",
        "        for (word_idx, word_score) in zip(components[topic].argsort()[:-5:-1], sorted(components[topic])[:-5:-1]):\n",
        "            score = topic_score*word_score\n",
        "\n",
        "            if score >= threshold:\n",
        "                list_scores.append(score)\n",
        "                list_words.append(feature_names[word_idx])\n",
        "                used.add(feature_names[word_idx])\n",
        "\n",
        "    results = [tag for (y,tag) in sorted(zip(list_scores,list_words), key=lambda pair: pair[0], reverse=True)]\n",
        "    unique_results = [x for x in results if x not in used] # get only unique tags\n",
        "    tags = \" \".join(results[:5])\n",
        "    \n",
        "    return tags"
      ],
      "execution_count": 0,
      "outputs": []
    },
    {
      "cell_type": "code",
      "metadata": {
        "colab_type": "code",
        "id": "JpjlSURhISB2",
        "colab": {}
      },
      "source": [
        "lda_model = LatentDirichletAllocation(n_components=n_topics, max_iter=5,\n",
        "                                        learning_method='online',\n",
        "                                        learning_offset=50.,\n",
        "                                        random_state=0).fit(X_tfidf_train)"
      ],
      "execution_count": 0,
      "outputs": []
    },
    {
      "cell_type": "code",
      "metadata": {
        "colab_type": "code",
        "id": "lOwbpNo7ISB6",
        "outputId": "60a121c2-14af-4066-b1c6-5f8f5fbea574",
        "colab": {
          "base_uri": "https://localhost:8080/",
          "height": 34
        }
      },
      "source": [
        "process_time_starts()\n",
        "LDA_tags = [Recommend_tags(text, lda_model) for text in X_test ]\n",
        "time_elapsed()"
      ],
      "execution_count": 37,
      "outputs": [
        {
          "output_type": "stream",
          "text": [
            "The process took: 0hour:1min:12sec\n"
          ],
          "name": "stdout"
        }
      ]
    },
    {
      "cell_type": "code",
      "metadata": {
        "colab_type": "code",
        "id": "PKGspy2kISB9",
        "outputId": "0c78aa4d-452e-4f63-f3f7-a203d5ab0cd5",
        "colab": {
          "base_uri": "https://localhost:8080/",
          "height": 206
        }
      },
      "source": [
        "df_xtest = pd.DataFrame(X_test).reset_index()\n",
        "df_ytest = pd.DataFrame(y_test).reset_index()\n",
        "\n",
        "df_test = pd.merge(df_xtest, df_ytest)\n",
        "df_test.drop('index', axis=1, inplace=True)\n",
        "df_test['LDA_tags'] = LDA_tags\n",
        "df_test.head()"
      ],
      "execution_count": 38,
      "outputs": [
        {
          "output_type": "execute_result",
          "data": {
            "text/html": [
              "<div>\n",
              "<style scoped>\n",
              "    .dataframe tbody tr th:only-of-type {\n",
              "        vertical-align: middle;\n",
              "    }\n",
              "\n",
              "    .dataframe tbody tr th {\n",
              "        vertical-align: top;\n",
              "    }\n",
              "\n",
              "    .dataframe thead th {\n",
              "        text-align: right;\n",
              "    }\n",
              "</style>\n",
              "<table border=\"1\" class=\"dataframe\">\n",
              "  <thead>\n",
              "    <tr style=\"text-align: right;\">\n",
              "      <th></th>\n",
              "      <th>Lemma</th>\n",
              "      <th>taglist</th>\n",
              "      <th>LDA_tags</th>\n",
              "    </tr>\n",
              "  </thead>\n",
              "  <tbody>\n",
              "    <tr>\n",
              "      <th>0</th>\n",
              "      <td>['instal', 'libv', 'gem', 'o', '+', 'try', 'in...</td>\n",
              "      <td>gem rubygems osx-mavericks osx-yosemite libv8</td>\n",
              "      <td>find error build install user</td>\n",
              "    </tr>\n",
              "    <tr>\n",
              "      <th>1</th>\n",
              "      <td>['right', 'leave', 'support', 'twitter', 'boot...</td>\n",
              "      <td>css html twitter-bootstrap twitter-bootstrap-3</td>\n",
              "      <td>create new script difference element</td>\n",
              "    </tr>\n",
              "    <tr>\n",
              "      <th>2</th>\n",
              "      <td>['operator', 'mysql', 'work', 'code', 'write',...</td>\n",
              "      <td>mysql sql operators spaceship-operator</td>\n",
              "      <td>name mysql source set error</td>\n",
              "    </tr>\n",
              "    <tr>\n",
              "      <th>3</th>\n",
              "      <td>['warn', 'implicit', 'declaration', 'function'...</td>\n",
              "      <td>c compiler-warnings</td>\n",
              "      <td>function error import library size</td>\n",
              "    </tr>\n",
              "    <tr>\n",
              "      <th>4</th>\n",
              "      <td>['exportimport', 'job', 'jenkins', 'possible',...</td>\n",
              "      <td>jenkins</td>\n",
              "      <td>different test reference app number</td>\n",
              "    </tr>\n",
              "  </tbody>\n",
              "</table>\n",
              "</div>"
            ],
            "text/plain": [
              "                                               Lemma  ...                              LDA_tags\n",
              "0  ['instal', 'libv', 'gem', 'o', '+', 'try', 'in...  ...         find error build install user\n",
              "1  ['right', 'leave', 'support', 'twitter', 'boot...  ...  create new script difference element\n",
              "2  ['operator', 'mysql', 'work', 'code', 'write',...  ...           name mysql source set error\n",
              "3  ['warn', 'implicit', 'declaration', 'function'...  ...    function error import library size\n",
              "4  ['exportimport', 'job', 'jenkins', 'possible',...  ...   different test reference app number\n",
              "\n",
              "[5 rows x 3 columns]"
            ]
          },
          "metadata": {
            "tags": []
          },
          "execution_count": 38
        }
      ]
    },
    {
      "cell_type": "markdown",
      "metadata": {
        "colab_type": "text",
        "id": "FOwKlTvbISCC"
      },
      "source": [
        "#### 2.1.3 Performance evaluation of LDA predictions"
      ]
    },
    {
      "cell_type": "markdown",
      "metadata": {
        "colab_type": "text",
        "id": "DlXsmRjjISCD"
      },
      "source": [
        "##### Baseline: we create a tags vector with a dummy classifier "
      ]
    },
    {
      "cell_type": "code",
      "metadata": {
        "colab_type": "code",
        "id": "MjwpKi56ISCE",
        "colab": {}
      },
      "source": [
        "# Dummy Classifier (baseline)\n",
        "\n",
        "dummy_clf = DummyClassifier(random_state=0, strategy=\"most_frequent\")\n",
        "\n",
        "model_dummy = dummy_clf.fit(X_tfidf_train, y_train)\n",
        "y_dummy_pred = model_dummy.predict(X_tfidf_test)"
      ],
      "execution_count": 0,
      "outputs": []
    },
    {
      "cell_type": "markdown",
      "metadata": {
        "colab_type": "text",
        "id": "DZBZfxDNISCH"
      },
      "source": [
        "##### Cosine similarity as score metrics:\n",
        "\n",
        "Cosine similarity is a measure of similarity between two non-zero vectors of an inner product space that measures the cosine of the angle between them.\n",
        "We have to construct a vector space from all the ‘sentences’ in tags arrays. We do so by using the TF-IDF approach."
      ]
    },
    {
      "cell_type": "code",
      "metadata": {
        "colab_type": "code",
        "id": "3YCclOn6ISCI",
        "colab": {}
      },
      "source": [
        "y_tfidf_test = tfidfVectorizer.transform(y_test)\n",
        "y_tfidf_LDA = tfidfVectorizer.transform(LDA_tags)\n",
        "y_tfidf_dummy = tfidfVectorizer.transform(y_dummy_pred)\n",
        "#print(y_tfidf_test.shape, y_tfidf_LDA.shape, y_tfidf_dummy.shape)"
      ],
      "execution_count": 0,
      "outputs": []
    },
    {
      "cell_type": "markdown",
      "metadata": {
        "colab_type": "text",
        "id": "T0nLMDBNISCM"
      },
      "source": [
        "##### Verify scores"
      ]
    },
    {
      "cell_type": "code",
      "metadata": {
        "colab_type": "code",
        "id": "SX0PXCVsISCM",
        "outputId": "8905cba6-5fdf-44e2-ad71-0d54a6742252",
        "colab": {
          "base_uri": "https://localhost:8080/",
          "height": 52
        }
      },
      "source": [
        "# Cosine similarity varies between 0 and 1.\n",
        "# If the predicted tags are exactly the same as those given by stackoverflow, cosine similarity is = 1\n",
        "#  to have one number we need reshaping 1D vectors representing tags, as 2D vectors(-1,1)\n",
        "print('Dummy score:',cosine_similarity(y_tfidf_test.reshape(1,-1), y_tfidf_dummy.reshape(1,-1))) \n",
        "print('LDA score:',cosine_similarity(y_tfidf_test.reshape(1,-1), y_tfidf_LDA.reshape(1,-1)))"
      ],
      "execution_count": 41,
      "outputs": [
        {
          "output_type": "stream",
          "text": [
            "Dummy score: [[0.05342378]]\n",
            "LDA score: [[0.18009483]]\n"
          ],
          "name": "stdout"
        }
      ]
    },
    {
      "cell_type": "markdown",
      "metadata": {
        "colab_type": "text",
        "id": "WrloSJlZISCS"
      },
      "source": [
        "### 2.2 Tags reccommendation with non-negative matrix factorization(NMF) topic modelling"
      ]
    },
    {
      "cell_type": "code",
      "metadata": {
        "colab_type": "code",
        "id": "JOh5--5wISCS",
        "colab": {}
      },
      "source": [
        "nmf_model = NMF(n_components=n_topics, random_state=1,\n",
        "          alpha=.1, l1_ratio=.5).fit(X_tfidf_train)"
      ],
      "execution_count": 0,
      "outputs": []
    },
    {
      "cell_type": "code",
      "metadata": {
        "colab_type": "code",
        "id": "a88emROVISCW",
        "outputId": "7a66150d-5706-4af4-e894-b11178dc6a1f",
        "colab": {
          "base_uri": "https://localhost:8080/",
          "height": 34
        }
      },
      "source": [
        "process_time_starts()\n",
        "NMF_tags = [Recommend_tags(text, nmf_model) for text in X_test ]\n",
        "time_elapsed()"
      ],
      "execution_count": 44,
      "outputs": [
        {
          "output_type": "stream",
          "text": [
            "The process took: 0hour:1min:10sec\n"
          ],
          "name": "stdout"
        }
      ]
    },
    {
      "cell_type": "code",
      "metadata": {
        "colab_type": "code",
        "id": "-FUttuXwISCb",
        "outputId": "99657f6e-13b4-4446-d491-3d3507b3fd3f",
        "colab": {
          "base_uri": "https://localhost:8080/",
          "height": 206
        }
      },
      "source": [
        "df_test['NMF_tags'] = NMF_tags\n",
        "df_test.head()"
      ],
      "execution_count": 45,
      "outputs": [
        {
          "output_type": "execute_result",
          "data": {
            "text/html": [
              "<div>\n",
              "<style scoped>\n",
              "    .dataframe tbody tr th:only-of-type {\n",
              "        vertical-align: middle;\n",
              "    }\n",
              "\n",
              "    .dataframe tbody tr th {\n",
              "        vertical-align: top;\n",
              "    }\n",
              "\n",
              "    .dataframe thead th {\n",
              "        text-align: right;\n",
              "    }\n",
              "</style>\n",
              "<table border=\"1\" class=\"dataframe\">\n",
              "  <thead>\n",
              "    <tr style=\"text-align: right;\">\n",
              "      <th></th>\n",
              "      <th>Lemma</th>\n",
              "      <th>taglist</th>\n",
              "      <th>LDA_tags</th>\n",
              "      <th>NMF_tags</th>\n",
              "    </tr>\n",
              "  </thead>\n",
              "  <tbody>\n",
              "    <tr>\n",
              "      <th>0</th>\n",
              "      <td>['instal', 'libv', 'gem', 'o', '+', 'try', 'in...</td>\n",
              "      <td>gem rubygems osx-mavericks osx-yosemite libv8</td>\n",
              "      <td>find error build install user</td>\n",
              "      <td>error package compile install option</td>\n",
              "    </tr>\n",
              "    <tr>\n",
              "      <th>1</th>\n",
              "      <td>['right', 'leave', 'support', 'twitter', 'boot...</td>\n",
              "      <td>css html twitter-bootstrap twitter-bootstrap-3</td>\n",
              "      <td>create new script difference element</td>\n",
              "      <td>project compile build</td>\n",
              "    </tr>\n",
              "    <tr>\n",
              "      <th>2</th>\n",
              "      <td>['operator', 'mysql', 'work', 'code', 'write',...</td>\n",
              "      <td>mysql sql operators spaceship-operator</td>\n",
              "      <td>name mysql source set error</td>\n",
              "      <td>error null server sql thread</td>\n",
              "    </tr>\n",
              "    <tr>\n",
              "      <th>3</th>\n",
              "      <td>['warn', 'implicit', 'declaration', 'function'...</td>\n",
              "      <td>c compiler-warnings</td>\n",
              "      <td>function error import library size</td>\n",
              "      <td>function return</td>\n",
              "    </tr>\n",
              "    <tr>\n",
              "      <th>4</th>\n",
              "      <td>['exportimport', 'job', 'jenkins', 'possible',...</td>\n",
              "      <td>jenkins</td>\n",
              "      <td>different test reference app number</td>\n",
              "      <td></td>\n",
              "    </tr>\n",
              "  </tbody>\n",
              "</table>\n",
              "</div>"
            ],
            "text/plain": [
              "                                               Lemma  ...                              NMF_tags\n",
              "0  ['instal', 'libv', 'gem', 'o', '+', 'try', 'in...  ...  error package compile install option\n",
              "1  ['right', 'leave', 'support', 'twitter', 'boot...  ...                 project compile build\n",
              "2  ['operator', 'mysql', 'work', 'code', 'write',...  ...          error null server sql thread\n",
              "3  ['warn', 'implicit', 'declaration', 'function'...  ...                       function return\n",
              "4  ['exportimport', 'job', 'jenkins', 'possible',...  ...                                      \n",
              "\n",
              "[5 rows x 4 columns]"
            ]
          },
          "metadata": {
            "tags": []
          },
          "execution_count": 45
        }
      ]
    },
    {
      "cell_type": "code",
      "metadata": {
        "colab_type": "code",
        "id": "oll30ONGISCh",
        "outputId": "407e771a-5c90-4130-af68-30abc12fdcae",
        "colab": {
          "base_uri": "https://localhost:8080/",
          "height": 52
        }
      },
      "source": [
        "y_tfidf_NMF = tfidfVectorizer.transform(NMF_tags)\n",
        "print('Dummy score:',cosine_similarity(y_tfidf_test.reshape(1,-1), y_tfidf_dummy.reshape(1,-1))) \n",
        "print('NMF score:',cosine_similarity(y_tfidf_test.reshape(1,-1), y_tfidf_NMF.reshape(1,-1)))"
      ],
      "execution_count": 46,
      "outputs": [
        {
          "output_type": "stream",
          "text": [
            "Dummy score: [[0.05342378]]\n",
            "NMF score: [[0.18110464]]\n"
          ],
          "name": "stdout"
        }
      ]
    },
    {
      "cell_type": "markdown",
      "metadata": {
        "colab_type": "text",
        "id": "pwqaUeeWISCk"
      },
      "source": [
        "## 3. Supervised topic modeling"
      ]
    },
    {
      "cell_type": "markdown",
      "metadata": {
        "colab_type": "text",
        "id": "zuYcNVPYISCl"
      },
      "source": [
        "To evaluate the supervised training models, I'll use the Jaccard score since it's the best fitted for multi label classification. \n",
        "https://en.wikipedia.org/wiki/Multi-label_classification#Statistics_and_evaluation_metrics"
      ]
    },
    {
      "cell_type": "code",
      "metadata": {
        "colab_type": "code",
        "id": "boheaXGPISCm",
        "colab": {}
      },
      "source": [
        "def print_score(y_pred, clf):\n",
        "    \n",
        "    print(\"Clf: \", clf.__class__.__name__)\n",
        "    print(\"Jaccard score: {}\".format(jaccard_score(y_test_bin, y_pred, average='weighted'))) # measure of similarity for the two sets of data. Average is set to \"samples\" since is between two multilabeled\n",
        "    print(\"Hamming loss: {}\".format((hamming_loss(y_pred, y_test_bin)))) #% of the wrong labels to the total number of labels\n",
        "    print(\"Accuracy score: {}\".format((accuracy_score(y_test_bin, y_pred))))   \n",
        "    print(\"---\")    "
      ],
      "execution_count": 0,
      "outputs": []
    },
    {
      "cell_type": "markdown",
      "metadata": {
        "colab_type": "text",
        "id": "gW9iEoQmISCq"
      },
      "source": [
        "### 3.1 Evaluate several classifiers"
      ]
    },
    {
      "cell_type": "markdown",
      "metadata": {
        "id": "WAvR33EAEbBN",
        "colab_type": "text"
      },
      "source": [
        "3.1.1 How many relevant features do we have?"
      ]
    },
    {
      "cell_type": "code",
      "metadata": {
        "id": "QV2-BhVGCsJ8",
        "colab_type": "code",
        "outputId": "e9067805-a40d-487b-afd5-b08e4eea2987",
        "colab": {
          "base_uri": "https://localhost:8080/",
          "height": 404
        }
      },
      "source": [
        "#scaler = StandardScaler()\n",
        "#X_tfidf_train_std = scaler.fit_transform(X_tfidf_train)\n",
        "\n",
        "\n",
        "X_train_pca = PCA().fit(X_tfidf_train)\n",
        "\n",
        "fig, ax = plt.subplots(figsize=(8,6))\n",
        "\n",
        "x_values = range(1, X_train_pca.n_components_+1)\n",
        "\n",
        "ax.plot(x_values, X_train_pca.explained_variance_ratio_, lw=2, label='explained variance')\n",
        "ax.plot(x_values, np.cumsum(X_train_pca.explained_variance_ratio_), lw=2, label='cumulative explained variance')\n",
        "ax.set_title('TF-IDF : explained variance of components')\n",
        "ax.set_xlabel('principal component')\n",
        "ax.set_ylabel('explained variance')\n",
        "plt.legend()\n",
        "plt.show()"
      ],
      "execution_count": 28,
      "outputs": [
        {
          "output_type": "display_data",
          "data": {
            "image/png": "[encoded data removed]",
            "text/plain": [
              "<Figure size 576x432 with 1 Axes>"
            ]
          },
          "metadata": {
            "tags": [],
            "needs_background": "light"
          }
        }
      ]
    },
    {
      "cell_type": "code",
      "metadata": {
        "id": "MZPl-2uIDmmq",
        "colab_type": "code",
        "outputId": "23aa7a00-3643-4d56-a77c-699e6a77739e",
        "colab": {
          "base_uri": "https://localhost:8080/",
          "height": 34
        }
      },
      "source": [
        "pca = PCA(n_components=100)\n",
        "\n",
        "\n",
        "X_PCA_train = pca.fit_transform(X_tfidf_train)\n",
        "X_PCA_test = pca.fit_transform(X_tfidf_test)\n",
        "\n",
        "print(X_PCA_train.shape, X_PCA_test.shape)"
      ],
      "execution_count": 29,
      "outputs": [
        {
          "output_type": "stream",
          "text": [
            "(29740, 100) (7435, 100)\n"
          ],
          "name": "stdout"
        }
      ]
    },
    {
      "cell_type": "markdown",
      "metadata": {
        "id": "AEL3m-qQEodA",
        "colab_type": "text"
      },
      "source": [
        "3.1.2 Test several classifiers for original matrix and that reduced by PCA"
      ]
    },
    {
      "cell_type": "code",
      "metadata": {
        "colab_type": "code",
        "id": "6AuqFHqyxliE",
        "outputId": "b22545fb-74ad-4508-a476-9b30dcca62b2",
        "colab": {
          "base_uri": "https://localhost:8080/",
          "height": 955
        }
      },
      "source": [
        "lr = LogisticRegression()\n",
        "sgd = SGDClassifier() # stochastic gradient descent (SGD) learning\n",
        "mn = MultinomialNB() # naive Bayes algorithm for multinomially distributed data,\n",
        "svc = LinearSVC()\n",
        "perceptron = Perceptron()\n",
        "pac = PassiveAggressiveClassifier() # Passive: if correct classification, keep the model; Aggressive: if incorrect classification, update to adjust to this misclassified example.\n",
        "\n",
        "\n",
        "classifiers_list = [dummy_clf,lr, svc, mn, perceptron, pac]\n",
        "classifiers_jaccard_scores = []\n",
        "classifiers_hamming_losses = []\n",
        "classifiers_accuracy_scores = []\n",
        "\n",
        "for classifier in classifiers_list:\n",
        "    process_time_starts()\n",
        "    \n",
        "    clf = MultiOutputClassifier(classifier) # check sklearn\n",
        "    print(\"fit running....\")\n",
        "    clf.fit(X_tfidf_train, y_train_bin)\n",
        "    y_pred = clf.predict(X_tfidf_test)\n",
        "    classifiers_jaccard_scores.append(jaccard_score(y_test_bin, y_pred, average='weighted'))\n",
        "    classifiers_hamming_losses.append((hamming_loss(y_pred, y_test_bin)))\n",
        "    classifiers_accuracy_scores.append(accuracy_score(y_test_bin, y_pred))\n",
        "\n",
        "    \n",
        "    print(\"time up\")\n",
        "    time_elapsed()\n",
        "    print_score(y_pred, classifier)\n",
        "    \n",
        "    print(\"---\")"
      ],
      "execution_count": 70,
      "outputs": [
        {
          "output_type": "stream",
          "text": [
            "fit running....\n",
            "time up\n",
            "The process took: 0hour:0min:1sec\n",
            "Clf:  DummyClassifier\n",
            "Jaccard score: 0.0\n",
            "Hamming loss: 0.014711499663752521\n",
            "Accuracy score: 0.0902488231338265\n",
            "---\n",
            "---\n",
            "fit running....\n",
            "time up\n",
            "The process took: 0hour:2min:20sec\n",
            "Clf:  LogisticRegression\n",
            "Jaccard score: 0.29271947102571577\n",
            "Hamming loss: 0.012127774041694687\n",
            "Accuracy score: 0.26388702084734367\n",
            "---\n",
            "---\n",
            "fit running....\n",
            "time up\n",
            "The process took: 0hour:3min:30sec\n",
            "Clf:  LinearSVC\n",
            "Jaccard score: 0.2844203038386725\n",
            "Hamming loss: 0.012240753194351042\n",
            "Accuracy score: 0.26509751176866175\n",
            "---\n",
            "---\n",
            "fit running....\n",
            "time up\n",
            "The process took: 0hour:0min:5sec\n",
            "Clf:  MultinomialNB\n",
            "Jaccard score: 0.18744875019383803\n",
            "Hamming loss: 0.11266442501681237\n",
            "Accuracy score: 0.0033624747814391394\n",
            "---\n",
            "---\n",
            "fit running....\n",
            "time up\n",
            "The process took: 0hour:0min:19sec\n",
            "Clf:  Perceptron\n",
            "Jaccard score: 0.25169369565916877\n",
            "Hamming loss: 0.01878950907868191\n",
            "Accuracy score: 0.17202420981842637\n",
            "---\n",
            "---\n",
            "fit running....\n",
            "time up\n",
            "The process took: 0hour:0min:24sec\n",
            "Clf:  PassiveAggressiveClassifier\n",
            "Jaccard score: 0.24692596287384863\n",
            "Hamming loss: 0.020384667114996636\n",
            "Accuracy score: 0.1488903833221251\n",
            "---\n",
            "---\n"
          ],
          "name": "stdout"
        }
      ]
    },
    {
      "cell_type": "markdown",
      "metadata": {
        "id": "_Zz_o1_eoCye",
        "colab_type": "text"
      },
      "source": [
        "**Test on PCA reduced features**\n",
        "\n"
      ]
    },
    {
      "cell_type": "code",
      "metadata": {
        "id": "ebCQZ7ghmicH",
        "colab_type": "code",
        "outputId": "d44c9bb7-b7b3-43c2-d8a1-8e7f6d56df41",
        "colab": {
          "base_uri": "https://localhost:8080/",
          "height": 642
        }
      },
      "source": [
        "dummy_clf = DummyClassifier(random_state=0, strategy=\"most_frequent\")\n",
        "lr = LogisticRegression()\n",
        "sgd = SGDClassifier() # stochastic gradient descent (SGD) learning\n",
        "mn = MultinomialNB() # naive Bayes algorithm for multinomially distributed data,\n",
        "svc = LinearSVC()\n",
        "perceptron = Perceptron()\n",
        "pac = PassiveAggressiveClassifier() # Passive: if correct classification, keep the model; Aggressive: if incorrect classification, update to adjust to this misclassified example.\n",
        "classifiers_list = [dummy_clf,lr, perceptron, pac]\n",
        "for classifier in classifiers_list:\n",
        "    process_time_starts()\n",
        "    \n",
        "    clf = MultiOutputClassifier(classifier)\n",
        "    clf.fit(X_PCA_train, y_train_bin)\n",
        "    y_pred = clf.predict(X_PCA_test)\n",
        "    \n",
        "    print(\"time up\")\n",
        "    time_elapsed()\n",
        "    print('score after PCA')\n",
        "    print_score(y_pred, classifier)\n",
        "        \n",
        "    print(\"---\")"
      ],
      "execution_count": 32,
      "outputs": [
        {
          "output_type": "stream",
          "text": [
            "time up\n",
            "The process took: 0hour:0min:0sec\n",
            "score after PCA\n",
            "Clf:  DummyClassifier\n",
            "Jaccard score: 0.0\n",
            "Hamming loss: 0.010833445415826048\n",
            "Accuracy score: 0.06671149966375252\n",
            "---\n",
            "---\n",
            "time up\n",
            "The process took: 0hour:2min:6sec\n",
            "score after PCA\n",
            "Clf:  LogisticRegression\n",
            "Jaccard score: 0.020225184227947564\n",
            "Hamming loss: 0.0421286707016364\n",
            "Accuracy score: 0.05043712172158709\n",
            "---\n",
            "---\n",
            "time up\n",
            "The process took: 0hour:0min:16sec\n",
            "score after PCA\n",
            "Clf:  Perceptron\n",
            "Jaccard score: 0.02397695743609537\n",
            "Hamming loss: 0.08931719345438242\n",
            "Accuracy score: 0.008338937457969065\n",
            "---\n",
            "---\n",
            "time up\n",
            "The process took: 0hour:0min:20sec\n",
            "score after PCA\n",
            "Clf:  PassiveAggressiveClassifier\n",
            "Jaccard score: 0.024526205930363375\n",
            "Hamming loss: 0.04447971306881865\n",
            "Accuracy score: 0.04572965702757229\n",
            "---\n",
            "---\n"
          ],
          "name": "stdout"
        }
      ]
    },
    {
      "cell_type": "markdown",
      "metadata": {
        "id": "B9UKsEI4PxUy",
        "colab_type": "text"
      },
      "source": [
        "3.1.3 Test KNN\n",
        "\n",
        "- Find optimal number of neighbors for KNN Classifier\n",
        "- Run optimized algorythm"
      ]
    },
    {
      "cell_type": "code",
      "metadata": {
        "id": "5M07V3l_z6il",
        "colab_type": "code",
        "colab": {}
      },
      "source": [
        "process_time_starts()\n",
        "\n",
        "Jaccard_KNN =[]\n",
        "Hamming_KNN = []\n",
        "for n in range(2,60,8):\n",
        "    knn = KNeighborsClassifier(n_neighbors = n)\n",
        "    knn_clf = knn.fit(X_tfidf_train, y_train_bin)\n",
        "    y_pred = knn_clf.predict(X_tfidf_test)\n",
        "    Jaccard_KNN.append(jaccard_score(y_test_bin, y_pred, average='samples'))\n",
        "    Hamming_KNN.append(hamming_loss(y_pred, y_test_bin))\n",
        "\n",
        "time_elapsed()\n",
        "\n",
        "KNN_range = np.arange(2,60,8)\n",
        "df_KNN = pd.DataFrame(KNN_range, columns = ['range'])\n",
        "df_KNN['Jaccard_score'] = Jaccard_KNN\n",
        "df_KNN['Hamming_loss'] = Hamming_KNN\n",
        "\n",
        "neighbors_max = df_KNN.iloc[df_KNN['Jaccard_score'].argmax(), 0] # the number K of neighbors that returns highest score \n",
        "print(\"the number K of neighbors that returns highest score is: \",neighbors_max)"
      ],
      "execution_count": 0,
      "outputs": []
    },
    {
      "cell_type": "code",
      "metadata": {
        "colab_type": "code",
        "id": "9_OAXxb5xliO",
        "outputId": "742f0166-babe-40c4-8cad-d19754a0f750",
        "colab": {
          "base_uri": "https://localhost:8080/",
          "height": 34
        }
      },
      "source": [
        "process_time_starts()\n",
        "knn = KNeighborsClassifier(n_neighbors = 10) # KNN optimized\n",
        "knn_clf = knn.fit(X_tfidf_train, y_train_bin)\n",
        "y_pred_KNN = knn_clf.predict(X_tfidf_test)\n",
        "time_elapsed()\n",
        "classifiers_jaccard_scores.append(jaccard_score(y_test_bin, y_pred_KNN, average='weighted'))\n",
        "classifiers_hamming_losses.append((hamming_loss(y_pred_KNN, y_test_bin)))\n",
        "classifiers_accuracy_scores.append(accuracy_score(y_test_bin, y_pred_KNN))\n",
        "classifiers_list.append('KNN')"
      ],
      "execution_count": 60,
      "outputs": [
        {
          "output_type": "stream",
          "text": [
            "The process took: 0hour:1min:54sec\n"
          ],
          "name": "stdout"
        }
      ]
    },
    {
      "cell_type": "markdown",
      "metadata": {
        "id": "nUNMxSfnP5NJ",
        "colab_type": "text"
      },
      "source": [
        "3.1.4 Run Random Forest Classifier"
      ]
    },
    {
      "cell_type": "code",
      "metadata": {
        "colab_type": "code",
        "id": "HMsEWsEixliT",
        "outputId": "5950258f-3aba-4a96-f9ba-a7f379fe9625",
        "colab": {
          "base_uri": "https://localhost:8080/",
          "height": 34
        }
      },
      "source": [
        "process_time_starts()\n",
        "rf = RandomForestClassifier(max_depth=35000, random_state=42, n_jobs = -1, n_estimators=80)#, parameters optimized to balance consumption and accuracy\n",
        "rf_clf = rf.fit(X_tfidf_train, y_train_bin)\n",
        "# apply the trained random forest model\n",
        "y_pred_RF = rf_clf.predict(X_tfidf_test)\n",
        "time_elapsed()\n"
      ],
      "execution_count": 62,
      "outputs": [
        {
          "output_type": "stream",
          "text": [
            "The process took: 0hour:1min:19sec\n"
          ],
          "name": "stdout"
        }
      ]
    },
    {
      "cell_type": "code",
      "metadata": {
        "id": "b54hDqwygwL8",
        "colab_type": "code",
        "colab": {}
      },
      "source": [
        "classifiers_jaccard_scores.append(jaccard_score(y_test_bin, y_pred_RF, average='weighted'))\n",
        "classifiers_hamming_losses.append((hamming_loss(y_pred_RF, y_test_bin)))\n",
        "classifiers_accuracy_scores.append(accuracy_score(y_test_bin, y_pred_RF))\n",
        "classifiers_list.append('Random Forest')\n",
        "\n"
      ],
      "execution_count": 0,
      "outputs": []
    },
    {
      "cell_type": "markdown",
      "metadata": {
        "id": "6DntTquUFayk",
        "colab_type": "text"
      },
      "source": [
        "3.1.3 compare all scores"
      ]
    },
    {
      "cell_type": "code",
      "metadata": {
        "colab_type": "code",
        "id": "M8xJ6O2B_9ht",
        "outputId": "84076171-0431-41ce-d23f-3ff055833d88",
        "colab": {
          "base_uri": "https://localhost:8080/",
          "height": 318
        }
      },
      "source": [
        "\n",
        "classifiers_list =['Dummy Classifier', 'Logistic Regression', 'Multinomial Naive Bayes', 'LinearSVC','Perceptron', 'PassiveAggressiveClassifier', 'K-Neighbors Classifier', \"Random Forest Classifier\"]\n",
        "\n",
        "df_clf = pd.DataFrame(classifiers_list, columns = ['classifiers'])\n",
        "df_clf['Jaccard_score'] = classifiers_jaccard_scores\n",
        "df_clf['Hamming_loss'] = classifiers_hamming_losses\n",
        "df_clf['Accuracy'] = classifiers_accuracy_scores\n",
        "df_clf = df_clf.sort_values(by=['Hamming_loss'])\n",
        "best_classifier = df_clf.iloc[df_clf['Accuracy'].argmax(), 0]\n",
        "print('The best classifier among those tested is: ',best_classifier)\n",
        "df_clf"
      ],
      "execution_count": 68,
      "outputs": [
        {
          "output_type": "stream",
          "text": [
            "The best classifier among those tested is:  Random Forest Classifier\n"
          ],
          "name": "stdout"
        },
        {
          "output_type": "execute_result",
          "data": {
            "text/html": [
              "<div>\n",
              "<style scoped>\n",
              "    .dataframe tbody tr th:only-of-type {\n",
              "        vertical-align: middle;\n",
              "    }\n",
              "\n",
              "    .dataframe tbody tr th {\n",
              "        vertical-align: top;\n",
              "    }\n",
              "\n",
              "    .dataframe thead th {\n",
              "        text-align: right;\n",
              "    }\n",
              "</style>\n",
              "<table border=\"1\" class=\"dataframe\">\n",
              "  <thead>\n",
              "    <tr style=\"text-align: right;\">\n",
              "      <th></th>\n",
              "      <th>classifiers</th>\n",
              "      <th>Jaccard_score</th>\n",
              "      <th>Hamming_loss</th>\n",
              "      <th>Accuracy</th>\n",
              "    </tr>\n",
              "  </thead>\n",
              "  <tbody>\n",
              "    <tr>\n",
              "      <th>7</th>\n",
              "      <td>Random Forest Classifier</td>\n",
              "      <td>0.273065</td>\n",
              "      <td>0.011221</td>\n",
              "      <td>0.288500</td>\n",
              "    </tr>\n",
              "    <tr>\n",
              "      <th>1</th>\n",
              "      <td>Logistic Regression</td>\n",
              "      <td>0.292719</td>\n",
              "      <td>0.012128</td>\n",
              "      <td>0.263887</td>\n",
              "    </tr>\n",
              "    <tr>\n",
              "      <th>2</th>\n",
              "      <td>Multinomial Naive Bayes</td>\n",
              "      <td>0.283482</td>\n",
              "      <td>0.012351</td>\n",
              "      <td>0.260390</td>\n",
              "    </tr>\n",
              "    <tr>\n",
              "      <th>6</th>\n",
              "      <td>K-Neighbors Classifier</td>\n",
              "      <td>0.157818</td>\n",
              "      <td>0.012893</td>\n",
              "      <td>0.193141</td>\n",
              "    </tr>\n",
              "    <tr>\n",
              "      <th>0</th>\n",
              "      <td>Dummy Classifier</td>\n",
              "      <td>0.000000</td>\n",
              "      <td>0.014711</td>\n",
              "      <td>0.090249</td>\n",
              "    </tr>\n",
              "    <tr>\n",
              "      <th>4</th>\n",
              "      <td>Perceptron</td>\n",
              "      <td>0.251694</td>\n",
              "      <td>0.018790</td>\n",
              "      <td>0.172024</td>\n",
              "    </tr>\n",
              "    <tr>\n",
              "      <th>5</th>\n",
              "      <td>PassiveAggressiveClassifier</td>\n",
              "      <td>0.262922</td>\n",
              "      <td>0.020270</td>\n",
              "      <td>0.163282</td>\n",
              "    </tr>\n",
              "    <tr>\n",
              "      <th>3</th>\n",
              "      <td>LinearSVC</td>\n",
              "      <td>0.187449</td>\n",
              "      <td>0.112664</td>\n",
              "      <td>0.003362</td>\n",
              "    </tr>\n",
              "  </tbody>\n",
              "</table>\n",
              "</div>"
            ],
            "text/plain": [
              "                   classifiers  Jaccard_score  Hamming_loss  Accuracy\n",
              "7     Random Forest Classifier       0.273065      0.011221  0.288500\n",
              "1          Logistic Regression       0.292719      0.012128  0.263887\n",
              "2      Multinomial Naive Bayes       0.283482      0.012351  0.260390\n",
              "6       K-Neighbors Classifier       0.157818      0.012893  0.193141\n",
              "0             Dummy Classifier       0.000000      0.014711  0.090249\n",
              "4                   Perceptron       0.251694      0.018790  0.172024\n",
              "5  PassiveAggressiveClassifier       0.262922      0.020270  0.163282\n",
              "3                    LinearSVC       0.187449      0.112664  0.003362"
            ]
          },
          "metadata": {
            "tags": []
          },
          "execution_count": 68
        }
      ]
    },
    {
      "cell_type": "code",
      "metadata": {
        "id": "N2FayfFaxliw",
        "colab_type": "code",
        "outputId": "3d2c3ef0-f7b8-42c9-f364-82185da3c6e8",
        "colab": {
          "base_uri": "https://localhost:8080/",
          "height": 867
        }
      },
      "source": [
        "plt.figure(figsize=(6, 12))\n",
        "plt.subplot(211)\n",
        "plt.bar(df_clf['classifiers'],df_clf['Jaccard_score'], color = 'k')\n",
        "plt.ylabel('Jaccard_score',fontsize = 14)\n",
        "plt.ylim((0.1, 0.6))   # set the ylim to bottom, top\n",
        "plt.xticks(df_clf['classifiers'],\" \")\n",
        "\n",
        "plt.subplot(212)\n",
        "plt.bar(df_clf['classifiers'],df_clf['Accuracy'], color = 'r') \n",
        "plt.ylabel('Accuracy',fontsize = 14)\n",
        "#plt.ylim((0.1, 0.3))\n",
        "plt.xlabel('Classifier', fontsize = 14)\n",
        "plt.xticks(rotation=90)\n",
        "plt.plot()"
      ],
      "execution_count": 67,
      "outputs": [
        {
          "output_type": "execute_result",
          "data": {
            "text/plain": [
              "[]"
            ]
          },
          "metadata": {
            "tags": []
          },
          "execution_count": 67
        },
        {
          "output_type": "display_data",
          "data": {
            "image/png": "[encoded data removed]",
            "text/plain": [
              "<Figure size 432x864 with 2 Axes>"
            ]
          },
          "metadata": {
            "tags": [],
            "needs_background": "light"
          }
        }
      ]
    },
    {
      "cell_type": "markdown",
      "metadata": {
        "id": "JCsFEZlglf6k",
        "colab_type": "text"
      },
      "source": [
        "### 3.2 extract tags out of the matrix predicted by the best classifier"
      ]
    },
    {
      "cell_type": "code",
      "metadata": {
        "id": "g2wurQ7KYGR1",
        "colab_type": "code",
        "colab": {}
      },
      "source": [
        "y_pred_rf_matrix = pd.DataFrame(y_pred_RF, columns=y_test_bin.columns)\n",
        "y_pred_rf_matrix [:1]"
      ],
      "execution_count": 0,
      "outputs": []
    },
    {
      "cell_type": "code",
      "metadata": {
        "id": "AXCrT3E-5sJ7",
        "colab_type": "code",
        "colab": {}
      },
      "source": [
        "\n",
        "def get_tags(df):\n",
        "    indexarray = np.arange(0,len(df.index))\n",
        "    taglist =[]\n",
        "    def unique_list(l):\n",
        "      x = []\n",
        "      for a in l:\n",
        "        if a not in x:\n",
        "          x.append(a)\n",
        "      return x\n",
        "    \n",
        "    for i in indexarray:\n",
        "        onelist = df.columns[(df > 0).iloc[i]].tolist()\n",
        "        uniques = unique_list(onelist)\n",
        "        taglist.append(uniques)\n",
        "    return taglist"
      ],
      "execution_count": 0,
      "outputs": []
    },
    {
      "cell_type": "code",
      "metadata": {
        "id": "7yTJjXgO9G7o",
        "colab_type": "code",
        "colab": {}
      },
      "source": [
        "tags_rf = get_tags(y_pred_rf_matrix)\n",
        "RF_tags = [' '.join(map(str, l)) for l in tags_rf]\n",
        "df_test['Random_Forest_tags'] = RF_tags\n"
      ],
      "execution_count": 0,
      "outputs": []
    },
    {
      "cell_type": "code",
      "metadata": {
        "id": "_w81ycmINrWl",
        "colab_type": "code",
        "colab": {}
      },
      "source": [
        "clf = OneVsRestClassifier(lr)\n",
        "print(\"fit running....\")\n",
        "clf.fit(X_tfidf_train, y_train_bin)\n",
        "y_pred = clf.predict(X_tfidf_test)"
      ],
      "execution_count": 0,
      "outputs": []
    },
    {
      "cell_type": "code",
      "metadata": {
        "id": "x6DqLDgxNx3x",
        "colab_type": "code",
        "colab": {}
      },
      "source": [
        "y_pred_lr_matrix = pd.DataFrame(y_pred, columns=y_test_bin.columns)\n",
        "tags_lr = get_tags(y_pred_lr_matrix)\n",
        "LR_tags = [' '.join(map(str, l)) for l in tags_lr]\n",
        "df_test['LinearRegression_tags'] = LR_tags\n",
        "\n",
        "df_test.head()"
      ],
      "execution_count": 0,
      "outputs": []
    },
    {
      "cell_type": "code",
      "metadata": {
        "id": "h9OwfmryOh_g",
        "colab_type": "code",
        "colab": {}
      },
      "source": [
        "y_tfidf_RF = tfidfVectorizer.transform(RF_tags)\n",
        "y_tfidf_LR = tfidfVectorizer.transform(LR_tags)\n",
        "print('Dummy score:',cosine_similarity(y_tfidf_test.reshape(1,-1), y_tfidf_dummy.reshape(1,-1))) \n",
        "print('RF score:',cosine_similarity(y_tfidf_test.reshape(1,-1), y_tfidf_RF.reshape(1,-1)))\n",
        "print('LR score:',cosine_similarity(y_tfidf_test.reshape(1,-1), y_tfidf_LR.reshape(1,-1)))"
      ],
      "execution_count": 0,
      "outputs": []
    },
    {
      "cell_type": "markdown",
      "metadata": {
        "id": "eYUYN74HFrNi",
        "colab_type": "text"
      },
      "source": [
        "Much higher cosine similarity than with unsupervised methods"
      ]
    },
    {
      "cell_type": "markdown",
      "metadata": {
        "id": "qM7_MOWhlzlB",
        "colab_type": "text"
      },
      "source": [
        "### 3.3 Reverse neural networks"
      ]
    },
    {
      "cell_type": "code",
      "metadata": {
        "id": "_qaC4-S5qonF",
        "colab_type": "code",
        "colab": {}
      },
      "source": [
        "from keras.utils import to_categorical\n",
        "train_labels = to_categorical(y_train)\n",
        "test_labels = to_categorical(y_test)"
      ],
      "execution_count": 0,
      "outputs": []
    },
    {
      "cell_type": "code",
      "metadata": {
        "id": "rviXjwjhgSg2",
        "colab_type": "code",
        "colab": {}
      },
      "source": [
        "\n",
        "df_Xtrain, df_Xtest = train_test_split(X)\n",
        "\n",
        "def batch_generator(X_data, y_data, batch_size):\n",
        "    samples_per_epoch = X_data.shape[0]\n",
        "    number_of_batches = samples_per_epoch/batch_size\n",
        "    counter=0\n",
        "    index = np.arange(np.shape(y_data)[0])\n",
        "    while 1:\n",
        "        index_batch = index[batch_size*counter:batch_size*(counter+1)]\n",
        "        X_batch = X_data[index_batch,:].toarray()\n",
        "        y_batch = y_data[y_data.index[index_batch]]\n",
        "        counter += 1\n",
        "        yield X_batch,y_batch\n",
        "        if (counter > number_of_batches):\n",
        "            counter=0\n",
        "            \n",
        "model = Sequential()\n",
        "model.add(Dense(64, activation='relu', input_dim=220))\n",
        "model.add(Dense(1, activation='sigmoid'))\n",
        "model.compile(optimizer='adam',\n",
        "              loss='binary_crossentropy',\n",
        "              metrics=['accuracy'])\n",
        "\n",
        "model.fit_generator(generator=batch_generator(X_tfidf_train, y_train, 32),\n",
        "                    epochs=5, validation_data=(X_tfidf_test, y_test),\n",
        "                    steps_per_epoch= 32)\n",
        "\n"
      ],
      "execution_count": 0,
      "outputs": []
    },
    {
      "cell_type": "code",
      "metadata": {
        "id": "E539ZcEInokt",
        "colab_type": "code",
        "colab": {}
      },
      "source": [
        ""
      ],
      "execution_count": 0,
      "outputs": []
    }
  ]
}