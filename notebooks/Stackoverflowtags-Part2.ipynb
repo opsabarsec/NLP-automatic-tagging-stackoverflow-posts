{
 "cells": [
  {
   "cell_type": "markdown",
   "metadata": {
    "colab_type": "text",
    "id": "4jpKnAEbIR8_"
   },
   "source": [
    "# Stack Overflow Tag Prediction 2: Topic Modeling"
   ]
  },
  {
   "cell_type": "markdown",
   "metadata": {
    "colab_type": "text",
    "id": "Yq-biJY0IR9C"
   },
   "source": [
    "Stack Overflow is the largest, most trusted online community for developers to learn, share their programming knowledge, and build their careers. The goal of this project is to predict as many tags as possible with high precision and recall. Incorrect tags could impact user experience on StackOverflow. \n",
    "\n",
    "To automatically assign tags we use in a first step an unsupervised approach: the text analysis technique called topic modeling. The ultimate goal of topic modeling is to find various topics that are present in your corpus. Each document in the corpus will be made up of at least one topic, if not multiple topics."
   ]
  },
  {
   "cell_type": "markdown",
   "metadata": {
    "colab_type": "text",
    "id": "5qNeoPoJIR9G"
   },
   "source": [
    "## Import libraries and load dataset"
   ]
  },
  {
   "cell_type": "code",
   "execution_count": 83,
   "metadata": {
    "colab": {},
    "colab_type": "code",
    "id": "8ovXyaPCIR9J"
   },
   "outputs": [],
   "source": [
    "import pandas as pd\n",
    "import numpy as np\n",
    "import nltk, re, pprint\n",
    "from nltk import word_tokenize, pos_tag\n",
    "\n",
    "from sklearn.metrics.pairwise import cosine_similarity\n",
    "\n",
    "from sklearn.feature_extraction.text import CountVectorizer\n",
    "from sklearn.feature_extraction.text import TfidfTransformer\n",
    "from sklearn.feature_extraction.text import TfidfVectorizer\n",
    "\n",
    "from sklearn.decomposition import NMF, LatentDirichletAllocation, TruncatedSVD\n",
    "import pyLDAvis\n",
    "import pyLDAvis.sklearn\n",
    "pyLDAvis.enable_notebook()\n",
    "\n",
    "\n",
    "from gensim import matutils, models\n",
    "from gensim.models.ldamulticore import LdaMulticore\n",
    "from gensim.models import CoherenceModel\n",
    "from gensim import corpora\n",
    "from gensim.corpora.dictionary import Dictionary\n",
    "from gensim.parsing.preprocessing import preprocess_documents\n",
    "from gensim.utils import simple_preprocess\n",
    "from gensim.parsing.preprocessing import remove_stopwords\n",
    "from gensim.models.word2vec import Word2Vec\n",
    "\n",
    "import time\n",
    "\n",
    "import warnings\n",
    "warnings.filterwarnings('ignore')\n",
    "\n",
    "from sklearn.model_selection import train_test_split\n",
    "from matplotlib import pyplot as plt\n",
    "\n",
    "from matplotlib.legend_handler import HandlerLine2D\n",
    "\n",
    "from sklearn.dummy import DummyClassifier\n",
    "from sklearn.naive_bayes import MultinomialNB\n",
    "from sklearn.linear_model import SGDClassifier\n",
    "from sklearn.linear_model import LogisticRegression\n",
    "from sklearn.multiclass import OneVsRestClassifier\n",
    "from sklearn.svm import LinearSVC\n",
    "from sklearn.linear_model import Perceptron\n",
    "from sklearn.linear_model import PassiveAggressiveClassifier\n",
    "from sklearn.neural_network import MLPClassifier\n",
    "from sklearn.ensemble import RandomForestClassifier\n",
    "\n",
    "from sklearn.neighbors import KNeighborsClassifier\n",
    "\n",
    "from sklearn import model_selection\n",
    "\n",
    "from sklearn.metrics import make_scorer\n",
    "from sklearn.metrics import f1_score\n",
    "from sklearn.metrics import confusion_matrix\n",
    "from sklearn.metrics import hamming_loss\n",
    "from sklearn.metrics import roc_curve\n",
    "from sklearn.metrics import roc_auc_score\n",
    "from sklearn.metrics import jaccard_score\n",
    "\n",
    "from sklearn.cluster import KMeans\n",
    "from sklearn.model_selection import RandomizedSearchCV\n",
    "\n",
    "from scipy.stats import randint as sp_randint\n",
    "\n",
    "from sklearn.preprocessing import StandardScaler\n",
    "from sklearn.preprocessing import MultiLabelBinarizer\n",
    "from sklearn.decomposition import PCA\n",
    "\n",
    "from sklearn.datasets import make_multilabel_classification\n",
    "from sklearn.multioutput import MultiOutputClassifier\n",
    "from sklearn.metrics import accuracy_score\n",
    "import re\n",
    "import itertools\n",
    "\n",
    "\n"
   ]
  },
  {
   "cell_type": "code",
   "execution_count": 6,
   "metadata": {
    "colab": {
     "base_uri": "https://localhost:8080/",
     "height": 454
    },
    "colab_type": "code",
    "id": "wj8F5WDLIYab",
    "outputId": "7fd5a792-ffb3-4eae-9c6a-6a12949b4a38"
   },
   "outputs": [
    {
     "name": "stdout",
     "output_type": "stream",
     "text": [
      "Collecting git+https://github.com/LIAAD/yake\n",
      "  Cloning https://github.com/LIAAD/yake to /tmp/pip-req-build-houhrege\n",
      "  Running command git clone -q https://github.com/LIAAD/yake /tmp/pip-req-build-houhrege\n",
      "Requirement already satisfied (use --upgrade to upgrade): yake==0.4.3 from git+https://github.com/LIAAD/yake in /media/marco/DATA/anaconda3/lib/python3.7/site-packages\n",
      "Requirement already satisfied: tabulate in /media/marco/DATA/anaconda3/lib/python3.7/site-packages (from yake==0.4.3) (0.8.7)\n",
      "Requirement already satisfied: click>=6.0 in /media/marco/DATA/anaconda3/lib/python3.7/site-packages (from yake==0.4.3) (7.0)\n",
      "Requirement already satisfied: numpy in /media/marco/DATA/anaconda3/lib/python3.7/site-packages (from yake==0.4.3) (1.18.1)\n",
      "Requirement already satisfied: segtok in /media/marco/DATA/anaconda3/lib/python3.7/site-packages (from yake==0.4.3) (1.5.10)\n",
      "Requirement already satisfied: networkx in /media/marco/DATA/anaconda3/lib/python3.7/site-packages (from yake==0.4.3) (2.4)\n",
      "Requirement already satisfied: jellyfish in /media/marco/DATA/anaconda3/lib/python3.7/site-packages (from yake==0.4.3) (0.8.2)\n",
      "Requirement already satisfied: regex in /media/marco/DATA/anaconda3/lib/python3.7/site-packages (from segtok->yake==0.4.3) (2020.5.14)\n",
      "Requirement already satisfied: decorator>=4.3.0 in /media/marco/DATA/anaconda3/lib/python3.7/site-packages (from networkx->yake==0.4.3) (4.4.1)\n",
      "Building wheels for collected packages: yake\n",
      "  Building wheel for yake (setup.py) ... \u001b[?25ldone\n",
      "\u001b[?25h  Created wheel for yake: filename=yake-0.4.3-py2.py3-none-any.whl size=67216 sha256=d9a7c6719c328c9bca838a5725ccd29567b93e58a080760705c14b7e8cdaec59\n",
      "  Stored in directory: /tmp/pip-ephem-wheel-cache-se6w8yde/wheels/52/79/f4/dae9309f60266aa3767a4381405002b6f2955fbcf038d804da\n",
      "Successfully built yake\n"
     ]
    }
   ],
   "source": [
    "! pip install git+https://github.com/LIAAD/yake\n",
    "    \n",
    "import yake"
   ]
  },
  {
   "cell_type": "code",
   "execution_count": 7,
   "metadata": {
    "colab": {
     "base_uri": "https://localhost:8080/",
     "height": 206
    },
    "colab_type": "code",
    "id": "Ln7IkimLIR9b",
    "outputId": "ccc7c8da-59fb-4928-c353-7ee771b951de"
   },
   "outputs": [
    {
     "data": {
      "text/html": [
       "<div>\n",
       "<style scoped>\n",
       "    .dataframe tbody tr th:only-of-type {\n",
       "        vertical-align: middle;\n",
       "    }\n",
       "\n",
       "    .dataframe tbody tr th {\n",
       "        vertical-align: top;\n",
       "    }\n",
       "\n",
       "    .dataframe thead th {\n",
       "        text-align: right;\n",
       "    }\n",
       "</style>\n",
       "<table border=\"1\" class=\"dataframe\">\n",
       "  <thead>\n",
       "    <tr style=\"text-align: right;\">\n",
       "      <th></th>\n",
       "      <th>Lemma</th>\n",
       "      <th>lemmalist</th>\n",
       "      <th>tags</th>\n",
       "      <th>taglist</th>\n",
       "    </tr>\n",
       "  </thead>\n",
       "  <tbody>\n",
       "    <tr>\n",
       "      <th>0</th>\n",
       "      <td>['processing', 'sort', 'array', 'faster', 'pro...</td>\n",
       "      <td>processing sort array faster processing unsort...</td>\n",
       "      <td>['java', 'c++', 'performance', 'optimization',...</td>\n",
       "      <td>java c++ performance optimization branch-predi...</td>\n",
       "    </tr>\n",
       "    <tr>\n",
       "      <th>1</th>\n",
       "      <td>['undo', 'recent', 'local', 'commits', 'git', ...</td>\n",
       "      <td>undo recent local commits git accidentally com...</td>\n",
       "      <td>['git', 'version-control', 'git-commit', 'undo...</td>\n",
       "      <td>git version-control git-commit undo pre-commit</td>\n",
       "    </tr>\n",
       "    <tr>\n",
       "      <th>2</th>\n",
       "      <td>['delete', 'git', 'branch', 'locally', 'remote...</td>\n",
       "      <td>delete git branch locally remotely want delete...</td>\n",
       "      <td>['git', 'version-control', 'git-branch', 'git-...</td>\n",
       "      <td>git version-control git-branch git-push git-re...</td>\n",
       "    </tr>\n",
       "    <tr>\n",
       "      <th>3</th>\n",
       "      <td>['difference', 'git', 'pull', 'git', 'fetch', ...</td>\n",
       "      <td>difference git pull git fetch difference git p...</td>\n",
       "      <td>['git', 'version-control', 'git-pull', 'git-fe...</td>\n",
       "      <td>git version-control git-pull git-fetch</td>\n",
       "    </tr>\n",
       "    <tr>\n",
       "      <th>4</th>\n",
       "      <td>['correct', 'json', 'content', 'type', 'mess',...</td>\n",
       "      <td>correct json content type mess json time push ...</td>\n",
       "      <td>['json', 'http-headers', 'content-type']</td>\n",
       "      <td>json http-headers content-type</td>\n",
       "    </tr>\n",
       "  </tbody>\n",
       "</table>\n",
       "</div>"
      ],
      "text/plain": [
       "                                               Lemma  \\\n",
       "0  ['processing', 'sort', 'array', 'faster', 'pro...   \n",
       "1  ['undo', 'recent', 'local', 'commits', 'git', ...   \n",
       "2  ['delete', 'git', 'branch', 'locally', 'remote...   \n",
       "3  ['difference', 'git', 'pull', 'git', 'fetch', ...   \n",
       "4  ['correct', 'json', 'content', 'type', 'mess',...   \n",
       "\n",
       "                                           lemmalist  \\\n",
       "0  processing sort array faster processing unsort...   \n",
       "1  undo recent local commits git accidentally com...   \n",
       "2  delete git branch locally remotely want delete...   \n",
       "3  difference git pull git fetch difference git p...   \n",
       "4  correct json content type mess json time push ...   \n",
       "\n",
       "                                                tags  \\\n",
       "0  ['java', 'c++', 'performance', 'optimization',...   \n",
       "1  ['git', 'version-control', 'git-commit', 'undo...   \n",
       "2  ['git', 'version-control', 'git-branch', 'git-...   \n",
       "3  ['git', 'version-control', 'git-pull', 'git-fe...   \n",
       "4           ['json', 'http-headers', 'content-type']   \n",
       "\n",
       "                                             taglist  \n",
       "0  java c++ performance optimization branch-predi...  \n",
       "1     git version-control git-commit undo pre-commit  \n",
       "2  git version-control git-branch git-push git-re...  \n",
       "3             git version-control git-pull git-fetch  \n",
       "4                     json http-headers content-type  "
      ]
     },
     "execution_count": 7,
     "metadata": {},
     "output_type": "execute_result"
    }
   ],
   "source": [
    "df_base = pd.read_csv('/media/marco/DATA/OC_Machine_learning/section_5/tags_stackoverflow/data-output/stackoverflow_processed_sample.csv', encoding='utf-8')\n",
    "df_base.head()"
   ]
  },
  {
   "cell_type": "code",
   "execution_count": 8,
   "metadata": {
    "colab": {},
    "colab_type": "code",
    "id": "1Nje6HBsIR94"
   },
   "outputs": [],
   "source": [
    "# Define a time counter function to test the algorythms performance \n",
    "_start_time = time.time()\n",
    "\n",
    "def process_time_starts():\n",
    "    global _start_time \n",
    "    _start_time = time.time()\n",
    "\n",
    "def time_elapsed():\n",
    "    t_sec = round(time.time() - _start_time)\n",
    "    (t_min, t_sec) = divmod(t_sec,60)\n",
    "    (t_hour,t_min) = divmod(t_min,60) \n",
    "    print('The process took: {}hour:{}min:{}sec'.format(t_hour,t_min,t_sec))"
   ]
  },
  {
   "cell_type": "markdown",
   "metadata": {
    "colab_type": "text",
    "id": "NFEFO3CfIR-C"
   },
   "source": [
    "## Encoded target matrix"
   ]
  },
  {
   "cell_type": "code",
   "execution_count": 9,
   "metadata": {
    "colab": {},
    "colab_type": "code",
    "id": "gA0_eDvyIR-E"
   },
   "outputs": [],
   "source": [
    "one_hot = MultiLabelBinarizer() # encoder for the  tags \n",
    "y = df_base['taglist']\n",
    "y_onehot = one_hot.fit_transform(y.str.split(' ')) \n",
    "y_bin = pd.DataFrame(y_onehot, columns=one_hot.classes_ ) # transform it to Pandas object"
   ]
  },
  {
   "cell_type": "code",
   "execution_count": 10,
   "metadata": {
    "colab": {
     "base_uri": "https://localhost:8080/",
     "height": 214
    },
    "colab_type": "code",
    "id": "Dtgkh1mM9RoS",
    "outputId": "9b43c59a-cd8a-443a-92fc-46fd3e3b0db1"
   },
   "outputs": [
    {
     "name": "stdout",
     "output_type": "stream",
     "text": [
      "(37175, 8578)\n"
     ]
    },
    {
     "data": {
      "text/html": [
       "<div>\n",
       "<style scoped>\n",
       "    .dataframe tbody tr th:only-of-type {\n",
       "        vertical-align: middle;\n",
       "    }\n",
       "\n",
       "    .dataframe tbody tr th {\n",
       "        vertical-align: top;\n",
       "    }\n",
       "\n",
       "    .dataframe thead th {\n",
       "        text-align: right;\n",
       "    }\n",
       "</style>\n",
       "<table border=\"1\" class=\"dataframe\">\n",
       "  <thead>\n",
       "    <tr style=\"text-align: right;\">\n",
       "      <th></th>\n",
       "      <th>.a</th>\n",
       "      <th>.bash-profile</th>\n",
       "      <th>.d.ts</th>\n",
       "      <th>.htaccess</th>\n",
       "      <th>.net</th>\n",
       "      <th>.net-2.0</th>\n",
       "      <th>.net-3.0</th>\n",
       "      <th>.net-3.5</th>\n",
       "      <th>.net-4.0</th>\n",
       "      <th>.net-4.5</th>\n",
       "      <th>...</th>\n",
       "      <th>zipfile</th>\n",
       "      <th>zipper</th>\n",
       "      <th>zlib</th>\n",
       "      <th>zombie-process</th>\n",
       "      <th>zoo</th>\n",
       "      <th>zoom</th>\n",
       "      <th>zsh</th>\n",
       "      <th>zsh-completion</th>\n",
       "      <th>zurb-foundation</th>\n",
       "      <th>zxing</th>\n",
       "    </tr>\n",
       "  </thead>\n",
       "  <tbody>\n",
       "    <tr>\n",
       "      <th>0</th>\n",
       "      <td>0</td>\n",
       "      <td>0</td>\n",
       "      <td>0</td>\n",
       "      <td>0</td>\n",
       "      <td>0</td>\n",
       "      <td>0</td>\n",
       "      <td>0</td>\n",
       "      <td>0</td>\n",
       "      <td>0</td>\n",
       "      <td>0</td>\n",
       "      <td>...</td>\n",
       "      <td>0</td>\n",
       "      <td>0</td>\n",
       "      <td>0</td>\n",
       "      <td>0</td>\n",
       "      <td>0</td>\n",
       "      <td>0</td>\n",
       "      <td>0</td>\n",
       "      <td>0</td>\n",
       "      <td>0</td>\n",
       "      <td>0</td>\n",
       "    </tr>\n",
       "    <tr>\n",
       "      <th>1</th>\n",
       "      <td>0</td>\n",
       "      <td>0</td>\n",
       "      <td>0</td>\n",
       "      <td>0</td>\n",
       "      <td>0</td>\n",
       "      <td>0</td>\n",
       "      <td>0</td>\n",
       "      <td>0</td>\n",
       "      <td>0</td>\n",
       "      <td>0</td>\n",
       "      <td>...</td>\n",
       "      <td>0</td>\n",
       "      <td>0</td>\n",
       "      <td>0</td>\n",
       "      <td>0</td>\n",
       "      <td>0</td>\n",
       "      <td>0</td>\n",
       "      <td>0</td>\n",
       "      <td>0</td>\n",
       "      <td>0</td>\n",
       "      <td>0</td>\n",
       "    </tr>\n",
       "  </tbody>\n",
       "</table>\n",
       "<p>2 rows × 8578 columns</p>\n",
       "</div>"
      ],
      "text/plain": [
       "   .a  .bash-profile  .d.ts  .htaccess  .net  .net-2.0  .net-3.0  .net-3.5  \\\n",
       "0   0              0      0          0     0         0         0         0   \n",
       "1   0              0      0          0     0         0         0         0   \n",
       "\n",
       "   .net-4.0  .net-4.5  ...  zipfile  zipper  zlib  zombie-process  zoo  zoom  \\\n",
       "0         0         0  ...        0       0     0               0    0     0   \n",
       "1         0         0  ...        0       0     0               0    0     0   \n",
       "\n",
       "   zsh  zsh-completion  zurb-foundation  zxing  \n",
       "0    0               0                0      0  \n",
       "1    0               0                0      0  \n",
       "\n",
       "[2 rows x 8578 columns]"
      ]
     },
     "execution_count": 10,
     "metadata": {},
     "output_type": "execute_result"
    }
   ],
   "source": [
    "print(y_bin.shape) # verify the result\n",
    "y_bin[:2] # still lots of non-relevant columns\n"
   ]
  },
  {
   "cell_type": "markdown",
   "metadata": {
    "colab_type": "text",
    "id": "7CNNG55ZoYl_"
   },
   "source": [
    "**Tags to be selected**"
   ]
  },
  {
   "cell_type": "code",
   "execution_count": 11,
   "metadata": {
    "colab": {},
    "colab_type": "code",
    "id": "0tNvyhcWn_N0"
   },
   "outputs": [],
   "source": [
    "Number_tags = 110 # number to choose in order of popularity"
   ]
  },
  {
   "cell_type": "code",
   "execution_count": 12,
   "metadata": {
    "colab": {},
    "colab_type": "code",
    "id": "HbbDwtWKIR-S"
   },
   "outputs": [],
   "source": [
    "df_tags = pd.read_csv('/media/marco/DATA/OC_Machine_learning/section_5/tags_stackoverflow/data-output/stackoverflow_processed_tags.csv', encoding='utf-8') # load the taglist in order to perform a tags selection\n",
    "df_tags = df_tags.dropna()\n",
    "tags = df_tags.tag #tags ordered by popularity\n",
    "\n",
    "popular_tags = tags[:Number_tags].tolist() # get the list of n most popular tags\n"
   ]
  },
  {
   "cell_type": "markdown",
   "metadata": {
    "colab_type": "text",
    "id": "CKzB-B1vl5ty"
   },
   "source": [
    "select only popular tags from tags encoded matrix using filter function"
   ]
  },
  {
   "cell_type": "code",
   "execution_count": 13,
   "metadata": {
    "colab": {
     "base_uri": "https://localhost:8080/",
     "height": 196
    },
    "colab_type": "code",
    "id": "XlfZjgFhIR-d",
    "outputId": "05b8c8b5-a535-4227-ae7a-c9501fc5bc09"
   },
   "outputs": [
    {
     "data": {
      "text/html": [
       "<div>\n",
       "<style scoped>\n",
       "    .dataframe tbody tr th:only-of-type {\n",
       "        vertical-align: middle;\n",
       "    }\n",
       "\n",
       "    .dataframe tbody tr th {\n",
       "        vertical-align: top;\n",
       "    }\n",
       "\n",
       "    .dataframe thead th {\n",
       "        text-align: right;\n",
       "    }\n",
       "</style>\n",
       "<table border=\"1\" class=\"dataframe\">\n",
       "  <thead>\n",
       "    <tr style=\"text-align: right;\">\n",
       "      <th></th>\n",
       "      <th>javascript</th>\n",
       "      <th>python</th>\n",
       "      <th>java</th>\n",
       "      <th>c#</th>\n",
       "      <th>android</th>\n",
       "      <th>html</th>\n",
       "      <th>git</th>\n",
       "      <th>css</th>\n",
       "      <th>jquery</th>\n",
       "      <th>c++</th>\n",
       "      <th>...</th>\n",
       "      <th>types</th>\n",
       "      <th>java-8</th>\n",
       "      <th>dom</th>\n",
       "      <th>svn</th>\n",
       "      <th>entity-framework</th>\n",
       "      <th>variables</th>\n",
       "      <th>matplotlib</th>\n",
       "      <th>sql-server-2008</th>\n",
       "      <th>logging</th>\n",
       "      <th>express</th>\n",
       "    </tr>\n",
       "  </thead>\n",
       "  <tbody>\n",
       "    <tr>\n",
       "      <th>0</th>\n",
       "      <td>0</td>\n",
       "      <td>0</td>\n",
       "      <td>1</td>\n",
       "      <td>0</td>\n",
       "      <td>0</td>\n",
       "      <td>0</td>\n",
       "      <td>0</td>\n",
       "      <td>0</td>\n",
       "      <td>0</td>\n",
       "      <td>1</td>\n",
       "      <td>...</td>\n",
       "      <td>0</td>\n",
       "      <td>0</td>\n",
       "      <td>0</td>\n",
       "      <td>0</td>\n",
       "      <td>0</td>\n",
       "      <td>0</td>\n",
       "      <td>0</td>\n",
       "      <td>0</td>\n",
       "      <td>0</td>\n",
       "      <td>0</td>\n",
       "    </tr>\n",
       "    <tr>\n",
       "      <th>1</th>\n",
       "      <td>0</td>\n",
       "      <td>0</td>\n",
       "      <td>0</td>\n",
       "      <td>0</td>\n",
       "      <td>0</td>\n",
       "      <td>0</td>\n",
       "      <td>1</td>\n",
       "      <td>0</td>\n",
       "      <td>0</td>\n",
       "      <td>0</td>\n",
       "      <td>...</td>\n",
       "      <td>0</td>\n",
       "      <td>0</td>\n",
       "      <td>0</td>\n",
       "      <td>0</td>\n",
       "      <td>0</td>\n",
       "      <td>0</td>\n",
       "      <td>0</td>\n",
       "      <td>0</td>\n",
       "      <td>0</td>\n",
       "      <td>0</td>\n",
       "    </tr>\n",
       "  </tbody>\n",
       "</table>\n",
       "<p>2 rows × 110 columns</p>\n",
       "</div>"
      ],
      "text/plain": [
       "   javascript  python  java  c#  android  html  git  css  jquery  c++  ...  \\\n",
       "0           0       0     1   0        0     0    0    0       0    1  ...   \n",
       "1           0       0     0   0        0     0    1    0       0    0  ...   \n",
       "\n",
       "   types  java-8  dom  svn  entity-framework  variables  matplotlib  \\\n",
       "0      0       0    0    0                 0          0           0   \n",
       "1      0       0    0    0                 0          0           0   \n",
       "\n",
       "   sql-server-2008  logging  express  \n",
       "0                0        0        0  \n",
       "1                0        0        0  \n",
       "\n",
       "[2 rows x 110 columns]"
      ]
     },
     "execution_count": 13,
     "metadata": {},
     "output_type": "execute_result"
    }
   ],
   "source": [
    "y_bin = y_bin.filter(items=popular_tags)\n",
    "\n",
    "y_bin[:2]"
   ]
  },
  {
   "cell_type": "code",
   "execution_count": 14,
   "metadata": {
    "colab": {
     "base_uri": "https://localhost:8080/",
     "height": 34
    },
    "colab_type": "code",
    "id": "_6VBKU_Xqi04",
    "outputId": "fd1ac49c-aec2-43eb-dfde-294f62f7d19f"
   },
   "outputs": [
    {
     "name": "stdout",
     "output_type": "stream",
     "text": [
      "(37175, 110)\n"
     ]
    }
   ],
   "source": [
    "print(y_bin.shape) # verify shape"
   ]
  },
  {
   "cell_type": "markdown",
   "metadata": {
    "colab_type": "text",
    "id": "0OjEnDe3IR-l"
   },
   "source": [
    "## 1. Document-term matrix\n",
    "\n",
    "\n",
    "To use a topic modeling technique, we calculate have to calculate (1) a document-term matrix and (2) choose the number of topics for the algorithm to pick up.\n",
    "Documemt-term matrix is calculated using either using the \"Bag of Words\" or \"TF-IDF\" approach.\n",
    "The number of topics is chosen beforehands"
   ]
  },
  {
   "cell_type": "markdown",
   "metadata": {
    "colab_type": "text",
    "id": "1N9MoRaTojLP"
   },
   "source": [
    "**Features to be modeled**"
   ]
  },
  {
   "cell_type": "code",
   "execution_count": 15,
   "metadata": {
    "colab": {},
    "colab_type": "code",
    "id": "8bD2-FL0IR-n"
   },
   "outputs": [],
   "source": [
    "num_features = 220"
   ]
  },
  {
   "cell_type": "markdown",
   "metadata": {
    "colab_type": "text",
    "id": "s5JRfe7DIR-w"
   },
   "source": [
    "### 1.1 Bag of Words approach\n",
    "\n",
    "In order to perform machine learning on text documents, we first need to turn the text content into numerical feature vectors, i.e build a document-term matrix.\n",
    "One common approach is called a Bag of Words. The Bag of Words model learns a vocabulary from all of the documents, then models each document by counting the number of times each word appears. "
   ]
  },
  {
   "cell_type": "code",
   "execution_count": 16,
   "metadata": {
    "colab": {},
    "colab_type": "code",
    "id": "psAJZPv3IR-x"
   },
   "outputs": [],
   "source": [
    "# Initialize the \"CountVectorizer\" object, which is scikit-learn's bag of words tool\n",
    "c_vectorizer = CountVectorizer(analyzer = \"word\",tokenizer = None,  min_df=5, max_df = 0.8, max_features = num_features, ngram_range=(1, 2)) # count vectorizer with bigrams\n",
    "#The input to fit_transform should be a list of strings like column \"Lemma\" and \"tags\" in our dataframe."
   ]
  },
  {
   "cell_type": "markdown",
   "metadata": {
    "colab_type": "text",
    "id": "zNKoAhN0IR-4"
   },
   "source": [
    "- parameters explanation:\n",
    "ngram_range: We want to consider both unigrams and bigrams.\n",
    "max_df: When building the vocabulary ignore terms that have a document frequency strictly higher than the given threshold\n",
    "min_df: When building the vocabulary ignore terms that have a document frequency strictly lower than the given threshold.\n",
    "max_features: Build a vocabulary that only consider the top max 500_features ordered by term frequency across the corpus\n"
   ]
  },
  {
   "cell_type": "code",
   "execution_count": 17,
   "metadata": {
    "colab": {},
    "colab_type": "code",
    "id": "T4u7cDCnIR-6"
   },
   "outputs": [],
   "source": [
    "# apply the vectorizer\n",
    "bag_of_words = c_vectorizer.fit_transform(df_base['Lemma']) \n",
    "# fit_transform() does two functions: First, it fits the model\n",
    "# and learns the vocabulary; second, it transforms our data\n",
    "# into feature vectors. "
   ]
  },
  {
   "cell_type": "code",
   "execution_count": 18,
   "metadata": {
    "colab": {},
    "colab_type": "code",
    "id": "k5cMiZ-OIR_D"
   },
   "outputs": [],
   "source": [
    "# Numpy arrays are easy to work with, so convert the result to an array\n",
    "bag_of_words_array = bag_of_words.toarray()\n",
    "bag_of_words_dense = bag_of_words.todense()"
   ]
  },
  {
   "cell_type": "markdown",
   "metadata": {
    "colab_type": "text",
    "id": "jrj-tuIkIR_O"
   },
   "source": [
    "document-term matrix calculated with \"Bag of Words\" method"
   ]
  },
  {
   "cell_type": "code",
   "execution_count": 19,
   "metadata": {
    "colab": {
     "base_uri": "https://localhost:8080/",
     "height": 273
    },
    "colab_type": "code",
    "id": "jP9XTWg5IR_P",
    "outputId": "1d579035-5a35-49d7-a5f2-3443f10b30cc"
   },
   "outputs": [
    {
     "name": "stdout",
     "output_type": "stream",
     "text": [
      "(37175, 220)\n"
     ]
    },
    {
     "data": {
      "text/html": [
       "<div>\n",
       "<style scoped>\n",
       "    .dataframe tbody tr th:only-of-type {\n",
       "        vertical-align: middle;\n",
       "    }\n",
       "\n",
       "    .dataframe tbody tr th {\n",
       "        vertical-align: top;\n",
       "    }\n",
       "\n",
       "    .dataframe thead th {\n",
       "        text-align: right;\n",
       "    }\n",
       "</style>\n",
       "<table border=\"1\" class=\"dataframe\">\n",
       "  <thead>\n",
       "    <tr style=\"text-align: right;\">\n",
       "      <th></th>\n",
       "      <th>able</th>\n",
       "      <th>access</th>\n",
       "      <th>add</th>\n",
       "      <th>allow</th>\n",
       "      <th>android</th>\n",
       "      <th>answer</th>\n",
       "      <th>api</th>\n",
       "      <th>app</th>\n",
       "      <th>application</th>\n",
       "      <th>array</th>\n",
       "      <th>...</th>\n",
       "      <th>view</th>\n",
       "      <th>visual</th>\n",
       "      <th>void</th>\n",
       "      <th>want</th>\n",
       "      <th>way</th>\n",
       "      <th>web</th>\n",
       "      <th>width</th>\n",
       "      <th>window</th>\n",
       "      <th>work</th>\n",
       "      <th>write</th>\n",
       "    </tr>\n",
       "  </thead>\n",
       "  <tbody>\n",
       "    <tr>\n",
       "      <th>0</th>\n",
       "      <td>0</td>\n",
       "      <td>0</td>\n",
       "      <td>0</td>\n",
       "      <td>0</td>\n",
       "      <td>0</td>\n",
       "      <td>0</td>\n",
       "      <td>0</td>\n",
       "      <td>0</td>\n",
       "      <td>0</td>\n",
       "      <td>5</td>\n",
       "      <td>...</td>\n",
       "      <td>0</td>\n",
       "      <td>0</td>\n",
       "      <td>1</td>\n",
       "      <td>0</td>\n",
       "      <td>0</td>\n",
       "      <td>0</td>\n",
       "      <td>0</td>\n",
       "      <td>0</td>\n",
       "      <td>0</td>\n",
       "      <td>0</td>\n",
       "    </tr>\n",
       "    <tr>\n",
       "      <th>1</th>\n",
       "      <td>0</td>\n",
       "      <td>0</td>\n",
       "      <td>0</td>\n",
       "      <td>0</td>\n",
       "      <td>0</td>\n",
       "      <td>0</td>\n",
       "      <td>0</td>\n",
       "      <td>0</td>\n",
       "      <td>0</td>\n",
       "      <td>0</td>\n",
       "      <td>...</td>\n",
       "      <td>0</td>\n",
       "      <td>0</td>\n",
       "      <td>0</td>\n",
       "      <td>0</td>\n",
       "      <td>0</td>\n",
       "      <td>0</td>\n",
       "      <td>0</td>\n",
       "      <td>0</td>\n",
       "      <td>0</td>\n",
       "      <td>0</td>\n",
       "    </tr>\n",
       "    <tr>\n",
       "      <th>2</th>\n",
       "      <td>0</td>\n",
       "      <td>0</td>\n",
       "      <td>0</td>\n",
       "      <td>0</td>\n",
       "      <td>0</td>\n",
       "      <td>0</td>\n",
       "      <td>0</td>\n",
       "      <td>0</td>\n",
       "      <td>0</td>\n",
       "      <td>0</td>\n",
       "      <td>...</td>\n",
       "      <td>0</td>\n",
       "      <td>0</td>\n",
       "      <td>0</td>\n",
       "      <td>1</td>\n",
       "      <td>0</td>\n",
       "      <td>0</td>\n",
       "      <td>0</td>\n",
       "      <td>0</td>\n",
       "      <td>0</td>\n",
       "      <td>0</td>\n",
       "    </tr>\n",
       "    <tr>\n",
       "      <th>3</th>\n",
       "      <td>0</td>\n",
       "      <td>0</td>\n",
       "      <td>0</td>\n",
       "      <td>0</td>\n",
       "      <td>0</td>\n",
       "      <td>0</td>\n",
       "      <td>0</td>\n",
       "      <td>0</td>\n",
       "      <td>0</td>\n",
       "      <td>0</td>\n",
       "      <td>...</td>\n",
       "      <td>0</td>\n",
       "      <td>0</td>\n",
       "      <td>0</td>\n",
       "      <td>0</td>\n",
       "      <td>0</td>\n",
       "      <td>0</td>\n",
       "      <td>0</td>\n",
       "      <td>0</td>\n",
       "      <td>0</td>\n",
       "      <td>0</td>\n",
       "    </tr>\n",
       "    <tr>\n",
       "      <th>4</th>\n",
       "      <td>0</td>\n",
       "      <td>0</td>\n",
       "      <td>0</td>\n",
       "      <td>0</td>\n",
       "      <td>0</td>\n",
       "      <td>1</td>\n",
       "      <td>1</td>\n",
       "      <td>0</td>\n",
       "      <td>0</td>\n",
       "      <td>0</td>\n",
       "      <td>...</td>\n",
       "      <td>0</td>\n",
       "      <td>0</td>\n",
       "      <td>0</td>\n",
       "      <td>0</td>\n",
       "      <td>0</td>\n",
       "      <td>0</td>\n",
       "      <td>0</td>\n",
       "      <td>0</td>\n",
       "      <td>0</td>\n",
       "      <td>0</td>\n",
       "    </tr>\n",
       "  </tbody>\n",
       "</table>\n",
       "<p>5 rows × 220 columns</p>\n",
       "</div>"
      ],
      "text/plain": [
       "   able  access  add  allow  android  answer  api  app  application  array  \\\n",
       "0     0       0    0      0        0       0    0    0            0      5   \n",
       "1     0       0    0      0        0       0    0    0            0      0   \n",
       "2     0       0    0      0        0       0    0    0            0      0   \n",
       "3     0       0    0      0        0       0    0    0            0      0   \n",
       "4     0       0    0      0        0       1    1    0            0      0   \n",
       "\n",
       "   ...  view  visual  void  want  way  web  width  window  work  write  \n",
       "0  ...     0       0     1     0    0    0      0       0     0      0  \n",
       "1  ...     0       0     0     0    0    0      0       0     0      0  \n",
       "2  ...     0       0     0     1    0    0      0       0     0      0  \n",
       "3  ...     0       0     0     0    0    0      0       0     0      0  \n",
       "4  ...     0       0     0     0    0    0      0       0     0      0  \n",
       "\n",
       "[5 rows x 220 columns]"
      ]
     },
     "execution_count": 19,
     "metadata": {},
     "output_type": "execute_result"
    }
   ],
   "source": [
    "# define vocabulary words\n",
    "vocab = c_vectorizer.get_feature_names()\n",
    "# build a dataframe out of the bag of words\n",
    "df_tf = pd.DataFrame(bag_of_words_dense, columns=vocab)\n",
    "print(df_tf.shape)\n",
    "df_tf.head() # visualize the matrix"
   ]
  },
  {
   "cell_type": "markdown",
   "metadata": {
    "colab_type": "text",
    "id": "GqaU7kiRIR_W"
   },
   "source": [
    "### 1.2 TF-IDF approach\n",
    "\n",
    "Text frequency - inverse documents frequency is a more advanced approach to build a document-term matrix than bag of words where only word counts (text frequency) is used.\n",
    "Inverse document frequency means, how common or rare a word is in the entire document set.\n",
    "It varies between 0 and 1. The closer it is to 0, the more common a word is.\n",
    "Before building the matrix here we check which are the most popular terms, i.e. the words with highest TF-IDF score. Those should correspond to the most popular tags."
   ]
  },
  {
   "cell_type": "markdown",
   "metadata": {
    "colab_type": "text",
    "id": "DOksFtifIR_W"
   },
   "source": [
    "#### 1.2.1 Word count and TF-IDF score\n"
   ]
  },
  {
   "cell_type": "markdown",
   "metadata": {
    "colab_type": "text",
    "id": "hWX4PZZBIR_Y"
   },
   "source": [
    "Word counts (term frequency)"
   ]
  },
  {
   "cell_type": "code",
   "execution_count": 20,
   "metadata": {
    "colab": {},
    "colab_type": "code",
    "id": "SZuK5DkAIR_a"
   },
   "outputs": [],
   "source": [
    "# Sum up the counts of each vocabulary word\n",
    "dist = np.sum(bag_of_words_array, axis=0)\n",
    "\n",
    "# For each, append to a list the vocabulary word and the number of times it \n",
    "# appears in the training set\n",
    "counts = []\n",
    "words = []\n",
    "for word, count in zip(vocab, dist):\n",
    "    counts.append(count)\n",
    "    words.append(word)\n",
    "    \n",
    "df_wordcount = pd.DataFrame({'words': words, 'count':counts})"
   ]
  },
  {
   "cell_type": "markdown",
   "metadata": {
    "colab_type": "text",
    "id": "MLXcgaeKIR_k"
   },
   "source": [
    "IDF values calculated from the bag-of-words matrix"
   ]
  },
  {
   "cell_type": "code",
   "execution_count": 21,
   "metadata": {
    "colab": {
     "base_uri": "https://localhost:8080/",
     "height": 34
    },
    "colab_type": "code",
    "id": "-Ti3n7cYIR_l",
    "outputId": "320d03aa-83f1-4e66-b1d4-5b301720564b"
   },
   "outputs": [
    {
     "data": {
      "text/plain": [
       "TfidfTransformer(norm='l2', smooth_idf=True, sublinear_tf=False, use_idf=True)"
      ]
     },
     "execution_count": 21,
     "metadata": {},
     "output_type": "execute_result"
    }
   ],
   "source": [
    "tfidf_transformer=TfidfTransformer(smooth_idf=True,use_idf=True)\n",
    "tfidf_transformer.fit(bag_of_words)"
   ]
  },
  {
   "cell_type": "code",
   "execution_count": 22,
   "metadata": {
    "colab": {},
    "colab_type": "code",
    "id": "wqFfg1P_IR_q"
   },
   "outputs": [],
   "source": [
    "# get idf values\n",
    "df_idf = pd.DataFrame(tfidf_transformer.idf_, index= c_vectorizer.get_feature_names(),columns=[\"idf_weight\"]).reset_index()\n",
    "df_idf.rename(columns={'index':'words'},inplace=True) \n",
    "\n",
    "# join with word counts data\n",
    "df_words = pd.merge(df_idf, df_wordcount, on='words', how='inner')"
   ]
  },
  {
   "cell_type": "markdown",
   "metadata": {
    "colab_type": "text",
    "id": "TCaqBxfsIR_z"
   },
   "source": [
    "Finally we get a words dataframe ordered by TF-IDF scores"
   ]
  },
  {
   "cell_type": "code",
   "execution_count": 23,
   "metadata": {
    "colab": {
     "base_uri": "https://localhost:8080/",
     "height": 363
    },
    "colab_type": "code",
    "id": "f1pbJBcCIR_0",
    "outputId": "b981a97e-d661-4e0f-f20c-1e62f71fd9e1"
   },
   "outputs": [
    {
     "data": {
      "text/html": [
       "<div>\n",
       "<style scoped>\n",
       "    .dataframe tbody tr th:only-of-type {\n",
       "        vertical-align: middle;\n",
       "    }\n",
       "\n",
       "    .dataframe tbody tr th {\n",
       "        vertical-align: top;\n",
       "    }\n",
       "\n",
       "    .dataframe thead th {\n",
       "        text-align: right;\n",
       "    }\n",
       "</style>\n",
       "<table border=\"1\" class=\"dataframe\">\n",
       "  <thead>\n",
       "    <tr style=\"text-align: right;\">\n",
       "      <th></th>\n",
       "      <th>words</th>\n",
       "      <th>idf_weight</th>\n",
       "      <th>count</th>\n",
       "      <th>TF_IDF score</th>\n",
       "    </tr>\n",
       "  </thead>\n",
       "  <tbody>\n",
       "    <tr>\n",
       "      <th>0</th>\n",
       "      <td>file</td>\n",
       "      <td>2.736351</td>\n",
       "      <td>17370</td>\n",
       "      <td>47530.417314</td>\n",
       "    </tr>\n",
       "    <tr>\n",
       "      <th>1</th>\n",
       "      <td>android</td>\n",
       "      <td>3.915541</td>\n",
       "      <td>10096</td>\n",
       "      <td>39531.297872</td>\n",
       "    </tr>\n",
       "    <tr>\n",
       "      <th>2</th>\n",
       "      <td>string</td>\n",
       "      <td>3.048507</td>\n",
       "      <td>12716</td>\n",
       "      <td>38764.813379</td>\n",
       "    </tr>\n",
       "    <tr>\n",
       "      <th>3</th>\n",
       "      <td>class</td>\n",
       "      <td>3.145947</td>\n",
       "      <td>11375</td>\n",
       "      <td>35785.151931</td>\n",
       "    </tr>\n",
       "    <tr>\n",
       "      <th>4</th>\n",
       "      <td>error</td>\n",
       "      <td>3.020527</td>\n",
       "      <td>11575</td>\n",
       "      <td>34962.603081</td>\n",
       "    </tr>\n",
       "    <tr>\n",
       "      <th>5</th>\n",
       "      <td>use</td>\n",
       "      <td>2.386402</td>\n",
       "      <td>14324</td>\n",
       "      <td>34182.821721</td>\n",
       "    </tr>\n",
       "    <tr>\n",
       "      <th>6</th>\n",
       "      <td>like</td>\n",
       "      <td>2.264955</td>\n",
       "      <td>14620</td>\n",
       "      <td>33113.642445</td>\n",
       "    </tr>\n",
       "    <tr>\n",
       "      <th>7</th>\n",
       "      <td>function</td>\n",
       "      <td>3.100097</td>\n",
       "      <td>10272</td>\n",
       "      <td>31844.193251</td>\n",
       "    </tr>\n",
       "    <tr>\n",
       "      <th>8</th>\n",
       "      <td>value</td>\n",
       "      <td>3.125460</td>\n",
       "      <td>9943</td>\n",
       "      <td>31076.444477</td>\n",
       "    </tr>\n",
       "    <tr>\n",
       "      <th>9</th>\n",
       "      <td>code</td>\n",
       "      <td>2.616212</td>\n",
       "      <td>11800</td>\n",
       "      <td>30871.307214</td>\n",
       "    </tr>\n",
       "  </tbody>\n",
       "</table>\n",
       "</div>"
      ],
      "text/plain": [
       "      words  idf_weight  count  TF_IDF score\n",
       "0      file    2.736351  17370  47530.417314\n",
       "1   android    3.915541  10096  39531.297872\n",
       "2    string    3.048507  12716  38764.813379\n",
       "3     class    3.145947  11375  35785.151931\n",
       "4     error    3.020527  11575  34962.603081\n",
       "5       use    2.386402  14324  34182.821721\n",
       "6      like    2.264955  14620  33113.642445\n",
       "7  function    3.100097  10272  31844.193251\n",
       "8     value    3.125460   9943  31076.444477\n",
       "9      code    2.616212  11800  30871.307214"
      ]
     },
     "execution_count": 23,
     "metadata": {},
     "output_type": "execute_result"
    }
   ],
   "source": [
    "#calculate the TF-IDF score\n",
    "df_words['TF_IDF score'] = df_words[\"idf_weight\"]*df_words['count']\n",
    "df_words = df_words.sort_values(by=['TF_IDF score'], ascending=False).reset_index(drop = True)# sort ascending\n",
    "df_words[:10]"
   ]
  },
  {
   "cell_type": "markdown",
   "metadata": {
    "colab_type": "text",
    "id": "oaCKXz05IR_-"
   },
   "source": [
    "#### 1.2.2 Build the matrix: TF-IDF scores to vectors"
   ]
  },
  {
   "cell_type": "code",
   "execution_count": 24,
   "metadata": {
    "colab": {},
    "colab_type": "code",
    "id": "fhd2Xx24IR__"
   },
   "outputs": [],
   "source": [
    "tfidfVectorizer = TfidfVectorizer(norm=None,analyzer='word',min_df = 5, max_df = 0.8, ngram_range=(1,2),max_features = num_features, use_idf=True)"
   ]
  },
  {
   "cell_type": "code",
   "execution_count": 25,
   "metadata": {
    "colab": {},
    "colab_type": "code",
    "id": "Mjf0OuuLISAE"
   },
   "outputs": [],
   "source": [
    "# TF-IDF matrices\n",
    "TF_IDF = tfidfVectorizer.fit_transform(df_base['Lemma'])\n"
   ]
  },
  {
   "cell_type": "code",
   "execution_count": 26,
   "metadata": {
    "colab": {},
    "colab_type": "code",
    "id": "NGb7svMjISAM"
   },
   "outputs": [],
   "source": [
    "TF_IDF_dense = TF_IDF.todense()\n"
   ]
  },
  {
   "cell_type": "code",
   "execution_count": 27,
   "metadata": {
    "colab": {},
    "colab_type": "code",
    "id": "RS7pTaPBISAU"
   },
   "outputs": [],
   "source": [
    "denselist = TF_IDF_dense.tolist()"
   ]
  },
  {
   "cell_type": "code",
   "execution_count": 28,
   "metadata": {
    "colab": {
     "base_uri": "https://localhost:8080/",
     "height": 273
    },
    "colab_type": "code",
    "id": "bk9mbNrXISAd",
    "outputId": "1175e0cf-1305-4c07-b20b-48dae30dd6e5"
   },
   "outputs": [
    {
     "name": "stdout",
     "output_type": "stream",
     "text": [
      "(37175, 220)\n"
     ]
    },
    {
     "data": {
      "text/html": [
       "<div>\n",
       "<style scoped>\n",
       "    .dataframe tbody tr th:only-of-type {\n",
       "        vertical-align: middle;\n",
       "    }\n",
       "\n",
       "    .dataframe tbody tr th {\n",
       "        vertical-align: top;\n",
       "    }\n",
       "\n",
       "    .dataframe thead th {\n",
       "        text-align: right;\n",
       "    }\n",
       "</style>\n",
       "<table border=\"1\" class=\"dataframe\">\n",
       "  <thead>\n",
       "    <tr style=\"text-align: right;\">\n",
       "      <th></th>\n",
       "      <th>able</th>\n",
       "      <th>access</th>\n",
       "      <th>add</th>\n",
       "      <th>allow</th>\n",
       "      <th>android</th>\n",
       "      <th>answer</th>\n",
       "      <th>api</th>\n",
       "      <th>app</th>\n",
       "      <th>application</th>\n",
       "      <th>array</th>\n",
       "      <th>...</th>\n",
       "      <th>view</th>\n",
       "      <th>visual</th>\n",
       "      <th>void</th>\n",
       "      <th>want</th>\n",
       "      <th>way</th>\n",
       "      <th>web</th>\n",
       "      <th>width</th>\n",
       "      <th>window</th>\n",
       "      <th>work</th>\n",
       "      <th>write</th>\n",
       "    </tr>\n",
       "  </thead>\n",
       "  <tbody>\n",
       "    <tr>\n",
       "      <th>0</th>\n",
       "      <td>0.0</td>\n",
       "      <td>0.0</td>\n",
       "      <td>0.0</td>\n",
       "      <td>0.0</td>\n",
       "      <td>0.0</td>\n",
       "      <td>0.000000</td>\n",
       "      <td>0.000000</td>\n",
       "      <td>0.0</td>\n",
       "      <td>0.0</td>\n",
       "      <td>20.33771</td>\n",
       "      <td>...</td>\n",
       "      <td>0.0</td>\n",
       "      <td>0.0</td>\n",
       "      <td>4.261492</td>\n",
       "      <td>0.000000</td>\n",
       "      <td>0.0</td>\n",
       "      <td>0.0</td>\n",
       "      <td>0.0</td>\n",
       "      <td>0.0</td>\n",
       "      <td>0.0</td>\n",
       "      <td>0.0</td>\n",
       "    </tr>\n",
       "    <tr>\n",
       "      <th>1</th>\n",
       "      <td>0.0</td>\n",
       "      <td>0.0</td>\n",
       "      <td>0.0</td>\n",
       "      <td>0.0</td>\n",
       "      <td>0.0</td>\n",
       "      <td>0.000000</td>\n",
       "      <td>0.000000</td>\n",
       "      <td>0.0</td>\n",
       "      <td>0.0</td>\n",
       "      <td>0.00000</td>\n",
       "      <td>...</td>\n",
       "      <td>0.0</td>\n",
       "      <td>0.0</td>\n",
       "      <td>0.000000</td>\n",
       "      <td>0.000000</td>\n",
       "      <td>0.0</td>\n",
       "      <td>0.0</td>\n",
       "      <td>0.0</td>\n",
       "      <td>0.0</td>\n",
       "      <td>0.0</td>\n",
       "      <td>0.0</td>\n",
       "    </tr>\n",
       "    <tr>\n",
       "      <th>2</th>\n",
       "      <td>0.0</td>\n",
       "      <td>0.0</td>\n",
       "      <td>0.0</td>\n",
       "      <td>0.0</td>\n",
       "      <td>0.0</td>\n",
       "      <td>0.000000</td>\n",
       "      <td>0.000000</td>\n",
       "      <td>0.0</td>\n",
       "      <td>0.0</td>\n",
       "      <td>0.00000</td>\n",
       "      <td>...</td>\n",
       "      <td>0.0</td>\n",
       "      <td>0.0</td>\n",
       "      <td>0.000000</td>\n",
       "      <td>2.448669</td>\n",
       "      <td>0.0</td>\n",
       "      <td>0.0</td>\n",
       "      <td>0.0</td>\n",
       "      <td>0.0</td>\n",
       "      <td>0.0</td>\n",
       "      <td>0.0</td>\n",
       "    </tr>\n",
       "    <tr>\n",
       "      <th>3</th>\n",
       "      <td>0.0</td>\n",
       "      <td>0.0</td>\n",
       "      <td>0.0</td>\n",
       "      <td>0.0</td>\n",
       "      <td>0.0</td>\n",
       "      <td>0.000000</td>\n",
       "      <td>0.000000</td>\n",
       "      <td>0.0</td>\n",
       "      <td>0.0</td>\n",
       "      <td>0.00000</td>\n",
       "      <td>...</td>\n",
       "      <td>0.0</td>\n",
       "      <td>0.0</td>\n",
       "      <td>0.000000</td>\n",
       "      <td>0.000000</td>\n",
       "      <td>0.0</td>\n",
       "      <td>0.0</td>\n",
       "      <td>0.0</td>\n",
       "      <td>0.0</td>\n",
       "      <td>0.0</td>\n",
       "      <td>0.0</td>\n",
       "    </tr>\n",
       "    <tr>\n",
       "      <th>4</th>\n",
       "      <td>0.0</td>\n",
       "      <td>0.0</td>\n",
       "      <td>0.0</td>\n",
       "      <td>0.0</td>\n",
       "      <td>0.0</td>\n",
       "      <td>3.899777</td>\n",
       "      <td>4.660661</td>\n",
       "      <td>0.0</td>\n",
       "      <td>0.0</td>\n",
       "      <td>0.00000</td>\n",
       "      <td>...</td>\n",
       "      <td>0.0</td>\n",
       "      <td>0.0</td>\n",
       "      <td>0.000000</td>\n",
       "      <td>0.000000</td>\n",
       "      <td>0.0</td>\n",
       "      <td>0.0</td>\n",
       "      <td>0.0</td>\n",
       "      <td>0.0</td>\n",
       "      <td>0.0</td>\n",
       "      <td>0.0</td>\n",
       "    </tr>\n",
       "  </tbody>\n",
       "</table>\n",
       "<p>5 rows × 220 columns</p>\n",
       "</div>"
      ],
      "text/plain": [
       "   able  access  add  allow  android    answer       api  app  application  \\\n",
       "0   0.0     0.0  0.0    0.0      0.0  0.000000  0.000000  0.0          0.0   \n",
       "1   0.0     0.0  0.0    0.0      0.0  0.000000  0.000000  0.0          0.0   \n",
       "2   0.0     0.0  0.0    0.0      0.0  0.000000  0.000000  0.0          0.0   \n",
       "3   0.0     0.0  0.0    0.0      0.0  0.000000  0.000000  0.0          0.0   \n",
       "4   0.0     0.0  0.0    0.0      0.0  3.899777  4.660661  0.0          0.0   \n",
       "\n",
       "      array  ...  view  visual      void      want  way  web  width  window  \\\n",
       "0  20.33771  ...   0.0     0.0  4.261492  0.000000  0.0  0.0    0.0     0.0   \n",
       "1   0.00000  ...   0.0     0.0  0.000000  0.000000  0.0  0.0    0.0     0.0   \n",
       "2   0.00000  ...   0.0     0.0  0.000000  2.448669  0.0  0.0    0.0     0.0   \n",
       "3   0.00000  ...   0.0     0.0  0.000000  0.000000  0.0  0.0    0.0     0.0   \n",
       "4   0.00000  ...   0.0     0.0  0.000000  0.000000  0.0  0.0    0.0     0.0   \n",
       "\n",
       "   work  write  \n",
       "0   0.0    0.0  \n",
       "1   0.0    0.0  \n",
       "2   0.0    0.0  \n",
       "3   0.0    0.0  \n",
       "4   0.0    0.0  \n",
       "\n",
       "[5 rows x 220 columns]"
      ]
     },
     "execution_count": 28,
     "metadata": {},
     "output_type": "execute_result"
    }
   ],
   "source": [
    "df_tf_idf = pd.DataFrame(denselist, columns = tfidfVectorizer.get_feature_names())\n",
    "df_tf_idf.rename(columns={'index':'words'},inplace=True)\n",
    "print(df_tf_idf.shape)\n",
    "df_tf_idf.head()"
   ]
  },
  {
   "cell_type": "markdown",
   "metadata": {
    "colab_type": "text",
    "id": "VDyQJiFOmUCA"
   },
   "source": [
    "### 1.3 create test and train datasets"
   ]
  },
  {
   "cell_type": "code",
   "execution_count": 29,
   "metadata": {
    "colab": {},
    "colab_type": "code",
    "id": "utdq79xmvrK8"
   },
   "outputs": [],
   "source": [
    "# 80/20 split Bag of words\n",
    "X_train, X_test,X_bag_of_words_train, X_bag_of_words_test, y_train, y_test, y_train_bin, y_test_bin  = train_test_split(df_base['Lemma'],bag_of_words, y, y_bin,  test_size=0.2,train_size=0.8, random_state=0)\n"
   ]
  },
  {
   "cell_type": "code",
   "execution_count": 30,
   "metadata": {
    "colab": {},
    "colab_type": "code",
    "id": "qP87QSB_DFUy"
   },
   "outputs": [],
   "source": [
    "# 80/20 split TF-IDF\n",
    "X_train, X_test,X_tfidf_train, X_tfidf_test, y_train, y_test, y_train_bin, y_test_bin = train_test_split(df_base['Lemma'],TF_IDF_dense, y, y_bin,  test_size=0.2,train_size=0.8, random_state=0)"
   ]
  },
  {
   "cell_type": "markdown",
   "metadata": {
    "colab_type": "text",
    "id": "EZ2VM5-jISAt"
   },
   "source": [
    "## 2. Unsupervised topic modeling"
   ]
  },
  {
   "cell_type": "code",
   "execution_count": 86,
   "metadata": {
    "colab": {
     "base_uri": "https://localhost:8080/",
     "height": 34
    },
    "colab_type": "code",
    "id": "vSYskKc3ISAv",
    "outputId": "42c04486-41e4-4a9d-ced3-4936dd9e2a8b"
   },
   "outputs": [
    {
     "name": "stdout",
     "output_type": "stream",
     "text": [
      "The process took: 0hour:0min:30sec\n"
     ]
    }
   ],
   "source": [
    "#model 5 topics for our corpus both by LDA and NMF, see if they compare with top tags\n",
    "process_time_starts()\n",
    "\n",
    "lda_first_model = LatentDirichletAllocation(n_components=5, max_iter=5,\n",
    "                                        learning_method='online',\n",
    "                                        learning_offset=50.,\n",
    "                                        random_state=0).fit(X_bag_of_words_train)\n",
    "time_elapsed()"
   ]
  },
  {
   "cell_type": "code",
   "execution_count": 90,
   "metadata": {
    "colab": {
     "base_uri": "https://localhost:8080/",
     "height": 34
    },
    "colab_type": "code",
    "id": "r3dgpJbQISA2",
    "outputId": "fc64f39b-e0f8-4e6a-ce50-82319a7ca95e"
   },
   "outputs": [
    {
     "name": "stdout",
     "output_type": "stream",
     "text": [
      "The process took: 0hour:0min:34sec\n"
     ]
    }
   ],
   "source": [
    "#variant of LDA using TFIDF matrix\n",
    "process_time_starts()\n",
    "\n",
    "lda_tfidf_15topics_model = LatentDirichletAllocation(n_components=15, max_iter=5,\n",
    "                                        learning_method='online',\n",
    "                                        learning_offset=50.,\n",
    "                                        random_state=0).fit(TF_IDF)\n",
    "time_elapsed()"
   ]
  },
  {
   "cell_type": "code",
   "execution_count": 91,
   "metadata": {
    "colab": {
     "base_uri": "https://localhost:8080/",
     "height": 34
    },
    "colab_type": "code",
    "id": "r3dgpJbQISA2",
    "outputId": "fc64f39b-e0f8-4e6a-ce50-82319a7ca95e"
   },
   "outputs": [
    {
     "name": "stdout",
     "output_type": "stream",
     "text": [
      "The process took: 0hour:0min:2sec\n"
     ]
    }
   ],
   "source": [
    "process_time_starts()\n",
    "\n",
    "nmf_first_model = NMF(n_components=15, random_state=1,\n",
    "          alpha=.1, l1_ratio=.5).fit(TF_IDF)\n",
    "\n",
    "time_elapsed()"
   ]
  },
  {
   "cell_type": "code",
   "execution_count": 33,
   "metadata": {
    "colab": {},
    "colab_type": "code",
    "id": "YZloJs1TISA7"
   },
   "outputs": [],
   "source": [
    "def print_top_words(model):\n",
    "    feature_names = c_vectorizer.get_feature_names()\n",
    "    for topic_idx, topic in enumerate(model.components_):\n",
    "        message = \"Topic #%d: \" % topic_idx\n",
    "        n_top_words = 10\n",
    "        message += \" \".join([feature_names[i]\n",
    "                             for i in topic.argsort()[:-n_top_words - 1:-1]])\n",
    "        print(message)\n",
    "    print()"
   ]
  },
  {
   "cell_type": "code",
   "execution_count": 93,
   "metadata": {
    "colab": {
     "base_uri": "https://localhost:8080/",
     "height": 121
    },
    "colab_type": "code",
    "id": "owGtMnsNISBC",
    "outputId": "b3b4f3fd-299a-45d9-d146-534dd4806f92"
   },
   "outputs": [
    {
     "data": {
      "text/html": [
       "\n",
       "<link rel=\"stylesheet\" type=\"text/css\" href=\"https://cdn.rawgit.com/bmabey/pyLDAvis/files/ldavis.v1.0.0.css\">\n",
       "\n",
       "\n",
       "<div id=\"ldavis_el173501406065264183847910599733\"></div>\n",
       "<script type=\"text/javascript\">\n",
       "\n",
       "var ldavis_el173501406065264183847910599733_data = {\"mdsDat\": {\"x\": [-0.05147371466840449, -0.14724990466403354, -0.0959802632964924, -0.12625523501046831, -0.1261535013934593, 0.09472955030769283, 0.14911915107698778, 0.022541855586277224, 0.14614994117152602, 0.2632985389200873, -0.1535788097992814, -0.12108109267839302, 0.06254553493008708, -0.1103406645782228, 0.19372861409609612], \"y\": [-0.13200803667859964, -0.05423037663806839, 0.1103168016534307, -0.0360778458826748, 0.04290875795643928, 0.35284386663958145, -0.056133623191467925, -0.1538581544476256, -0.15877236751949833, 0.0721142684271627, 0.13260652443119664, -0.09153324933221504, 0.06280926391447024, -0.007490955213718547, -0.08349487411841344], \"topics\": [1, 2, 3, 4, 5, 6, 7, 8, 9, 10, 11, 12, 13, 14, 15], \"cluster\": [1, 1, 1, 1, 1, 1, 1, 1, 1, 1, 1, 1, 1, 1, 1], \"Freq\": [10.592541498529794, 10.267326378758495, 8.165872594776612, 8.024320206138245, 7.814857313416308, 6.827960094615042, 6.456545340210984, 6.394570341631378, 6.243333291389513, 5.801547418628619, 5.555066272297817, 5.421775615099471, 4.995755895482579, 4.351143169584859, 3.0873845694403084]}, \"tinfo\": {\"Term\": [\"string\", \"android\", \"file\", \"error\", \"class\", \"value\", \"div\", \"list\", \"public\", \"id\", \"object\", \"data\", \"test\", \"line\", \"set\", \"git\", \"version\", \"function\", \"http\", \"int\", \"text\", \"update\", \"method\", \"array\", \"var\", \"application\", \"image\", \"view\", \"type\", \"table\", \"window\", \"api\", \"script\", \"allow\", \"exist\", \"have\", \"end\", \"program\", \"issue\", \"command\", \"start\", \"solution\", \"time\", \"run\", \"user\", \"write\", \"best\", \"second\", \"edit\", \"able\", \"idea\", \"long\", \"problem\", \"find\", \"create\", \"look\", \"need\", \"file\", \"go\", \"way\", \"work\", \"try\", \"know\", \"want\", \"like\", \"difference\", \"mean\", \"php\", \"variable\", \"reference\", \"understand\", \"point\", \"link\", \"answer\", \"different\", \"case\", \"define\", \"question\", \"come\", \"read\", \"good\", \"reason\", \"thing\", \"support\", \"function\", \"think\", \"use\", \"example\", \"call\", \"specific\", \"know\", \"go\", \"instead\", \"help\", \"look\", \"type\", \"code\", \"find\", \"like\", \"public\", \"int\", \"void\", \"static\", \"compile\", \"main\", \"private\", \"java\", \"implement\", \"instance\", \"method\", \"class\", \"long\", \"return\", \"call\", \"new\", \"second\", \"base\", \"result\", \"code\", \"define\", \"reason\", \"follow\", \"write\", \"require\", \"instead\", \"type\", \"think\", \"show\", \"example\", \"create\", \"use\", \"try\", \"add\", \"table\", \"select\", \"column\", \"form\", \"sql\", \"row\", \"option\", \"store\", \"query\", \"order\", \"search\", \"database\", \"data\", \"number\", \"base\", \"result\", \"contain\", \"server\", \"best\", \"second\", \"specific\", \"create\", \"need\", \"value\", \"want\", \"thanks\", \"possible\", \"like\", \"give\", \"set\", \"way\", \"add\", \"example\", \"try\", \"follow\", \"find\", \"array\", \"var\", \"bar\", \"path\", \"item\", \"null\", \"object\", \"javascript\", \"index\", \"let\", \"check\", \"element\", \"function\", \"return\", \"false\", \"contain\", \"new\", \"true\", \"give\", \"way\", \"sure\", \"remove\", \"best\", \"create\", \"want\", \"add\", \"like\", \"method\", \"example\", \"follow\", \"code\", \"value\", \"find\", \"work\", \"div\", \"request\", \"px\", \"display\", \"width\", \"format\", \"style\", \"id\", \"background\", \"header\", \"content\", \"text\", \"post\", \"access\", \"html\", \"color\", \"element\", \"right\", \"fix\", \"size\", \"class\", \"show\", \"http\", \"want\", \"contain\", \"inside\", \"work\", \"type\", \"index\", \"help\", \"like\", \"example\", \"try\", \"need\", \"code\", \"android\", \"debug\", \"google\", \"build\", \"version\", \"message\", \"app\", \"project\", \"true\", \"remove\", \"fix\", \"false\", \"support\", \"show\", \"help\", \"problem\", \"sure\", \"run\", \"get\", \"find\", \"go\", \"start\", \"idea\", \"instance\", \"try\", \"issue\", \"new\", \"follow\", \"thanks\", \"create\", \"work\", \"log\", \"commit\", \"tag\", \"parameter\", \"exception\", \"repository\", \"system\", \"git\", \"size\", \"change\", \"add\", \"file\", \"specific\", \"edit\", \"project\", \"want\", \"command\", \"new\", \"show\", \"go\", \"remove\", \"try\", \"create\", \"work\", \"let\", \"way\", \"able\", \"know\", \"contain\", \"like\", \"use\", \"need\", \"problem\", \"find\", \"follow\", \"open\", \"install\", \"field\", \"module\", \"npm\", \"thread\", \"package\", \"import\", \"key\", \"line\", \"list\", \"python\", \"require\", \"read\", \"file\", \"help\", \"find\", \"try\", \"follow\", \"error\", \"system\", \"get\", \"run\", \"give\", \"create\", \"need\", \"way\", \"want\", \"work\", \"thanks\", \"code\", \"new\", \"url\", \"json\", \"browser\", \"test\", \"inside\", \"http\", \"set\", \"current\", \"error\", \"require\", \"html\", \"get\", \"problem\", \"try\", \"follow\", \"give\", \"code\", \"idea\", \"work\", \"reason\", \"show\", \"instead\", \"use\", \"javascript\", \"like\", \"add\", \"run\", \"find\", \"return\", \"different\", \"need\", \"date\", \"property\", \"map\", \"attribute\", \"foo\", \"input\", \"default\", \"output\", \"ie\", \"value\", \"color\", \"type\", \"change\", \"possible\", \"result\", \"example\", \"give\", \"follow\", \"let\", \"instead\", \"like\", \"want\", \"way\", \"time\", \"second\", \"return\", \"work\", \"get\", \"try\", \"know\", \"use\", \"view\", \"print\", \"click\", \"character\", \"source\", \"button\", \"library\", \"single\", \"simple\", \"possible\", \"python\", \"sure\", \"etc\", \"instead\", \"write\", \"code\", \"want\", \"look\", \"able\", \"like\", \"thanks\", \"example\", \"way\", \"edit\", \"know\", \"need\", \"show\", \"create\", \"use\", \"find\", \"try\", \"work\", \"application\", \"web\", \"folder\", \"mysql\", \"multiple\", \"page\", \"event\", \"load\", \"name\", \"jquery\", \"server\", \"access\", \"etc\", \"user\", \"require\", \"sure\", \"help\", \"go\", \"able\", \"thanks\", \"implement\", \"use\", \"get\", \"work\", \"want\", \"try\", \"run\", \"need\", \"problem\", \"instead\", \"like\", \"way\", \"image\", \"directory\", \"convert\", \"service\", \"process\", \"string\", \"right\", \"contain\", \"etc\", \"way\", \"want\", \"result\", \"need\", \"create\", \"able\", \"example\", \"like\", \"best\", \"try\", \"give\", \"follow\", \"thanks\", \"work\", \"get\", \"know\", \"instead\", \"new\", \"use\", \"go\", \"think\", \"read\", \"case\", \"file\", \"code\", \"branch\", \"studio\", \"fail\", \"delete\", \"visual\", \"local\", \"update\", \"git\", \"error\", \"check\", \"current\", \"sure\", \"repository\", \"work\", \"code\", \"create\", \"come\", \"show\", \"new\", \"follow\", \"let\", \"different\", \"find\", \"try\", \"get\", \"run\", \"idea\", \"want\", \"etc\", \"edit\", \"know\", \"way\"], \"Freq\": [38600.0, 40068.0, 48142.0, 35243.0, 35350.0, 31712.0, 24260.0, 23669.0, 25792.0, 23514.0, 24722.0, 24320.0, 21361.0, 21856.0, 24213.0, 23458.0, 20169.0, 32259.0, 20895.0, 20836.0, 19987.0, 14750.0, 23368.0, 19310.0, 19154.0, 16230.0, 15451.0, 16133.0, 24889.0, 18586.0, 10733.060004844705, 8481.196042773729, 15525.176459537852, 7905.7590531060005, 8766.819842458663, 7057.555408024317, 10482.29325875937, 10288.280634311901, 7670.618470915506, 14096.086810664403, 11543.70504666779, 10582.561566026363, 16000.420553006144, 17464.249388652228, 14521.886261639787, 9521.732963596169, 5535.584672293747, 4865.483852492595, 3708.9944988301795, 3098.9283366256354, 2979.031616543525, 2694.582284081462, 4830.644616444716, 7836.45905297412, 6795.283937065378, 4508.496442439796, 5681.454744062306, 12496.571184633001, 1958.7391390384223, 6888.1577416006185, 6398.149514548696, 5588.81500533515, 4384.75700354744, 5107.1887635031235, 5434.925274882828, 14743.281936288353, 9867.290920862893, 10962.42105460045, 13855.533831391906, 9371.576972224837, 9564.836678978672, 8809.125223138526, 10318.474329340435, 10278.960157907572, 10632.685923556079, 11903.135946419237, 7104.931297072144, 12745.202713616893, 5775.584084968586, 9185.20598692251, 8259.172590842121, 4861.617200897697, 7316.723632880247, 4563.211354516697, 17540.01356682552, 5438.862585403033, 16347.620752247021, 8518.49645527815, 4975.553114221109, 2673.9969994057255, 7377.297086498733, 2788.803952582925, 3140.009343355675, 3079.553029499044, 4628.541995214937, 6965.886422154922, 6741.811257587004, 5452.429482393153, 5977.077792116717, 25791.683295264607, 20835.385113876502, 13503.18699714709, 10729.880882070995, 9284.600477600794, 9244.167761707768, 10130.50803725334, 16382.858860202468, 7111.900379517444, 6806.847406198867, 21049.419231271197, 31029.664732595505, 5623.909735276701, 11717.210611044973, 4800.817920337916, 11997.152189564416, 1724.9387232179397, 1722.0285758499315, 2525.974638953568, 5121.43046443605, 1073.604845446264, 856.5721551273078, 1754.9120385950062, 1119.0214333743425, 727.7569080929466, 621.3007945065827, 1655.290658825078, 622.3784320033953, 387.19672308463316, 954.4119315551105, 1050.8647105091998, 1446.5857427891997, 1058.281573325735, 918.377495053433, 18585.403679804156, 15342.734296312454, 12120.798357461883, 10810.143967598919, 10435.866713298623, 9590.37823118978, 14551.057432445434, 8744.748689812812, 10423.580033639955, 7890.794573792497, 8170.626262713292, 11464.869971510376, 24276.101085017523, 14826.074672363497, 5962.6889700304, 5961.197157024685, 1380.771309322805, 2935.743547141628, 1266.9372614463434, 1114.9048634159753, 918.8005364893352, 2844.6366648558455, 2640.386783092717, 3796.6739957933924, 3356.331216011142, 902.1047413896164, 1439.9150872816458, 3581.816854320422, 1138.7348650652848, 2252.7666388127027, 2448.760646292602, 1910.2196575305434, 1559.1029317067798, 1707.860630216464, 1498.8280590973034, 1436.5132540041798, 19309.931755896472, 19153.411063176784, 8504.087987239149, 12301.888740040758, 14902.399669168575, 16092.899160168303, 24598.54340230146, 12716.668891222564, 8306.708317291235, 6762.302383961796, 10120.267730910178, 10798.832930822782, 14458.14752289829, 11780.23136697918, 2470.8692109209046, 1388.9726604936218, 4917.906972094649, 2158.242800725509, 1648.0712158553154, 3989.390524487639, 1052.8904135749458, 1396.0719332571573, 1178.6769614117475, 2798.5514387577173, 2755.6064761523007, 2051.6869438260464, 3062.048056634821, 2095.546347176784, 1685.2626692015626, 1464.1092071939352, 2030.3077344746264, 1984.678190563277, 1751.7561897856633, 1576.7228904940375, 24259.500019768813, 12092.57298758028, 9158.852277567199, 9074.550711511127, 9033.874784346772, 8462.58377667386, 9330.470395052756, 23510.581778617845, 8671.586989103054, 8046.545994495372, 11598.211255446573, 19436.03605440415, 8864.860317662042, 6154.534776726305, 6494.973766334163, 3607.4323753491153, 4361.691616740321, 2532.470008904152, 1725.924191537543, 1880.9499094290238, 4290.792480751807, 837.9685678535644, 1889.677234976003, 1921.9134104193, 495.94301433154595, 453.7674013018503, 1534.249802433568, 1163.0602676722065, 373.5341263594024, 387.6575321421427, 1308.1503214489987, 697.213379546047, 912.3287989114988, 650.109234449877, 655.2035836563954, 40067.880538381636, 8089.911052409401, 7555.4244411435675, 13138.359607857932, 20166.922967528266, 11219.276171401962, 16913.449979425826, 15858.75336842797, 11166.817898748244, 8134.354778220904, 5176.751897801135, 7039.733530052539, 2890.518462840309, 2831.937646926423, 1526.6751302677399, 2253.494502136954, 991.7500386360256, 2783.1500039892735, 1858.4907225117415, 2676.994340163206, 760.0644851307253, 1249.5787946767873, 825.7864110751285, 653.9340833675732, 2170.450193399876, 659.5486588362688, 2146.8597135052564, 975.618147677866, 396.25419743376665, 847.9935599042279, 690.8182367852069, 9188.076784272504, 9250.62767750431, 8342.82475406527, 9089.852898760344, 11251.320507840008, 7856.308892065474, 8021.877410723947, 20024.645564967937, 8788.12182062617, 16821.947257451466, 14887.764859455083, 27890.30247978718, 2924.197522719103, 1582.9862147593674, 2444.8888127506493, 3187.729433098524, 1701.0034966794503, 3049.534354684371, 781.1301529614277, 766.1770874199664, 1018.5792353456488, 2554.770020682123, 2038.8618367015079, 2656.447365606201, 773.9208815533985, 2026.5577906929902, 622.6540260550296, 1406.954695877548, 511.81865740470164, 2169.7710721790436, 2168.3348343107054, 1354.329619252679, 982.639714584359, 979.655339095606, 868.7891631182304, 11072.480300491401, 10675.077775150146, 10636.28759225247, 9944.670351165456, 9291.256148648625, 9044.321119951419, 10285.278316137235, 16478.939527344675, 16420.40757974334, 21837.47876694376, 23574.494280808216, 5197.811825785283, 2342.6567541100435, 2518.6934300940984, 7341.026527672697, 1061.702763908231, 2564.5603372436367, 2640.567003493585, 1746.4611712000608, 3044.4154466780674, 694.0236869725993, 1208.2442713514358, 1665.4992514781013, 601.7643581053584, 1026.5695631801143, 839.4089725362523, 921.235341829887, 876.622232728549, 845.7992728042177, 201.8071057909452, 733.6775026481582, 704.4214913748881, 12606.221212139344, 9423.352314556976, 7965.390830732477, 21356.331386108428, 6841.825278671596, 19002.24705217461, 21630.154667543156, 7630.103996195448, 28522.08470772933, 5314.214764797552, 6804.818530250659, 3763.3125895426433, 3475.913169101148, 4901.3022931518935, 3409.3180986381926, 1841.440046208807, 3794.2813832955644, 1029.4901206019465, 2930.699393720655, 658.8475622465037, 465.40932057831685, 454.4686991214464, 1129.7205106649405, 312.6759321645963, 583.1679041411788, 366.35823417226464, 366.0011893233566, 343.63242928462057, 258.8004388711266, 94.25805208493459, 149.91319398131392, 12947.237240380036, 12518.329714207968, 8298.859460447478, 7578.398301304276, 10201.266052526707, 13657.634988943746, 12114.197848314774, 10972.64830363977, 7287.013461711419, 25914.793912316687, 5798.487384687015, 15006.971517948232, 3957.3990073410264, 1278.1028463213288, 1165.8564438120427, 1574.57036034512, 862.1476027865506, 1430.3351953787983, 629.1634208916852, 626.2469592161261, 2101.802622114221, 1696.689660311794, 1581.4516385318686, 998.5057880475075, 431.3146232714744, 1468.5315391545423, 1241.9149005033494, 689.125934604781, 929.1934385337795, 683.5373866801461, 724.815211595903, 16132.270174820167, 11233.68182655461, 9794.134166802516, 8402.31883356288, 9453.22701123627, 13719.766390477349, 10225.141530610546, 7213.987333790361, 8530.324103235782, 9872.85080900407, 12741.038106129121, 2058.950599904353, 1861.5605777035378, 1981.358458832524, 2887.1368752459216, 5171.049935945369, 4208.806484552566, 2212.386522884256, 1229.6349888449479, 4219.112522751539, 945.4748327840724, 2112.986893326295, 3057.8808223730593, 1092.2520482186324, 1793.831880224376, 1831.859931038109, 636.407898040127, 1781.1443602042234, 2451.556988210099, 1376.4060325172588, 1458.5045571234577, 1173.6224327292375, 16229.55682520693, 9855.036710251083, 8599.144505507473, 8534.307743605674, 8714.03727906184, 15007.608437764162, 9078.161057075657, 11100.416395854194, 14582.671341483841, 10057.655891269438, 14499.972674984667, 3538.0206253270303, 2100.495364434104, 5717.575572622233, 1566.3727764077403, 1074.4299064478, 902.0469854711407, 402.53242880740254, 417.7140111972559, 359.1872946472614, 339.2077579816149, 1530.0873907785403, 686.7079501547867, 1173.653916319507, 1019.786657470474, 779.163534312039, 664.7048462837346, 546.6277746548842, 376.5301623083683, 222.42529730994815, 666.4288765900025, 412.06707046114, 15450.71230970591, 12568.03460619183, 10149.163865234843, 9507.952912808485, 8129.62253085822, 38119.53765972637, 7511.707142309513, 3618.3057761955833, 837.4058494855552, 2793.647422712914, 2758.678164848462, 1331.0873844713503, 1969.800874647853, 1650.4508368335685, 618.7334061038881, 1334.9205573976371, 2298.204576022233, 620.6194474582213, 1597.2483146405486, 618.3836343801153, 1094.187488148024, 427.91777686961984, 1243.4175412097568, 675.247373738185, 791.6030206890615, 319.09132740908456, 1032.4485557584806, 984.2723332200496, 206.61980291391336, 259.1175261665704, 284.21916933324013, 276.34630881622525, 356.5677381210531, 318.91102424835606, 11997.128465965949, 10466.021555323656, 10035.904372109011, 8808.321323449845, 8457.860495600476, 7955.431470135385, 14687.3817575011, 3432.7281099315096, 3535.659220675193, 1271.115256289703, 775.3910192314139, 558.4627390152925, 556.6909124413602, 1612.537137846459, 1491.9932326610601, 1033.8678280653485, 319.66582062099917, 333.6782731984882, 1106.515417868457, 676.2923372705595, 291.553688386041, 351.4015043179267, 701.3668589717755, 723.8590588503546, 429.1606649336063, 484.437595066251, 175.9707442518348, 503.9705690894341, 121.1300977779414, 149.2069829715955, 242.13859573166886, 297.03706921477016], \"Total\": [38600.0, 40068.0, 48142.0, 35243.0, 35350.0, 31712.0, 24260.0, 23669.0, 25792.0, 23514.0, 24722.0, 24320.0, 21361.0, 21856.0, 24213.0, 23458.0, 20169.0, 32259.0, 20895.0, 20836.0, 19987.0, 14750.0, 23368.0, 19310.0, 19154.0, 16230.0, 15451.0, 16133.0, 24889.0, 18586.0, 10733.974408040642, 8482.113150282408, 15530.697020186915, 7910.212158332782, 8776.991275865052, 7092.9739564945485, 10592.87943232486, 10610.861224761968, 8336.20910961239, 16028.594855772519, 13230.27508351867, 12221.868872819674, 18950.926324620563, 23724.75287666365, 20853.44421474055, 13913.371464538126, 8943.660871442085, 8212.855016781843, 10470.003487899441, 8751.887613664161, 8814.595761986597, 8431.473481558716, 15225.613025954111, 25149.776651646604, 22215.979211268706, 15512.588591525677, 21728.482344884367, 48142.17397609508, 7854.8533674726095, 28176.98899066691, 29311.22490881225, 27193.170862549745, 20048.11102318328, 28042.269103009243, 33096.03149902143, 14744.232166453585, 9868.213124087117, 10963.651230782245, 13859.050115527052, 9384.80781145978, 9579.090509091113, 8839.08415245651, 10521.01278539364, 10783.84598215907, 11241.974270190176, 12840.905802668338, 8244.114234141698, 16063.202083944452, 7324.628268657528, 12071.456097114924, 11138.80559711001, 6867.364104969331, 10365.558300885974, 7527.628909217213, 32259.981784258543, 10865.98740451761, 34072.816521726396, 19108.425097050036, 11908.820354577132, 7068.491004455881, 20048.11102318328, 7854.8533674726095, 9136.94155051904, 9754.55759314666, 15512.588591525677, 24889.84297684974, 30949.044192351124, 25149.776651646604, 33096.03149902143, 25792.605985702045, 20836.30234047575, 13504.103453435378, 10730.797453266534, 9286.318361734493, 9246.294258021544, 10134.984784829436, 16618.993477200187, 7533.620297728885, 7461.636023312381, 23368.66593460331, 35350.4655230791, 8431.473481558716, 28370.962658072272, 11908.820354577132, 29764.148326114693, 8212.855016781843, 8942.797044927998, 13974.732640343278, 30949.044192351124, 8244.114234141698, 6867.364104969331, 19369.700472056596, 13913.371464538126, 10271.922060500046, 9136.94155051904, 24889.84297684974, 10865.98740451761, 7742.22133512468, 19108.425097050036, 22215.979211268706, 34072.816521726396, 27193.170862549745, 21559.60865701065, 18586.319034658623, 15343.655364801545, 12121.717204691193, 10811.060260510412, 10436.782120955771, 9591.387583625925, 14552.701864418497, 8745.79188789831, 10425.820118453144, 7896.125335699644, 8177.999390564093, 11483.403269315575, 24320.987459036012, 14886.853244803076, 8942.797044927998, 13974.732640343278, 7442.478019117457, 17485.142758992584, 8943.660871442085, 8212.855016781843, 7068.491004455881, 22215.979211268706, 21728.482344884367, 31712.424997363472, 28042.269103009243, 7891.840129674079, 12734.119481873417, 33096.03149902143, 10575.395181709444, 24213.768673335937, 28176.98899066691, 21559.60865701065, 19108.425097050036, 27193.170862549745, 19369.700472056596, 25149.776651646604, 19310.845007244807, 19154.65296800104, 8505.001144130298, 12303.223235600817, 14922.850513218846, 16143.136017606479, 24722.3622185222, 13156.708541503824, 8681.090477605709, 8738.258603111144, 13968.224895006326, 15370.874345510498, 32259.981784258543, 28370.962658072272, 9511.47686557019, 7442.478019117457, 29764.148326114693, 13325.926724374534, 10575.395181709444, 28176.98899066691, 7505.58638754596, 10551.125865062173, 8943.660871442085, 22215.979211268706, 28042.269103009243, 21559.60865701065, 33096.03149902143, 23368.66593460331, 19108.425097050036, 19369.700472056596, 30949.044192351124, 31712.424997363472, 25149.776651646604, 29311.22490881225, 24260.413700370806, 12093.486676554556, 9159.770219244923, 9075.464440881091, 9034.789946873247, 8463.497469965054, 9331.501841802754, 23514.952428115314, 8675.647995365362, 8052.454265534253, 11757.259046533547, 19987.99736597598, 9557.317928340812, 10830.747017124077, 13344.930491913752, 9406.767918028361, 15370.874345510498, 10046.222415721177, 6914.0128034207855, 10669.917446268246, 35350.4655230791, 7742.22133512468, 20895.034822122623, 28042.269103009243, 7442.478019117457, 7299.249889680253, 29311.22490881225, 24889.84297684974, 8681.090477605709, 9754.55759314666, 33096.03149902143, 19108.425097050036, 27193.170862549745, 21728.482344884367, 30949.044192351124, 40068.79741795024, 8090.838805005964, 7556.35676886546, 13140.297228800839, 20169.969154547456, 11288.466956322483, 17136.153822169894, 18320.33852521742, 13325.926724374534, 10551.125865062173, 6914.0128034207855, 9511.47686557019, 7527.628909217213, 7742.22133512468, 9754.55759314666, 15225.613025954111, 7505.58638754596, 23724.75287666365, 16384.658285124424, 25149.776651646604, 7854.8533674726095, 13230.27508351867, 8814.595761986597, 7461.636023312381, 27193.170862549745, 8336.20910961239, 29764.148326114693, 19369.700472056596, 7891.840129674079, 22215.979211268706, 29311.22490881225, 9189.003777524687, 9251.606051834757, 8343.735351134743, 9119.401291551332, 11484.50297182702, 8413.841072008214, 8742.911464737157, 23458.214802998613, 10669.917446268246, 21288.006232229658, 21559.60865701065, 48142.17397609508, 7068.491004455881, 10470.003487899441, 18320.33852521742, 28042.269103009243, 16028.594855772519, 29764.148326114693, 7742.22133512468, 7854.8533674726095, 10551.125865062173, 27193.170862549745, 22215.979211268706, 29311.22490881225, 8738.258603111144, 28176.98899066691, 8751.887613664161, 20048.11102318328, 7442.478019117457, 33096.03149902143, 34072.816521726396, 21728.482344884367, 15225.613025954111, 25149.776651646604, 19369.700472056596, 11073.396058393191, 10675.99133810063, 10637.20461015375, 9945.58548218547, 9292.169703034542, 9045.237002425387, 10286.489289343881, 16481.739238579867, 16431.08978671298, 21856.63717251552, 23669.129927770577, 17939.71220309838, 10271.922060500046, 12071.456097114924, 48142.17397609508, 9754.55759314666, 25149.776651646604, 27193.170862549745, 19369.700472056596, 35243.62210098832, 8742.911464737157, 16384.658285124424, 23724.75287666365, 10575.395181709444, 22215.979211268706, 21728.482344884367, 28176.98899066691, 28042.269103009243, 29311.22490881225, 7891.840129674079, 30949.044192351124, 29764.148326114693, 12607.264033173396, 9424.271165848282, 7966.307172281118, 21361.541891637116, 7299.249889680253, 20895.034822122623, 24213.768673335937, 8822.843902905146, 35243.62210098832, 10271.922060500046, 13344.930491913752, 16384.658285124424, 15225.613025954111, 27193.170862549745, 19369.700472056596, 10575.395181709444, 30949.044192351124, 8814.595761986597, 29311.22490881225, 6867.364104969331, 7742.22133512468, 9136.94155051904, 34072.816521726396, 13156.708541503824, 33096.03149902143, 21559.60865701065, 23724.75287666365, 25149.776651646604, 28370.962658072272, 11241.974270190176, 21728.482344884367, 12948.151546230914, 12519.288965582155, 8299.772979086627, 7579.311852131305, 10202.985607811102, 13661.447005210119, 12120.937355417702, 10980.580772893914, 7293.1119225629955, 31712.424997363472, 9406.767918028361, 24889.84297684974, 21288.006232229658, 12734.119481873417, 13974.732640343278, 19108.425097050036, 10575.395181709444, 19369.700472056596, 8738.258603111144, 9136.94155051904, 33096.03149902143, 28042.269103009243, 28176.98899066691, 18950.926324620563, 8212.855016781843, 28370.962658072272, 29311.22490881225, 16384.658285124424, 27193.170862549745, 20048.11102318328, 34072.816521726396, 16133.18482457494, 11234.596586060894, 9795.048719980716, 8403.248451808355, 9455.034917259216, 13723.291945782703, 10230.971336771969, 7270.12479956635, 10133.142972046828, 12734.119481873417, 17939.71220309838, 7505.58638754596, 7234.229524229046, 9136.94155051904, 13913.371464538126, 30949.044192351124, 28042.269103009243, 15512.588591525677, 8751.887613664161, 33096.03149902143, 7891.840129674079, 19108.425097050036, 28176.98899066691, 10470.003487899441, 20048.11102318328, 21728.482344884367, 7742.22133512468, 22215.979211268706, 34072.816521726396, 25149.776651646604, 27193.170862549745, 29311.22490881225, 16230.471294462395, 9855.950760178235, 8600.058707084803, 8535.221826673804, 8715.089590764328, 15012.686193766283, 9087.358952919023, 11115.773137824403, 14606.69325762989, 10118.891738813523, 17485.142758992584, 10830.747017124077, 7234.229524229046, 20853.44421474055, 10271.922060500046, 7505.58638754596, 9754.55759314666, 7854.8533674726095, 8751.887613664161, 7891.840129674079, 7533.620297728885, 34072.816521726396, 16384.658285124424, 29311.22490881225, 28042.269103009243, 27193.170862549745, 23724.75287666365, 21728.482344884367, 15225.613025954111, 9136.94155051904, 33096.03149902143, 28176.98899066691, 15451.625165817426, 12569.088326700648, 10150.078302406695, 9508.865779284566, 8130.536274787178, 38600.326506256184, 10046.222415721177, 7442.478019117457, 7234.229524229046, 28176.98899066691, 28042.269103009243, 13974.732640343278, 21728.482344884367, 22215.979211268706, 8751.887613664161, 19108.425097050036, 33096.03149902143, 8943.660871442085, 27193.170862549745, 10575.395181709444, 19369.700472056596, 7891.840129674079, 29311.22490881225, 16384.658285124424, 20048.11102318328, 9136.94155051904, 29764.148326114693, 34072.816521726396, 7854.8533674726095, 10865.98740451761, 12071.456097114924, 12840.905802668338, 48142.17397609508, 30949.044192351124, 11998.039002970632, 10466.931363378202, 10036.81694483471, 8809.234535711172, 8458.770313300829, 7957.515974590015, 14750.265038652724, 23458.214802998613, 35243.62210098832, 13968.224895006326, 8822.843902905146, 7505.58638754596, 8413.841072008214, 29311.22490881225, 30949.044192351124, 22215.979211268706, 7324.628268657528, 7742.22133512468, 29764.148326114693, 19369.700472056596, 8738.258603111144, 11241.974270190176, 25149.776651646604, 27193.170862549745, 16384.658285124424, 23724.75287666365, 8814.595761986597, 28042.269103009243, 7234.229524229046, 10470.003487899441, 20048.11102318328, 28176.98899066691], \"Category\": [\"Default\", \"Default\", \"Default\", \"Default\", \"Default\", \"Default\", \"Default\", \"Default\", \"Default\", \"Default\", \"Default\", \"Default\", \"Default\", \"Default\", \"Default\", \"Default\", \"Default\", \"Default\", \"Default\", \"Default\", \"Default\", \"Default\", \"Default\", \"Default\", \"Default\", \"Default\", \"Default\", \"Default\", \"Default\", \"Default\", \"Topic1\", \"Topic1\", \"Topic1\", \"Topic1\", \"Topic1\", \"Topic1\", \"Topic1\", \"Topic1\", \"Topic1\", \"Topic1\", \"Topic1\", \"Topic1\", \"Topic1\", \"Topic1\", \"Topic1\", \"Topic1\", \"Topic1\", \"Topic1\", \"Topic1\", \"Topic1\", \"Topic1\", \"Topic1\", \"Topic1\", \"Topic1\", \"Topic1\", \"Topic1\", \"Topic1\", \"Topic1\", \"Topic1\", \"Topic1\", \"Topic1\", \"Topic1\", \"Topic1\", \"Topic1\", \"Topic1\", \"Topic2\", \"Topic2\", \"Topic2\", \"Topic2\", \"Topic2\", \"Topic2\", \"Topic2\", \"Topic2\", \"Topic2\", \"Topic2\", \"Topic2\", \"Topic2\", \"Topic2\", \"Topic2\", \"Topic2\", \"Topic2\", \"Topic2\", \"Topic2\", \"Topic2\", \"Topic2\", \"Topic2\", \"Topic2\", \"Topic2\", \"Topic2\", \"Topic2\", \"Topic2\", \"Topic2\", \"Topic2\", \"Topic2\", \"Topic2\", \"Topic2\", \"Topic2\", \"Topic2\", \"Topic2\", \"Topic3\", \"Topic3\", \"Topic3\", \"Topic3\", \"Topic3\", \"Topic3\", \"Topic3\", \"Topic3\", \"Topic3\", \"Topic3\", \"Topic3\", \"Topic3\", \"Topic3\", \"Topic3\", \"Topic3\", \"Topic3\", \"Topic3\", \"Topic3\", \"Topic3\", \"Topic3\", \"Topic3\", \"Topic3\", \"Topic3\", \"Topic3\", \"Topic3\", \"Topic3\", \"Topic3\", \"Topic3\", \"Topic3\", \"Topic3\", \"Topic3\", \"Topic3\", \"Topic3\", \"Topic3\", \"Topic4\", \"Topic4\", \"Topic4\", \"Topic4\", \"Topic4\", \"Topic4\", \"Topic4\", \"Topic4\", \"Topic4\", \"Topic4\", \"Topic4\", \"Topic4\", \"Topic4\", \"Topic4\", \"Topic4\", \"Topic4\", \"Topic4\", \"Topic4\", \"Topic4\", \"Topic4\", \"Topic4\", \"Topic4\", \"Topic4\", \"Topic4\", \"Topic4\", \"Topic4\", \"Topic4\", \"Topic4\", \"Topic4\", \"Topic4\", \"Topic4\", \"Topic4\", \"Topic4\", \"Topic4\", \"Topic4\", \"Topic4\", \"Topic5\", \"Topic5\", \"Topic5\", \"Topic5\", \"Topic5\", \"Topic5\", \"Topic5\", \"Topic5\", \"Topic5\", \"Topic5\", \"Topic5\", \"Topic5\", \"Topic5\", \"Topic5\", \"Topic5\", \"Topic5\", \"Topic5\", \"Topic5\", \"Topic5\", \"Topic5\", \"Topic5\", \"Topic5\", \"Topic5\", \"Topic5\", \"Topic5\", \"Topic5\", \"Topic5\", \"Topic5\", \"Topic5\", \"Topic5\", \"Topic5\", \"Topic5\", \"Topic5\", \"Topic5\", \"Topic6\", \"Topic6\", \"Topic6\", \"Topic6\", \"Topic6\", \"Topic6\", \"Topic6\", \"Topic6\", \"Topic6\", \"Topic6\", \"Topic6\", \"Topic6\", \"Topic6\", \"Topic6\", \"Topic6\", \"Topic6\", \"Topic6\", \"Topic6\", \"Topic6\", \"Topic6\", \"Topic6\", \"Topic6\", \"Topic6\", \"Topic6\", \"Topic6\", \"Topic6\", \"Topic6\", \"Topic6\", \"Topic6\", \"Topic6\", \"Topic6\", \"Topic6\", \"Topic6\", \"Topic6\", \"Topic6\", \"Topic7\", \"Topic7\", \"Topic7\", \"Topic7\", \"Topic7\", \"Topic7\", \"Topic7\", \"Topic7\", \"Topic7\", \"Topic7\", \"Topic7\", \"Topic7\", \"Topic7\", \"Topic7\", \"Topic7\", \"Topic7\", \"Topic7\", \"Topic7\", \"Topic7\", \"Topic7\", \"Topic7\", \"Topic7\", \"Topic7\", \"Topic7\", \"Topic7\", \"Topic7\", \"Topic7\", \"Topic7\", \"Topic7\", \"Topic7\", \"Topic7\", \"Topic8\", \"Topic8\", \"Topic8\", \"Topic8\", \"Topic8\", \"Topic8\", \"Topic8\", \"Topic8\", \"Topic8\", \"Topic8\", \"Topic8\", \"Topic8\", \"Topic8\", \"Topic8\", \"Topic8\", \"Topic8\", \"Topic8\", \"Topic8\", \"Topic8\", \"Topic8\", \"Topic8\", \"Topic8\", \"Topic8\", \"Topic8\", \"Topic8\", \"Topic8\", \"Topic8\", \"Topic8\", \"Topic8\", \"Topic8\", \"Topic8\", \"Topic8\", \"Topic8\", \"Topic8\", \"Topic8\", \"Topic9\", \"Topic9\", \"Topic9\", \"Topic9\", \"Topic9\", \"Topic9\", \"Topic9\", \"Topic9\", \"Topic9\", \"Topic9\", \"Topic9\", \"Topic9\", \"Topic9\", \"Topic9\", \"Topic9\", \"Topic9\", \"Topic9\", \"Topic9\", \"Topic9\", \"Topic9\", \"Topic9\", \"Topic9\", \"Topic9\", \"Topic9\", \"Topic9\", \"Topic9\", \"Topic9\", \"Topic9\", \"Topic9\", \"Topic9\", \"Topic9\", \"Topic9\", \"Topic10\", \"Topic10\", \"Topic10\", \"Topic10\", \"Topic10\", \"Topic10\", \"Topic10\", \"Topic10\", \"Topic10\", \"Topic10\", \"Topic10\", \"Topic10\", \"Topic10\", \"Topic10\", \"Topic10\", \"Topic10\", \"Topic10\", \"Topic10\", \"Topic10\", \"Topic10\", \"Topic10\", \"Topic10\", \"Topic10\", \"Topic10\", \"Topic10\", \"Topic10\", \"Topic10\", \"Topic10\", \"Topic10\", \"Topic10\", \"Topic10\", \"Topic11\", \"Topic11\", \"Topic11\", \"Topic11\", \"Topic11\", \"Topic11\", \"Topic11\", \"Topic11\", \"Topic11\", \"Topic11\", \"Topic11\", \"Topic11\", \"Topic11\", \"Topic11\", \"Topic11\", \"Topic11\", \"Topic11\", \"Topic11\", \"Topic11\", \"Topic11\", \"Topic11\", \"Topic11\", \"Topic11\", \"Topic11\", \"Topic11\", \"Topic11\", \"Topic11\", \"Topic11\", \"Topic11\", \"Topic11\", \"Topic11\", \"Topic12\", \"Topic12\", \"Topic12\", \"Topic12\", \"Topic12\", \"Topic12\", \"Topic12\", \"Topic12\", \"Topic12\", \"Topic12\", \"Topic12\", \"Topic12\", \"Topic12\", \"Topic12\", \"Topic12\", \"Topic12\", \"Topic12\", \"Topic12\", \"Topic12\", \"Topic12\", \"Topic12\", \"Topic12\", \"Topic12\", \"Topic12\", \"Topic12\", \"Topic12\", \"Topic12\", \"Topic12\", \"Topic12\", \"Topic12\", \"Topic12\", \"Topic12\", \"Topic13\", \"Topic13\", \"Topic13\", \"Topic13\", \"Topic13\", \"Topic13\", \"Topic13\", \"Topic13\", \"Topic13\", \"Topic13\", \"Topic13\", \"Topic13\", \"Topic13\", \"Topic13\", \"Topic13\", \"Topic13\", \"Topic13\", \"Topic13\", \"Topic13\", \"Topic13\", \"Topic13\", \"Topic13\", \"Topic13\", \"Topic13\", \"Topic13\", \"Topic13\", \"Topic13\", \"Topic13\", \"Topic13\", \"Topic13\", \"Topic13\", \"Topic13\", \"Topic14\", \"Topic14\", \"Topic14\", \"Topic14\", \"Topic14\", \"Topic14\", \"Topic14\", \"Topic14\", \"Topic14\", \"Topic14\", \"Topic14\", \"Topic14\", \"Topic14\", \"Topic14\", \"Topic14\", \"Topic14\", \"Topic14\", \"Topic14\", \"Topic14\", \"Topic14\", \"Topic14\", \"Topic14\", \"Topic14\", \"Topic14\", \"Topic14\", \"Topic14\", \"Topic14\", \"Topic14\", \"Topic14\", \"Topic14\", \"Topic14\", \"Topic14\", \"Topic14\", \"Topic14\", \"Topic15\", \"Topic15\", \"Topic15\", \"Topic15\", \"Topic15\", \"Topic15\", \"Topic15\", \"Topic15\", \"Topic15\", \"Topic15\", \"Topic15\", \"Topic15\", \"Topic15\", \"Topic15\", \"Topic15\", \"Topic15\", \"Topic15\", \"Topic15\", \"Topic15\", \"Topic15\", \"Topic15\", \"Topic15\", \"Topic15\", \"Topic15\", \"Topic15\", \"Topic15\", \"Topic15\", \"Topic15\", \"Topic15\", \"Topic15\", \"Topic15\", \"Topic15\"], \"logprob\": [30.0, 29.0, 28.0, 27.0, 26.0, 25.0, 24.0, 23.0, 22.0, 21.0, 20.0, 19.0, 18.0, 17.0, 16.0, 15.0, 14.0, 13.0, 12.0, 11.0, 10.0, 9.0, 8.0, 7.0, 6.0, 5.0, 4.0, 3.0, 2.0, 1.0, -3.4092, -3.6447, -3.0401, -3.715, -3.6116, -3.8285, -3.4329, -3.4515, -3.7452, -3.1367, -3.3364, -3.4233, -3.0099, -2.9224, -3.1069, -3.529, -4.0714, -4.2004, -4.4718, -4.6515, -4.691, -4.7913, -4.2076, -3.7238, -3.8663, -4.2766, -4.0453, -3.2571, -5.1102, -3.8527, -3.9265, -4.0618, -4.3044, -4.1519, -4.0897, -3.0606, -3.4621, -3.3569, -3.1227, -3.5137, -3.4933, -3.5756, -3.4174, -3.4213, -3.3874, -3.2746, -3.7906, -3.2062, -3.9977, -3.5338, -3.64, -4.17, -3.7612, -4.2333, -2.8869, -4.0578, -2.9573, -3.6091, -4.1468, -4.7678, -3.753, -4.7258, -4.6071, -4.6266, -4.2191, -3.8103, -3.843, -4.0553, -3.9634, -2.2723, -2.4857, -2.9194, -3.1493, -3.294, -3.2984, -3.2068, -2.7261, -3.5606, -3.6044, -2.4755, -2.0874, -3.7953, -3.0613, -3.9536, -3.0377, -4.9772, -4.9789, -4.5957, -3.8889, -5.4513, -5.6772, -4.9599, -5.4099, -5.8402, -5.9983, -5.0184, -5.9966, -6.4712, -5.569, -5.4728, -5.1532, -5.4657, -5.6075, -2.5825, -2.7742, -3.01, -3.1244, -3.1596, -3.2441, -2.8272, -3.3364, -3.1608, -3.4392, -3.4043, -3.0656, -2.3154, -2.8085, -3.7194, -3.7196, -5.1822, -4.4279, -5.2683, -5.3961, -5.5896, -4.4594, -4.534, -4.1708, -4.294, -5.6079, -5.1403, -4.229, -5.375, -4.6927, -4.6093, -4.8577, -5.0608, -4.9696, -5.1002, -5.1427, -2.5178, -2.5259, -3.3379, -2.9687, -2.7769, -2.7, -2.2757, -2.9355, -3.3614, -3.5671, -3.1639, -3.099, -2.8072, -3.012, -4.5739, -5.1499, -3.8855, -4.7091, -4.9788, -4.0948, -5.4269, -5.1448, -5.314, -4.4493, -4.4648, -4.7598, -4.3593, -4.7386, -4.9565, -5.0972, -4.7702, -4.793, -4.9178, -5.0231, -2.1546, -2.8508, -3.1287, -3.138, -3.1424, -3.2078, -3.1101, -2.186, -3.1834, -3.2582, -2.8926, -2.3763, -3.1613, -3.5262, -3.4724, -4.0604, -3.8706, -4.4142, -4.7977, -4.7116, -3.887, -5.5202, -4.707, -4.6901, -6.0447, -6.1336, -4.9154, -5.1924, -6.3282, -6.2911, -5.0748, -5.7041, -5.4352, -5.774, -5.7662, -1.5969, -3.1969, -3.2652, -2.712, -2.2835, -2.8699, -2.4594, -2.5238, -2.8745, -3.1914, -3.6433, -3.3359, -4.2261, -4.2465, -4.8644, -4.475, -5.2958, -4.2639, -4.6677, -4.3028, -5.5618, -5.0647, -5.4789, -5.7122, -4.5126, -5.7037, -4.5235, -5.3122, -6.2132, -5.4524, -5.6574, -3.0599, -3.0532, -3.1564, -3.0707, -2.8574, -3.2165, -3.1957, -2.2809, -3.1044, -2.4552, -2.5773, -1.9496, -4.2048, -4.8185, -4.3838, -4.1185, -4.7466, -4.1629, -5.5249, -5.5442, -5.2594, -4.3399, -4.5655, -4.3009, -5.5341, -4.5715, -5.7516, -4.9364, -5.9476, -4.5032, -4.5039, -4.9745, -5.2954, -5.2984, -5.4185, -2.8495, -2.886, -2.8896, -2.9569, -3.0248, -3.0518, -2.9232, -2.4518, -2.4554, -2.1703, -2.0937, -3.6057, -4.4026, -4.3302, -3.2604, -5.194, -4.3121, -4.2829, -4.6963, -4.1406, -5.6192, -5.0647, -4.7438, -5.7618, -5.2277, -5.429, -5.336, -5.3856, -5.4214, -6.8544, -5.5636, -5.6043, -2.6463, -2.9373, -3.1054, -2.1192, -3.2575, -2.236, -2.1064, -3.1484, -1.8298, -3.5101, -3.2629, -3.8552, -3.9347, -3.591, -3.954, -4.57, -3.847, -5.1515, -4.1053, -5.5978, -5.9454, -5.9692, -5.0586, -6.3431, -5.7198, -6.1847, -6.1856, -6.2487, -6.5322, -7.5422, -7.0782, -2.5762, -2.6099, -3.021, -3.1118, -2.8146, -2.5228, -2.6427, -2.7417, -3.151, -1.8823, -3.3795, -2.4286, -3.7615, -4.8917, -4.9837, -4.6831, -5.2854, -4.7792, -5.6005, -5.6051, -4.3943, -4.6084, -4.6788, -5.1386, -5.978, -4.7528, -4.9205, -5.5094, -5.2105, -5.5176, -5.4589, -2.332, -2.6939, -2.831, -2.9843, -2.8665, -2.494, -2.788, -3.1368, -2.9692, -2.823, -2.568, -4.3906, -4.4914, -4.429, -4.0526, -3.4697, -3.6756, -4.3188, -4.9061, -3.6732, -5.1689, -4.3647, -3.9951, -5.0246, -4.5285, -4.5075, -5.5647, -4.5356, -4.2161, -4.7933, -4.7354, -4.9527, -2.2442, -2.743, -2.8793, -2.8869, -2.8661, -2.3224, -2.8251, -2.624, -2.3512, -2.7227, -2.3568, -3.7674, -4.2888, -3.2874, -4.5822, -4.9592, -5.1341, -5.941, -5.9039, -6.0549, -6.1121, -4.6057, -5.4068, -4.8709, -5.0114, -5.2805, -5.4394, -5.635, -6.0077, -6.5342, -5.4368, -5.9176, -2.1552, -2.3617, -2.5754, -2.6407, -2.7973, -1.2521, -2.8764, -3.6068, -5.0703, -3.8655, -3.8781, -4.6068, -4.2149, -4.3918, -5.3729, -4.604, -4.0607, -5.3699, -4.4246, -5.3735, -4.8028, -5.7417, -4.675, -5.2855, -5.1265, -6.0351, -4.8609, -4.9087, -6.4697, -6.2433, -6.1508, -6.1789, -5.9241, -6.0357, -2.0651, -2.2016, -2.2436, -2.374, -2.4146, -2.4759, -1.8627, -3.3164, -3.2868, -4.3098, -4.8041, -5.1323, -5.1355, -4.0719, -4.1496, -4.5164, -5.6902, -5.6473, -4.4485, -4.9409, -5.7823, -5.5956, -4.9044, -4.8729, -5.3956, -5.2745, -6.2872, -5.235, -6.6606, -6.4521, -5.968, -5.7636], \"loglift\": [30.0, 29.0, 28.0, 27.0, 26.0, 25.0, 24.0, 23.0, 22.0, 21.0, 20.0, 19.0, 18.0, 17.0, 16.0, 15.0, 14.0, 13.0, 12.0, 11.0, 10.0, 9.0, 8.0, 7.0, 6.0, 5.0, 4.0, 3.0, 2.0, 1.0, 2.2449, 2.2449, 2.2447, 2.2445, 2.2439, 2.24, 2.2345, 2.2141, 2.1618, 2.1165, 2.1087, 2.101, 2.0758, 1.9387, 1.8832, 1.8657, 1.7653, 1.7215, 1.2073, 1.2068, 1.1602, 1.1043, 1.097, 1.079, 1.0604, 1.0093, 0.9036, 0.8963, 0.8562, 0.8363, 0.7231, 0.6628, 0.725, 0.542, 0.4385, 2.2761, 2.2761, 2.2761, 2.2759, 2.2748, 2.2747, 2.2728, 2.2568, 2.2283, 2.2205, 2.2004, 2.1275, 2.0448, 2.0386, 2.003, 1.9771, 1.9308, 1.9279, 1.7757, 1.6669, 1.5841, 1.5418, 1.4683, 1.4035, 1.3041, 1.2765, 1.2407, 1.2081, 1.1233, 1.0668, 1.0028, 0.7522, 0.7474, 0.5647, 2.5052, 2.5052, 2.5051, 2.5051, 2.505, 2.505, 2.5048, 2.4909, 2.4476, 2.4134, 2.4007, 2.3748, 2.1003, 1.6209, 1.5967, 1.5966, 0.9447, 0.8579, 0.7946, 0.7063, 0.4667, 0.4236, 0.1039, -0.0152, -0.142, -0.1831, -0.2053, -0.3546, -0.4903, -0.4916, -0.546, -0.6541, -0.7411, -0.6508, 2.5226, 2.5226, 2.5226, 2.5226, 2.5226, 2.5226, 2.5226, 2.5226, 2.5225, 2.522, 2.5218, 2.5211, 2.5208, 2.5186, 2.1174, 1.6707, 0.8381, 0.7383, 0.5684, 0.5258, 0.4824, 0.4673, 0.415, 0.4001, 0.3998, 0.3538, 0.343, 0.2992, 0.2941, 0.1479, 0.0798, 0.0991, 0.0167, -0.245, -0.0363, -0.3399, 2.5491, 2.5491, 2.549, 2.549, 2.5478, 2.546, 2.5441, 2.5151, 2.5051, 2.2928, 2.2269, 2.1961, 1.7466, 1.6702, 1.2012, 0.8705, 0.7487, 0.7287, 0.6902, 0.5943, 0.585, 0.5266, 0.5226, 0.4774, 0.2291, 0.197, 0.1688, 0.1376, 0.1209, -0.0333, -0.175, -0.2221, -0.1151, -0.3735, 2.6841, 2.6841, 2.684, 2.684, 2.684, 2.684, 2.684, 2.684, 2.6837, 2.6834, 2.6705, 2.6561, 2.6089, 2.1189, 1.964, 1.7257, 1.4245, 1.3061, 1.2964, 0.9485, 0.5753, 0.4607, 0.281, 0.0038, -0.0244, -0.0938, -0.2658, -0.3793, -0.4617, -0.5412, -0.5467, -0.6266, -0.7106, -0.8251, -1.171, 2.7401, 2.74, 2.74, 2.7399, 2.7399, 2.7339, 2.727, 2.5958, 2.5633, 2.4799, 2.4507, 2.4391, 1.7829, 1.7343, 0.8854, 0.8296, 0.7161, 0.5971, 0.5635, 0.4999, 0.4046, 0.3804, 0.3722, 0.3056, 0.212, 0.2033, 0.1108, -0.2483, -0.2515, -0.5256, -1.0078, 2.7496, 2.7496, 2.7496, 2.7465, 2.7292, 2.6812, 2.6637, 2.5915, 2.5557, 2.5143, 2.3794, 2.2038, 1.8671, 0.8605, 0.7357, 0.5753, 0.5066, 0.4714, 0.456, 0.4222, 0.4119, 0.3847, 0.3613, 0.3487, 0.3257, 0.1176, 0.1067, 0.093, 0.0727, 0.0249, -0.0048, -0.0256, 0.0092, -0.4957, -0.3546, 2.7736, 2.7736, 2.7736, 2.7736, 2.7736, 2.7736, 2.7735, 2.7735, 2.773, 2.7728, 2.7696, 1.5349, 1.2955, 1.2066, 0.893, 0.5558, 0.4906, 0.4417, 0.3675, 0.3247, 0.2402, 0.1665, 0.1173, -0.0928, -0.3009, -0.48, -0.6469, -0.6917, -0.7718, -0.8926, -0.9684, -0.97, 2.847, 2.8469, 2.8469, 2.8468, 2.7823, 2.7521, 2.7342, 2.7018, 2.6354, 2.188, 2.1735, 1.376, 1.3699, 1.1336, 1.1098, 1.0991, 0.7482, 0.6997, 0.5443, 0.503, 0.0355, -0.1539, -0.5595, -0.8925, -1.1916, -1.2279, -1.3246, -1.446, -1.85, -1.9343, -2.1293, 2.8904, 2.8904, 2.8903, 2.8903, 2.8903, 2.8902, 2.8899, 2.8897, 2.8896, 2.6886, 2.4066, 2.3845, 1.2079, 0.5916, 0.4067, 0.3943, 0.3836, 0.2847, 0.2594, 0.2101, 0.1338, 0.0854, 0.0103, -0.0529, -0.0562, -0.0706, -0.2709, -0.2782, -0.4859, -0.4881, -0.9599, 2.9147, 2.9147, 2.9147, 2.9146, 2.9146, 2.9145, 2.9142, 2.907, 2.7426, 2.6603, 2.5726, 1.6213, 1.5573, 1.3862, 1.3422, 1.1255, 1.0182, 0.9672, 0.9522, 0.855, 0.7928, 0.7127, 0.694, 0.6545, 0.501, 0.4415, 0.4161, 0.3912, 0.283, 0.0094, -0.0108, -0.3031, 2.9965, 2.9965, 2.9965, 2.9965, 2.9965, 2.9962, 2.9956, 2.9952, 2.9949, 2.9905, 2.8094, 1.8778, 1.7599, 1.7026, 1.1159, 1.0527, 0.6158, 0.0255, -0.0456, -0.0932, -0.1039, -0.1066, -0.1756, -0.2213, -0.3175, -0.5559, -0.5783, -0.686, -0.7032, -0.7189, -0.9087, -1.2285, 3.1347, 3.1346, 3.1346, 3.1346, 3.1346, 3.1222, 2.844, 2.4135, 0.9785, 0.8236, 0.8158, 0.7835, 0.734, 0.535, 0.4854, 0.4735, 0.4674, 0.4667, 0.3, 0.2956, 0.261, 0.2201, -0.0254, -0.0543, -0.0971, -0.2199, -0.2266, -0.4096, -0.5033, -0.6014, -0.6141, -0.704, -1.7707, -1.4405, 3.4778, 3.4778, 3.4778, 3.4777, 3.4777, 3.4776, 3.4736, 1.556, 1.1785, 1.081, 1.0461, 0.8796, 0.7622, 0.5777, 0.4456, 0.4103, 0.3461, 0.3336, 0.1858, 0.123, 0.0776, 0.0124, -0.1017, -0.1483, -0.1644, -0.4134, -0.436, -0.5411, -0.6119, -0.7731, -0.9385, -1.0746]}, \"token.table\": {\"Topic\": [1, 2, 3, 4, 5, 7, 8, 9, 10, 11, 12, 13, 14, 1, 6, 11, 13, 1, 3, 4, 5, 6, 7, 8, 9, 10, 12, 13, 14, 1, 5, 6, 7, 1, 2, 4, 5, 13, 1, 7, 10, 13, 13, 5, 11, 6, 11, 5, 1, 2, 3, 4, 6, 7, 9, 12, 1, 3, 4, 5, 8, 11, 13, 14, 15, 10, 7, 13, 6, 12, 1, 2, 3, 5, 8, 12, 13, 15, 1, 2, 3, 4, 5, 6, 9, 14, 15, 1, 3, 4, 6, 7, 8, 11, 15, 12, 1, 5, 8, 9, 14, 15, 3, 6, 11, 12, 1, 2, 3, 4, 5, 6, 7, 8, 9, 10, 11, 12, 13, 14, 15, 6, 11, 4, 1, 2, 3, 4, 5, 7, 8, 10, 11, 12, 13, 14, 15, 1, 8, 9, 8, 3, 15, 1, 4, 5, 6, 8, 10, 11, 14, 1, 6, 14, 1, 3, 4, 5, 6, 7, 8, 9, 11, 12, 13, 14, 15, 8, 10, 11, 15, 1, 3, 4, 4, 9, 11, 7, 9, 11, 15, 1, 2, 3, 6, 11, 15, 2, 1, 2, 3, 4, 6, 7, 8, 10, 14, 15, 14, 6, 6, 1, 2, 3, 4, 7, 8, 12, 14, 15, 5, 6, 11, 1, 2, 5, 11, 1, 7, 8, 9, 10, 15, 1, 2, 3, 4, 7, 11, 12, 13, 14, 15, 12, 13, 2, 3, 4, 5, 6, 7, 8, 9, 10, 11, 12, 13, 14, 15, 3, 8, 1, 5, 8, 15, 5, 7, 9, 1, 7, 8, 9, 10, 14, 1, 2, 3, 4, 5, 7, 8, 9, 10, 12, 13, 14, 15, 6, 7, 10, 13, 1, 2, 3, 4, 5, 6, 7, 8, 9, 10, 11, 12, 13, 14, 15, 5, 11, 4, 6, 2, 3, 5, 11, 13, 1, 2, 3, 4, 5, 6, 7, 8, 9, 10, 11, 12, 13, 14, 15, 8, 15, 1, 2, 3, 4, 5, 8, 9, 10, 11, 12, 14, 15, 1, 2, 3, 4, 5, 7, 8, 9, 11, 12, 13, 14, 15, 1, 2, 3, 4, 5, 7, 1, 4, 7, 11, 6, 10, 1, 2, 3, 4, 5, 6, 7, 8, 9, 10, 11, 12, 13, 6, 10, 11, 6, 7, 10, 6, 7, 1, 2, 3, 4, 5, 6, 7, 8, 9, 10, 11, 12, 13, 14, 15, 4, 8, 10, 11, 14, 3, 11, 12, 13, 3, 9, 5, 6, 6, 11, 2, 6, 10, 9, 3, 7, 1, 2, 3, 6, 7, 10, 11, 12, 13, 14, 15, 3, 1, 7, 10, 5, 6, 3, 7, 14, 2, 5, 10, 11, 12, 13, 6, 13, 10, 4, 9, 1, 2, 3, 4, 5, 6, 7, 8, 9, 10, 11, 12, 13, 14, 15, 1, 3, 4, 5, 8, 11, 12, 13, 15, 3, 7, 12, 1, 2, 3, 4, 5, 6, 7, 8, 9, 10, 11, 12, 13, 14, 15, 1, 6, 9, 10, 2, 12, 13, 3, 5, 9, 7, 13, 8, 15, 8, 1, 3, 4, 14, 1, 2, 3, 4, 5, 6, 7, 8, 9, 10, 11, 12, 13, 14, 3, 9, 11, 2, 7, 8, 9, 2, 3, 5, 6, 10, 11, 12, 13, 14, 9, 13, 13, 4, 11, 13, 1, 2, 3, 4, 5, 6, 7, 8, 9, 10, 11, 12, 13, 14, 15, 1, 3, 4, 5, 6, 7, 8, 9, 10, 11, 12, 14, 15, 9, 3, 5, 4, 5, 7, 11, 12, 5, 11, 9, 4, 8, 4, 9, 8, 9, 11, 15, 9, 6, 13, 2, 3, 8, 5, 2, 2, 3, 6, 7, 4, 7, 8, 10, 11, 12, 13, 15, 1, 6, 13, 12, 3, 11, 1, 2, 3, 4, 6, 7, 8, 9, 10, 11, 12, 13, 14, 15, 14, 1, 3, 7, 8, 15, 11, 3, 6, 9, 12, 4, 6, 1, 2, 3, 4, 5, 7, 8, 9, 11, 12, 13, 14, 2, 8, 9, 10, 14, 1, 2, 3, 4, 7, 10, 14, 2, 3, 5, 5, 7, 8, 11, 8, 15, 6, 1, 3, 4, 7, 8, 9, 10, 12, 13, 1, 3, 4, 9, 10, 11, 12, 14, 1, 2, 3, 4, 5, 6, 9, 10, 11, 12, 14, 4, 6, 14, 4, 1, 3, 7, 8, 9, 10, 13, 14, 15, 1, 6, 2, 4, 1, 3, 4, 9, 11, 4, 1, 4, 6, 10, 13, 15, 14, 1, 4, 6, 7, 10, 11, 14, 15, 1, 3, 4, 6, 7, 8, 9, 10, 11, 12, 13, 14, 15, 1, 4, 5, 9, 11, 12, 1, 8, 12, 6, 8, 1, 4, 6, 7, 8, 9, 11, 3, 12, 1, 2, 4, 5, 8, 11, 12, 13, 4, 1, 2, 3, 4, 7, 9, 13, 15, 3, 4, 3, 5, 11, 14, 15, 6, 1, 2, 6, 7, 9, 11, 2, 3, 4, 5, 6, 7, 10, 12, 13, 15, 1, 8, 9, 4, 8, 3, 10, 1, 6, 11, 1, 2, 3, 4, 6, 7, 8, 9, 11, 12, 13, 14, 1, 2, 3, 4, 6, 8, 9, 11, 12, 13, 14, 15, 1, 2, 3, 4, 6, 7, 8, 9, 11, 12, 13, 14, 15, 9, 1, 3, 4, 8, 9, 11, 5, 7, 1, 2, 3, 4, 5, 6, 7, 8, 9, 10, 11, 12, 13, 14, 15, 1, 2, 3, 5, 6, 8, 11, 2, 3, 12, 4, 15, 10, 1, 2, 3, 4, 5, 6, 7, 8, 9, 10, 11, 12, 13, 14, 1, 3, 4, 6, 7, 13, 3, 4, 5, 9, 11, 5, 2, 5, 7, 8, 12, 15, 3, 1, 2, 3, 4, 5, 6, 7, 8, 9, 10, 11, 12, 13, 14, 15, 1, 2, 3, 4, 5, 6, 7, 8, 9, 10, 11, 12, 13, 14, 15, 13, 6, 1, 1, 2, 3, 4, 5, 6, 7, 8, 9, 10, 11, 12, 13, 14, 15, 1, 3, 4, 9, 12, 14], \"Freq\": [0.354095040612906, 0.21538210763321322, 0.002056699171033336, 0.05358843951192414, 0.0038848762119518565, 0.028565266264351886, 0.0711846435307649, 0.0006855663903444453, 0.004798964732411117, 0.006627141773329638, 0.1405411100206113, 0.047761125193996355, 0.07072759927053528, 0.10470191928655302, 0.568289517820753, 0.0002769892044617805, 0.3266626017952598, 0.0019017042773022607, 0.042579622599109156, 0.08859158950359312, 0.09517797992742047, 0.008488094701129602, 0.026438327757616797, 0.6905505678164892, 0.016419593028414642, 0.016976189402259204, 0.0026438327757616793, 0.0014842569969188376, 0.008673626825744457, 0.9994675037472485, 0.00012641885956833399, 0.00037925657870500196, 0.9999800987800576, 0.02781938841637054, 0.953184978439576, 0.018175333765362085, 0.00046365647360617566, 0.00018546258944247026, 0.9998687649807676, 0.9869776015968538, 0.00011671230433357225, 0.012838353476692948, 0.9999709623673987, 0.9999562418296822, 0.9998269167231935, 0.9995795132113117, 0.0003457954958064962, 0.9998822875960471, 0.08409002197209706, 0.023370764085330165, 0.19255720456908396, 0.6667936183771472, 0.00011182183772885247, 0.02482444797580525, 0.008051172316477378, 0.00011182183772885247, 0.6189859029289613, 0.018225199092742176, 0.14166458435892232, 0.1318252130695891, 0.004584252532530241, 0.01442362382186344, 0.0010062993364090772, 0.06943465421222633, 0.9999134022676226, 0.9998359123929257, 0.9998251768007345, 7.610177932719854e-05, 0.00021860644019323135, 0.9997601198170447, 0.09858239229788829, 0.41784155372597287, 0.40314656339196053, 0.004702396906883939, 0.010076564800465584, 0.05046679537566513, 0.001679427466744264, 0.013519391107291326, 0.001869027027284384, 0.9269595294069176, 0.04423363964573042, 0.0017132747750106853, 0.0017911509011475347, 0.0010123896397790414, 0.0006230090090947947, 0.021493810813770414, 0.00015575225227369867, 0.0015031938477898684, 0.0003288236542040337, 0.009535885971916978, 0.007046221161515008, 0.002677564041375703, 0.7902102158600365, 0.18587931424076592, 0.00277151365686257, 0.9998514322389116, 0.17912082736400323, 0.7245015079631145, 0.0011454569295859518, 0.0017181853943789276, 0.0024340959753701478, 0.09099223484398404, 0.8777819341513786, 0.12138454010452998, 0.0008203569478050267, 0.9998929336636605, 0.10090780124227007, 0.2178419455572798, 0.165465529990927, 0.005912945125627737, 0.06559168636625304, 0.021163819985170314, 0.015509364263941604, 0.015477053088391727, 0.023716402853610704, 0.12258860003623843, 0.015283186035092457, 0.16708108876842093, 0.0049436098591313865, 0.010307265000411191, 0.04820827392041849, 0.3834473255247504, 0.6163647334051852, 0.999940833078426, 0.030172179651173657, 0.7885724419238871, 0.02034232926708088, 0.049558829019801076, 0.000409577099337199, 0.010922055982325306, 0.006826284988953316, 0.00013652569977906632, 0.014335198476801965, 0.010512478882988107, 0.0023209368962441275, 0.022117163364208745, 0.043688223929301225, 0.879428304654134, 0.10612283954431626, 0.014411743641820726, 0.9999344922566568, 0.9998580318180856, 0.00010768530229597045, 0.0013436384997460589, 0.18555647681493073, 0.18663138761472758, 0.06664446958740453, 0.06879429118699822, 0.0006718192498730294, 0.004165279349212783, 0.4861284092081241, 0.013438506319768803, 0.9864544069410036, 0.9998937641292442, 0.3058609271903416, 0.047308290577932156, 0.1280609768736603, 0.12599039517376984, 0.005356504832325334, 0.038170723511024233, 0.09178078447992737, 0.04622798708233713, 0.00823731415391207, 0.08016752190228085, 0.0020705816998904656, 0.074270865322158, 0.046543075601885676, 0.045563539877162655, 0.864800520554107, 0.0015867899459708387, 0.08784015772338571, 0.00012335025479754547, 0.0016857868155664547, 0.9981502618217379, 0.9983974028531464, 0.0015674795683695275, 0.999911064816719, 0.9998963265705597, 0.0001650037403341631, 0.9994276552040259, 0.00024750561050124463, 0.003517661106623326, 0.8618269711227149, 0.13027475960391213, 0.002911167812377925, 0.0014555839061889625, 0.999859858912126, 0.9999164306123456, 0.0007116187786706851, 0.9458303092006743, 0.0031133321566842475, 0.00017790469466767128, 0.0008005711260045208, 0.0026685704200150695, 0.002935427462016576, 0.00836152064938055, 0.004269712672024111, 0.03122227391417631, 0.9999134124391237, 0.9999488245605372, 0.9999829475137598, 0.35425012076515777, 0.2810887315750497, 0.018815657533226227, 0.07125117015120186, 0.0043935037894842965, 0.151193836929427, 0.1042979595242794, 0.000477554759726554, 0.01423113183985131, 0.702562506026481, 0.2837834661808973, 0.013597144528153951, 0.989532644732413, 0.00018880607607945295, 0.0005664182282383588, 0.009629109880052101, 0.00036886106549290933, 0.0035751149424697363, 5.6747856229678356e-05, 0.08637023718157046, 0.809281177691443, 0.10033020981407133, 0.002349939263478331, 0.2832367971098294, 0.019214209271969884, 0.0001382317213810783, 0.0041469516414323485, 0.010643842546343029, 0.2573874652115678, 0.2902866149002644, 0.11569995079596253, 0.016726038287110473, 0.0008803437876117192, 0.9989701129923985, 0.44577195434672484, 0.04992562155984685, 0.08158704823039963, 0.0881809982477379, 0.03647605684194262, 0.0002093317465821671, 0.012402905984993402, 0.019363186558850456, 0.00010466587329108355, 0.0824243752167283, 0.11057949513202978, 0.002564313895631547, 0.06986447042179827, 0.000470996429809876, 0.02020113544043884, 0.9796679950016267, 0.9988616513847376, 0.0003418027779347796, 0.0006836055558695591, 0.9999186051873616, 0.2597914114625636, 0.74015845273025, 0.9998867550077395, 0.25958528599488184, 0.0008724159407685875, 0.5793257282865691, 0.15248584336148097, 0.00031157712170306695, 0.0074155354965329935, 0.3115733435146416, 0.21678124921411765, 0.00019880892261015928, 0.057137684358159774, 0.0696626464825998, 0.10644229716547927, 0.038966548831591216, 0.1019889772990117, 0.013678053875578957, 0.05471221550231583, 0.00035785606069828666, 0.0006361885523525096, 0.027873010949944328, 0.24963795252823975, 0.7487692237767655, 0.0014463380795378896, 0.999876895365385, 0.10346055701228009, 0.08761106050391183, 0.09060542792243091, 0.07738890966138116, 0.07558196380537827, 0.0324733983835949, 0.05038797587025218, 0.04486388425332904, 0.09014078470231589, 0.17599652637468205, 0.0738266449738326, 0.001135794538058963, 0.005059448396808108, 0.0564799647562048, 0.0348998685330845, 9.801052735332977e-05, 0.9998053895313169, 0.9999019281657059, 0.999941221703342, 0.5437076845641231, 0.00018598894568898165, 0.44817136279521613, 0.007625546773248248, 0.0002789834185334725, 0.22160974838862357, 0.09954434029794686, 0.028197109268946318, 0.04119707523060339, 0.0014647848970881206, 0.01892013825405489, 0.11339876411623866, 0.009399036422982107, 0.07372750648676873, 0.22966606532260822, 0.04205153308723813, 0.011474148360523611, 0.04192946767914745, 0.04119707523060339, 0.026183030035450153, 0.8536455211178409, 0.14634532204731823, 0.1300187819343258, 0.14760677716326007, 0.032150098805578745, 0.1077028309986888, 0.15583342009292286, 0.050021771376915165, 0.05692458670870119, 0.1740833291207955, 0.08150995638355552, 0.0018911822826811026, 0.05843753253484607, 0.0038769236794962605, 0.24939994527616893, 0.35506709922166163, 0.03208207565573995, 0.025843894278234962, 0.0001273098240307141, 0.09675546626334272, 0.097519325207527, 0.00929361715424213, 0.008911687682149987, 0.03755639808906066, 0.051305859084377785, 0.02635313357435782, 0.009802856450364985, 0.19490420055120375, 0.7414619034327, 8.977623240497638e-05, 0.03815489877211497, 0.02531689753820334, 0.9998204466905202, 0.9950692112068837, 0.0009868921051924323, 0.001691815037472741, 0.002255753383296988, 0.9993226579929055, 0.0006209287051030854, 0.08508843092824014, 0.31574984007105983, 0.00768871363809399, 0.06796822856075087, 0.008611359274665269, 0.03977627855440624, 0.15654220967159363, 0.06335500037789447, 0.10887218511541089, 0.005433357637586419, 0.02798691764266212, 0.02050323636825064, 0.09246959602081038, 0.4867016732635356, 0.5099314682922802, 0.0032971321976282626, 0.0904521105654709, 9.571651911690042e-05, 0.9094026481296709, 0.9998319185153618, 0.0001701045329446407, 0.3379621800522144, 0.24096397127589908, 0.0015882747635887885, 0.03823204252353012, 0.014634817464496696, 0.013613783687903903, 0.09370821105173853, 0.06364443874095074, 0.009983441371129529, 0.11673819512377596, 0.007714477423145545, 0.02359722505903343, 0.012025508924315113, 0.00567240986995996, 0.019966882742259058, 0.0002742313598414031, 0.0002742313598414031, 0.00013711567992070155, 0.9991619595821521, 0.9999595404489355, 0.9440348357009726, 0.01048632621208898, 0.000265476612964278, 0.044998285897445124, 0.0001213464168464983, 0.9998338016067227, 0.9569074324739806, 0.04308214514810024, 0.00021959606466693304, 0.9997476837403239, 0.0004110011364649165, 0.062198171985024024, 0.9373565918976529, 0.9999071432273374, 0.9122664223680835, 0.08764833850870084, 0.15771141711179507, 0.34365985408121896, 0.06796585012243216, 0.023530849881357348, 0.0035022660288531867, 0.04968839928435459, 0.06851307918944047, 0.21681215634869258, 0.024296970575168983, 0.034913214475130204, 0.009084002512337952, 0.9999374965646749, 0.9202024444366032, 0.07917267805086144, 0.000599793015536829, 0.9986027794622497, 0.0013402265192084951, 0.9857997731617171, 0.002948433674230857, 0.011192013538917132, 7.60068520819949e-05, 0.9665791379267291, 0.023790144701664403, 7.60068520819949e-05, 7.60068520819949e-05, 0.009424849658167369, 0.00592950310653637, 0.9939823707590468, 0.9998651178615394, 0.0006086023586875238, 0.9993250729649139, 0.21872384859248156, 0.36796484174840055, 0.011721802604158076, 0.06723825493789398, 0.05751165277699686, 0.0001496400332445712, 0.0022944805097500917, 0.07018117559170389, 0.012619642803625503, 9.976002216304746e-05, 0.03411792757976223, 0.08948473988025357, 0.016410523645821306, 0.03950496877656679, 0.012070962681728742, 0.013046077620020512, 0.00022887855473720196, 0.014076031116337921, 0.7738383935664799, 0.08857600068329716, 0.07198230546485002, 0.0037764961531638326, 0.001029953496317409, 0.033416268991631484, 0.00019548486005543158, 0.00029322729008314735, 0.9994163470333939, 0.16421908470085603, 0.18059567051647038, 0.02456487872342152, 0.1082304988773627, 0.0925186453273268, 0.039521354698936466, 0.005740869566359273, 0.06556677346841906, 0.01598378947686345, 0.017615405037828717, 0.06351214646572206, 0.12747751947615668, 0.020123258585238293, 0.06943430664996636, 0.004894846682895801, 0.00045752692516554604, 4.5752692516554604e-05, 0.999101546484003, 0.00032026884761588223, 0.9807040643771974, 0.013306703722892773, 0.005797920907831851, 0.00029574386643537, 0.003675673768553884, 0.9959808439067732, 0.001349433801321338, 0.9985810129777901, 0.00012566735689795733, 0.9996838241232504, 0.9998907631829315, 0.31963570850273004, 0.6670245731426173, 0.013164958680446395, 0.00011860323135537292, 0.2906026917043788, 0.2984028083184493, 0.022691248331841468, 0.08064418086117521, 0.07284406424710471, 0.024689625315611596, 0.00012892754734000834, 0.03803362646530246, 0.001482666794410096, 0.002191768304780142, 0.0039967539675402584, 0.14259386735804921, 0.016953972475211097, 0.0046413917042403005, 0.9997518727008332, 0.00010815143581791792, 0.999906867442209, 0.9998770675023064, 0.9938462010305504, 0.006023847194052716, 8.858598814783407e-05, 0.0012409779865549815, 0.9007360565170968, 0.08969275378687039, 0.000727469854187403, 8.558468872792976e-05, 0.005306250701131645, 0.0017116937745585952, 4.279234436396488e-05, 0.0004279234436396488, 0.9999411314510827, 0.9998749765274378, 0.9998568488671278, 6.846176491572754e-05, 0.0015061588281460058, 0.9983779177660548, 0.26145406337306865, 0.20498440384855618, 0.0007363606783962503, 0.1214995119353813, 0.0600133952892944, 0.029914652559847668, 0.006857358817565081, 0.06231452240928268, 0.03861291307340337, 0.006903381359964846, 0.0021170369503892197, 0.08431329767637066, 0.025174330692671807, 0.09066440852753832, 0.004372141527977736, 0.1286447022789657, 0.403068815158201, 0.014178131199196533, 0.16523234416504395, 0.0003359746729667425, 0.07213376228595961, 0.10247227525485646, 0.02365261697685867, 0.0006383518786368108, 0.017672267798050655, 6.719493459334849e-05, 0.03467258625016782, 0.03719239629741839, 0.9998741194928715, 0.003035345793193977, 0.9968942826504219, 0.9959122828846103, 0.0036945349763020077, 6.717336320549105e-05, 6.717336320549105e-05, 0.00020152008961647313, 0.9950100958220822, 0.004975252725156149, 0.9998739268074736, 0.9998830550894018, 6.871576215307551e-05, 0.9993509049715217, 0.0005065775719029384, 0.00027320959264792645, 9.10698642159755e-05, 0.999309620041899, 0.00027320959264792645, 0.9998552188893616, 0.00026644132491498556, 0.9996878510810258, 0.001096563215094449, 0.0019738137871700085, 0.9967759625208542, 0.9999005760053774, 0.9998493904313912, 0.996596462717447, 0.00011313389291831615, 0.0002262677858366323, 0.00294148121587622, 0.11308202361771387, 0.0008638210137464254, 0.0006282334645428549, 0.0007852918306785685, 0.10036029596072106, 0.7753186244289507, 0.0022773463089678487, 0.006674980560767833, 0.07219598690485195, 0.9275614839297283, 0.00010463186507949558, 0.9999468974202746, 0.9996068287309715, 0.0003946725214612463, 0.31729428508165214, 0.08820662903429079, 0.026993986994112817, 0.06127832084065027, 0.014120942101543202, 0.1479743374640783, 0.06456226086426496, 0.004203443230226814, 0.2282995104416938, 6.567880047229396e-05, 0.012938723693041911, 0.024760907778054824, 0.007027631650535454, 0.0022987580165302886, 0.9999340418923115, 0.9695725711680665, 0.03034626437753863, 0.8656499429948056, 0.1334582325885806, 0.0008733463073281348, 0.9998970416302636, 0.9999765054487949, 0.9999159128202468, 0.2897482379400852, 0.7102120622536794, 0.9998254220356322, 9.591571585146126e-05, 0.09680510721795993, 0.793428354657813, 0.03585835482800316, 0.04519646806446232, 0.0018676226472918315, 0.00018676226472918314, 0.015625776149008324, 0.002925942147423869, 0.0013073358531042818, 6.225408824306104e-05, 0.005851884294847738, 0.0009338113236459157, 0.7608858389664536, 0.0067100438711249575, 0.20867408038720703, 8.284004779166615e-05, 0.023526573572833186, 0.008008895284902857, 0.7079863431854125, 0.12479315016657724, 0.05475172049315408, 0.008008895284902857, 0.09596112714092696, 0.0005824651116292987, 0.9986352611883922, 0.0004262207687530483, 0.0009589967296943587, 0.13230815534317142, 0.7709129910897968, 0.09657737127126911, 9.47766155753377e-05, 0.9336995948421132, 0.06620044225140746, 0.9999597571347641, 0.0038941105437138375, 0.07087281189559184, 0.01947055271856919, 0.007301457269463445, 0.0004867638179642297, 0.22809752509803805, 0.5173325857323834, 9.735276359284595e-05, 0.15245442778639676, 0.17109450760420894, 0.1807547997525018, 0.42655556663684213, 0.0037210014200831725, 7.155771961698409e-05, 0.08343630107340344, 0.03907051491087331, 0.09524332481020582, 0.00123365570713342, 0.08198523356549528, 0.4129926834423509, 0.0045116551575165075, 0.41521326371519107, 0.0013746449308058109, 0.0017623652959048856, 0.009129052232787307, 0.05177829239368554, 0.010574191775429313, 0.009411030680132089, 9.953990252446687e-05, 0.2520350331919501, 0.7477437477637952, 0.9998553302518716, 0.7361088265403216, 0.004215007023249666, 0.11730364545703821, 0.008177113625104352, 0.07017986693710694, 0.015426925705093778, 0.02802979670461028, 8.430014046499332e-05, 0.020400633992528384, 0.9996331767866239, 0.00032194305210519287, 0.000855955065009752, 0.9991441194563833, 0.59236404271828, 0.2100365824643439, 0.13576277649144547, 0.00925378566219718, 0.052478705531670854, 0.9999572875702717, 0.00017157423541521295, 0.1679139850596884, 5.719141180507099e-05, 0.00022876564722028395, 0.8292754711735293, 0.0023448478840079104, 0.9999089503096729, 0.0026431242845099297, 0.09304623457813863, 4.129881694546765e-05, 0.009705221982184898, 0.8932934105304653, 0.0007433787050184177, 0.00012389645083640295, 0.0004129881694546765, 0.13871987812173603, 0.04998565440699427, 0.014207808746174081, 0.108237670266308, 0.3657864942651363, 0.10087544209783597, 0.004778990214622191, 0.060060282427008616, 0.004133180726159732, 0.08214696693242468, 0.013820323053096606, 0.014078646848481589, 0.04314007382929221, 0.07154739669616592, 0.0002960581932255141, 0.06483674431638758, 0.0011842327729020565, 0.020230643203743463, 0.8417921294045451, 0.00013754922062130876, 0.007565207134171982, 0.9922800775621214, 0.17629002374876585, 0.8236239918682372, 0.865906851900173, 0.08738434449866624, 0.0007363849255505582, 0.03665560518296112, 0.0004909232837003721, 0.0022091547766516745, 0.006627464329955024, 0.00010576375536959684, 0.999784779508799, 0.009054266315067143, 0.3782985644763991, 0.13001360536791726, 0.05192055840046315, 0.4136667922696301, 0.009620157959758839, 0.0001414729111729241, 0.007356591380992054, 0.9999250611015247, 0.8725442159838905, 0.00037792109146911405, 0.009221274631846382, 7.558421829382281e-05, 0.09448027286727852, 0.0017384370207579247, 0.019803065192981577, 0.0018140212390517474, 0.9999256855541252, 0.999909454980354, 0.012357408425617587, 5.181303323110099e-05, 2.5906516615550495e-05, 0.9875564133847848, 0.9999110184880489, 0.9998390567961927, 0.006376509865042145, 0.6061669690455689, 0.0007970637331302682, 0.3840518754132675, 0.0006642197776085568, 0.001859815377303959, 0.1700067035558035, 0.022250093647193717, 0.04116933495199317, 0.14029550066164662, 0.0006661704684788538, 0.1321682209462046, 0.0014655750306534782, 0.274328998919592, 0.14309341662925779, 0.07434462428224008, 0.0029738377318432162, 0.9175433186479339, 0.07937859176535354, 0.9999290319586055, 0.999911867874064, 0.00018725240061280267, 0.9997405668717535, 0.025465282523322284, 0.9723835581990018, 0.0021012610333586168, 0.2214946034483582, 0.2527927539356262, 0.04282904803520885, 0.11429527020046859, 0.010263765949266026, 0.0501784113075228, 0.0529661008246074, 0.025596058293231326, 0.010010339629531063, 0.11974393607477031, 0.04549002439242597, 0.054233232423282214, 0.21600380172562691, 0.7058954074258205, 0.008875547011504097, 0.01996998077588422, 0.000675313359570964, 0.0334762479673035, 0.00038589334832626513, 0.0032800934607732537, 0.0005788400224893977, 0.005306033539486146, 0.002797726775365422, 0.002701253438283856, 0.23578160958799113, 0.5005527613384402, 0.057242841984282, 0.056966751106544304, 0.00027609087773769453, 0.003957302580906955, 0.05954359929876279, 0.0008282726332130835, 0.010307392768873928, 0.028805481577299463, 0.014908907397835505, 0.02383584577802096, 0.006994302236021595, 0.9998632426740112, 0.8442859059197125, 0.028916792277750153, 0.07229198069437538, 0.0012136609897595867, 0.0005276786911998203, 0.052715101250862054, 0.16193995694519234, 0.8379905000959049, 0.20552954373177326, 0.0019122448155398477, 0.038906827208483825, 0.06280988740273193, 0.004376098712485421, 0.0335378321494681, 0.07979944711002826, 0.09395741353277522, 0.09711997226616803, 0.18022907386463066, 0.03416298910839459, 0.053653176651396885, 0.028646898294337336, 0.05872798020032956, 0.02662433166251634, 0.0024106218771973178, 0.2798731999426086, 0.06649298677935934, 0.0014463731263183908, 0.04672588738634134, 8.035406257324393e-05, 0.6029367085183358, 0.9985290347682027, 0.0010439404440859411, 0.00041757617763437646, 0.0042033143023213785, 0.9957109219063563, 0.9998997377091436, 0.12646444995976142, 0.4797959684247342, 0.04246787168525755, 0.04017865676373019, 0.01737455427620765, 0.0007337227312587689, 0.009567744415614348, 0.06362843525476045, 0.01963442028848466, 0.03316426745289636, 0.0212779592065043, 0.07196352548186007, 0.044903831153036665, 0.028879326702345148, 0.6963837652168231, 0.003548574481892639, 0.0073848712190738705, 0.01841422433846991, 9.590741842953079e-05, 0.2741993092900285, 0.0003153338163458451, 0.11973225006651737, 0.06259376254465025, 0.00018920028980750706, 0.8171875850602576, 0.9999137041008365, 0.999779918861565, 0.00021646505171656288, 0.9998527933025229, 9.915731574379163e-05, 0.9999265597842073, 0.999908933181503, 0.9999182875457684, 0.18211792994497591, 0.009343038505107438, 0.0005705672369531261, 0.1196764779509182, 0.09828020656517596, 0.06853938933899427, 0.009770963932822284, 0.11368552196291036, 0.031274216675493224, 0.0034590638740283268, 0.06051578756934093, 0.15009484377098173, 0.03637366135576178, 0.09838718792210467, 0.01797286796402347, 0.24445479260688638, 0.09653267071584364, 0.02012280304995711, 0.08691489359672833, 0.141569420399081, 0.010043656548744026, 0.006494661301838009, 0.07193813365478495, 0.03268624622400441, 0.00028391961975248126, 0.056109614853584115, 0.10852827465038598, 0.014621860417252787, 0.09915892719855408, 0.010540515883310867, 0.9999035344025787, 0.9999125661052563, 0.9999092220641115, 0.21827815179694104, 0.1452685792984331, 0.02725918150762049, 0.04015526487417937, 0.053801913939321044, 0.05233489916481831, 0.023574586260032237, 0.09061374979254071, 0.028862662772774637, 0.0999958210248256, 0.04237284534726489, 0.040052915006190806, 0.040052915006190806, 0.04240696196992774, 0.05503011235518379, 0.6843776164727084, 0.08042622903097676, 0.0009343529735502216, 0.008337303456294286, 0.2074982334338069, 0.018399566248373595], \"Term\": [\"able\", \"able\", \"able\", \"able\", \"able\", \"able\", \"able\", \"able\", \"able\", \"able\", \"able\", \"able\", \"able\", \"access\", \"access\", \"access\", \"access\", \"add\", \"add\", \"add\", \"add\", \"add\", \"add\", \"add\", \"add\", \"add\", \"add\", \"add\", \"add\", \"allow\", \"allow\", \"allow\", \"android\", \"answer\", \"answer\", \"answer\", \"answer\", \"answer\", \"api\", \"app\", \"app\", \"app\", \"application\", \"array\", \"attribute\", \"background\", \"background\", \"bar\", \"base\", \"base\", \"base\", \"base\", \"base\", \"base\", \"base\", \"base\", \"best\", \"best\", \"best\", \"best\", \"best\", \"best\", \"best\", \"best\", \"branch\", \"browser\", \"build\", \"build\", \"button\", \"button\", \"call\", \"call\", \"call\", \"call\", \"call\", \"call\", \"call\", \"call\", \"case\", \"case\", \"case\", \"case\", \"case\", \"case\", \"case\", \"case\", \"case\", \"change\", \"change\", \"change\", \"change\", \"change\", \"change\", \"change\", \"change\", \"character\", \"check\", \"check\", \"check\", \"check\", \"check\", \"check\", \"class\", \"class\", \"class\", \"click\", \"code\", \"code\", \"code\", \"code\", \"code\", \"code\", \"code\", \"code\", \"code\", \"code\", \"code\", \"code\", \"code\", \"code\", \"code\", \"color\", \"color\", \"column\", \"come\", \"come\", \"come\", \"come\", \"come\", \"come\", \"come\", \"come\", \"come\", \"come\", \"come\", \"come\", \"come\", \"command\", \"command\", \"command\", \"commit\", \"compile\", \"compile\", \"contain\", \"contain\", \"contain\", \"contain\", \"contain\", \"contain\", \"contain\", \"contain\", \"content\", \"content\", \"convert\", \"create\", \"create\", \"create\", \"create\", \"create\", \"create\", \"create\", \"create\", \"create\", \"create\", \"create\", \"create\", \"create\", \"current\", \"current\", \"current\", \"current\", \"data\", \"data\", \"data\", \"database\", \"database\", \"date\", \"debug\", \"default\", \"default\", \"default\", \"define\", \"define\", \"define\", \"define\", \"define\", \"delete\", \"difference\", \"different\", \"different\", \"different\", \"different\", \"different\", \"different\", \"different\", \"different\", \"different\", \"different\", \"directory\", \"display\", \"div\", \"edit\", \"edit\", \"edit\", \"edit\", \"edit\", \"edit\", \"edit\", \"edit\", \"edit\", \"element\", \"element\", \"element\", \"end\", \"end\", \"end\", \"end\", \"error\", \"error\", \"error\", \"error\", \"error\", \"error\", \"etc\", \"etc\", \"etc\", \"etc\", \"etc\", \"etc\", \"etc\", \"etc\", \"etc\", \"etc\", \"event\", \"event\", \"example\", \"example\", \"example\", \"example\", \"example\", \"example\", \"example\", \"example\", \"example\", \"example\", \"example\", \"example\", \"example\", \"example\", \"exception\", \"exception\", \"exist\", \"exist\", \"exist\", \"fail\", \"false\", \"false\", \"field\", \"file\", \"file\", \"file\", \"file\", \"file\", \"file\", \"find\", \"find\", \"find\", \"find\", \"find\", \"find\", \"find\", \"find\", \"find\", \"find\", \"find\", \"find\", \"find\", \"fix\", \"fix\", \"fix\", \"folder\", \"follow\", \"follow\", \"follow\", \"follow\", \"follow\", \"follow\", \"follow\", \"follow\", \"follow\", \"follow\", \"follow\", \"follow\", \"follow\", \"follow\", \"follow\", \"foo\", \"foo\", \"form\", \"format\", \"function\", \"function\", \"function\", \"function\", \"function\", \"get\", \"get\", \"get\", \"get\", \"get\", \"get\", \"get\", \"get\", \"get\", \"get\", \"get\", \"get\", \"get\", \"get\", \"get\", \"git\", \"git\", \"give\", \"give\", \"give\", \"give\", \"give\", \"give\", \"give\", \"give\", \"give\", \"give\", \"give\", \"give\", \"go\", \"go\", \"go\", \"go\", \"go\", \"go\", \"go\", \"go\", \"go\", \"go\", \"go\", \"go\", \"go\", \"good\", \"good\", \"good\", \"good\", \"good\", \"google\", \"have\", \"have\", \"have\", \"have\", \"header\", \"header\", \"help\", \"help\", \"help\", \"help\", \"help\", \"help\", \"help\", \"help\", \"help\", \"help\", \"help\", \"help\", \"help\", \"html\", \"html\", \"html\", \"http\", \"http\", \"http\", \"id\", \"id\", \"idea\", \"idea\", \"idea\", \"idea\", \"idea\", \"idea\", \"idea\", \"idea\", \"idea\", \"idea\", \"idea\", \"idea\", \"idea\", \"idea\", \"idea\", \"ie\", \"ie\", \"ie\", \"ie\", \"image\", \"implement\", \"implement\", \"implement\", \"implement\", \"import\", \"import\", \"index\", \"index\", \"input\", \"input\", \"inside\", \"inside\", \"inside\", \"install\", \"instance\", \"instance\", \"instead\", \"instead\", \"instead\", \"instead\", \"instead\", \"instead\", \"instead\", \"instead\", \"instead\", \"instead\", \"instead\", \"int\", \"issue\", \"issue\", \"issue\", \"item\", \"item\", \"java\", \"java\", \"java\", \"javascript\", \"javascript\", \"javascript\", \"javascript\", \"javascript\", \"javascript\", \"jquery\", \"jquery\", \"json\", \"key\", \"key\", \"know\", \"know\", \"know\", \"know\", \"know\", \"know\", \"know\", \"know\", \"know\", \"know\", \"know\", \"know\", \"know\", \"know\", \"know\", \"let\", \"let\", \"let\", \"let\", \"let\", \"let\", \"let\", \"let\", \"let\", \"library\", \"library\", \"library\", \"like\", \"like\", \"like\", \"like\", \"like\", \"like\", \"like\", \"like\", \"like\", \"like\", \"like\", \"like\", \"like\", \"like\", \"like\", \"line\", \"line\", \"line\", \"line\", \"link\", \"link\", \"link\", \"list\", \"list\", \"list\", \"load\", \"load\", \"local\", \"local\", \"log\", \"long\", \"long\", \"long\", \"long\", \"look\", \"look\", \"look\", \"look\", \"look\", \"look\", \"look\", \"look\", \"look\", \"look\", \"look\", \"look\", \"look\", \"look\", \"main\", \"main\", \"map\", \"mean\", \"message\", \"message\", \"message\", \"method\", \"method\", \"method\", \"method\", \"method\", \"method\", \"method\", \"method\", \"method\", \"module\", \"multiple\", \"mysql\", \"name\", \"name\", \"name\", \"need\", \"need\", \"need\", \"need\", \"need\", \"need\", \"need\", \"need\", \"need\", \"need\", \"need\", \"need\", \"need\", \"need\", \"need\", \"new\", \"new\", \"new\", \"new\", \"new\", \"new\", \"new\", \"new\", \"new\", \"new\", \"new\", \"new\", \"new\", \"npm\", \"null\", \"null\", \"number\", \"number\", \"number\", \"number\", \"number\", \"object\", \"object\", \"open\", \"option\", \"option\", \"order\", \"order\", \"output\", \"output\", \"output\", \"output\", \"package\", \"page\", \"page\", \"parameter\", \"parameter\", \"parameter\", \"path\", \"php\", \"point\", \"point\", \"point\", \"point\", \"possible\", \"possible\", \"possible\", \"possible\", \"possible\", \"possible\", \"possible\", \"possible\", \"post\", \"post\", \"post\", \"print\", \"private\", \"private\", \"problem\", \"problem\", \"problem\", \"problem\", \"problem\", \"problem\", \"problem\", \"problem\", \"problem\", \"problem\", \"problem\", \"problem\", \"problem\", \"problem\", \"process\", \"program\", \"program\", \"project\", \"project\", \"project\", \"property\", \"public\", \"px\", \"python\", \"python\", \"query\", \"query\", \"question\", \"question\", \"question\", \"question\", \"question\", \"question\", \"question\", \"question\", \"question\", \"question\", \"question\", \"question\", \"read\", \"read\", \"read\", \"read\", \"read\", \"reason\", \"reason\", \"reason\", \"reason\", \"reason\", \"reason\", \"reason\", \"reference\", \"reference\", \"reference\", \"remove\", \"remove\", \"remove\", \"remove\", \"repository\", \"repository\", \"request\", \"require\", \"require\", \"require\", \"require\", \"require\", \"require\", \"require\", \"require\", \"require\", \"result\", \"result\", \"result\", \"result\", \"result\", \"result\", \"result\", \"result\", \"return\", \"return\", \"return\", \"return\", \"return\", \"return\", \"return\", \"return\", \"return\", \"return\", \"return\", \"right\", \"right\", \"right\", \"row\", \"run\", \"run\", \"run\", \"run\", \"run\", \"run\", \"run\", \"run\", \"run\", \"script\", \"script\", \"search\", \"search\", \"second\", \"second\", \"second\", \"second\", \"second\", \"select\", \"server\", \"server\", \"server\", \"server\", \"server\", \"server\", \"service\", \"set\", \"set\", \"set\", \"set\", \"set\", \"set\", \"set\", \"set\", \"show\", \"show\", \"show\", \"show\", \"show\", \"show\", \"show\", \"show\", \"show\", \"show\", \"show\", \"show\", \"show\", \"simple\", \"simple\", \"simple\", \"simple\", \"simple\", \"simple\", \"single\", \"single\", \"single\", \"size\", \"size\", \"solution\", \"solution\", \"solution\", \"solution\", \"solution\", \"solution\", \"solution\", \"source\", \"source\", \"specific\", \"specific\", \"specific\", \"specific\", \"specific\", \"specific\", \"specific\", \"specific\", \"sql\", \"start\", \"start\", \"start\", \"start\", \"start\", \"start\", \"start\", \"start\", \"static\", \"store\", \"string\", \"string\", \"string\", \"string\", \"studio\", \"style\", \"support\", \"support\", \"support\", \"support\", \"support\", \"support\", \"sure\", \"sure\", \"sure\", \"sure\", \"sure\", \"sure\", \"sure\", \"sure\", \"sure\", \"sure\", \"system\", \"system\", \"system\", \"table\", \"tag\", \"test\", \"test\", \"text\", \"text\", \"text\", \"thanks\", \"thanks\", \"thanks\", \"thanks\", \"thanks\", \"thanks\", \"thanks\", \"thanks\", \"thanks\", \"thanks\", \"thanks\", \"thanks\", \"thing\", \"thing\", \"thing\", \"thing\", \"thing\", \"thing\", \"thing\", \"thing\", \"thing\", \"thing\", \"thing\", \"thing\", \"think\", \"think\", \"think\", \"think\", \"think\", \"think\", \"think\", \"think\", \"think\", \"think\", \"think\", \"think\", \"think\", \"thread\", \"time\", \"time\", \"time\", \"time\", \"time\", \"time\", \"true\", \"true\", \"try\", \"try\", \"try\", \"try\", \"try\", \"try\", \"try\", \"try\", \"try\", \"try\", \"try\", \"try\", \"try\", \"try\", \"try\", \"type\", \"type\", \"type\", \"type\", \"type\", \"type\", \"type\", \"understand\", \"understand\", \"understand\", \"update\", \"update\", \"url\", \"use\", \"use\", \"use\", \"use\", \"use\", \"use\", \"use\", \"use\", \"use\", \"use\", \"use\", \"use\", \"use\", \"use\", \"user\", \"user\", \"user\", \"user\", \"user\", \"user\", \"value\", \"value\", \"value\", \"value\", \"value\", \"var\", \"variable\", \"variable\", \"version\", \"version\", \"view\", \"visual\", \"void\", \"want\", \"want\", \"want\", \"want\", \"want\", \"want\", \"want\", \"want\", \"want\", \"want\", \"want\", \"want\", \"want\", \"want\", \"want\", \"way\", \"way\", \"way\", \"way\", \"way\", \"way\", \"way\", \"way\", \"way\", \"way\", \"way\", \"way\", \"way\", \"way\", \"way\", \"web\", \"width\", \"window\", \"work\", \"work\", \"work\", \"work\", \"work\", \"work\", \"work\", \"work\", \"work\", \"work\", \"work\", \"work\", \"work\", \"work\", \"work\", \"write\", \"write\", \"write\", \"write\", \"write\", \"write\"]}, \"R\": 30, \"lambda.step\": 0.01, \"plot.opts\": {\"xlab\": \"PC1\", \"ylab\": \"PC2\"}, \"topic.order\": [12, 14, 13, 1, 11, 6, 4, 8, 5, 9, 7, 2, 3, 10, 15]};\n",
       "\n",
       "function LDAvis_load_lib(url, callback){\n",
       "  var s = document.createElement('script');\n",
       "  s.src = url;\n",
       "  s.async = true;\n",
       "  s.onreadystatechange = s.onload = callback;\n",
       "  s.onerror = function(){console.warn(\"failed to load library \" + url);};\n",
       "  document.getElementsByTagName(\"head\")[0].appendChild(s);\n",
       "}\n",
       "\n",
       "if(typeof(LDAvis) !== \"undefined\"){\n",
       "   // already loaded: just create the visualization\n",
       "   !function(LDAvis){\n",
       "       new LDAvis(\"#\" + \"ldavis_el173501406065264183847910599733\", ldavis_el173501406065264183847910599733_data);\n",
       "   }(LDAvis);\n",
       "}else if(typeof define === \"function\" && define.amd){\n",
       "   // require.js is available: use it to load d3/LDAvis\n",
       "   require.config({paths: {d3: \"https://cdnjs.cloudflare.com/ajax/libs/d3/3.5.5/d3.min\"}});\n",
       "   require([\"d3\"], function(d3){\n",
       "      window.d3 = d3;\n",
       "      LDAvis_load_lib(\"https://cdn.rawgit.com/bmabey/pyLDAvis/files/ldavis.v1.0.0.js\", function(){\n",
       "        new LDAvis(\"#\" + \"ldavis_el173501406065264183847910599733\", ldavis_el173501406065264183847910599733_data);\n",
       "      });\n",
       "    });\n",
       "}else{\n",
       "    // require.js not available: dynamically load d3 & LDAvis\n",
       "    LDAvis_load_lib(\"https://cdnjs.cloudflare.com/ajax/libs/d3/3.5.5/d3.min.js\", function(){\n",
       "         LDAvis_load_lib(\"https://cdn.rawgit.com/bmabey/pyLDAvis/files/ldavis.v1.0.0.js\", function(){\n",
       "                 new LDAvis(\"#\" + \"ldavis_el173501406065264183847910599733\", ldavis_el173501406065264183847910599733_data);\n",
       "            })\n",
       "         });\n",
       "}\n",
       "</script>"
      ],
      "text/plain": [
       "PreparedData(topic_coordinates=              x         y  topics  cluster       Freq\n",
       "topic                                                \n",
       "11    -0.051474 -0.132008       1        1  10.592541\n",
       "13    -0.147250 -0.054230       2        1  10.267326\n",
       "12    -0.095980  0.110317       3        1   8.165873\n",
       "0     -0.126255 -0.036078       4        1   8.024320\n",
       "10    -0.126154  0.042909       5        1   7.814857\n",
       "5      0.094730  0.352844       6        1   6.827960\n",
       "3      0.149119 -0.056134       7        1   6.456545\n",
       "7      0.022542 -0.153858       8        1   6.394570\n",
       "4      0.146150 -0.158772       9        1   6.243333\n",
       "8      0.263299  0.072114      10        1   5.801547\n",
       "6     -0.153579  0.132607      11        1   5.555066\n",
       "1     -0.121081 -0.091533      12        1   5.421776\n",
       "2      0.062546  0.062809      13        1   4.995756\n",
       "9     -0.110341 -0.007491      14        1   4.351143\n",
       "14     0.193729 -0.083495      15        1   3.087385, topic_info=        Term          Freq         Total Category  logprob  loglift\n",
       "183   string  38600.000000  38600.000000  Default  30.0000  30.0000\n",
       "4    android  40068.000000  40068.000000  Default  29.0000  29.0000\n",
       "62      file  48142.000000  48142.000000  Default  28.0000  28.0000\n",
       "53     error  35243.000000  35243.000000  Default  27.0000  27.0000\n",
       "24     class  35350.000000  35350.000000  Default  26.0000  26.0000\n",
       "..       ...           ...           ...      ...      ...      ...\n",
       "213     want    503.970569  28042.269103  Topic15  -5.2350  -0.5411\n",
       "54       etc    121.130098   7234.229524  Topic15  -6.6606  -0.6119\n",
       "50      edit    149.206983  10470.003488  Topic15  -6.4521  -0.7731\n",
       "102     know    242.138596  20048.111023  Topic15  -5.9680  -0.9385\n",
       "214      way    297.037069  28176.988991  Topic15  -5.7636  -1.0746\n",
       "\n",
       "[528 rows x 6 columns], token_table=      Topic      Freq   Term\n",
       "term                        \n",
       "0         1  0.354095   able\n",
       "0         2  0.215382   able\n",
       "0         3  0.002057   able\n",
       "0         4  0.053588   able\n",
       "0         5  0.003885   able\n",
       "...     ...       ...    ...\n",
       "219       3  0.080426  write\n",
       "219       4  0.000934  write\n",
       "219       9  0.008337  write\n",
       "219      12  0.207498  write\n",
       "219      14  0.018400  write\n",
       "\n",
       "[989 rows x 3 columns], R=30, lambda_step=0.01, plot_opts={'xlab': 'PC1', 'ylab': 'PC2'}, topic_order=[12, 14, 13, 1, 11, 6, 4, 8, 5, 9, 7, 2, 3, 10, 15])"
      ]
     },
     "execution_count": 93,
     "metadata": {},
     "output_type": "execute_result"
    }
   ],
   "source": [
    "\n",
    "pyLDAvis.sklearn.prepare(lda_tfidf_15topics_model, TF_IDF, tfidfVectorizer) #corpus and topics visualization\n"
   ]
  },
  {
   "cell_type": "code",
   "execution_count": 34,
   "metadata": {
    "colab": {
     "base_uri": "https://localhost:8080/",
     "height": 121
    },
    "colab_type": "code",
    "id": "owGtMnsNISBC",
    "outputId": "b3b4f3fd-299a-45d9-d146-534dd4806f92"
   },
   "outputs": [
    {
     "name": "stdout",
     "output_type": "stream",
     "text": [
      "Topic #0: value data var table array key select like id date\n",
      "Topic #1: android div text view page image class html button input\n",
      "Topic #2: use difference line like find code python app version application\n",
      "Topic #3: file error git run command try project work change script\n",
      "Topic #4: string class return function method public new list int object\n",
      "\n"
     ]
    }
   ],
   "source": [
    "print_top_words(lda_first_model)"
   ]
  },
  {
   "cell_type": "code",
   "execution_count": 35,
   "metadata": {
    "colab": {
     "base_uri": "https://localhost:8080/",
     "height": 121
    },
    "colab_type": "code",
    "id": "vKSUnyU5ISBH",
    "outputId": "0f954279-c244-4a8e-8e11-a61615a157cc"
   },
   "outputs": [
    {
     "name": "stdout",
     "output_type": "stream",
     "text": [
      "Topic #0: android id px text true view background button app item\n",
      "Topic #1: string public new return int code function like use method\n",
      "Topic #2: option value time select key php input type id name\n",
      "Topic #3: file error git directory version run find http line build\n",
      "Topic #4: div class id px text button type width input form\n",
      "\n"
     ]
    }
   ],
   "source": [
    "print_top_words(nmf_first_model)"
   ]
  },
  {
   "cell_type": "markdown",
   "metadata": {
    "colab_type": "text",
    "id": "JJMKrz3kISBW"
   },
   "source": [
    "### 2.1 Latent Dirichlet Allocation (LDA) topic model\n",
    "\n",
    "#### 2.1.1 Choice of training data and hyperparameters: perplexity and coherence metrics"
   ]
  },
  {
   "cell_type": "markdown",
   "metadata": {
    "colab_type": "text",
    "id": "Be4OcpeVISBW"
   },
   "source": [
    "Perplexity is essentially a measure of how puzzled a trained model is by previously unseen documents. The core measure here is log-likelihood, which looks at the probability of seeing the content of the unseen documents given the trained model — i.e. does the model generalize? If it doesn’t, the log-likelihood is very low and perplexity ((exp(-1. * log-likelihood per word)) is high. A good model will have low perplexity."
   ]
  },
  {
   "cell_type": "code",
   "execution_count": 36,
   "metadata": {
    "colab": {},
    "colab_type": "code",
    "id": "wSS6dz8iISBY"
   },
   "outputs": [],
   "source": [
    "# given a vectorizer and set of data we calculate the perplexity as a function of topics evaluated\n",
    "\n",
    "def lda(vectorizer, data_train, data_test):\n",
    "\n",
    "    ''' Showing the perplexity score for several LDA models with different values\n",
    "    for n_components parameter, and printing the top words for the best LDA model\n",
    "    (the one with the lowest perplexity)\n",
    "    Parameters:\n",
    "    vectorizer: TF-IDF or Bag-of-Words convertizer                                              \n",
    "    data_train: data to fit the model with\n",
    "    data_test: data to test\n",
    "    '''\n",
    "\n",
    "    best_perplexity = np.inf\n",
    "    best_lda = 0\n",
    "    perplexity_list = []\n",
    "    n_topics_list = []\n",
    "    print(\"Extracting term frequency features for LDA...\")\n",
    "\n",
    "    for n_topics in np.linspace(10, 200, 5, dtype='int'):\n",
    "        lda_model = LatentDirichletAllocation(n_components=n_topics, max_iter=5,\n",
    "                                        learning_method='online',\n",
    "                                        learning_offset=50.,\n",
    "                                        random_state=0).fit(data_train)\n",
    "        n_topics_list.append(n_topics)\n",
    "        perplexity = lda_model.perplexity(data_test)\n",
    "        perplexity_list.append(perplexity)\n",
    "\n",
    "        # Perplexity is defined as exp(-1. * log-likelihood per word)\n",
    "        # Perplexity: The smaller the better\n",
    "        if perplexity <= best_perplexity:\n",
    "            best_perplexity = perplexity\n",
    "            best_lda = lda_model\n",
    "                                \n",
    "    plt.title(\"Evolution of perplexity score depending on number of topics\")\n",
    "    plt.xlabel(\"Number of topics\")\n",
    "    plt.ylabel(\"Perplexity\")\n",
    "    plt.plot(n_topics_list, perplexity_list)\n",
    "    plt.show()"
   ]
  },
  {
   "cell_type": "code",
   "execution_count": 37,
   "metadata": {
    "colab": {
     "base_uri": "https://localhost:8080/",
     "height": 330
    },
    "colab_type": "code",
    "id": "l6v46QkhISBc",
    "outputId": "fd7a9a84-9b74-4521-9bbe-7341c7df08e4"
   },
   "outputs": [
    {
     "name": "stdout",
     "output_type": "stream",
     "text": [
      "Extracting term frequency features for LDA...\n"
     ]
    },
    {
     "data": {
      "image/png": "[encoded data removed]",
      "text/plain": [
       "<Figure size 432x288 with 1 Axes>"
      ]
     },
     "metadata": {
      "needs_background": "light"
     },
     "output_type": "display_data"
    },
    {
     "name": "stdout",
     "output_type": "stream",
     "text": [
      "The process took: 0hour:2min:38sec\n"
     ]
    }
   ],
   "source": [
    "process_time_starts()\n",
    "lda(c_vectorizer, X_bag_of_words_train, X_bag_of_words_test)\n",
    "time_elapsed()"
   ]
  },
  {
   "cell_type": "code",
   "execution_count": 38,
   "metadata": {
    "colab": {
     "base_uri": "https://localhost:8080/",
     "height": 330
    },
    "colab_type": "code",
    "id": "07JgkdwyISBg",
    "outputId": "19cd316c-38f1-4fac-99a6-2ae188984c17"
   },
   "outputs": [
    {
     "name": "stdout",
     "output_type": "stream",
     "text": [
      "Extracting term frequency features for LDA...\n"
     ]
    },
    {
     "data": {
      "image/png": "[encoded data removed]",
      "text/plain": [
       "<Figure size 432x288 with 1 Axes>"
      ]
     },
     "metadata": {
      "needs_background": "light"
     },
     "output_type": "display_data"
    },
    {
     "name": "stdout",
     "output_type": "stream",
     "text": [
      "The process took: 0hour:2min:37sec\n"
     ]
    }
   ],
   "source": [
    "process_time_starts()\n",
    "lda(tfidfVectorizer,X_tfidf_train, X_tfidf_test )\n",
    "time_elapsed()"
   ]
  },
  {
   "cell_type": "markdown",
   "metadata": {
    "colab_type": "text",
    "id": "kFMkY12KISBp"
   },
   "source": [
    "#### 2.1.2 Recommendation algorithm based on unsupervised topic modeling\n",
    "Topics are automatically assigned based on word and component weight"
   ]
  },
  {
   "cell_type": "code",
   "execution_count": 39,
   "metadata": {
    "colab": {},
    "colab_type": "code",
    "id": "yECudx8BISBq"
   },
   "outputs": [],
   "source": [
    "n_topics = 55 # based on perplexity calculations"
   ]
  },
  {
   "cell_type": "code",
   "execution_count": 40,
   "metadata": {
    "colab": {},
    "colab_type": "code",
    "id": "8WVznws_ISBw"
   },
   "outputs": [],
   "source": [
    "def Recommend_tags(text, model):\n",
    "    \n",
    "    ''' Recomendation system for stackoverflow posts based on a lda model, \n",
    "    it returns up to 5 tags.\n",
    "    Parameters:\n",
    "    text: the stackoverflow post of user\n",
    "    data_train: data to fit the model with\n",
    "    '''\n",
    "\n",
    "    threshold = 0.011\n",
    "    list_scores = []\n",
    "    list_words = []\n",
    "    used = set()\n",
    "       \n",
    "    text_tfidf = tfidfVectorizer.transform([text])\n",
    "    text_projection = model.transform(text_tfidf)\n",
    "    feature_names = tfidfVectorizer.get_feature_names()\n",
    "    components = model.components_ / model.components_.sum(axis=1)[:, np.newaxis] # normalization\n",
    "\n",
    "    for topic in range(n_topics):\n",
    "        topic_score = text_projection[0][topic]\n",
    "\n",
    "        for (word_idx, word_score) in zip(components[topic].argsort()[:-5:-1], sorted(components[topic])[:-5:-1]):\n",
    "            score = topic_score*word_score\n",
    "\n",
    "            if score >= threshold:\n",
    "                list_scores.append(score)\n",
    "                list_words.append(feature_names[word_idx])\n",
    "                used.add(feature_names[word_idx])\n",
    "\n",
    "    results = [tag for (y,tag) in sorted(zip(list_scores,list_words), key=lambda pair: pair[0], reverse=True)]\n",
    "    unique_results = [x for x in results if x not in used] # get only unique tags\n",
    "    tags = \" \".join(results[:5])\n",
    "    \n",
    "    return tags"
   ]
  },
  {
   "cell_type": "code",
   "execution_count": 41,
   "metadata": {
    "colab": {},
    "colab_type": "code",
    "id": "JpjlSURhISB2"
   },
   "outputs": [],
   "source": [
    "lda_model = LatentDirichletAllocation(n_components=n_topics, max_iter=5,\n",
    "                                        learning_method='online',\n",
    "                                        learning_offset=50.,\n",
    "                                        random_state=0).fit(X_tfidf_train)"
   ]
  },
  {
   "cell_type": "code",
   "execution_count": 42,
   "metadata": {
    "colab": {
     "base_uri": "https://localhost:8080/",
     "height": 34
    },
    "colab_type": "code",
    "id": "lOwbpNo7ISB6",
    "outputId": "9b787d1a-bba9-48c0-b196-2ad4e83678ab"
   },
   "outputs": [
    {
     "name": "stdout",
     "output_type": "stream",
     "text": [
      "The process took: 0hour:0min:52sec\n"
     ]
    }
   ],
   "source": [
    "process_time_starts()\n",
    "LDA_tags = [Recommend_tags(text, lda_model) for text in X_test ]\n",
    "time_elapsed()"
   ]
  },
  {
   "cell_type": "code",
   "execution_count": 43,
   "metadata": {
    "colab": {},
    "colab_type": "code",
    "id": "wwJCnMyuq-Hq"
   },
   "outputs": [],
   "source": [
    "df_xtest = pd.DataFrame(X_test).reset_index()\n",
    "df_ytest = pd.DataFrame(y_test).reset_index()\n",
    "\n",
    "\n",
    "df_test = pd.merge(df_xtest, df_ytest)\n",
    "df_test.drop('index', axis=1, inplace=True)"
   ]
  },
  {
   "cell_type": "code",
   "execution_count": 44,
   "metadata": {
    "colab": {
     "base_uri": "https://localhost:8080/",
     "height": 206
    },
    "colab_type": "code",
    "id": "PKGspy2kISB9",
    "outputId": "0df583eb-2f7c-457e-c7f1-ab30dee3abbe"
   },
   "outputs": [
    {
     "data": {
      "text/html": [
       "<div>\n",
       "<style scoped>\n",
       "    .dataframe tbody tr th:only-of-type {\n",
       "        vertical-align: middle;\n",
       "    }\n",
       "\n",
       "    .dataframe tbody tr th {\n",
       "        vertical-align: top;\n",
       "    }\n",
       "\n",
       "    .dataframe thead th {\n",
       "        text-align: right;\n",
       "    }\n",
       "</style>\n",
       "<table border=\"1\" class=\"dataframe\">\n",
       "  <thead>\n",
       "    <tr style=\"text-align: right;\">\n",
       "      <th></th>\n",
       "      <th>Lemma</th>\n",
       "      <th>taglist</th>\n",
       "      <th>LDA_tags</th>\n",
       "    </tr>\n",
       "  </thead>\n",
       "  <tbody>\n",
       "    <tr>\n",
       "      <th>0</th>\n",
       "      <td>['instal', 'libv', 'gem', 'o', '+', 'try', 'in...</td>\n",
       "      <td>gem rubygems osx-mavericks osx-yosemite libv8</td>\n",
       "      <td>find error build install user</td>\n",
       "    </tr>\n",
       "    <tr>\n",
       "      <th>1</th>\n",
       "      <td>['right', 'leave', 'support', 'twitter', 'boot...</td>\n",
       "      <td>css html twitter-bootstrap twitter-bootstrap-3</td>\n",
       "      <td>create new script difference element</td>\n",
       "    </tr>\n",
       "    <tr>\n",
       "      <th>2</th>\n",
       "      <td>['operator', 'mysql', 'work', 'code', 'write',...</td>\n",
       "      <td>mysql sql operators spaceship-operator</td>\n",
       "      <td>name mysql source set error</td>\n",
       "    </tr>\n",
       "    <tr>\n",
       "      <th>3</th>\n",
       "      <td>['warn', 'implicit', 'declaration', 'function'...</td>\n",
       "      <td>c compiler-warnings</td>\n",
       "      <td>function error import library size</td>\n",
       "    </tr>\n",
       "    <tr>\n",
       "      <th>4</th>\n",
       "      <td>['exportimport', 'job', 'jenkins', 'possible',...</td>\n",
       "      <td>jenkins</td>\n",
       "      <td>different test reference app number</td>\n",
       "    </tr>\n",
       "  </tbody>\n",
       "</table>\n",
       "</div>"
      ],
      "text/plain": [
       "                                               Lemma  \\\n",
       "0  ['instal', 'libv', 'gem', 'o', '+', 'try', 'in...   \n",
       "1  ['right', 'leave', 'support', 'twitter', 'boot...   \n",
       "2  ['operator', 'mysql', 'work', 'code', 'write',...   \n",
       "3  ['warn', 'implicit', 'declaration', 'function'...   \n",
       "4  ['exportimport', 'job', 'jenkins', 'possible',...   \n",
       "\n",
       "                                          taglist  \\\n",
       "0   gem rubygems osx-mavericks osx-yosemite libv8   \n",
       "1  css html twitter-bootstrap twitter-bootstrap-3   \n",
       "2          mysql sql operators spaceship-operator   \n",
       "3                             c compiler-warnings   \n",
       "4                                         jenkins   \n",
       "\n",
       "                               LDA_tags  \n",
       "0         find error build install user  \n",
       "1  create new script difference element  \n",
       "2           name mysql source set error  \n",
       "3    function error import library size  \n",
       "4   different test reference app number  "
      ]
     },
     "execution_count": 44,
     "metadata": {},
     "output_type": "execute_result"
    }
   ],
   "source": [
    "df_test['LDA_tags'] = LDA_tags\n",
    "df_test.head()"
   ]
  },
  {
   "cell_type": "markdown",
   "metadata": {
    "colab_type": "text",
    "id": "FOwKlTvbISCC"
   },
   "source": [
    "#### 2.1.3 Performance evaluation of LDA predictions"
   ]
  },
  {
   "cell_type": "markdown",
   "metadata": {
    "colab_type": "text",
    "id": "DlXsmRjjISCD"
   },
   "source": [
    "##### Baseline: we create a tags vector with a dummy classifier "
   ]
  },
  {
   "cell_type": "code",
   "execution_count": 45,
   "metadata": {
    "colab": {},
    "colab_type": "code",
    "id": "MjwpKi56ISCE"
   },
   "outputs": [],
   "source": [
    "# Dummy Classifier (baseline)\n",
    "\n",
    "dummy_clf = DummyClassifier(random_state=0, strategy=\"most_frequent\")\n",
    "\n",
    "model_dummy = dummy_clf.fit(X_tfidf_train, y_train)\n",
    "y_dummy_pred = model_dummy.predict(X_tfidf_test)"
   ]
  },
  {
   "cell_type": "markdown",
   "metadata": {
    "colab_type": "text",
    "id": "DZBZfxDNISCH"
   },
   "source": [
    "##### Cosine similarity as score metrics:\n",
    "\n",
    "Cosine similarity is a measure of similarity between two non-zero vectors of an inner product space that measures the cosine of the angle between them.\n",
    "We have to construct a vector space from all the ‘sentences’ in tags arrays. We do so by using the TF-IDF approach."
   ]
  },
  {
   "cell_type": "code",
   "execution_count": 46,
   "metadata": {
    "colab": {},
    "colab_type": "code",
    "id": "3YCclOn6ISCI"
   },
   "outputs": [],
   "source": [
    "y_tfidf_test = tfidfVectorizer.transform(y_test)\n",
    "y_tfidf_LDA = tfidfVectorizer.transform(LDA_tags)\n",
    "y_tfidf_dummy = tfidfVectorizer.transform(y_dummy_pred)\n",
    "#print(y_tfidf_test.shape, y_tfidf_LDA.shape, y_tfidf_dummy.shape)"
   ]
  },
  {
   "cell_type": "markdown",
   "metadata": {
    "colab_type": "text",
    "id": "T0nLMDBNISCM"
   },
   "source": [
    "##### Verify scores"
   ]
  },
  {
   "cell_type": "code",
   "execution_count": 47,
   "metadata": {
    "colab": {
     "base_uri": "https://localhost:8080/",
     "height": 52
    },
    "colab_type": "code",
    "id": "SX0PXCVsISCM",
    "outputId": "da94412e-5b61-4139-dfa9-911789b1c0de"
   },
   "outputs": [
    {
     "name": "stdout",
     "output_type": "stream",
     "text": [
      "Dummy score: [[0.05342378]]\n",
      "LDA score: [[0.18009483]]\n"
     ]
    }
   ],
   "source": [
    "# Cosine similarity varies between 0 and 1.\n",
    "# If the predicted tags are exactly the same as those given by stackoverflow, cosine similarity is = 1\n",
    "#  to have one number we need reshaping 1D vectors representing tags, as 2D vectors(-1,1)\n",
    "print('Dummy score:',cosine_similarity(y_tfidf_test.reshape(1,-1), y_tfidf_dummy.reshape(1,-1))) \n",
    "print('LDA score:',cosine_similarity(y_tfidf_test.reshape(1,-1), y_tfidf_LDA.reshape(1,-1)))"
   ]
  },
  {
   "cell_type": "markdown",
   "metadata": {
    "colab_type": "text",
    "id": "WrloSJlZISCS"
   },
   "source": [
    "### 2.2 Tags reccommendation with non-negative matrix factorization(NMF) topic modelling"
   ]
  },
  {
   "cell_type": "code",
   "execution_count": 48,
   "metadata": {
    "colab": {},
    "colab_type": "code",
    "id": "JOh5--5wISCS"
   },
   "outputs": [],
   "source": [
    "nmf_model = NMF(n_components=n_topics, random_state=1,\n",
    "          alpha=.1, l1_ratio=.5).fit(X_tfidf_train)"
   ]
  },
  {
   "cell_type": "code",
   "execution_count": 49,
   "metadata": {
    "colab": {
     "base_uri": "https://localhost:8080/",
     "height": 34
    },
    "colab_type": "code",
    "id": "a88emROVISCW",
    "outputId": "8202046e-6507-4515-d499-d33f3a18e67b"
   },
   "outputs": [
    {
     "name": "stdout",
     "output_type": "stream",
     "text": [
      "The process took: 0hour:0min:50sec\n"
     ]
    }
   ],
   "source": [
    "process_time_starts()\n",
    "NMF_tags = [Recommend_tags(text, nmf_model) for text in X_test ]\n",
    "time_elapsed()"
   ]
  },
  {
   "cell_type": "code",
   "execution_count": 50,
   "metadata": {
    "colab": {
     "base_uri": "https://localhost:8080/",
     "height": 206
    },
    "colab_type": "code",
    "id": "-FUttuXwISCb",
    "outputId": "c5af1ae1-5550-4204-eb44-a5f2a5d6c6a6"
   },
   "outputs": [
    {
     "data": {
      "text/html": [
       "<div>\n",
       "<style scoped>\n",
       "    .dataframe tbody tr th:only-of-type {\n",
       "        vertical-align: middle;\n",
       "    }\n",
       "\n",
       "    .dataframe tbody tr th {\n",
       "        vertical-align: top;\n",
       "    }\n",
       "\n",
       "    .dataframe thead th {\n",
       "        text-align: right;\n",
       "    }\n",
       "</style>\n",
       "<table border=\"1\" class=\"dataframe\">\n",
       "  <thead>\n",
       "    <tr style=\"text-align: right;\">\n",
       "      <th></th>\n",
       "      <th>Lemma</th>\n",
       "      <th>taglist</th>\n",
       "      <th>LDA_tags</th>\n",
       "      <th>NMF_tags</th>\n",
       "    </tr>\n",
       "  </thead>\n",
       "  <tbody>\n",
       "    <tr>\n",
       "      <th>0</th>\n",
       "      <td>['instal', 'libv', 'gem', 'o', '+', 'try', 'in...</td>\n",
       "      <td>gem rubygems osx-mavericks osx-yosemite libv8</td>\n",
       "      <td>find error build install user</td>\n",
       "      <td>error package compile install option</td>\n",
       "    </tr>\n",
       "    <tr>\n",
       "      <th>1</th>\n",
       "      <td>['right', 'leave', 'support', 'twitter', 'boot...</td>\n",
       "      <td>css html twitter-bootstrap twitter-bootstrap-3</td>\n",
       "      <td>create new script difference element</td>\n",
       "      <td>project compile build</td>\n",
       "    </tr>\n",
       "    <tr>\n",
       "      <th>2</th>\n",
       "      <td>['operator', 'mysql', 'work', 'code', 'write',...</td>\n",
       "      <td>mysql sql operators spaceship-operator</td>\n",
       "      <td>name mysql source set error</td>\n",
       "      <td>error null server sql thread</td>\n",
       "    </tr>\n",
       "    <tr>\n",
       "      <th>3</th>\n",
       "      <td>['warn', 'implicit', 'declaration', 'function'...</td>\n",
       "      <td>c compiler-warnings</td>\n",
       "      <td>function error import library size</td>\n",
       "      <td>function return</td>\n",
       "    </tr>\n",
       "    <tr>\n",
       "      <th>4</th>\n",
       "      <td>['exportimport', 'job', 'jenkins', 'possible',...</td>\n",
       "      <td>jenkins</td>\n",
       "      <td>different test reference app number</td>\n",
       "      <td></td>\n",
       "    </tr>\n",
       "  </tbody>\n",
       "</table>\n",
       "</div>"
      ],
      "text/plain": [
       "                                               Lemma  \\\n",
       "0  ['instal', 'libv', 'gem', 'o', '+', 'try', 'in...   \n",
       "1  ['right', 'leave', 'support', 'twitter', 'boot...   \n",
       "2  ['operator', 'mysql', 'work', 'code', 'write',...   \n",
       "3  ['warn', 'implicit', 'declaration', 'function'...   \n",
       "4  ['exportimport', 'job', 'jenkins', 'possible',...   \n",
       "\n",
       "                                          taglist  \\\n",
       "0   gem rubygems osx-mavericks osx-yosemite libv8   \n",
       "1  css html twitter-bootstrap twitter-bootstrap-3   \n",
       "2          mysql sql operators spaceship-operator   \n",
       "3                             c compiler-warnings   \n",
       "4                                         jenkins   \n",
       "\n",
       "                               LDA_tags                              NMF_tags  \n",
       "0         find error build install user  error package compile install option  \n",
       "1  create new script difference element                 project compile build  \n",
       "2           name mysql source set error          error null server sql thread  \n",
       "3    function error import library size                       function return  \n",
       "4   different test reference app number                                        "
      ]
     },
     "execution_count": 50,
     "metadata": {},
     "output_type": "execute_result"
    }
   ],
   "source": [
    "df_test['NMF_tags'] = NMF_tags\n",
    "df_test.head()"
   ]
  },
  {
   "cell_type": "code",
   "execution_count": 51,
   "metadata": {
    "colab": {
     "base_uri": "https://localhost:8080/",
     "height": 52
    },
    "colab_type": "code",
    "id": "oll30ONGISCh",
    "outputId": "d1d370ae-4a4b-40e7-96e2-25ca78c12b7a"
   },
   "outputs": [
    {
     "name": "stdout",
     "output_type": "stream",
     "text": [
      "Dummy score: [[0.05342378]]\n",
      "NMF score: [[0.18110464]]\n"
     ]
    }
   ],
   "source": [
    "y_tfidf_NMF = tfidfVectorizer.transform(NMF_tags)\n",
    "print('Dummy score:',cosine_similarity(y_tfidf_test.reshape(1,-1), y_tfidf_dummy.reshape(1,-1))) \n",
    "print('NMF score:',cosine_similarity(y_tfidf_test.reshape(1,-1), y_tfidf_NMF.reshape(1,-1)))"
   ]
  },
  {
   "cell_type": "markdown",
   "metadata": {
    "colab_type": "text",
    "id": "J_50j98VI9fN"
   },
   "source": [
    "### 2.3 Tags reccommendation with YAKE Keyword Extractor"
   ]
  },
  {
   "cell_type": "code",
   "execution_count": 52,
   "metadata": {
    "colab": {},
    "colab_type": "code",
    "id": "ir45FeW2Hfy5"
   },
   "outputs": [],
   "source": [
    "simple_kwextractor = yake.KeywordExtractor()"
   ]
  },
  {
   "cell_type": "code",
   "execution_count": 53,
   "metadata": {
    "colab": {
     "base_uri": "https://localhost:8080/",
     "height": 34
    },
    "colab_type": "code",
    "id": "AX5hu8dCY9Gg",
    "outputId": "9beef0b4-1a66-4fb2-f27c-d3a64e4edc4b"
   },
   "outputs": [
    {
     "name": "stdout",
     "output_type": "stream",
     "text": [
      "The process took: 0hour:1min:55sec\n"
     ]
    }
   ],
   "source": [
    "# loop through stackoverflow posts & extract keywords\n",
    "# create empty list to save our keywords to\n",
    "tags_YAKE = []\n",
    "process_time_starts()\n",
    "\n",
    "for post in X_test:\n",
    "    post_keywords = simple_kwextractor.extract_keywords(post)\n",
    "    \n",
    "    sentence_output = \"\"\n",
    "    for word, number in post_keywords[:5]:\n",
    "        sentence_output += word + \" \"\n",
    "    \n",
    "    tags_YAKE.append(sentence_output)\n",
    "\n",
    "time_elapsed()\n"
   ]
  },
  {
   "cell_type": "code",
   "execution_count": 54,
   "metadata": {
    "colab": {},
    "colab_type": "code",
    "id": "m54V_1iTXM2e"
   },
   "outputs": [],
   "source": [
    "df_test['YAKE tags'] = tags_YAKE"
   ]
  },
  {
   "cell_type": "code",
   "execution_count": 55,
   "metadata": {
    "colab": {
     "base_uri": "https://localhost:8080/",
     "height": 293
    },
    "colab_type": "code",
    "id": "tMN0iVYtHfje",
    "outputId": "44a9b618-8246-4002-b534-8f8d15640f86"
   },
   "outputs": [
    {
     "data": {
      "text/html": [
       "<div>\n",
       "<style scoped>\n",
       "    .dataframe tbody tr th:only-of-type {\n",
       "        vertical-align: middle;\n",
       "    }\n",
       "\n",
       "    .dataframe tbody tr th {\n",
       "        vertical-align: top;\n",
       "    }\n",
       "\n",
       "    .dataframe thead th {\n",
       "        text-align: right;\n",
       "    }\n",
       "</style>\n",
       "<table border=\"1\" class=\"dataframe\">\n",
       "  <thead>\n",
       "    <tr style=\"text-align: right;\">\n",
       "      <th></th>\n",
       "      <th>Lemma</th>\n",
       "      <th>taglist</th>\n",
       "      <th>LDA_tags</th>\n",
       "      <th>NMF_tags</th>\n",
       "      <th>YAKE tags</th>\n",
       "    </tr>\n",
       "  </thead>\n",
       "  <tbody>\n",
       "    <tr>\n",
       "      <th>0</th>\n",
       "      <td>['instal', 'libv', 'gem', 'o', '+', 'try', 'in...</td>\n",
       "      <td>gem rubygems osx-mavericks osx-yosemite libv8</td>\n",
       "      <td>find error build install user</td>\n",
       "      <td>error package compile install option</td>\n",
       "      <td>usersmervmgemsruby target cxx libv error</td>\n",
       "    </tr>\n",
       "    <tr>\n",
       "      <th>1</th>\n",
       "      <td>['right', 'leave', 'support', 'twitter', 'boot...</td>\n",
       "      <td>css html twitter-bootstrap twitter-bootstrap-3</td>\n",
       "      <td>create new script difference element</td>\n",
       "      <td>project compile build</td>\n",
       "      <td>bootstrap leave support twitter rtl</td>\n",
       "    </tr>\n",
       "    <tr>\n",
       "      <th>2</th>\n",
       "      <td>['operator', 'mysql', 'work', 'code', 'write',...</td>\n",
       "      <td>mysql sql operators spaceship-operator</td>\n",
       "      <td>name mysql source set error</td>\n",
       "      <td>error null server sql thread</td>\n",
       "      <td>mysql query error operator work</td>\n",
       "    </tr>\n",
       "    <tr>\n",
       "      <th>3</th>\n",
       "      <td>['warn', 'implicit', 'declaration', 'function'...</td>\n",
       "      <td>c compiler-warnings</td>\n",
       "      <td>function error import library size</td>\n",
       "      <td>function return</td>\n",
       "      <td>warn implicit declaration function compiler</td>\n",
       "    </tr>\n",
       "    <tr>\n",
       "      <th>4</th>\n",
       "      <td>['exportimport', 'job', 'jenkins', 'possible',...</td>\n",
       "      <td>jenkins</td>\n",
       "      <td>different test reference app number</td>\n",
       "      <td></td>\n",
       "      <td>job exportimport jenkins exchange search</td>\n",
       "    </tr>\n",
       "  </tbody>\n",
       "</table>\n",
       "</div>"
      ],
      "text/plain": [
       "                                               Lemma  \\\n",
       "0  ['instal', 'libv', 'gem', 'o', '+', 'try', 'in...   \n",
       "1  ['right', 'leave', 'support', 'twitter', 'boot...   \n",
       "2  ['operator', 'mysql', 'work', 'code', 'write',...   \n",
       "3  ['warn', 'implicit', 'declaration', 'function'...   \n",
       "4  ['exportimport', 'job', 'jenkins', 'possible',...   \n",
       "\n",
       "                                          taglist  \\\n",
       "0   gem rubygems osx-mavericks osx-yosemite libv8   \n",
       "1  css html twitter-bootstrap twitter-bootstrap-3   \n",
       "2          mysql sql operators spaceship-operator   \n",
       "3                             c compiler-warnings   \n",
       "4                                         jenkins   \n",
       "\n",
       "                               LDA_tags                              NMF_tags  \\\n",
       "0         find error build install user  error package compile install option   \n",
       "1  create new script difference element                 project compile build   \n",
       "2           name mysql source set error          error null server sql thread   \n",
       "3    function error import library size                       function return   \n",
       "4   different test reference app number                                         \n",
       "\n",
       "                                      YAKE tags  \n",
       "0     usersmervmgemsruby target cxx libv error   \n",
       "1          bootstrap leave support twitter rtl   \n",
       "2              mysql query error operator work   \n",
       "3  warn implicit declaration function compiler   \n",
       "4     job exportimport jenkins exchange search   "
      ]
     },
     "execution_count": 55,
     "metadata": {},
     "output_type": "execute_result"
    }
   ],
   "source": [
    "df_test.head()"
   ]
  },
  {
   "cell_type": "code",
   "execution_count": 56,
   "metadata": {
    "colab": {
     "base_uri": "https://localhost:8080/",
     "height": 86
    },
    "colab_type": "code",
    "id": "c4JgUO4pHfcQ",
    "outputId": "77d2bd97-1d01-4928-b999-737f661e1c5a"
   },
   "outputs": [
    {
     "name": "stdout",
     "output_type": "stream",
     "text": [
      "Dummy score: [[0.05342378]]\n",
      "YAKE score: [[0.29256526]]\n",
      "LDA score: [[0.18009483]]\n",
      "NMF score: [[0.18110464]]\n"
     ]
    }
   ],
   "source": [
    "y_tfidf_YAKE = tfidfVectorizer.transform(df_test['YAKE tags'])\n",
    "print('Dummy score:',cosine_similarity(y_tfidf_test.reshape(1,-1), y_tfidf_dummy.reshape(1,-1))) \n",
    "print('YAKE score:',cosine_similarity(y_tfidf_test.reshape(1,-1), y_tfidf_YAKE.reshape(1,-1)))\n",
    "print('LDA score:',cosine_similarity(y_tfidf_test.reshape(1,-1), y_tfidf_LDA.reshape(1,-1)))\n",
    "print('NMF score:',cosine_similarity(y_tfidf_test.reshape(1,-1), y_tfidf_NMF.reshape(1,-1)))"
   ]
  },
  {
   "cell_type": "code",
   "execution_count": null,
   "metadata": {
    "colab": {},
    "colab_type": "code",
    "id": "btz45mGfHfT0"
   },
   "outputs": [],
   "source": []
  },
  {
   "cell_type": "code",
   "execution_count": null,
   "metadata": {
    "colab": {},
    "colab_type": "code",
    "id": "FRhIZJ7XHe6f"
   },
   "outputs": [],
   "source": []
  },
  {
   "cell_type": "markdown",
   "metadata": {
    "colab_type": "text",
    "id": "pwqaUeeWISCk"
   },
   "source": [
    "## 3. Supervised topic modeling"
   ]
  },
  {
   "cell_type": "markdown",
   "metadata": {
    "colab_type": "text",
    "id": "zuYcNVPYISCl"
   },
   "source": [
    "To evaluate the supervised training models, I'll use the Jaccard score since it's the best fitted for multi label classification. \n",
    "https://en.wikipedia.org/wiki/Multi-label_classification#Statistics_and_evaluation_metrics"
   ]
  },
  {
   "cell_type": "code",
   "execution_count": 57,
   "metadata": {
    "colab": {},
    "colab_type": "code",
    "id": "boheaXGPISCm"
   },
   "outputs": [],
   "source": [
    "def print_score(y_pred, clf):\n",
    "    \n",
    "    print(\"Clf: \", clf.__class__.__name__)\n",
    "    print(\"Jaccard score: {}\".format(jaccard_score(y_test_bin, y_pred, average='weighted'))) # measure of similarity for the two sets of data. Average is set to \"samples\" since is between two multilabeled\n",
    "    print(\"Hamming loss: {}\".format((hamming_loss(y_pred, y_test_bin)))) #% of the wrong labels to the total number of labels\n",
    "    print(\"Accuracy score: {}\".format((accuracy_score(y_test_bin, y_pred))))   \n",
    "    print(\"---\")    "
   ]
  },
  {
   "cell_type": "markdown",
   "metadata": {
    "colab_type": "text",
    "id": "gW9iEoQmISCq"
   },
   "source": [
    "### 3.1 Evaluate several classifiers"
   ]
  },
  {
   "cell_type": "markdown",
   "metadata": {
    "colab_type": "text",
    "id": "WAvR33EAEbBN"
   },
   "source": [
    "3.1.1 How many relevant features do we have?"
   ]
  },
  {
   "cell_type": "code",
   "execution_count": 58,
   "metadata": {
    "colab": {
     "base_uri": "https://localhost:8080/",
     "height": 404
    },
    "colab_type": "code",
    "id": "QV2-BhVGCsJ8",
    "outputId": "b72a07a3-4876-4f8e-a83f-8a5591c0909e"
   },
   "outputs": [
    {
     "data": {
      "image/png": "[encoded data removed]",
      "text/plain": [
       "<Figure size 576x432 with 1 Axes>"
      ]
     },
     "metadata": {
      "needs_background": "light"
     },
     "output_type": "display_data"
    }
   ],
   "source": [
    "#scaler = StandardScaler()\n",
    "#X_tfidf_train_std = scaler.fit_transform(X_tfidf_train)\n",
    "\n",
    "\n",
    "X_train_pca = PCA().fit(X_tfidf_train)\n",
    "\n",
    "fig, ax = plt.subplots(figsize=(8,6))\n",
    "\n",
    "x_values = range(1, X_train_pca.n_components_+1)\n",
    "\n",
    "ax.plot(x_values, X_train_pca.explained_variance_ratio_, lw=2, label='explained variance')\n",
    "ax.plot(x_values, np.cumsum(X_train_pca.explained_variance_ratio_), lw=2, label='cumulative explained variance')\n",
    "ax.set_title('TF-IDF : explained variance of components')\n",
    "ax.set_xlabel('principal component')\n",
    "ax.set_ylabel('explained variance')\n",
    "plt.legend()\n",
    "plt.show()"
   ]
  },
  {
   "cell_type": "code",
   "execution_count": 59,
   "metadata": {
    "colab": {
     "base_uri": "https://localhost:8080/",
     "height": 34
    },
    "colab_type": "code",
    "id": "MZPl-2uIDmmq",
    "outputId": "2cce3a2f-0eae-47fc-fb29-a4233d76146b"
   },
   "outputs": [
    {
     "name": "stdout",
     "output_type": "stream",
     "text": [
      "(29740, 100) (7435, 100)\n"
     ]
    }
   ],
   "source": [
    "pca = PCA(n_components=100)\n",
    "\n",
    "\n",
    "X_PCA_train = pca.fit_transform(X_tfidf_train)\n",
    "X_PCA_test = pca.fit_transform(X_tfidf_test)\n",
    "\n",
    "print(X_PCA_train.shape, X_PCA_test.shape)"
   ]
  },
  {
   "cell_type": "markdown",
   "metadata": {
    "colab_type": "text",
    "id": "AEL3m-qQEodA"
   },
   "source": [
    "3.1.2 Test several classifiers for original matrix and that reduced by PCA"
   ]
  },
  {
   "cell_type": "code",
   "execution_count": 60,
   "metadata": {
    "colab": {
     "base_uri": "https://localhost:8080/",
     "height": 955
    },
    "colab_type": "code",
    "id": "6AuqFHqyxliE",
    "outputId": "ea96c376-a8df-4011-c6fa-bc30c8f26bda"
   },
   "outputs": [
    {
     "name": "stdout",
     "output_type": "stream",
     "text": [
      "fit running....\n",
      "time up\n",
      "The process took: 0hour:0min:0sec\n",
      "Clf:  DummyClassifier\n",
      "Jaccard score: 0.0\n",
      "Hamming loss: 0.013717674390169346\n",
      "Accuracy score: 0.08446536650975117\n",
      "---\n",
      "---\n",
      "fit running....\n",
      "time up\n",
      "The process took: 0hour:1min:28sec\n",
      "Clf:  LogisticRegression\n",
      "Jaccard score: 0.28782307158067544\n",
      "Hamming loss: 0.011433636974995415\n",
      "Accuracy score: 0.25205110961667787\n",
      "---\n",
      "---\n",
      "fit running....\n",
      "time up\n",
      "The process took: 0hour:2min:35sec\n",
      "Clf:  LinearSVC\n",
      "Jaccard score: 0.28275646960712253\n",
      "Hamming loss: 0.011366387479366632\n",
      "Accuracy score: 0.2566240753194351\n",
      "---\n",
      "---\n",
      "fit running....\n",
      "time up\n",
      "The process took: 0hour:0min:2sec\n",
      "Clf:  MultinomialNB\n",
      "Jaccard score: 0.18364559459163582\n",
      "Hamming loss: 0.11102158097450633\n",
      "Accuracy score: 0.0032279757901815735\n",
      "---\n",
      "---\n",
      "fit running....\n",
      "time up\n",
      "The process took: 0hour:0min:14sec\n",
      "Clf:  Perceptron\n",
      "Jaccard score: 0.24716356432914646\n",
      "Hamming loss: 0.01765115852540197\n",
      "Accuracy score: 0.16395427034297244\n",
      "---\n",
      "---\n",
      "fit running....\n",
      "time up\n",
      "The process took: 0hour:0min:16sec\n",
      "Clf:  PassiveAggressiveClassifier\n",
      "Jaccard score: 0.24016557285935763\n",
      "Hamming loss: 0.019027939108638505\n",
      "Accuracy score: 0.1456624075319435\n",
      "---\n",
      "---\n"
     ]
    }
   ],
   "source": [
    "lr = LogisticRegression()\n",
    "sgd = SGDClassifier() # stochastic gradient descent (SGD) learning\n",
    "mn = MultinomialNB() # naive Bayes algorithm for multinomially distributed data,\n",
    "svc = LinearSVC()\n",
    "perceptron = Perceptron()\n",
    "pac = PassiveAggressiveClassifier() # Passive: if correct classification, keep the model; Aggressive: if incorrect classification, update to adjust to this misclassified example.\n",
    "\n",
    "\n",
    "classifiers_list = [dummy_clf,lr, svc, mn, perceptron, pac]\n",
    "classifiers_jaccard_scores = []\n",
    "classifiers_hamming_losses = []\n",
    "classifiers_accuracy_scores = []\n",
    "\n",
    "for classifier in classifiers_list:\n",
    "    process_time_starts()\n",
    "    \n",
    "    clf = MultiOutputClassifier(classifier) # check sklearn\n",
    "    print(\"fit running....\")\n",
    "    clf.fit(X_tfidf_train, y_train_bin)\n",
    "    y_pred = clf.predict(X_tfidf_test)\n",
    "    classifiers_jaccard_scores.append(jaccard_score(y_test_bin, y_pred, average='weighted'))\n",
    "    classifiers_hamming_losses.append((hamming_loss(y_pred, y_test_bin)))\n",
    "    classifiers_accuracy_scores.append(accuracy_score(y_test_bin, y_pred))\n",
    "\n",
    "    \n",
    "    print(\"time up\")\n",
    "    time_elapsed()\n",
    "    print_score(y_pred, classifier)\n",
    "    \n",
    "    print(\"---\")"
   ]
  },
  {
   "cell_type": "markdown",
   "metadata": {
    "colab_type": "text",
    "id": "_Zz_o1_eoCye"
   },
   "source": [
    "**Test on PCA reduced features**\n",
    "\n"
   ]
  },
  {
   "cell_type": "code",
   "execution_count": 61,
   "metadata": {
    "colab": {
     "base_uri": "https://localhost:8080/",
     "height": 642
    },
    "colab_type": "code",
    "id": "ebCQZ7ghmicH",
    "outputId": "453890ad-20c2-4721-b58a-f2d87a562a6c"
   },
   "outputs": [
    {
     "name": "stdout",
     "output_type": "stream",
     "text": [
      "time up\n",
      "The process took: 0hour:0min:0sec\n",
      "score after PCA\n",
      "Clf:  DummyClassifier\n",
      "Jaccard score: 0.0\n",
      "Hamming loss: 0.013717674390169346\n",
      "Accuracy score: 0.08446536650975117\n",
      "---\n",
      "---\n",
      "time up\n",
      "The process took: 0hour:0min:53sec\n",
      "score after PCA\n",
      "Clf:  LogisticRegression\n",
      "Jaccard score: 0.018741680798018457\n",
      "Hamming loss: 0.043726844775936906\n",
      "Accuracy score: 0.06213853396099529\n",
      "---\n",
      "---\n",
      "time up\n",
      "The process took: 0hour:0min:10sec\n",
      "score after PCA\n",
      "Clf:  Perceptron\n",
      "Jaccard score: 0.03042439446033837\n",
      "Hamming loss: 0.09283487192027878\n",
      "Accuracy score: 0.013584398117014122\n",
      "---\n",
      "---\n",
      "time up\n",
      "The process took: 0hour:0min:12sec\n",
      "score after PCA\n",
      "Clf:  PassiveAggressiveClassifier\n",
      "Jaccard score: 0.023005658694112592\n",
      "Hamming loss: 0.05015589655804854\n",
      "Accuracy score: 0.05460659045057162\n",
      "---\n",
      "---\n"
     ]
    }
   ],
   "source": [
    "dummy_clf = DummyClassifier(random_state=0, strategy=\"most_frequent\")\n",
    "lr = LogisticRegression()\n",
    "sgd = SGDClassifier() # stochastic gradient descent (SGD) learning\n",
    "mn = MultinomialNB() # naive Bayes algorithm for multinomially distributed data,\n",
    "svc = LinearSVC()\n",
    "perceptron = Perceptron()\n",
    "pac = PassiveAggressiveClassifier() # Passive: if correct classification, keep the model; Aggressive: if incorrect classification, update to adjust to this misclassified example.\n",
    "classifiers_list = [dummy_clf,lr, perceptron, pac]\n",
    "for classifier in classifiers_list:\n",
    "    process_time_starts()\n",
    "    \n",
    "    clf = MultiOutputClassifier(classifier)\n",
    "    clf.fit(X_PCA_train, y_train_bin)\n",
    "    y_pred = clf.predict(X_PCA_test)\n",
    "    \n",
    "    print(\"time up\")\n",
    "    time_elapsed()\n",
    "    print('score after PCA')\n",
    "    print_score(y_pred, classifier)\n",
    "        \n",
    "    print(\"---\")"
   ]
  },
  {
   "cell_type": "markdown",
   "metadata": {
    "colab_type": "text",
    "id": "B9UKsEI4PxUy"
   },
   "source": [
    "3.1.3 Test KNN\n",
    "\n",
    "- Find optimal number of neighbors for KNN Classifier\n",
    "- Run optimized algorythm"
   ]
  },
  {
   "cell_type": "code",
   "execution_count": 62,
   "metadata": {
    "colab": {
     "base_uri": "https://localhost:8080/",
     "height": 52
    },
    "colab_type": "code",
    "id": "5M07V3l_z6il",
    "outputId": "ee23ecdb-3f10-4f8d-bbbf-afaa58ce2de7"
   },
   "outputs": [
    {
     "name": "stdout",
     "output_type": "stream",
     "text": [
      "The process took: 0hour:9min:39sec\n",
      "the number K of neighbors that returns highest score is:  10\n"
     ]
    }
   ],
   "source": [
    "process_time_starts()\n",
    "\n",
    "Jaccard_KNN =[]\n",
    "Hamming_KNN = []\n",
    "for n in range(2,60,8):\n",
    "    knn = KNeighborsClassifier(n_neighbors = n)\n",
    "    knn_clf = knn.fit(X_tfidf_train, y_train_bin)\n",
    "    y_pred = knn_clf.predict(X_tfidf_test)\n",
    "    Jaccard_KNN.append(jaccard_score(y_test_bin, y_pred, average='samples'))\n",
    "    Hamming_KNN.append(hamming_loss(y_pred, y_test_bin))\n",
    "\n",
    "time_elapsed()\n",
    "\n",
    "KNN_range = np.arange(2,60,8)\n",
    "df_KNN = pd.DataFrame(KNN_range, columns = ['range'])\n",
    "df_KNN['Jaccard_score'] = Jaccard_KNN\n",
    "df_KNN['Hamming_loss'] = Hamming_KNN\n",
    "\n",
    "neighbors_max = df_KNN.iloc[df_KNN['Jaccard_score'].argmax(), 0] # the number K of neighbors that returns highest score \n",
    "print(\"the number K of neighbors that returns highest score is: \",neighbors_max)"
   ]
  },
  {
   "cell_type": "code",
   "execution_count": 63,
   "metadata": {
    "colab": {
     "base_uri": "https://localhost:8080/",
     "height": 34
    },
    "colab_type": "code",
    "id": "9_OAXxb5xliO",
    "outputId": "7eec9a09-cd51-48c9-a601-65757b913cd2"
   },
   "outputs": [
    {
     "name": "stdout",
     "output_type": "stream",
     "text": [
      "The process took: 0hour:1min:11sec\n"
     ]
    }
   ],
   "source": [
    "process_time_starts()\n",
    "knn = KNeighborsClassifier(n_neighbors = 10) # KNN optimized\n",
    "knn_clf = knn.fit(X_tfidf_train, y_train_bin)\n",
    "y_pred_KNN = knn_clf.predict(X_tfidf_test)\n",
    "time_elapsed()\n",
    "classifiers_jaccard_scores.append(jaccard_score(y_test_bin, y_pred_KNN, average='weighted'))\n",
    "classifiers_hamming_losses.append((hamming_loss(y_pred_KNN, y_test_bin)))\n",
    "classifiers_accuracy_scores.append(accuracy_score(y_test_bin, y_pred_KNN))\n",
    "classifiers_list.append('KNN')"
   ]
  },
  {
   "cell_type": "markdown",
   "metadata": {
    "colab_type": "text",
    "id": "nUNMxSfnP5NJ"
   },
   "source": [
    "3.1.4 Run Random Forest Classifier"
   ]
  },
  {
   "cell_type": "code",
   "execution_count": 64,
   "metadata": {
    "colab": {
     "base_uri": "https://localhost:8080/",
     "height": 34
    },
    "colab_type": "code",
    "id": "HMsEWsEixliT",
    "outputId": "8f5068f5-2991-4bd7-8fcd-5d263de410fb"
   },
   "outputs": [
    {
     "name": "stdout",
     "output_type": "stream",
     "text": [
      "The process took: 0hour:0min:25sec\n"
     ]
    }
   ],
   "source": [
    "process_time_starts()\n",
    "rf = RandomForestClassifier(max_depth=30000, random_state=42, n_jobs = -1, n_estimators=100)#, parameters optimized to balance consumption and accuracy\n",
    "rf_clf = rf.fit(X_tfidf_train, y_train_bin)\n",
    "# apply the trained random forest model\n",
    "#y_pred_RF = rf_clf.predict(X_tfidf_test)\n",
    "\n",
    "time_elapsed()\n"
   ]
  },
  {
   "cell_type": "code",
   "execution_count": 65,
   "metadata": {
    "colab": {},
    "colab_type": "code",
    "id": "pEomLxUu8oyM"
   },
   "outputs": [],
   "source": [
    "prob_preds= rf_clf.predict_proba(X_tfidf_test)"
   ]
  },
  {
   "cell_type": "markdown",
   "metadata": {
    "colab_type": "text",
    "id": "WG1AuL6tobg-"
   },
   "source": [
    "Matrix contains both positive and negative probability in each cell"
   ]
  },
  {
   "cell_type": "code",
   "execution_count": 66,
   "metadata": {
    "colab": {},
    "colab_type": "code",
    "id": "Bc43aJ7C4aKW"
   },
   "outputs": [],
   "source": [
    "df_probs_all = pd.DataFrame.from_records(prob_preds).T\n",
    "df_probs = pd.DataFrame(index=y_test_bin.index,columns=y_test_bin.columns)"
   ]
  },
  {
   "cell_type": "markdown",
   "metadata": {
    "colab_type": "text",
    "id": "KCwOLzPPokPO"
   },
   "source": [
    "Let's filter out negative probability"
   ]
  },
  {
   "cell_type": "code",
   "execution_count": 67,
   "metadata": {
    "colab": {},
    "colab_type": "code",
    "id": "I-ZxnFR9FVIS"
   },
   "outputs": [],
   "source": [
    "m, n, = df_probs_all.shape\n",
    "for i, j in itertools.product(range(m), range(n)):\n",
    "  df_probs.iloc[i,j] = df_probs_all.iloc[i,j][1]\n",
    "\n",
    "df_probs = df_probs.reset_index(drop=True)"
   ]
  },
  {
   "cell_type": "code",
   "execution_count": 68,
   "metadata": {
    "colab": {
     "base_uri": "https://localhost:8080/",
     "height": 308
    },
    "colab_type": "code",
    "id": "4Ocj_Oor9cWp",
    "outputId": "2e470a42-6834-4d84-97dd-ca56d425987e"
   },
   "outputs": [
    {
     "name": "stdout",
     "output_type": "stream",
     "text": [
      "(7435, 110) (7435, 110)\n"
     ]
    },
    {
     "data": {
      "text/html": [
       "<div>\n",
       "<style scoped>\n",
       "    .dataframe tbody tr th:only-of-type {\n",
       "        vertical-align: middle;\n",
       "    }\n",
       "\n",
       "    .dataframe tbody tr th {\n",
       "        vertical-align: top;\n",
       "    }\n",
       "\n",
       "    .dataframe thead th {\n",
       "        text-align: right;\n",
       "    }\n",
       "</style>\n",
       "<table border=\"1\" class=\"dataframe\">\n",
       "  <thead>\n",
       "    <tr style=\"text-align: right;\">\n",
       "      <th></th>\n",
       "      <th>javascript</th>\n",
       "      <th>python</th>\n",
       "      <th>java</th>\n",
       "      <th>c#</th>\n",
       "      <th>android</th>\n",
       "      <th>html</th>\n",
       "      <th>git</th>\n",
       "      <th>css</th>\n",
       "      <th>jquery</th>\n",
       "      <th>c++</th>\n",
       "      <th>...</th>\n",
       "      <th>types</th>\n",
       "      <th>java-8</th>\n",
       "      <th>dom</th>\n",
       "      <th>svn</th>\n",
       "      <th>entity-framework</th>\n",
       "      <th>variables</th>\n",
       "      <th>matplotlib</th>\n",
       "      <th>sql-server-2008</th>\n",
       "      <th>logging</th>\n",
       "      <th>express</th>\n",
       "    </tr>\n",
       "  </thead>\n",
       "  <tbody>\n",
       "    <tr>\n",
       "      <th>0</th>\n",
       "      <td>0.01</td>\n",
       "      <td>0.49</td>\n",
       "      <td>0</td>\n",
       "      <td>0.02</td>\n",
       "      <td>0</td>\n",
       "      <td>0</td>\n",
       "      <td>0.04</td>\n",
       "      <td>0</td>\n",
       "      <td>0</td>\n",
       "      <td>0.02</td>\n",
       "      <td>...</td>\n",
       "      <td>0</td>\n",
       "      <td>0</td>\n",
       "      <td>0</td>\n",
       "      <td>0</td>\n",
       "      <td>0</td>\n",
       "      <td>0.01</td>\n",
       "      <td>0.04</td>\n",
       "      <td>0</td>\n",
       "      <td>0.02</td>\n",
       "      <td>0</td>\n",
       "    </tr>\n",
       "    <tr>\n",
       "      <th>1</th>\n",
       "      <td>0.08</td>\n",
       "      <td>0.01</td>\n",
       "      <td>0.15</td>\n",
       "      <td>0.14</td>\n",
       "      <td>0.02</td>\n",
       "      <td>0.01</td>\n",
       "      <td>0.01</td>\n",
       "      <td>0.03</td>\n",
       "      <td>0</td>\n",
       "      <td>0.02</td>\n",
       "      <td>...</td>\n",
       "      <td>0</td>\n",
       "      <td>0</td>\n",
       "      <td>0</td>\n",
       "      <td>0</td>\n",
       "      <td>0</td>\n",
       "      <td>0</td>\n",
       "      <td>0.01</td>\n",
       "      <td>0</td>\n",
       "      <td>0.01</td>\n",
       "      <td>0</td>\n",
       "    </tr>\n",
       "    <tr>\n",
       "      <th>2</th>\n",
       "      <td>0</td>\n",
       "      <td>0.01</td>\n",
       "      <td>0.05</td>\n",
       "      <td>0.02</td>\n",
       "      <td>0</td>\n",
       "      <td>0.01</td>\n",
       "      <td>0.01</td>\n",
       "      <td>0</td>\n",
       "      <td>0</td>\n",
       "      <td>0</td>\n",
       "      <td>...</td>\n",
       "      <td>0</td>\n",
       "      <td>0</td>\n",
       "      <td>0</td>\n",
       "      <td>0</td>\n",
       "      <td>0.03</td>\n",
       "      <td>0</td>\n",
       "      <td>0</td>\n",
       "      <td>0</td>\n",
       "      <td>0.04</td>\n",
       "      <td>0</td>\n",
       "    </tr>\n",
       "    <tr>\n",
       "      <th>3</th>\n",
       "      <td>0.0613889</td>\n",
       "      <td>0.11</td>\n",
       "      <td>0</td>\n",
       "      <td>0.01</td>\n",
       "      <td>0</td>\n",
       "      <td>0</td>\n",
       "      <td>0</td>\n",
       "      <td>0</td>\n",
       "      <td>0</td>\n",
       "      <td>0.327778</td>\n",
       "      <td>...</td>\n",
       "      <td>0</td>\n",
       "      <td>0</td>\n",
       "      <td>0</td>\n",
       "      <td>0</td>\n",
       "      <td>0</td>\n",
       "      <td>0.02</td>\n",
       "      <td>0</td>\n",
       "      <td>0</td>\n",
       "      <td>0</td>\n",
       "      <td>0</td>\n",
       "    </tr>\n",
       "    <tr>\n",
       "      <th>4</th>\n",
       "      <td>0.01</td>\n",
       "      <td>0.0139102</td>\n",
       "      <td>0.0161706</td>\n",
       "      <td>0.1</td>\n",
       "      <td>0.0184408</td>\n",
       "      <td>0</td>\n",
       "      <td>0</td>\n",
       "      <td>0</td>\n",
       "      <td>0</td>\n",
       "      <td>0.0895</td>\n",
       "      <td>...</td>\n",
       "      <td>0.05</td>\n",
       "      <td>0</td>\n",
       "      <td>0</td>\n",
       "      <td>0.0153175</td>\n",
       "      <td>0</td>\n",
       "      <td>0</td>\n",
       "      <td>0.0139102</td>\n",
       "      <td>0</td>\n",
       "      <td>0</td>\n",
       "      <td>0</td>\n",
       "    </tr>\n",
       "  </tbody>\n",
       "</table>\n",
       "<p>5 rows × 110 columns</p>\n",
       "</div>"
      ],
      "text/plain": [
       "  javascript     python       java    c#    android  html   git   css jquery  \\\n",
       "0       0.01       0.49          0  0.02          0     0  0.04     0      0   \n",
       "1       0.08       0.01       0.15  0.14       0.02  0.01  0.01  0.03      0   \n",
       "2          0       0.01       0.05  0.02          0  0.01  0.01     0      0   \n",
       "3  0.0613889       0.11          0  0.01          0     0     0     0      0   \n",
       "4       0.01  0.0139102  0.0161706   0.1  0.0184408     0     0     0      0   \n",
       "\n",
       "        c++  ... types java-8 dom        svn entity-framework variables  \\\n",
       "0      0.02  ...     0      0   0          0                0      0.01   \n",
       "1      0.02  ...     0      0   0          0                0         0   \n",
       "2         0  ...     0      0   0          0             0.03         0   \n",
       "3  0.327778  ...     0      0   0          0                0      0.02   \n",
       "4    0.0895  ...  0.05      0   0  0.0153175                0         0   \n",
       "\n",
       "  matplotlib sql-server-2008 logging express  \n",
       "0       0.04               0    0.02       0  \n",
       "1       0.01               0    0.01       0  \n",
       "2          0               0    0.04       0  \n",
       "3          0               0       0       0  \n",
       "4  0.0139102               0       0       0  \n",
       "\n",
       "[5 rows x 110 columns]"
      ]
     },
     "execution_count": 68,
     "metadata": {},
     "output_type": "execute_result"
    }
   ],
   "source": [
    "# check the cleaned-up probability matrix\n",
    "print(df_probs.shape, y_test_bin.shape)\n",
    "df_probs.head()"
   ]
  },
  {
   "cell_type": "code",
   "execution_count": 69,
   "metadata": {
    "colab": {},
    "colab_type": "code",
    "id": "uejcvFe9GxQY"
   },
   "outputs": [],
   "source": [
    "y_pred_RF = pd.DataFrame(index=y_test_bin.index,columns=y_test_bin.columns).fillna(0).reset_index(drop=True) # create a dataframe with zerous only\n",
    "m, n, = y_pred_RF.shape\n",
    "absolute_min_threshold = 0.3 # minimum accepted probability to count as tag\n",
    "\n",
    "# With the folowing for loop we assing 1 value (meaning it is a tag) to the orresponding cell in the predicted features matrix\n",
    "for i, j in itertools.product(range(m), range(n)):\n",
    "  rowarray = df_probs.iloc[i].values\n",
    "  row_threshold = np.min(rowarray[np.argsort(rowarray)[-6:]]) # select the n-th highest probability for the row. \n",
    "  if ((df_probs.iloc[i,j] > absolute_min_threshold) and (df_probs.iloc[i,j] > row_threshold)): # It selects the n highest probable tags with probability over the thresold\n",
    "    y_pred_RF.iloc[i,j]=1\n"
   ]
  },
  {
   "cell_type": "code",
   "execution_count": 70,
   "metadata": {
    "colab": {
     "base_uri": "https://localhost:8080/",
     "height": 34
    },
    "colab_type": "code",
    "id": "ORZ-dbTpZQdd",
    "outputId": "94e551ed-26d4-4e7e-882a-6f042535e164"
   },
   "outputs": [
    {
     "name": "stdout",
     "output_type": "stream",
     "text": [
      "maximum number of tags is:  5 minimum number of tags is:  0\n"
     ]
    }
   ],
   "source": [
    "maxtags = np.max(y_pred_RF.sum(axis=1)) # check that it produced cells with maximum amount of tags imposed in teh for loop\n",
    "mintags = np.min(y_pred_RF.sum(axis=1)) # check that there is at least 1 tag (if desired)\n",
    "print('maximum number of tags is: ', maxtags,'minimum number of tags is: ' , mintags)"
   ]
  },
  {
   "cell_type": "code",
   "execution_count": 71,
   "metadata": {
    "colab": {
     "base_uri": "https://localhost:8080/",
     "height": 290
    },
    "colab_type": "code",
    "id": "fcA6ocYvRa8-",
    "outputId": "28db8378-8579-4b61-ef63-673756284a61"
   },
   "outputs": [
    {
     "data": {
      "text/html": [
       "<div>\n",
       "<style scoped>\n",
       "    .dataframe tbody tr th:only-of-type {\n",
       "        vertical-align: middle;\n",
       "    }\n",
       "\n",
       "    .dataframe tbody tr th {\n",
       "        vertical-align: top;\n",
       "    }\n",
       "\n",
       "    .dataframe thead th {\n",
       "        text-align: right;\n",
       "    }\n",
       "</style>\n",
       "<table border=\"1\" class=\"dataframe\">\n",
       "  <thead>\n",
       "    <tr style=\"text-align: right;\">\n",
       "      <th></th>\n",
       "      <th>javascript</th>\n",
       "      <th>python</th>\n",
       "      <th>java</th>\n",
       "      <th>c#</th>\n",
       "      <th>android</th>\n",
       "      <th>html</th>\n",
       "      <th>git</th>\n",
       "      <th>css</th>\n",
       "      <th>jquery</th>\n",
       "      <th>c++</th>\n",
       "      <th>...</th>\n",
       "      <th>types</th>\n",
       "      <th>java-8</th>\n",
       "      <th>dom</th>\n",
       "      <th>svn</th>\n",
       "      <th>entity-framework</th>\n",
       "      <th>variables</th>\n",
       "      <th>matplotlib</th>\n",
       "      <th>sql-server-2008</th>\n",
       "      <th>logging</th>\n",
       "      <th>express</th>\n",
       "    </tr>\n",
       "  </thead>\n",
       "  <tbody>\n",
       "    <tr>\n",
       "      <th>0</th>\n",
       "      <td>0</td>\n",
       "      <td>1</td>\n",
       "      <td>0</td>\n",
       "      <td>0</td>\n",
       "      <td>0</td>\n",
       "      <td>0</td>\n",
       "      <td>0</td>\n",
       "      <td>0</td>\n",
       "      <td>0</td>\n",
       "      <td>0</td>\n",
       "      <td>...</td>\n",
       "      <td>0</td>\n",
       "      <td>0</td>\n",
       "      <td>0</td>\n",
       "      <td>0</td>\n",
       "      <td>0</td>\n",
       "      <td>0</td>\n",
       "      <td>0</td>\n",
       "      <td>0</td>\n",
       "      <td>0</td>\n",
       "      <td>0</td>\n",
       "    </tr>\n",
       "    <tr>\n",
       "      <th>1</th>\n",
       "      <td>0</td>\n",
       "      <td>0</td>\n",
       "      <td>0</td>\n",
       "      <td>0</td>\n",
       "      <td>0</td>\n",
       "      <td>0</td>\n",
       "      <td>0</td>\n",
       "      <td>0</td>\n",
       "      <td>0</td>\n",
       "      <td>0</td>\n",
       "      <td>...</td>\n",
       "      <td>0</td>\n",
       "      <td>0</td>\n",
       "      <td>0</td>\n",
       "      <td>0</td>\n",
       "      <td>0</td>\n",
       "      <td>0</td>\n",
       "      <td>0</td>\n",
       "      <td>0</td>\n",
       "      <td>0</td>\n",
       "      <td>0</td>\n",
       "    </tr>\n",
       "    <tr>\n",
       "      <th>2</th>\n",
       "      <td>0</td>\n",
       "      <td>0</td>\n",
       "      <td>0</td>\n",
       "      <td>0</td>\n",
       "      <td>0</td>\n",
       "      <td>0</td>\n",
       "      <td>0</td>\n",
       "      <td>0</td>\n",
       "      <td>0</td>\n",
       "      <td>0</td>\n",
       "      <td>...</td>\n",
       "      <td>0</td>\n",
       "      <td>0</td>\n",
       "      <td>0</td>\n",
       "      <td>0</td>\n",
       "      <td>0</td>\n",
       "      <td>0</td>\n",
       "      <td>0</td>\n",
       "      <td>0</td>\n",
       "      <td>0</td>\n",
       "      <td>0</td>\n",
       "    </tr>\n",
       "    <tr>\n",
       "      <th>3</th>\n",
       "      <td>0</td>\n",
       "      <td>0</td>\n",
       "      <td>0</td>\n",
       "      <td>0</td>\n",
       "      <td>0</td>\n",
       "      <td>0</td>\n",
       "      <td>0</td>\n",
       "      <td>0</td>\n",
       "      <td>0</td>\n",
       "      <td>1</td>\n",
       "      <td>...</td>\n",
       "      <td>0</td>\n",
       "      <td>0</td>\n",
       "      <td>0</td>\n",
       "      <td>0</td>\n",
       "      <td>0</td>\n",
       "      <td>0</td>\n",
       "      <td>0</td>\n",
       "      <td>0</td>\n",
       "      <td>0</td>\n",
       "      <td>0</td>\n",
       "    </tr>\n",
       "    <tr>\n",
       "      <th>4</th>\n",
       "      <td>0</td>\n",
       "      <td>0</td>\n",
       "      <td>0</td>\n",
       "      <td>0</td>\n",
       "      <td>0</td>\n",
       "      <td>0</td>\n",
       "      <td>0</td>\n",
       "      <td>0</td>\n",
       "      <td>0</td>\n",
       "      <td>0</td>\n",
       "      <td>...</td>\n",
       "      <td>0</td>\n",
       "      <td>0</td>\n",
       "      <td>0</td>\n",
       "      <td>0</td>\n",
       "      <td>0</td>\n",
       "      <td>0</td>\n",
       "      <td>0</td>\n",
       "      <td>0</td>\n",
       "      <td>0</td>\n",
       "      <td>0</td>\n",
       "    </tr>\n",
       "  </tbody>\n",
       "</table>\n",
       "<p>5 rows × 110 columns</p>\n",
       "</div>"
      ],
      "text/plain": [
       "   javascript  python  java  c#  android  html  git  css  jquery  c++  ...  \\\n",
       "0           0       1     0   0        0     0    0    0       0    0  ...   \n",
       "1           0       0     0   0        0     0    0    0       0    0  ...   \n",
       "2           0       0     0   0        0     0    0    0       0    0  ...   \n",
       "3           0       0     0   0        0     0    0    0       0    1  ...   \n",
       "4           0       0     0   0        0     0    0    0       0    0  ...   \n",
       "\n",
       "   types  java-8  dom  svn  entity-framework  variables  matplotlib  \\\n",
       "0      0       0    0    0                 0          0           0   \n",
       "1      0       0    0    0                 0          0           0   \n",
       "2      0       0    0    0                 0          0           0   \n",
       "3      0       0    0    0                 0          0           0   \n",
       "4      0       0    0    0                 0          0           0   \n",
       "\n",
       "   sql-server-2008  logging  express  \n",
       "0                0        0        0  \n",
       "1                0        0        0  \n",
       "2                0        0        0  \n",
       "3                0        0        0  \n",
       "4                0        0        0  \n",
       "\n",
       "[5 rows x 110 columns]"
      ]
     },
     "execution_count": 71,
     "metadata": {},
     "output_type": "execute_result"
    }
   ],
   "source": [
    "y_pred_RF.head()"
   ]
  },
  {
   "cell_type": "code",
   "execution_count": 72,
   "metadata": {
    "colab": {
     "base_uri": "https://localhost:8080/",
     "height": 34
    },
    "colab_type": "code",
    "id": "M9LvILC49Huj",
    "outputId": "3d27199e-c251-44ae-c9ed-57f9a182fa6c"
   },
   "outputs": [
    {
     "name": "stdout",
     "output_type": "stream",
     "text": [
      "0.2864828513786147\n"
     ]
    }
   ],
   "source": [
    "print(accuracy_score(y_test_bin, y_pred_RF))"
   ]
  },
  {
   "cell_type": "code",
   "execution_count": 73,
   "metadata": {
    "colab": {},
    "colab_type": "code",
    "id": "b54hDqwygwL8"
   },
   "outputs": [],
   "source": [
    "classifiers_jaccard_scores.append(jaccard_score(y_test_bin, y_pred_RF, average='weighted'))\n",
    "classifiers_hamming_losses.append((hamming_loss(y_pred_RF, y_test_bin)))\n",
    "classifiers_accuracy_scores.append(accuracy_score(y_test_bin, y_pred_RF))\n",
    "classifiers_list.append('Random Forest')\n",
    "\n"
   ]
  },
  {
   "cell_type": "markdown",
   "metadata": {
    "colab_type": "text",
    "id": "6DntTquUFayk"
   },
   "source": [
    "3.1.3 compare all scores"
   ]
  },
  {
   "cell_type": "code",
   "execution_count": 74,
   "metadata": {
    "colab": {
     "base_uri": "https://localhost:8080/",
     "height": 318
    },
    "colab_type": "code",
    "id": "M8xJ6O2B_9ht",
    "outputId": "4cf7422d-324e-49fa-a6c7-93c9ddb322c8"
   },
   "outputs": [
    {
     "name": "stdout",
     "output_type": "stream",
     "text": [
      "The best classifier among those tested is:  Random Forest Classifier\n"
     ]
    },
    {
     "data": {
      "text/html": [
       "<div>\n",
       "<style scoped>\n",
       "    .dataframe tbody tr th:only-of-type {\n",
       "        vertical-align: middle;\n",
       "    }\n",
       "\n",
       "    .dataframe tbody tr th {\n",
       "        vertical-align: top;\n",
       "    }\n",
       "\n",
       "    .dataframe thead th {\n",
       "        text-align: right;\n",
       "    }\n",
       "</style>\n",
       "<table border=\"1\" class=\"dataframe\">\n",
       "  <thead>\n",
       "    <tr style=\"text-align: right;\">\n",
       "      <th></th>\n",
       "      <th>classifiers</th>\n",
       "      <th>Jaccard_score</th>\n",
       "      <th>Hamming_loss</th>\n",
       "      <th>Accuracy</th>\n",
       "    </tr>\n",
       "  </thead>\n",
       "  <tbody>\n",
       "    <tr>\n",
       "      <th>7</th>\n",
       "      <td>Random Forest Classifier</td>\n",
       "      <td>0.326612</td>\n",
       "      <td>0.010859</td>\n",
       "      <td>0.286483</td>\n",
       "    </tr>\n",
       "    <tr>\n",
       "      <th>2</th>\n",
       "      <td>Multinomial Naive Bayes</td>\n",
       "      <td>0.282756</td>\n",
       "      <td>0.011366</td>\n",
       "      <td>0.256624</td>\n",
       "    </tr>\n",
       "    <tr>\n",
       "      <th>1</th>\n",
       "      <td>Logistic Regression</td>\n",
       "      <td>0.287823</td>\n",
       "      <td>0.011434</td>\n",
       "      <td>0.252051</td>\n",
       "    </tr>\n",
       "    <tr>\n",
       "      <th>6</th>\n",
       "      <td>K-Neighbors Classifier</td>\n",
       "      <td>0.154255</td>\n",
       "      <td>0.012063</td>\n",
       "      <td>0.185205</td>\n",
       "    </tr>\n",
       "    <tr>\n",
       "      <th>0</th>\n",
       "      <td>Dummy Classifier</td>\n",
       "      <td>0.000000</td>\n",
       "      <td>0.013718</td>\n",
       "      <td>0.084465</td>\n",
       "    </tr>\n",
       "    <tr>\n",
       "      <th>4</th>\n",
       "      <td>Perceptron</td>\n",
       "      <td>0.247164</td>\n",
       "      <td>0.017651</td>\n",
       "      <td>0.163954</td>\n",
       "    </tr>\n",
       "    <tr>\n",
       "      <th>5</th>\n",
       "      <td>PassiveAggressiveClassifier</td>\n",
       "      <td>0.240166</td>\n",
       "      <td>0.019028</td>\n",
       "      <td>0.145662</td>\n",
       "    </tr>\n",
       "    <tr>\n",
       "      <th>3</th>\n",
       "      <td>LinearSVC</td>\n",
       "      <td>0.183646</td>\n",
       "      <td>0.111022</td>\n",
       "      <td>0.003228</td>\n",
       "    </tr>\n",
       "  </tbody>\n",
       "</table>\n",
       "</div>"
      ],
      "text/plain": [
       "                   classifiers  Jaccard_score  Hamming_loss  Accuracy\n",
       "7     Random Forest Classifier       0.326612      0.010859  0.286483\n",
       "2      Multinomial Naive Bayes       0.282756      0.011366  0.256624\n",
       "1          Logistic Regression       0.287823      0.011434  0.252051\n",
       "6       K-Neighbors Classifier       0.154255      0.012063  0.185205\n",
       "0             Dummy Classifier       0.000000      0.013718  0.084465\n",
       "4                   Perceptron       0.247164      0.017651  0.163954\n",
       "5  PassiveAggressiveClassifier       0.240166      0.019028  0.145662\n",
       "3                    LinearSVC       0.183646      0.111022  0.003228"
      ]
     },
     "execution_count": 74,
     "metadata": {},
     "output_type": "execute_result"
    }
   ],
   "source": [
    "\n",
    "classifiers_list =['Dummy Classifier', 'Logistic Regression', 'Multinomial Naive Bayes', 'LinearSVC','Perceptron', 'PassiveAggressiveClassifier', 'K-Neighbors Classifier', \"Random Forest Classifier\"]\n",
    "\n",
    "df_clf = pd.DataFrame(classifiers_list, columns = ['classifiers'])\n",
    "df_clf['Jaccard_score'] = classifiers_jaccard_scores\n",
    "df_clf['Hamming_loss'] = classifiers_hamming_losses\n",
    "df_clf['Accuracy'] = classifiers_accuracy_scores\n",
    "df_clf = df_clf.sort_values(by=['Hamming_loss'])\n",
    "best_classifier = df_clf.iloc[df_clf['Accuracy'].argmax(), 0]\n",
    "print('The best classifier among those tested is: ',best_classifier)\n",
    "df_clf"
   ]
  },
  {
   "cell_type": "code",
   "execution_count": 75,
   "metadata": {
    "colab": {
     "base_uri": "https://localhost:8080/",
     "height": 867
    },
    "colab_type": "code",
    "id": "N2FayfFaxliw",
    "outputId": "8dfea8a2-0b6c-48f2-840f-85c751c29cc7"
   },
   "outputs": [
    {
     "data": {
      "text/plain": [
       "[]"
      ]
     },
     "execution_count": 75,
     "metadata": {},
     "output_type": "execute_result"
    },
    {
     "data": {
      "image/png": "[encoded data removed]",
      "text/plain": [
       "<Figure size 432x864 with 2 Axes>"
      ]
     },
     "metadata": {
      "needs_background": "light"
     },
     "output_type": "display_data"
    }
   ],
   "source": [
    "plt.figure(figsize=(6, 12))\n",
    "plt.subplot(211)\n",
    "plt.bar(df_clf['classifiers'],df_clf['Jaccard_score'], color = 'k')\n",
    "plt.ylabel('Jaccard_score',fontsize = 14)\n",
    "plt.ylim((0.1, 0.6))   # set the ylim to bottom, top\n",
    "plt.xticks(df_clf['classifiers'],\" \")\n",
    "\n",
    "plt.subplot(212)\n",
    "plt.bar(df_clf['classifiers'],df_clf['Accuracy'], color = 'r') \n",
    "plt.ylabel('Accuracy',fontsize = 14)\n",
    "#plt.ylim((0.1, 0.3))\n",
    "plt.xlabel('Classifier', fontsize = 14)\n",
    "plt.xticks(rotation=90)\n",
    "plt.plot()"
   ]
  },
  {
   "cell_type": "markdown",
   "metadata": {
    "colab_type": "text",
    "id": "JCsFEZlglf6k"
   },
   "source": [
    "### 3.2 extract tags out of the matrix predicted by the best classifier"
   ]
  },
  {
   "cell_type": "code",
   "execution_count": 76,
   "metadata": {
    "colab": {},
    "colab_type": "code",
    "id": "AXCrT3E-5sJ7"
   },
   "outputs": [],
   "source": [
    "def get_tags(df):\n",
    "    indexarray = np.arange(0,len(df.index))\n",
    "    taglist =[]\n",
    "    def unique_list(l):\n",
    "      x = []\n",
    "      for a in l:\n",
    "        if a not in x:\n",
    "          x.append(a)\n",
    "      return x\n",
    "    \n",
    "    for i in indexarray:\n",
    "        onelist = df.columns[(df > 0).iloc[i]].tolist()\n",
    "        uniques = unique_list(onelist)\n",
    "        taglist.append(uniques)\n",
    "    return taglist"
   ]
  },
  {
   "cell_type": "code",
   "execution_count": 77,
   "metadata": {
    "colab": {},
    "colab_type": "code",
    "id": "7yTJjXgO9G7o"
   },
   "outputs": [],
   "source": [
    "tags_rf = get_tags(y_pred_RF)\n",
    "RF_tags = [' '.join(map(str, l)) for l in tags_rf]\n",
    "df_test['Random_Forest_tags'] = RF_tags\n"
   ]
  },
  {
   "cell_type": "code",
   "execution_count": 78,
   "metadata": {
    "colab": {
     "base_uri": "https://localhost:8080/",
     "height": 34
    },
    "colab_type": "code",
    "id": "_w81ycmINrWl",
    "outputId": "46709e7f-b761-4841-d1db-1f7d3fb8c118"
   },
   "outputs": [
    {
     "name": "stdout",
     "output_type": "stream",
     "text": [
      "fit running....\n"
     ]
    }
   ],
   "source": [
    "clf = OneVsRestClassifier(lr)\n",
    "print(\"fit running....\")\n",
    "clf.fit(X_tfidf_train, y_train_bin)\n",
    "y_pred = clf.predict(X_tfidf_test)"
   ]
  },
  {
   "cell_type": "code",
   "execution_count": 79,
   "metadata": {
    "colab": {
     "base_uri": "https://localhost:8080/",
     "height": 293
    },
    "colab_type": "code",
    "id": "x6DqLDgxNx3x",
    "outputId": "250a3ca4-ddf8-44ef-cc63-7ad5148be5c2"
   },
   "outputs": [
    {
     "data": {
      "text/html": [
       "<div>\n",
       "<style scoped>\n",
       "    .dataframe tbody tr th:only-of-type {\n",
       "        vertical-align: middle;\n",
       "    }\n",
       "\n",
       "    .dataframe tbody tr th {\n",
       "        vertical-align: top;\n",
       "    }\n",
       "\n",
       "    .dataframe thead th {\n",
       "        text-align: right;\n",
       "    }\n",
       "</style>\n",
       "<table border=\"1\" class=\"dataframe\">\n",
       "  <thead>\n",
       "    <tr style=\"text-align: right;\">\n",
       "      <th></th>\n",
       "      <th>Lemma</th>\n",
       "      <th>taglist</th>\n",
       "      <th>LDA_tags</th>\n",
       "      <th>NMF_tags</th>\n",
       "      <th>YAKE tags</th>\n",
       "      <th>Random_Forest_tags</th>\n",
       "      <th>LinearRegression_tags</th>\n",
       "    </tr>\n",
       "  </thead>\n",
       "  <tbody>\n",
       "    <tr>\n",
       "      <th>0</th>\n",
       "      <td>['instal', 'libv', 'gem', 'o', '+', 'try', 'in...</td>\n",
       "      <td>gem rubygems osx-mavericks osx-yosemite libv8</td>\n",
       "      <td>find error build install user</td>\n",
       "      <td>error package compile install option</td>\n",
       "      <td>usersmervmgemsruby target cxx libv error</td>\n",
       "      <td>python</td>\n",
       "      <td>python</td>\n",
       "    </tr>\n",
       "    <tr>\n",
       "      <th>1</th>\n",
       "      <td>['right', 'leave', 'support', 'twitter', 'boot...</td>\n",
       "      <td>css html twitter-bootstrap twitter-bootstrap-3</td>\n",
       "      <td>create new script difference element</td>\n",
       "      <td>project compile build</td>\n",
       "      <td>bootstrap leave support twitter rtl</td>\n",
       "      <td></td>\n",
       "      <td></td>\n",
       "    </tr>\n",
       "    <tr>\n",
       "      <th>2</th>\n",
       "      <td>['operator', 'mysql', 'work', 'code', 'write',...</td>\n",
       "      <td>mysql sql operators spaceship-operator</td>\n",
       "      <td>name mysql source set error</td>\n",
       "      <td>error null server sql thread</td>\n",
       "      <td>mysql query error operator work</td>\n",
       "      <td>mysql</td>\n",
       "      <td>mysql</td>\n",
       "    </tr>\n",
       "    <tr>\n",
       "      <th>3</th>\n",
       "      <td>['warn', 'implicit', 'declaration', 'function'...</td>\n",
       "      <td>c compiler-warnings</td>\n",
       "      <td>function error import library size</td>\n",
       "      <td>function return</td>\n",
       "      <td>warn implicit declaration function compiler</td>\n",
       "      <td>c++ c</td>\n",
       "      <td></td>\n",
       "    </tr>\n",
       "    <tr>\n",
       "      <th>4</th>\n",
       "      <td>['exportimport', 'job', 'jenkins', 'possible',...</td>\n",
       "      <td>jenkins</td>\n",
       "      <td>different test reference app number</td>\n",
       "      <td></td>\n",
       "      <td>job exportimport jenkins exchange search</td>\n",
       "      <td></td>\n",
       "      <td></td>\n",
       "    </tr>\n",
       "  </tbody>\n",
       "</table>\n",
       "</div>"
      ],
      "text/plain": [
       "                                               Lemma  \\\n",
       "0  ['instal', 'libv', 'gem', 'o', '+', 'try', 'in...   \n",
       "1  ['right', 'leave', 'support', 'twitter', 'boot...   \n",
       "2  ['operator', 'mysql', 'work', 'code', 'write',...   \n",
       "3  ['warn', 'implicit', 'declaration', 'function'...   \n",
       "4  ['exportimport', 'job', 'jenkins', 'possible',...   \n",
       "\n",
       "                                          taglist  \\\n",
       "0   gem rubygems osx-mavericks osx-yosemite libv8   \n",
       "1  css html twitter-bootstrap twitter-bootstrap-3   \n",
       "2          mysql sql operators spaceship-operator   \n",
       "3                             c compiler-warnings   \n",
       "4                                         jenkins   \n",
       "\n",
       "                               LDA_tags                              NMF_tags  \\\n",
       "0         find error build install user  error package compile install option   \n",
       "1  create new script difference element                 project compile build   \n",
       "2           name mysql source set error          error null server sql thread   \n",
       "3    function error import library size                       function return   \n",
       "4   different test reference app number                                         \n",
       "\n",
       "                                      YAKE tags Random_Forest_tags  \\\n",
       "0     usersmervmgemsruby target cxx libv error              python   \n",
       "1          bootstrap leave support twitter rtl                       \n",
       "2              mysql query error operator work               mysql   \n",
       "3  warn implicit declaration function compiler               c++ c   \n",
       "4     job exportimport jenkins exchange search                       \n",
       "\n",
       "  LinearRegression_tags  \n",
       "0                python  \n",
       "1                        \n",
       "2                 mysql  \n",
       "3                        \n",
       "4                        "
      ]
     },
     "execution_count": 79,
     "metadata": {},
     "output_type": "execute_result"
    }
   ],
   "source": [
    "y_pred_lr_matrix = pd.DataFrame(y_pred, columns=y_test_bin.columns)\n",
    "tags_lr = get_tags(y_pred_lr_matrix)\n",
    "LR_tags = [' '.join(map(str, l)) for l in tags_lr]\n",
    "df_test['LinearRegression_tags'] = LR_tags\n",
    "\n",
    "df_test.head()"
   ]
  },
  {
   "cell_type": "code",
   "execution_count": 80,
   "metadata": {
    "colab": {
     "base_uri": "https://localhost:8080/",
     "height": 69
    },
    "colab_type": "code",
    "id": "h9OwfmryOh_g",
    "outputId": "1ee8e615-f832-41be-b6c5-cb6ba016d4b3"
   },
   "outputs": [
    {
     "name": "stdout",
     "output_type": "stream",
     "text": [
      "Dummy score: [[0.05342378]]\n",
      "RF score: [[0.61661909]]\n",
      "LR score: [[0.56390788]]\n"
     ]
    }
   ],
   "source": [
    "y_tfidf_test = tfidfVectorizer.transform(y_test)\n",
    "y_tfidf_RF = tfidfVectorizer.transform(RF_tags)\n",
    "y_tfidf_LR = tfidfVectorizer.transform(LR_tags)\n",
    "print('Dummy score:',cosine_similarity(y_tfidf_test.reshape(1,-1), y_tfidf_dummy.reshape(1,-1))) \n",
    "print('RF score:',cosine_similarity(y_tfidf_test.reshape(1,-1), y_tfidf_RF.reshape(1,-1)))\n",
    "print('LR score:',cosine_similarity(y_tfidf_test.reshape(1,-1), y_tfidf_LR.reshape(1,-1)))"
   ]
  },
  {
   "cell_type": "markdown",
   "metadata": {
    "colab_type": "text",
    "id": "eYUYN74HFrNi"
   },
   "source": [
    "Much higher cosine similarity than with unsupervised methods"
   ]
  }
 ],
 "metadata": {
  "colab": {
   "collapsed_sections": [],
   "name": "Stackoverflowtags-Part2.ipynb",
   "provenance": [],
   "toc_visible": true
  },
  "kernelspec": {
   "display_name": "Python 3",
   "language": "python",
   "name": "python3"
  },
  "language_info": {
   "codemirror_mode": {
    "name": "ipython",
    "version": 3
   },
   "file_extension": ".py",
   "mimetype": "text/x-python",
   "name": "python",
   "nbconvert_exporter": "python",
   "pygments_lexer": "ipython3",
   "version": "3.7.6"
  }
 },
 "nbformat": 4,
 "nbformat_minor": 4
}
