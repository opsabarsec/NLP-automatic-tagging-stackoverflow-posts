{
 "cells": [
  {
   "cell_type": "code",
   "execution_count": 36,
   "metadata": {},
   "outputs": [],
   "source": [
    "import pandas as pd\n",
    "from bs4 import BeautifulSoup\n",
    "import nltk, re, pprint\n",
    "from nltk import word_tokenize, pos_tag\n",
    "from nltk.corpus import stopwords \n",
    "from nltk.stem import WordNetLemmatizer\n",
    "from collections import defaultdict \n",
    "from nltk.corpus import wordnet as wn\n",
    "from itertools import chain\n",
    "from difflib import get_close_matches as gcm\n",
    "import re\n",
    "from textblob import TextBlob, Word\n",
    "import time"
   ]
  },
  {
   "cell_type": "code",
   "execution_count": 37,
   "metadata": {},
   "outputs": [
    {
     "name": "stderr",
     "output_type": "stream",
     "text": [
      "/home/marco/anaconda3/lib/python3.7/site-packages/ipykernel_launcher.py:2: UserWarning: Pandas doesn't allow columns to be created via a new attribute name - see https://pandas.pydata.org/pandas-docs/stable/indexing.html#attribute-access\n",
      "  \n"
     ]
    }
   ],
   "source": [
    "df_raw = pd.read_csv('QueryResults.csv', parse_dates=['CreationDate']) #import raw data from the csv obtained by SQL query\n",
    "df_raw.Date=pd.to_datetime(df_raw.CreationDate) # set creation date as date and time object\n"
   ]
  },
  {
   "cell_type": "code",
   "execution_count": 38,
   "metadata": {},
   "outputs": [],
   "source": [
    "df_raw['Body_clean'] = [BeautifulSoup(text).get_text() for text in df_raw['Body'] ] # get text in html body"
   ]
  },
  {
   "cell_type": "code",
   "execution_count": 39,
   "metadata": {},
   "outputs": [],
   "source": [
    "pattern = \"<(.*?)>\" # indicate to regex the pattern for angle brackets: < >\n",
    "df_raw['Tags_clean'] = [re.findall(pattern, text) for text in df_raw['Tags'] ] # get text within the square brackets as list entries"
   ]
  },
  {
   "cell_type": "code",
   "execution_count": 40,
   "metadata": {},
   "outputs": [],
   "source": [
    "# set all text in body to lower case\n",
    "df_raw['Body_clean'] = df_raw['Body_clean'].str.lower() \n"
   ]
  },
  {
   "cell_type": "code",
   "execution_count": 41,
   "metadata": {},
   "outputs": [],
   "source": [
    "# remove stopwords from the Body \n",
    "stop = stopwords.words('english')\n",
    "df_raw['Body_clean'] = df_raw['Body_clean'].apply(lambda x: [item for item in word_tokenize(x) if item not in stop]) # remove stopwords from tokens"
   ]
  },
  {
   "cell_type": "code",
   "execution_count": 42,
   "metadata": {},
   "outputs": [],
   "source": [
    "#remove numbers from the Body \n",
    "  \n",
    "# Decorator to Remove all digits from a list of string \n",
    "def remove(list): \n",
    "    pattern1 = '[0-9]'\n",
    "    list = [re.sub(pattern1, '', i) for i in list] \n",
    "    return list\n",
    "# Driver code \n",
    "df_raw['Body_clean'] = [remove(text) for text in df_raw['Body_clean'] ]"
   ]
  },
  {
   "cell_type": "code",
   "execution_count": 43,
   "metadata": {},
   "outputs": [],
   "source": [
    "#remove punctuation from the Body \n",
    "\n",
    "# Decorator to remove punctuation from a list of string \n",
    "def remove1(list): \n",
    "    pattern2 = '[?.!/;:]'\n",
    "    list = [re.sub(pattern2, '', i) for i in list] \n",
    "    return list\n",
    "# Driver code \n",
    "df_raw['Body_clean'] = [remove1(text) for text in df_raw['Body_clean'] ]"
   ]
  },
  {
   "cell_type": "code",
   "execution_count": 44,
   "metadata": {},
   "outputs": [],
   "source": [
    "df_raw['liststring'] = [' '.join(map(str, l)) for l in df_raw['Body_clean']] # transform lists to strings to be able to run lemmatization\n",
    "#df_raw.head()"
   ]
  },
  {
   "cell_type": "code",
   "execution_count": 45,
   "metadata": {},
   "outputs": [],
   "source": [
    "# Define function to lemmatize each word with its POS tag\n",
    "def lemmatize_with_postag(sentence):\n",
    "    sent = TextBlob(sentence)\n",
    "    tag_dict = {\"J\": 'a', \n",
    "                \"N\": 'n', \n",
    "                \"V\": 'v', \n",
    "                \"R\": 'r'}\n",
    "    words_and_tags = [(w, tag_dict.get(pos[0], 'n')) for w, pos in sent.tags]    \n",
    "    lemmatized_list = [wd.lemmatize(tag) for wd, tag in words_and_tags]\n",
    "    return \" \".join(lemmatized_list)"
   ]
  },
  {
   "cell_type": "code",
   "execution_count": 46,
   "metadata": {},
   "outputs": [
    {
     "name": "stdout",
     "output_type": "stream",
     "text": [
      "Lemmatization done! Time elapsed: 219.31491088867188 seconds\n"
     ]
    }
   ],
   "source": [
    "time_start = time.time()\n",
    "\n",
    "# Lemmatizing\n",
    "df_raw['Body_lemma'] = df_raw['liststring'].apply(lemmatize_with_postag)\n",
    "print('Lemmatization done! Time elapsed: {} seconds'.format(time.time()-time_start))"
   ]
  },
  {
   "cell_type": "code",
   "execution_count": 47,
   "metadata": {},
   "outputs": [],
   "source": [
    "cleanfeatures = ['ViewCount', 'CreationDate', 'Body_lemma','Tags_clean', 'Score', 'CommentCount', 'AnswerCount', 'FavoriteCount']\n",
    "df_clean = df_raw[cleanfeatures]"
   ]
  },
  {
   "cell_type": "code",
   "execution_count": 48,
   "metadata": {},
   "outputs": [
    {
     "name": "stderr",
     "output_type": "stream",
     "text": [
      "/home/marco/anaconda3/lib/python3.7/site-packages/pandas/core/frame.py:4133: SettingWithCopyWarning: \n",
      "A value is trying to be set on a copy of a slice from a DataFrame\n",
      "\n",
      "See the caveats in the documentation: https://pandas.pydata.org/pandas-docs/stable/user_guide/indexing.html#returning-a-view-versus-a-copy\n",
      "  errors=errors,\n"
     ]
    },
    {
     "data": {
      "text/html": [
       "<div>\n",
       "<style scoped>\n",
       "    .dataframe tbody tr th:only-of-type {\n",
       "        vertical-align: middle;\n",
       "    }\n",
       "\n",
       "    .dataframe tbody tr th {\n",
       "        vertical-align: top;\n",
       "    }\n",
       "\n",
       "    .dataframe thead th {\n",
       "        text-align: right;\n",
       "    }\n",
       "</style>\n",
       "<table border=\"1\" class=\"dataframe\">\n",
       "  <thead>\n",
       "    <tr style=\"text-align: right;\">\n",
       "      <th></th>\n",
       "      <th>ViewCount</th>\n",
       "      <th>CreationDate</th>\n",
       "      <th>body</th>\n",
       "      <th>tags</th>\n",
       "      <th>Score</th>\n",
       "      <th>CommentCount</th>\n",
       "      <th>AnswerCount</th>\n",
       "      <th>FavoriteCount</th>\n",
       "    </tr>\n",
       "  </thead>\n",
       "  <tbody>\n",
       "    <tr>\n",
       "      <th>0</th>\n",
       "      <td>1479460</td>\n",
       "      <td>2012-06-27 13:51:36</td>\n",
       "      <td>piece c++ code show peculiar behavior strange ...</td>\n",
       "      <td>[java, c++, performance, optimization, branch-...</td>\n",
       "      <td>24276</td>\n",
       "      <td>21</td>\n",
       "      <td>26</td>\n",
       "      <td>10967</td>\n",
       "    </tr>\n",
       "    <tr>\n",
       "      <th>1</th>\n",
       "      <td>8521598</td>\n",
       "      <td>2009-05-29 18:09:14</td>\n",
       "      <td>accidentally commit wrong file git n't push co...</td>\n",
       "      <td>[git, version-control, git-commit, undo, pre-c...</td>\n",
       "      <td>20832</td>\n",
       "      <td>12</td>\n",
       "      <td>83</td>\n",
       "      <td>6755</td>\n",
       "    </tr>\n",
       "    <tr>\n",
       "      <th>2</th>\n",
       "      <td>8094125</td>\n",
       "      <td>2010-01-05 01:12:15</td>\n",
       "      <td>want delete branch locally remotely fail attem...</td>\n",
       "      <td>[git, version-control, git-branch, git-push, g...</td>\n",
       "      <td>16779</td>\n",
       "      <td>6</td>\n",
       "      <td>40</td>\n",
       "      <td>5345</td>\n",
       "    </tr>\n",
       "    <tr>\n",
       "      <th>3</th>\n",
       "      <td>2775737</td>\n",
       "      <td>2008-11-15 09:51:09</td>\n",
       "      <td>difference git pull git fetch</td>\n",
       "      <td>[git, version-control, git-pull, git-fetch]</td>\n",
       "      <td>11807</td>\n",
       "      <td>9</td>\n",
       "      <td>35</td>\n",
       "      <td>2329</td>\n",
       "    </tr>\n",
       "    <tr>\n",
       "      <th>4</th>\n",
       "      <td>2770426</td>\n",
       "      <td>2009-01-25 15:25:19</td>\n",
       "      <td>'ve mess around json time push text n't hurt a...</td>\n",
       "      <td>[json, http-headers, content-type]</td>\n",
       "      <td>10183</td>\n",
       "      <td>0</td>\n",
       "      <td>36</td>\n",
       "      <td>1444</td>\n",
       "    </tr>\n",
       "  </tbody>\n",
       "</table>\n",
       "</div>"
      ],
      "text/plain": [
       "   ViewCount        CreationDate  \\\n",
       "0    1479460 2012-06-27 13:51:36   \n",
       "1    8521598 2009-05-29 18:09:14   \n",
       "2    8094125 2010-01-05 01:12:15   \n",
       "3    2775737 2008-11-15 09:51:09   \n",
       "4    2770426 2009-01-25 15:25:19   \n",
       "\n",
       "                                                body  \\\n",
       "0  piece c++ code show peculiar behavior strange ...   \n",
       "1  accidentally commit wrong file git n't push co...   \n",
       "2  want delete branch locally remotely fail attem...   \n",
       "3                      difference git pull git fetch   \n",
       "4  've mess around json time push text n't hurt a...   \n",
       "\n",
       "                                                tags  Score  CommentCount  \\\n",
       "0  [java, c++, performance, optimization, branch-...  24276            21   \n",
       "1  [git, version-control, git-commit, undo, pre-c...  20832            12   \n",
       "2  [git, version-control, git-branch, git-push, g...  16779             6   \n",
       "3        [git, version-control, git-pull, git-fetch]  11807             9   \n",
       "4                 [json, http-headers, content-type]  10183             0   \n",
       "\n",
       "   AnswerCount  FavoriteCount  \n",
       "0           26          10967  \n",
       "1           83           6755  \n",
       "2           40           5345  \n",
       "3           35           2329  \n",
       "4           36           1444  "
      ]
     },
     "execution_count": 48,
     "metadata": {},
     "output_type": "execute_result"
    }
   ],
   "source": [
    "df_clean.rename(columns={'Body_lemma':'body', 'Tags_clean':'tags'},inplace=True)\n",
    "df_clean.head()"
   ]
  },
  {
   "cell_type": "code",
   "execution_count": null,
   "metadata": {},
   "outputs": [],
   "source": []
  }
 ],
 "metadata": {
  "kernelspec": {
   "display_name": "Python 3",
   "language": "python",
   "name": "python3"
  },
  "language_info": {
   "codemirror_mode": {
    "name": "ipython",
    "version": 3
   },
   "file_extension": ".py",
   "mimetype": "text/x-python",
   "name": "python",
   "nbconvert_exporter": "python",
   "pygments_lexer": "ipython3",
   "version": "3.7.3"
  }
 },
 "nbformat": 4,
 "nbformat_minor": 4
}
