{
 "cells": [
  {
   "cell_type": "markdown",
   "metadata": {
    "colab_type": "text",
    "id": "4jpKnAEbIR8_"
   },
   "source": [
    "# Stack Overflow Tag Prediction 2: Topic Modeling"
   ]
  },
  {
   "cell_type": "markdown",
   "metadata": {
    "colab_type": "text",
    "id": "Yq-biJY0IR9C"
   },
   "source": [
    "Stack Overflow is the largest, most trusted online community for developers to learn, share their programming knowledge, and build their careers. The goal of this project is to predict as many tags as possible with high precision and recall. Incorrect tags could impact user experience on StackOverflow. \n",
    "\n",
    "To automatically assign tags we use in a first step an unsupervised approach: the text analysis technique called topic modeling. The ultimate goal of topic modeling is to find various topics that are present in your corpus. Each document in the corpus will be made up of at least one topic, if not multiple topics."
   ]
  },
  {
   "cell_type": "markdown",
   "metadata": {
    "colab_type": "text",
    "id": "5qNeoPoJIR9G"
   },
   "source": [
    "## Import libraries and load dataset"
   ]
  },
  {
   "cell_type": "code",
   "execution_count": 1,
   "metadata": {
    "colab": {},
    "colab_type": "code",
    "id": "8ovXyaPCIR9J"
   },
   "outputs": [],
   "source": [
    "import pandas as pd\n",
    "import numpy as np\n",
    "import nltk, re, pprint\n",
    "from nltk import word_tokenize, pos_tag\n",
    "from sklearn.preprocessing import MultiLabelBinarizer\n",
    "from sklearn.metrics.pairwise import cosine_similarity\n",
    "\n",
    "from sklearn.feature_extraction.text import CountVectorizer\n",
    "from sklearn.feature_extraction.text import TfidfTransformer\n",
    "from sklearn.feature_extraction.text import TfidfVectorizer\n",
    "\n",
    "from sklearn.decomposition import NMF, LatentDirichletAllocation, TruncatedSVD\n",
    "from gensim import matutils, models\n",
    "from gensim.models.ldamulticore import LdaMulticore\n",
    "from gensim.models import CoherenceModel\n",
    "from gensim import corpora\n",
    "from gensim.corpora.dictionary import Dictionary\n",
    "from gensim.parsing.preprocessing import preprocess_documents\n",
    "from gensim.utils import simple_preprocess\n",
    "from gensim.parsing.preprocessing import remove_stopwords\n",
    "from gensim.models.word2vec import Word2Vec\n",
    "import time\n",
    "\n",
    "import warnings\n",
    "warnings.filterwarnings('ignore')\n",
    "\n",
    "from sklearn.model_selection import train_test_split\n",
    "from matplotlib import pyplot as plt\n",
    "\n",
    "from matplotlib.legend_handler import HandlerLine2D\n",
    "\n",
    "from sklearn.dummy import DummyClassifier\n",
    "from sklearn.naive_bayes import MultinomialNB\n",
    "from sklearn.linear_model import SGDClassifier\n",
    "from sklearn.linear_model import LogisticRegression\n",
    "from sklearn.multiclass import OneVsRestClassifier\n",
    "from sklearn.svm import LinearSVC\n",
    "from sklearn.linear_model import Perceptron\n",
    "from sklearn.linear_model import PassiveAggressiveClassifier\n",
    "from sklearn.neural_network import MLPClassifier\n",
    "from sklearn.ensemble import RandomForestClassifier\n",
    "\n",
    "from sklearn.neighbors import KNeighborsClassifier\n",
    "\n",
    "from sklearn import model_selection\n",
    "\n",
    "from sklearn.metrics import make_scorer\n",
    "from sklearn.metrics import f1_score\n",
    "from sklearn.metrics import confusion_matrix\n",
    "from sklearn.metrics import hamming_loss\n",
    "from sklearn.metrics import roc_curve\n",
    "from sklearn.metrics import roc_auc_score\n",
    "from sklearn.metrics import jaccard_score\n",
    "\n",
    "from sklearn.cluster import KMeans\n",
    "from sklearn.model_selection import RandomizedSearchCV\n",
    "\n",
    "from scipy.stats import randint as sp_randint\n",
    "\n",
    "from sklearn.decomposition import PCA "
   ]
  },
  {
   "cell_type": "code",
   "execution_count": 2,
   "metadata": {
    "colab": {
     "base_uri": "https://localhost:8080/",
     "height": 206
    },
    "colab_type": "code",
    "id": "Ln7IkimLIR9b",
    "outputId": "1e44b90b-9b14-41d1-f19a-931648861ae3"
   },
   "outputs": [
    {
     "data": {
      "text/html": [
       "<div>\n",
       "<style scoped>\n",
       "    .dataframe tbody tr th:only-of-type {\n",
       "        vertical-align: middle;\n",
       "    }\n",
       "\n",
       "    .dataframe tbody tr th {\n",
       "        vertical-align: top;\n",
       "    }\n",
       "\n",
       "    .dataframe thead th {\n",
       "        text-align: right;\n",
       "    }\n",
       "</style>\n",
       "<table border=\"1\" class=\"dataframe\">\n",
       "  <thead>\n",
       "    <tr style=\"text-align: right;\">\n",
       "      <th></th>\n",
       "      <th>Lemma</th>\n",
       "      <th>lemmalist</th>\n",
       "      <th>tags</th>\n",
       "      <th>taglist</th>\n",
       "    </tr>\n",
       "  </thead>\n",
       "  <tbody>\n",
       "    <tr>\n",
       "      <th>0</th>\n",
       "      <td>['processing', 'sort', 'array', 'faster', 'pro...</td>\n",
       "      <td>processing sort array faster processing unsort...</td>\n",
       "      <td>['java', 'c++', 'performance', 'optimization',...</td>\n",
       "      <td>java c++ performance optimization branch-predi...</td>\n",
       "    </tr>\n",
       "    <tr>\n",
       "      <th>1</th>\n",
       "      <td>['undo', 'recent', 'local', 'commits', 'git', ...</td>\n",
       "      <td>undo recent local commits git accidentally com...</td>\n",
       "      <td>['git', 'version-control', 'git-commit', 'undo...</td>\n",
       "      <td>git version-control git-commit undo pre-commit</td>\n",
       "    </tr>\n",
       "    <tr>\n",
       "      <th>2</th>\n",
       "      <td>['delete', 'git', 'branch', 'locally', 'remote...</td>\n",
       "      <td>delete git branch locally remotely want delete...</td>\n",
       "      <td>['git', 'version-control', 'git-branch', 'git-...</td>\n",
       "      <td>git version-control git-branch git-push git-re...</td>\n",
       "    </tr>\n",
       "    <tr>\n",
       "      <th>3</th>\n",
       "      <td>['difference', 'git', 'pull', 'git', 'fetch', ...</td>\n",
       "      <td>difference git pull git fetch difference git p...</td>\n",
       "      <td>['git', 'version-control', 'git-pull', 'git-fe...</td>\n",
       "      <td>git version-control git-pull git-fetch</td>\n",
       "    </tr>\n",
       "    <tr>\n",
       "      <th>4</th>\n",
       "      <td>['correct', 'json', 'content', 'type', 'mess',...</td>\n",
       "      <td>correct json content type mess json time push ...</td>\n",
       "      <td>['json', 'http-headers', 'content-type']</td>\n",
       "      <td>json http-headers content-type</td>\n",
       "    </tr>\n",
       "  </tbody>\n",
       "</table>\n",
       "</div>"
      ],
      "text/plain": [
       "                                               Lemma  \\\n",
       "0  ['processing', 'sort', 'array', 'faster', 'pro...   \n",
       "1  ['undo', 'recent', 'local', 'commits', 'git', ...   \n",
       "2  ['delete', 'git', 'branch', 'locally', 'remote...   \n",
       "3  ['difference', 'git', 'pull', 'git', 'fetch', ...   \n",
       "4  ['correct', 'json', 'content', 'type', 'mess',...   \n",
       "\n",
       "                                           lemmalist  \\\n",
       "0  processing sort array faster processing unsort...   \n",
       "1  undo recent local commits git accidentally com...   \n",
       "2  delete git branch locally remotely want delete...   \n",
       "3  difference git pull git fetch difference git p...   \n",
       "4  correct json content type mess json time push ...   \n",
       "\n",
       "                                                tags  \\\n",
       "0  ['java', 'c++', 'performance', 'optimization',...   \n",
       "1  ['git', 'version-control', 'git-commit', 'undo...   \n",
       "2  ['git', 'version-control', 'git-branch', 'git-...   \n",
       "3  ['git', 'version-control', 'git-pull', 'git-fe...   \n",
       "4           ['json', 'http-headers', 'content-type']   \n",
       "\n",
       "                                             taglist  \n",
       "0  java c++ performance optimization branch-predi...  \n",
       "1     git version-control git-commit undo pre-commit  \n",
       "2  git version-control git-branch git-push git-re...  \n",
       "3             git version-control git-pull git-fetch  \n",
       "4                     json http-headers content-type  "
      ]
     },
     "execution_count": 2,
     "metadata": {},
     "output_type": "execute_result"
    }
   ],
   "source": [
    "df_base = pd.read_csv('/home/marco/Documents/OC_Machine_learning/section_5/tags_stackoverflow/data-output/stackoverflow_processed_sample.csv', encoding='utf-8')\n",
    "df_base.head()"
   ]
  },
  {
   "cell_type": "markdown",
   "metadata": {
    "colab_type": "text",
    "id": "BPElaaSNIR9s"
   },
   "source": [
    "Test and train set"
   ]
  },
  {
   "cell_type": "code",
   "execution_count": 3,
   "metadata": {
    "colab": {},
    "colab_type": "code",
    "id": "yH4DOgV_IR9w"
   },
   "outputs": [],
   "source": [
    "# 80/20 split\n",
    "X_train, X_test, y_train, y_test= train_test_split(df_base['Lemma'], df_base['taglist'],  test_size=0.2,train_size=0.8, random_state=0)"
   ]
  },
  {
   "cell_type": "code",
   "execution_count": 4,
   "metadata": {
    "colab": {},
    "colab_type": "code",
    "id": "1Nje6HBsIR94"
   },
   "outputs": [],
   "source": [
    "# Define a time counter function to test the algorythms performance \n",
    "_start_time = time.time()\n",
    "\n",
    "def process_time_starts():\n",
    "    global _start_time \n",
    "    _start_time = time.time()\n",
    "\n",
    "def time_elapsed():\n",
    "    t_sec = round(time.time() - _start_time)\n",
    "    (t_min, t_sec) = divmod(t_sec,60)\n",
    "    (t_hour,t_min) = divmod(t_min,60) \n",
    "    print('The process took: {}hour:{}min:{}sec'.format(t_hour,t_min,t_sec))"
   ]
  },
  {
   "cell_type": "markdown",
   "metadata": {
    "colab_type": "text",
    "id": "NFEFO3CfIR-C"
   },
   "source": [
    "## Encoded target matrix"
   ]
  },
  {
   "cell_type": "code",
   "execution_count": 5,
   "metadata": {
    "colab": {},
    "colab_type": "code",
    "id": "gA0_eDvyIR-E"
   },
   "outputs": [],
   "source": [
    "multilabel_binarizer = MultiLabelBinarizer()\n",
    "y_train_bin = multilabel_binarizer.fit_transform(y_train)\n",
    "y_test_bin = multilabel_binarizer.fit_transform(y_test)"
   ]
  },
  {
   "cell_type": "code",
   "execution_count": 6,
   "metadata": {
    "colab": {
     "base_uri": "https://localhost:8080/",
     "height": 34
    },
    "colab_type": "code",
    "id": "HbbDwtWKIR-S",
    "outputId": "6298a84c-b716-4056-9d1b-47a8a6329526"
   },
   "outputs": [
    {
     "name": "stdout",
     "output_type": "stream",
     "text": [
      "(8576, 8576)\n"
     ]
    }
   ],
   "source": [
    "df_tags = pd.read_csv('/home/marco/Documents/OC_Machine_learning/section_5/tags_stackoverflow/data-output/stackoverflow_processed_tags.csv', encoding='utf-8')\n",
    "df_tags = df_tags.dropna()\n",
    "tags = df_tags.tags #tags ordered by popularity\n",
    "df_tagsvector = pd.get_dummies(tags.unique()) # encoded matrix for the tags\n",
    "print(df_tagsvector.shape)"
   ]
  },
  {
   "cell_type": "code",
   "execution_count": 7,
   "metadata": {
    "colab": {
     "base_uri": "https://localhost:8080/",
     "height": 290
    },
    "colab_type": "code",
    "id": "XlfZjgFhIR-d",
    "outputId": "baaa4127-aba6-46be-c86e-04a4d0dd3012"
   },
   "outputs": [
    {
     "data": {
      "text/html": [
       "<div>\n",
       "<style scoped>\n",
       "    .dataframe tbody tr th:only-of-type {\n",
       "        vertical-align: middle;\n",
       "    }\n",
       "\n",
       "    .dataframe tbody tr th {\n",
       "        vertical-align: top;\n",
       "    }\n",
       "\n",
       "    .dataframe thead th {\n",
       "        text-align: right;\n",
       "    }\n",
       "</style>\n",
       "<table border=\"1\" class=\"dataframe\">\n",
       "  <thead>\n",
       "    <tr style=\"text-align: right;\">\n",
       "      <th></th>\n",
       "      <th>.a</th>\n",
       "      <th>.bash-profile</th>\n",
       "      <th>.d.ts</th>\n",
       "      <th>.htaccess</th>\n",
       "      <th>.net</th>\n",
       "      <th>.net-2.0</th>\n",
       "      <th>.net-3.0</th>\n",
       "      <th>.net-3.5</th>\n",
       "      <th>.net-4.0</th>\n",
       "      <th>.net-4.5</th>\n",
       "      <th>...</th>\n",
       "      <th>zipfile</th>\n",
       "      <th>zipper</th>\n",
       "      <th>zlib</th>\n",
       "      <th>zombie-process</th>\n",
       "      <th>zoo</th>\n",
       "      <th>zoom</th>\n",
       "      <th>zsh</th>\n",
       "      <th>zsh-completion</th>\n",
       "      <th>zurb-foundation</th>\n",
       "      <th>zxing</th>\n",
       "    </tr>\n",
       "  </thead>\n",
       "  <tbody>\n",
       "    <tr>\n",
       "      <th>0</th>\n",
       "      <td>0</td>\n",
       "      <td>0</td>\n",
       "      <td>0</td>\n",
       "      <td>0</td>\n",
       "      <td>0</td>\n",
       "      <td>0</td>\n",
       "      <td>0</td>\n",
       "      <td>0</td>\n",
       "      <td>0</td>\n",
       "      <td>0</td>\n",
       "      <td>...</td>\n",
       "      <td>0</td>\n",
       "      <td>0</td>\n",
       "      <td>0</td>\n",
       "      <td>0</td>\n",
       "      <td>0</td>\n",
       "      <td>0</td>\n",
       "      <td>0</td>\n",
       "      <td>0</td>\n",
       "      <td>0</td>\n",
       "      <td>0</td>\n",
       "    </tr>\n",
       "    <tr>\n",
       "      <th>1</th>\n",
       "      <td>0</td>\n",
       "      <td>0</td>\n",
       "      <td>0</td>\n",
       "      <td>0</td>\n",
       "      <td>0</td>\n",
       "      <td>0</td>\n",
       "      <td>0</td>\n",
       "      <td>0</td>\n",
       "      <td>0</td>\n",
       "      <td>0</td>\n",
       "      <td>...</td>\n",
       "      <td>0</td>\n",
       "      <td>0</td>\n",
       "      <td>0</td>\n",
       "      <td>0</td>\n",
       "      <td>0</td>\n",
       "      <td>0</td>\n",
       "      <td>0</td>\n",
       "      <td>0</td>\n",
       "      <td>0</td>\n",
       "      <td>0</td>\n",
       "    </tr>\n",
       "    <tr>\n",
       "      <th>2</th>\n",
       "      <td>0</td>\n",
       "      <td>0</td>\n",
       "      <td>0</td>\n",
       "      <td>0</td>\n",
       "      <td>0</td>\n",
       "      <td>0</td>\n",
       "      <td>0</td>\n",
       "      <td>0</td>\n",
       "      <td>0</td>\n",
       "      <td>0</td>\n",
       "      <td>...</td>\n",
       "      <td>0</td>\n",
       "      <td>0</td>\n",
       "      <td>0</td>\n",
       "      <td>0</td>\n",
       "      <td>0</td>\n",
       "      <td>0</td>\n",
       "      <td>0</td>\n",
       "      <td>0</td>\n",
       "      <td>0</td>\n",
       "      <td>0</td>\n",
       "    </tr>\n",
       "    <tr>\n",
       "      <th>3</th>\n",
       "      <td>0</td>\n",
       "      <td>0</td>\n",
       "      <td>0</td>\n",
       "      <td>0</td>\n",
       "      <td>0</td>\n",
       "      <td>0</td>\n",
       "      <td>0</td>\n",
       "      <td>0</td>\n",
       "      <td>0</td>\n",
       "      <td>0</td>\n",
       "      <td>...</td>\n",
       "      <td>0</td>\n",
       "      <td>0</td>\n",
       "      <td>0</td>\n",
       "      <td>0</td>\n",
       "      <td>0</td>\n",
       "      <td>0</td>\n",
       "      <td>0</td>\n",
       "      <td>0</td>\n",
       "      <td>0</td>\n",
       "      <td>0</td>\n",
       "    </tr>\n",
       "    <tr>\n",
       "      <th>4</th>\n",
       "      <td>0</td>\n",
       "      <td>0</td>\n",
       "      <td>0</td>\n",
       "      <td>0</td>\n",
       "      <td>0</td>\n",
       "      <td>0</td>\n",
       "      <td>0</td>\n",
       "      <td>0</td>\n",
       "      <td>0</td>\n",
       "      <td>0</td>\n",
       "      <td>...</td>\n",
       "      <td>0</td>\n",
       "      <td>0</td>\n",
       "      <td>0</td>\n",
       "      <td>0</td>\n",
       "      <td>0</td>\n",
       "      <td>0</td>\n",
       "      <td>0</td>\n",
       "      <td>0</td>\n",
       "      <td>0</td>\n",
       "      <td>0</td>\n",
       "    </tr>\n",
       "  </tbody>\n",
       "</table>\n",
       "<p>5 rows × 8576 columns</p>\n",
       "</div>"
      ],
      "text/plain": [
       "   .a  .bash-profile  .d.ts  .htaccess  .net  .net-2.0  .net-3.0  .net-3.5  \\\n",
       "0   0              0      0          0     0         0         0         0   \n",
       "1   0              0      0          0     0         0         0         0   \n",
       "2   0              0      0          0     0         0         0         0   \n",
       "3   0              0      0          0     0         0         0         0   \n",
       "4   0              0      0          0     0         0         0         0   \n",
       "\n",
       "   .net-4.0  .net-4.5  ...  zipfile  zipper  zlib  zombie-process  zoo  zoom  \\\n",
       "0         0         0  ...        0       0     0               0    0     0   \n",
       "1         0         0  ...        0       0     0               0    0     0   \n",
       "2         0         0  ...        0       0     0               0    0     0   \n",
       "3         0         0  ...        0       0     0               0    0     0   \n",
       "4         0         0  ...        0       0     0               0    0     0   \n",
       "\n",
       "   zsh  zsh-completion  zurb-foundation  zxing  \n",
       "0    0               0                0      0  \n",
       "1    0               0                0      0  \n",
       "2    0               0                0      0  \n",
       "3    0               0                0      0  \n",
       "4    0               0                0      0  \n",
       "\n",
       "[5 rows x 8576 columns]"
      ]
     },
     "execution_count": 7,
     "metadata": {},
     "output_type": "execute_result"
    }
   ],
   "source": [
    "df_tagsvector.head()"
   ]
  },
  {
   "cell_type": "markdown",
   "metadata": {
    "colab_type": "text",
    "id": "0OjEnDe3IR-l"
   },
   "source": [
    "## 1. Document-term matrix\n",
    "\n",
    "\n",
    "To use a topic modeling technique, we calculate have to calculate (1) a document-term matrix and (2) choose the number of topics for the algorithm to pick up.\n",
    "Documemt-term matrix is calculated using either using the \"Bag of Words\" or \"TF-IDF\" approach.\n",
    "The number of topics is chosen beforehands"
   ]
  },
  {
   "cell_type": "code",
   "execution_count": 8,
   "metadata": {
    "colab": {},
    "colab_type": "code",
    "id": "8bD2-FL0IR-n"
   },
   "outputs": [],
   "source": [
    "num_features = 500"
   ]
  },
  {
   "cell_type": "markdown",
   "metadata": {
    "colab_type": "text",
    "id": "s5JRfe7DIR-w"
   },
   "source": [
    "### 1.1 Bag of Words approach\n",
    "\n",
    "In order to perform machine learning on text documents, we first need to turn the text content into numerical feature vectors, i.e build a document-term matrix.\n",
    "One common approach is called a Bag of Words. The Bag of Words model learns a vocabulary from all of the documents, then models each document by counting the number of times each word appears. "
   ]
  },
  {
   "cell_type": "code",
   "execution_count": 9,
   "metadata": {
    "colab": {},
    "colab_type": "code",
    "id": "psAJZPv3IR-x"
   },
   "outputs": [],
   "source": [
    "# Initialize the \"CountVectorizer\" object, which is scikit-learn's bag of words tool\n",
    "c_vectorizer = CountVectorizer(analyzer = \"word\",tokenizer = None,  min_df=5, max_df = 0.8, max_features = num_features, ngram_range=(1, 2)) # count vectorizer with bigrams\n",
    "#The input to fit_transform should be a list of strings like column \"Lemma\" and \"tags\" in our dataframe."
   ]
  },
  {
   "cell_type": "markdown",
   "metadata": {
    "colab_type": "text",
    "id": "zNKoAhN0IR-4"
   },
   "source": [
    "- parameters explanation:\n",
    "ngram_range: We want to consider both unigrams and bigrams.\n",
    "max_df: When building the vocabulary ignore terms that have a document frequency strictly higher than the given threshold\n",
    "min_df: When building the vocabulary ignore terms that have a document frequency strictly lower than the given threshold.\n",
    "max_features: Build a vocabulary that only consider the top max 500_features ordered by term frequency across the corpus\n"
   ]
  },
  {
   "cell_type": "code",
   "execution_count": 10,
   "metadata": {
    "colab": {},
    "colab_type": "code",
    "id": "T4u7cDCnIR-6"
   },
   "outputs": [],
   "source": [
    "# apply the vectorizer\n",
    "X_bag_of_words_train = c_vectorizer.fit_transform(X_train)\n",
    "X_bag_of_words_test = c_vectorizer.transform(X_test)\n",
    "# fit_transform() does two functions: First, it fits the model\n",
    "# and learns the vocabulary; second, it transforms our training data\n",
    "# into feature vectors. "
   ]
  },
  {
   "cell_type": "code",
   "execution_count": 11,
   "metadata": {
    "colab": {},
    "colab_type": "code",
    "id": "k5cMiZ-OIR_D"
   },
   "outputs": [],
   "source": [
    "# Numpy arrays are easy to work with, so convert the result to an array\n",
    "bag_of_words_array = X_bag_of_words_train.toarray()\n"
   ]
  },
  {
   "cell_type": "markdown",
   "metadata": {
    "colab_type": "text",
    "id": "jrj-tuIkIR_O"
   },
   "source": [
    "document-term matrix calculated with \"Bag of Words\" method"
   ]
  },
  {
   "cell_type": "code",
   "execution_count": 12,
   "metadata": {
    "colab": {
     "base_uri": "https://localhost:8080/",
     "height": 290
    },
    "colab_type": "code",
    "id": "jP9XTWg5IR_P",
    "outputId": "1c83410a-7d0b-49e2-abbd-803ec2643648"
   },
   "outputs": [
    {
     "name": "stdout",
     "output_type": "stream",
     "text": [
      "(29740, 500)\n"
     ]
    },
    {
     "data": {
      "text/html": [
       "<div>\n",
       "<style scoped>\n",
       "    .dataframe tbody tr th:only-of-type {\n",
       "        vertical-align: middle;\n",
       "    }\n",
       "\n",
       "    .dataframe tbody tr th {\n",
       "        vertical-align: top;\n",
       "    }\n",
       "\n",
       "    .dataframe thead th {\n",
       "        text-align: right;\n",
       "    }\n",
       "</style>\n",
       "<table border=\"1\" class=\"dataframe\">\n",
       "  <thead>\n",
       "    <tr style=\"text-align: right;\">\n",
       "      <th></th>\n",
       "      <th>able</th>\n",
       "      <th>access</th>\n",
       "      <th>achieve</th>\n",
       "      <th>action</th>\n",
       "      <th>activity</th>\n",
       "      <th>actually</th>\n",
       "      <th>add</th>\n",
       "      <th>address</th>\n",
       "      <th>alert</th>\n",
       "      <th>allow</th>\n",
       "      <th>...</th>\n",
       "      <th>work</th>\n",
       "      <th>work fine</th>\n",
       "      <th>world</th>\n",
       "      <th>wrap_content</th>\n",
       "      <th>wrap_content android</th>\n",
       "      <th>write</th>\n",
       "      <th>wrong</th>\n",
       "      <th>xad</th>\n",
       "      <th>xcode</th>\n",
       "      <th>xml</th>\n",
       "    </tr>\n",
       "  </thead>\n",
       "  <tbody>\n",
       "    <tr>\n",
       "      <th>0</th>\n",
       "      <td>0</td>\n",
       "      <td>0</td>\n",
       "      <td>0</td>\n",
       "      <td>0</td>\n",
       "      <td>0</td>\n",
       "      <td>0</td>\n",
       "      <td>0</td>\n",
       "      <td>0</td>\n",
       "      <td>0</td>\n",
       "      <td>0</td>\n",
       "      <td>...</td>\n",
       "      <td>0</td>\n",
       "      <td>0</td>\n",
       "      <td>0</td>\n",
       "      <td>0</td>\n",
       "      <td>0</td>\n",
       "      <td>0</td>\n",
       "      <td>0</td>\n",
       "      <td>0</td>\n",
       "      <td>0</td>\n",
       "      <td>0</td>\n",
       "    </tr>\n",
       "    <tr>\n",
       "      <th>1</th>\n",
       "      <td>0</td>\n",
       "      <td>0</td>\n",
       "      <td>0</td>\n",
       "      <td>0</td>\n",
       "      <td>0</td>\n",
       "      <td>0</td>\n",
       "      <td>0</td>\n",
       "      <td>0</td>\n",
       "      <td>0</td>\n",
       "      <td>0</td>\n",
       "      <td>...</td>\n",
       "      <td>0</td>\n",
       "      <td>0</td>\n",
       "      <td>0</td>\n",
       "      <td>0</td>\n",
       "      <td>0</td>\n",
       "      <td>0</td>\n",
       "      <td>0</td>\n",
       "      <td>0</td>\n",
       "      <td>0</td>\n",
       "      <td>0</td>\n",
       "    </tr>\n",
       "    <tr>\n",
       "      <th>2</th>\n",
       "      <td>0</td>\n",
       "      <td>0</td>\n",
       "      <td>0</td>\n",
       "      <td>0</td>\n",
       "      <td>0</td>\n",
       "      <td>0</td>\n",
       "      <td>0</td>\n",
       "      <td>0</td>\n",
       "      <td>0</td>\n",
       "      <td>0</td>\n",
       "      <td>...</td>\n",
       "      <td>0</td>\n",
       "      <td>0</td>\n",
       "      <td>0</td>\n",
       "      <td>0</td>\n",
       "      <td>0</td>\n",
       "      <td>0</td>\n",
       "      <td>0</td>\n",
       "      <td>0</td>\n",
       "      <td>0</td>\n",
       "      <td>0</td>\n",
       "    </tr>\n",
       "    <tr>\n",
       "      <th>3</th>\n",
       "      <td>0</td>\n",
       "      <td>0</td>\n",
       "      <td>0</td>\n",
       "      <td>0</td>\n",
       "      <td>0</td>\n",
       "      <td>0</td>\n",
       "      <td>0</td>\n",
       "      <td>0</td>\n",
       "      <td>0</td>\n",
       "      <td>0</td>\n",
       "      <td>...</td>\n",
       "      <td>0</td>\n",
       "      <td>0</td>\n",
       "      <td>0</td>\n",
       "      <td>0</td>\n",
       "      <td>0</td>\n",
       "      <td>0</td>\n",
       "      <td>0</td>\n",
       "      <td>0</td>\n",
       "      <td>0</td>\n",
       "      <td>0</td>\n",
       "    </tr>\n",
       "    <tr>\n",
       "      <th>4</th>\n",
       "      <td>0</td>\n",
       "      <td>0</td>\n",
       "      <td>0</td>\n",
       "      <td>0</td>\n",
       "      <td>0</td>\n",
       "      <td>0</td>\n",
       "      <td>0</td>\n",
       "      <td>0</td>\n",
       "      <td>0</td>\n",
       "      <td>0</td>\n",
       "      <td>...</td>\n",
       "      <td>0</td>\n",
       "      <td>0</td>\n",
       "      <td>0</td>\n",
       "      <td>0</td>\n",
       "      <td>0</td>\n",
       "      <td>0</td>\n",
       "      <td>0</td>\n",
       "      <td>0</td>\n",
       "      <td>0</td>\n",
       "      <td>0</td>\n",
       "    </tr>\n",
       "  </tbody>\n",
       "</table>\n",
       "<p>5 rows × 500 columns</p>\n",
       "</div>"
      ],
      "text/plain": [
       "   able  access  achieve  action  activity  actually  add  address  alert  \\\n",
       "0     0       0        0       0         0         0    0        0      0   \n",
       "1     0       0        0       0         0         0    0        0      0   \n",
       "2     0       0        0       0         0         0    0        0      0   \n",
       "3     0       0        0       0         0         0    0        0      0   \n",
       "4     0       0        0       0         0         0    0        0      0   \n",
       "\n",
       "   allow  ...  work  work fine  world  wrap_content  wrap_content android  \\\n",
       "0      0  ...     0          0      0             0                     0   \n",
       "1      0  ...     0          0      0             0                     0   \n",
       "2      0  ...     0          0      0             0                     0   \n",
       "3      0  ...     0          0      0             0                     0   \n",
       "4      0  ...     0          0      0             0                     0   \n",
       "\n",
       "   write  wrong  xad  xcode  xml  \n",
       "0      0      0    0      0    0  \n",
       "1      0      0    0      0    0  \n",
       "2      0      0    0      0    0  \n",
       "3      0      0    0      0    0  \n",
       "4      0      0    0      0    0  \n",
       "\n",
       "[5 rows x 500 columns]"
      ]
     },
     "execution_count": 12,
     "metadata": {},
     "output_type": "execute_result"
    }
   ],
   "source": [
    "# define vocabulary words\n",
    "vocab = c_vectorizer.get_feature_names()\n",
    "# build a dataframe out of the bag of words\n",
    "df_tf = pd.DataFrame(bag_of_words_array, columns=vocab)\n",
    "print(df_tf.shape)\n",
    "df_tf.head() # visualize the matrix"
   ]
  },
  {
   "cell_type": "markdown",
   "metadata": {
    "colab_type": "text",
    "id": "GqaU7kiRIR_W"
   },
   "source": [
    "### 1.2 TF-IDF approach\n",
    "\n",
    "Text frequency - inverse documents frequency is a more advanced approach to build a document-term matrix than bag of words where only word counts (text frequency) is used.\n",
    "Inverse document frequency means, how common or rare a word is in the entire document set.\n",
    "It varies between 0 and 1. The closer it is to 0, the more common a word is.\n",
    "Before building the matrix here we check which are the most popular terms, i.e. the words with highest TF-IDF score. Those should correspond to the most popular tags."
   ]
  },
  {
   "cell_type": "markdown",
   "metadata": {
    "colab_type": "text",
    "id": "DOksFtifIR_W"
   },
   "source": [
    "#### 1.2.1 Word count and TF-IDF score\n"
   ]
  },
  {
   "cell_type": "markdown",
   "metadata": {
    "colab_type": "text",
    "id": "hWX4PZZBIR_Y"
   },
   "source": [
    "Word counts (term frequency)"
   ]
  },
  {
   "cell_type": "code",
   "execution_count": 13,
   "metadata": {
    "colab": {},
    "colab_type": "code",
    "id": "SZuK5DkAIR_a"
   },
   "outputs": [],
   "source": [
    "# Sum up the counts of each vocabulary word\n",
    "dist = np.sum(bag_of_words_array, axis=0)\n",
    "\n",
    "# For each, append to a list the vocabulary word and the number of times it \n",
    "# appears in the training set\n",
    "counts = []\n",
    "words = []\n",
    "for word, count in zip(vocab, dist):\n",
    "    counts.append(count)\n",
    "    words.append(word)\n",
    "    \n",
    "df_wordcount = pd.DataFrame({'words': words, 'count':counts})"
   ]
  },
  {
   "cell_type": "markdown",
   "metadata": {
    "colab_type": "text",
    "id": "MLXcgaeKIR_k"
   },
   "source": [
    "IDF values calculated from the bag-of-words matrix"
   ]
  },
  {
   "cell_type": "code",
   "execution_count": 14,
   "metadata": {
    "colab": {
     "base_uri": "https://localhost:8080/",
     "height": 0
    },
    "colab_type": "code",
    "id": "-Ti3n7cYIR_l",
    "outputId": "27aa9d68-12f1-49c1-c44a-6696d7f5a39b"
   },
   "outputs": [
    {
     "data": {
      "text/plain": [
       "TfidfTransformer(norm='l2', smooth_idf=True, sublinear_tf=False, use_idf=True)"
      ]
     },
     "execution_count": 14,
     "metadata": {},
     "output_type": "execute_result"
    }
   ],
   "source": [
    "tfidf_transformer=TfidfTransformer(smooth_idf=True,use_idf=True)\n",
    "tfidf_transformer.fit(X_bag_of_words_train)"
   ]
  },
  {
   "cell_type": "code",
   "execution_count": 15,
   "metadata": {
    "colab": {},
    "colab_type": "code",
    "id": "wqFfg1P_IR_q"
   },
   "outputs": [],
   "source": [
    "# get idf values\n",
    "df_idf = pd.DataFrame(tfidf_transformer.idf_, index= c_vectorizer.get_feature_names(),columns=[\"idf_weight\"]).reset_index()\n",
    "df_idf.rename(columns={'index':'words'},inplace=True) \n",
    "\n",
    "# join with word counts data\n",
    "df_words = pd.merge(df_idf, df_wordcount, on='words', how='inner')"
   ]
  },
  {
   "cell_type": "markdown",
   "metadata": {
    "colab_type": "text",
    "id": "TCaqBxfsIR_z"
   },
   "source": [
    "Finally we get a words dataframe ordered by TF-IDF scores"
   ]
  },
  {
   "cell_type": "code",
   "execution_count": 16,
   "metadata": {
    "colab": {
     "base_uri": "https://localhost:8080/",
     "height": 0
    },
    "colab_type": "code",
    "id": "f1pbJBcCIR_0",
    "outputId": "585527d0-eadf-4803-fc1d-c106d7d5e6cc"
   },
   "outputs": [
    {
     "data": {
      "text/html": [
       "<div>\n",
       "<style scoped>\n",
       "    .dataframe tbody tr th:only-of-type {\n",
       "        vertical-align: middle;\n",
       "    }\n",
       "\n",
       "    .dataframe tbody tr th {\n",
       "        vertical-align: top;\n",
       "    }\n",
       "\n",
       "    .dataframe thead th {\n",
       "        text-align: right;\n",
       "    }\n",
       "</style>\n",
       "<table border=\"1\" class=\"dataframe\">\n",
       "  <thead>\n",
       "    <tr style=\"text-align: right;\">\n",
       "      <th></th>\n",
       "      <th>words</th>\n",
       "      <th>idf_weight</th>\n",
       "      <th>count</th>\n",
       "      <th>TF_IDF score</th>\n",
       "    </tr>\n",
       "  </thead>\n",
       "  <tbody>\n",
       "    <tr>\n",
       "      <th>0</th>\n",
       "      <td>file</td>\n",
       "      <td>2.738689</td>\n",
       "      <td>14022</td>\n",
       "      <td>38401.898076</td>\n",
       "    </tr>\n",
       "    <tr>\n",
       "      <th>1</th>\n",
       "      <td>android</td>\n",
       "      <td>3.918157</td>\n",
       "      <td>8228</td>\n",
       "      <td>32238.599733</td>\n",
       "    </tr>\n",
       "    <tr>\n",
       "      <th>2</th>\n",
       "      <td>string</td>\n",
       "      <td>3.041600</td>\n",
       "      <td>10233</td>\n",
       "      <td>31124.696360</td>\n",
       "    </tr>\n",
       "    <tr>\n",
       "      <th>3</th>\n",
       "      <td>class</td>\n",
       "      <td>3.157055</td>\n",
       "      <td>9055</td>\n",
       "      <td>28587.133875</td>\n",
       "    </tr>\n",
       "    <tr>\n",
       "      <th>4</th>\n",
       "      <td>use</td>\n",
       "      <td>2.388887</td>\n",
       "      <td>11504</td>\n",
       "      <td>27481.753022</td>\n",
       "    </tr>\n",
       "    <tr>\n",
       "      <th>5</th>\n",
       "      <td>error</td>\n",
       "      <td>3.028989</td>\n",
       "      <td>9016</td>\n",
       "      <td>27309.366548</td>\n",
       "    </tr>\n",
       "    <tr>\n",
       "      <th>6</th>\n",
       "      <td>like</td>\n",
       "      <td>2.261442</td>\n",
       "      <td>11764</td>\n",
       "      <td>26603.601222</td>\n",
       "    </tr>\n",
       "    <tr>\n",
       "      <th>7</th>\n",
       "      <td>function</td>\n",
       "      <td>3.098073</td>\n",
       "      <td>8265</td>\n",
       "      <td>25605.576715</td>\n",
       "    </tr>\n",
       "    <tr>\n",
       "      <th>8</th>\n",
       "      <td>value</td>\n",
       "      <td>3.118002</td>\n",
       "      <td>8037</td>\n",
       "      <td>25059.382917</td>\n",
       "    </tr>\n",
       "    <tr>\n",
       "      <th>9</th>\n",
       "      <td>code</td>\n",
       "      <td>2.614190</td>\n",
       "      <td>9506</td>\n",
       "      <td>24850.491246</td>\n",
       "    </tr>\n",
       "  </tbody>\n",
       "</table>\n",
       "</div>"
      ],
      "text/plain": [
       "      words  idf_weight  count  TF_IDF score\n",
       "0      file    2.738689  14022  38401.898076\n",
       "1   android    3.918157   8228  32238.599733\n",
       "2    string    3.041600  10233  31124.696360\n",
       "3     class    3.157055   9055  28587.133875\n",
       "4       use    2.388887  11504  27481.753022\n",
       "5     error    3.028989   9016  27309.366548\n",
       "6      like    2.261442  11764  26603.601222\n",
       "7  function    3.098073   8265  25605.576715\n",
       "8     value    3.118002   8037  25059.382917\n",
       "9      code    2.614190   9506  24850.491246"
      ]
     },
     "execution_count": 16,
     "metadata": {},
     "output_type": "execute_result"
    }
   ],
   "source": [
    "#calculate the TF-IDF score\n",
    "df_words['TF_IDF score'] = df_words[\"idf_weight\"]*df_words['count']\n",
    "df_words = df_words.sort_values(by=['TF_IDF score'], ascending=False).reset_index(drop = True)# sort ascending\n",
    "df_words[:10]"
   ]
  },
  {
   "cell_type": "markdown",
   "metadata": {
    "colab_type": "text",
    "id": "oaCKXz05IR_-"
   },
   "source": [
    "#### 1.2.2 Build the matrix: TF-IDF scores to vectors"
   ]
  },
  {
   "cell_type": "code",
   "execution_count": 17,
   "metadata": {
    "colab": {},
    "colab_type": "code",
    "id": "fhd2Xx24IR__"
   },
   "outputs": [],
   "source": [
    "tfidfVectorizer = TfidfVectorizer(norm=None,analyzer='word',min_df = 5, max_df = 0.8, ngram_range=(1,2),max_features = num_features, use_idf=True)"
   ]
  },
  {
   "cell_type": "code",
   "execution_count": 18,
   "metadata": {
    "colab": {},
    "colab_type": "code",
    "id": "Mjf0OuuLISAE"
   },
   "outputs": [],
   "source": [
    "# TF-IDF matrices\n",
    "X_tfidf_train = tfidfVectorizer.fit_transform(X_train)\n",
    "X_tfidf_test = tfidfVectorizer.transform(X_test)"
   ]
  },
  {
   "cell_type": "code",
   "execution_count": 19,
   "metadata": {
    "colab": {},
    "colab_type": "code",
    "id": "NGb7svMjISAM"
   },
   "outputs": [],
   "source": [
    "X_train_dense = X_tfidf_train.todense()\n",
    "X_test_dense = X_tfidf_test.todense()"
   ]
  },
  {
   "cell_type": "code",
   "execution_count": 20,
   "metadata": {
    "colab": {},
    "colab_type": "code",
    "id": "RS7pTaPBISAU"
   },
   "outputs": [],
   "source": [
    "train_denselist = X_train_dense.tolist()"
   ]
  },
  {
   "cell_type": "code",
   "execution_count": 21,
   "metadata": {
    "colab": {
     "base_uri": "https://localhost:8080/",
     "height": 290
    },
    "colab_type": "code",
    "id": "bk9mbNrXISAd",
    "outputId": "72595066-788d-4835-e3c2-9670793034ac"
   },
   "outputs": [
    {
     "name": "stdout",
     "output_type": "stream",
     "text": [
      "(29740, 500)\n"
     ]
    },
    {
     "data": {
      "text/html": [
       "<div>\n",
       "<style scoped>\n",
       "    .dataframe tbody tr th:only-of-type {\n",
       "        vertical-align: middle;\n",
       "    }\n",
       "\n",
       "    .dataframe tbody tr th {\n",
       "        vertical-align: top;\n",
       "    }\n",
       "\n",
       "    .dataframe thead th {\n",
       "        text-align: right;\n",
       "    }\n",
       "</style>\n",
       "<table border=\"1\" class=\"dataframe\">\n",
       "  <thead>\n",
       "    <tr style=\"text-align: right;\">\n",
       "      <th></th>\n",
       "      <th>able</th>\n",
       "      <th>access</th>\n",
       "      <th>achieve</th>\n",
       "      <th>action</th>\n",
       "      <th>activity</th>\n",
       "      <th>actually</th>\n",
       "      <th>add</th>\n",
       "      <th>address</th>\n",
       "      <th>alert</th>\n",
       "      <th>allow</th>\n",
       "      <th>...</th>\n",
       "      <th>work</th>\n",
       "      <th>work fine</th>\n",
       "      <th>world</th>\n",
       "      <th>wrap_content</th>\n",
       "      <th>wrap_content android</th>\n",
       "      <th>write</th>\n",
       "      <th>wrong</th>\n",
       "      <th>xad</th>\n",
       "      <th>xcode</th>\n",
       "      <th>xml</th>\n",
       "    </tr>\n",
       "  </thead>\n",
       "  <tbody>\n",
       "    <tr>\n",
       "      <th>0</th>\n",
       "      <td>0.0</td>\n",
       "      <td>0.0</td>\n",
       "      <td>0.0</td>\n",
       "      <td>0.0</td>\n",
       "      <td>0.0</td>\n",
       "      <td>0.0</td>\n",
       "      <td>0.0</td>\n",
       "      <td>0.0</td>\n",
       "      <td>0.0</td>\n",
       "      <td>0.0</td>\n",
       "      <td>...</td>\n",
       "      <td>0.0</td>\n",
       "      <td>0.0</td>\n",
       "      <td>0.0</td>\n",
       "      <td>0.0</td>\n",
       "      <td>0.0</td>\n",
       "      <td>0.0</td>\n",
       "      <td>0.0</td>\n",
       "      <td>0.0</td>\n",
       "      <td>0.0</td>\n",
       "      <td>0.0</td>\n",
       "    </tr>\n",
       "    <tr>\n",
       "      <th>1</th>\n",
       "      <td>0.0</td>\n",
       "      <td>0.0</td>\n",
       "      <td>0.0</td>\n",
       "      <td>0.0</td>\n",
       "      <td>0.0</td>\n",
       "      <td>0.0</td>\n",
       "      <td>0.0</td>\n",
       "      <td>0.0</td>\n",
       "      <td>0.0</td>\n",
       "      <td>0.0</td>\n",
       "      <td>...</td>\n",
       "      <td>0.0</td>\n",
       "      <td>0.0</td>\n",
       "      <td>0.0</td>\n",
       "      <td>0.0</td>\n",
       "      <td>0.0</td>\n",
       "      <td>0.0</td>\n",
       "      <td>0.0</td>\n",
       "      <td>0.0</td>\n",
       "      <td>0.0</td>\n",
       "      <td>0.0</td>\n",
       "    </tr>\n",
       "    <tr>\n",
       "      <th>2</th>\n",
       "      <td>0.0</td>\n",
       "      <td>0.0</td>\n",
       "      <td>0.0</td>\n",
       "      <td>0.0</td>\n",
       "      <td>0.0</td>\n",
       "      <td>0.0</td>\n",
       "      <td>0.0</td>\n",
       "      <td>0.0</td>\n",
       "      <td>0.0</td>\n",
       "      <td>0.0</td>\n",
       "      <td>...</td>\n",
       "      <td>0.0</td>\n",
       "      <td>0.0</td>\n",
       "      <td>0.0</td>\n",
       "      <td>0.0</td>\n",
       "      <td>0.0</td>\n",
       "      <td>0.0</td>\n",
       "      <td>0.0</td>\n",
       "      <td>0.0</td>\n",
       "      <td>0.0</td>\n",
       "      <td>0.0</td>\n",
       "    </tr>\n",
       "    <tr>\n",
       "      <th>3</th>\n",
       "      <td>0.0</td>\n",
       "      <td>0.0</td>\n",
       "      <td>0.0</td>\n",
       "      <td>0.0</td>\n",
       "      <td>0.0</td>\n",
       "      <td>0.0</td>\n",
       "      <td>0.0</td>\n",
       "      <td>0.0</td>\n",
       "      <td>0.0</td>\n",
       "      <td>0.0</td>\n",
       "      <td>...</td>\n",
       "      <td>0.0</td>\n",
       "      <td>0.0</td>\n",
       "      <td>0.0</td>\n",
       "      <td>0.0</td>\n",
       "      <td>0.0</td>\n",
       "      <td>0.0</td>\n",
       "      <td>0.0</td>\n",
       "      <td>0.0</td>\n",
       "      <td>0.0</td>\n",
       "      <td>0.0</td>\n",
       "    </tr>\n",
       "    <tr>\n",
       "      <th>4</th>\n",
       "      <td>0.0</td>\n",
       "      <td>0.0</td>\n",
       "      <td>0.0</td>\n",
       "      <td>0.0</td>\n",
       "      <td>0.0</td>\n",
       "      <td>0.0</td>\n",
       "      <td>0.0</td>\n",
       "      <td>0.0</td>\n",
       "      <td>0.0</td>\n",
       "      <td>0.0</td>\n",
       "      <td>...</td>\n",
       "      <td>0.0</td>\n",
       "      <td>0.0</td>\n",
       "      <td>0.0</td>\n",
       "      <td>0.0</td>\n",
       "      <td>0.0</td>\n",
       "      <td>0.0</td>\n",
       "      <td>0.0</td>\n",
       "      <td>0.0</td>\n",
       "      <td>0.0</td>\n",
       "      <td>0.0</td>\n",
       "    </tr>\n",
       "  </tbody>\n",
       "</table>\n",
       "<p>5 rows × 500 columns</p>\n",
       "</div>"
      ],
      "text/plain": [
       "   able  access  achieve  action  activity  actually  add  address  alert  \\\n",
       "0   0.0     0.0      0.0     0.0       0.0       0.0  0.0      0.0    0.0   \n",
       "1   0.0     0.0      0.0     0.0       0.0       0.0  0.0      0.0    0.0   \n",
       "2   0.0     0.0      0.0     0.0       0.0       0.0  0.0      0.0    0.0   \n",
       "3   0.0     0.0      0.0     0.0       0.0       0.0  0.0      0.0    0.0   \n",
       "4   0.0     0.0      0.0     0.0       0.0       0.0  0.0      0.0    0.0   \n",
       "\n",
       "   allow  ...  work  work fine  world  wrap_content  wrap_content android  \\\n",
       "0    0.0  ...   0.0        0.0    0.0           0.0                   0.0   \n",
       "1    0.0  ...   0.0        0.0    0.0           0.0                   0.0   \n",
       "2    0.0  ...   0.0        0.0    0.0           0.0                   0.0   \n",
       "3    0.0  ...   0.0        0.0    0.0           0.0                   0.0   \n",
       "4    0.0  ...   0.0        0.0    0.0           0.0                   0.0   \n",
       "\n",
       "   write  wrong  xad  xcode  xml  \n",
       "0    0.0    0.0  0.0    0.0  0.0  \n",
       "1    0.0    0.0  0.0    0.0  0.0  \n",
       "2    0.0    0.0  0.0    0.0  0.0  \n",
       "3    0.0    0.0  0.0    0.0  0.0  \n",
       "4    0.0    0.0  0.0    0.0  0.0  \n",
       "\n",
       "[5 rows x 500 columns]"
      ]
     },
     "execution_count": 21,
     "metadata": {},
     "output_type": "execute_result"
    }
   ],
   "source": [
    "df_tf_idf = pd.DataFrame(train_denselist, columns = tfidfVectorizer.get_feature_names())\n",
    "df_tf_idf.rename(columns={'index':'words'},inplace=True)\n",
    "print(df_tf_idf.shape)\n",
    "df_tf_idf.head()"
   ]
  },
  {
   "cell_type": "markdown",
   "metadata": {
    "colab_type": "text",
    "id": "sJc6CLc0ISAl"
   },
   "source": [
    "### 1.3 Word2Vec embedding"
   ]
  },
  {
   "cell_type": "code",
   "execution_count": 22,
   "metadata": {
    "colab": {
     "base_uri": "https://localhost:8080/",
     "height": 34
    },
    "colab_type": "code",
    "id": "eYMrcTTDISAm",
    "outputId": "a31ca680-ad8d-4f33-b73a-268925fa6376"
   },
   "outputs": [
    {
     "name": "stdout",
     "output_type": "stream",
     "text": [
      "The process took: 0hour:0min:36sec\n"
     ]
    }
   ],
   "source": [
    "process_time_starts()\n",
    "word2vec_train = Word2Vec(X_train,               # data I vectorize\n",
    "                 min_count=3,   # Ignore words that appear less than this\n",
    "                 size= 50,      # Dimensionality of word embeddings\n",
    "                 workers=3,     # Number of processors (parallelisation)\n",
    "                 sg = 1,        # Training algorithm, either CBOW(0) or skip gram(1). \n",
    "                 window=3)      # Context window for words during training\n",
    "time_elapsed()"
   ]
  },
  {
   "cell_type": "markdown",
   "metadata": {
    "colab_type": "text",
    "id": "EZ2VM5-jISAt"
   },
   "source": [
    "## 2. Unsupervised topic modeling"
   ]
  },
  {
   "cell_type": "code",
   "execution_count": 23,
   "metadata": {
    "colab": {
     "base_uri": "https://localhost:8080/",
     "height": 34
    },
    "colab_type": "code",
    "id": "vSYskKc3ISAv",
    "outputId": "373a7998-3148-487c-af0e-43050e110faf"
   },
   "outputs": [
    {
     "name": "stdout",
     "output_type": "stream",
     "text": [
      "The process took: 0hour:1min:11sec\n"
     ]
    }
   ],
   "source": [
    "#model 5 topics for our corpus both by LDA and NMF, see if they compare with top tags\n",
    "process_time_starts()\n",
    "\n",
    "lda_first_model = LatentDirichletAllocation(n_components=5, max_iter=5,\n",
    "                                        learning_method='online',\n",
    "                                        learning_offset=50.,\n",
    "                                        random_state=0).fit(X_bag_of_words_train)\n",
    "time_elapsed()"
   ]
  },
  {
   "cell_type": "code",
   "execution_count": 24,
   "metadata": {
    "colab": {
     "base_uri": "https://localhost:8080/",
     "height": 34
    },
    "colab_type": "code",
    "id": "r3dgpJbQISA2",
    "outputId": "1ec16a37-51df-4ebb-faac-bdba503bb33a"
   },
   "outputs": [
    {
     "name": "stdout",
     "output_type": "stream",
     "text": [
      "The process took: 0hour:0min:3sec\n"
     ]
    }
   ],
   "source": [
    "process_time_starts()\n",
    "\n",
    "nmf_first_model = NMF(n_components=5, random_state=1,\n",
    "          alpha=.1, l1_ratio=.5).fit(X_bag_of_words_train)\n",
    "\n",
    "time_elapsed()"
   ]
  },
  {
   "cell_type": "code",
   "execution_count": 25,
   "metadata": {
    "colab": {},
    "colab_type": "code",
    "id": "YZloJs1TISA7"
   },
   "outputs": [],
   "source": [
    "def print_top_words(model):\n",
    "    feature_names = c_vectorizer.get_feature_names()\n",
    "    for topic_idx, topic in enumerate(model.components_):\n",
    "        message = \"Topic #%d: \" % topic_idx\n",
    "        n_top_words = 10\n",
    "        message += \" \".join([feature_names[i]\n",
    "                             for i in topic.argsort()[:-n_top_words - 1:-1]])\n",
    "        print(message)\n",
    "    print()"
   ]
  },
  {
   "cell_type": "code",
   "execution_count": 26,
   "metadata": {
    "colab": {
     "base_uri": "https://localhost:8080/",
     "height": 121
    },
    "colab_type": "code",
    "id": "owGtMnsNISBC",
    "outputId": "81bb5f88-3c09-4df6-ccbb-5fb379c12c45"
   },
   "outputs": [
    {
     "name": "stdout",
     "output_type": "stream",
     "text": [
      "Topic #0: android table id select key value column database sql data\n",
      "Topic #1: string function return object like way value code use list\n",
      "Topic #2: class public div text image button html view input item\n",
      "Topic #3: git use user http like work change way request application\n",
      "Topic #4: file error run line command version try project find script\n",
      "\n"
     ]
    }
   ],
   "source": [
    "print_top_words(lda_first_model)"
   ]
  },
  {
   "cell_type": "code",
   "execution_count": 27,
   "metadata": {
    "colab": {
     "base_uri": "https://localhost:8080/",
     "height": 121
    },
    "colab_type": "code",
    "id": "vKSUnyU5ISBH",
    "outputId": "e94314d4-4abc-4ea2-f690-9494dbcf6e48"
   },
   "outputs": [
    {
     "name": "stdout",
     "output_type": "stream",
     "text": [
      "Topic #0: android wrap_content wrap_content android layout_height layout_width android layout_width android layout_height id px text\n",
      "Topic #1: xad space provide set size component position appear byte node\n",
      "Topic #2: file error version git run directory http find line build\n",
      "Topic #3: option value time standard select key php type input array\n",
      "Topic #4: class public string new return div int function code method\n",
      "\n"
     ]
    }
   ],
   "source": [
    "print_top_words(nmf_first_model)"
   ]
  },
  {
   "cell_type": "markdown",
   "metadata": {
    "colab_type": "text",
    "id": "JJMKrz3kISBW"
   },
   "source": [
    "### 2.1 Latent Dirichlet Allocation (LDA) topic model\n",
    "\n",
    "#### 2.1.1 Choice of training data and hyperparameters: perplexity and coherence metrics"
   ]
  },
  {
   "cell_type": "markdown",
   "metadata": {
    "colab_type": "text",
    "id": "Be4OcpeVISBW"
   },
   "source": [
    "Perplexity is essentially a measure of how puzzled a trained model is by previously unseen documents. The core measure here is log-likelihood, which looks at the probability of seeing the content of the unseen documents given the trained model — i.e. does the model generalize? If it doesn’t, the log-likelihood is very low and perplexity ((exp(-1. * log-likelihood per word)) is high. A good model will have low perplexity."
   ]
  },
  {
   "cell_type": "code",
   "execution_count": 28,
   "metadata": {
    "colab": {},
    "colab_type": "code",
    "id": "wSS6dz8iISBY"
   },
   "outputs": [],
   "source": [
    "# given a vectorizer and set of data we calculate the perplexity as a function of topics evaluated\n",
    "\n",
    "def lda(vectorizer, data_train, data_test):\n",
    "\n",
    "    ''' Showing the perplexity score for several LDA models with different values\n",
    "    for n_components parameter, and printing the top words for the best LDA model\n",
    "    (the one with the lowest perplexity)\n",
    "    Parameters:\n",
    "    vectorizer: TF-IDF or Bag-of-Words convertizer                                              \n",
    "    data_train: data to fit the model with\n",
    "    data_test: data to test\n",
    "    '''\n",
    "\n",
    "    best_perplexity = np.inf\n",
    "    best_lda = 0\n",
    "    perplexity_list = []\n",
    "    n_topics_list = []\n",
    "    print(\"Extracting term frequency features for LDA...\")\n",
    "\n",
    "    for n_topics in np.linspace(10, 200, 5, dtype='int'):\n",
    "        lda_model = LatentDirichletAllocation(n_components=n_topics, max_iter=5,\n",
    "                                        learning_method='online',\n",
    "                                        learning_offset=50.,\n",
    "                                        random_state=0).fit(data_train)\n",
    "        n_topics_list.append(n_topics)\n",
    "        perplexity = lda_model.perplexity(data_test)\n",
    "        perplexity_list.append(perplexity)\n",
    "\n",
    "        # Perplexity is defined as exp(-1. * log-likelihood per word)\n",
    "        # Perplexity: The smaller the better\n",
    "        if perplexity <= best_perplexity:\n",
    "            best_perplexity = perplexity\n",
    "            best_lda = lda_model\n",
    "                                \n",
    "    plt.title(\"Evolution of perplexity score depending on number of topics\")\n",
    "    plt.xlabel(\"Number of topics\")\n",
    "    plt.ylabel(\"Perplexity\")\n",
    "    plt.plot(n_topics_list, perplexity_list)\n",
    "    plt.show()"
   ]
  },
  {
   "cell_type": "code",
   "execution_count": 29,
   "metadata": {
    "colab": {
     "base_uri": "https://localhost:8080/",
     "height": 330
    },
    "colab_type": "code",
    "id": "l6v46QkhISBc",
    "outputId": "30d5b17d-9fd1-4606-ae04-750c6992c487"
   },
   "outputs": [
    {
     "name": "stdout",
     "output_type": "stream",
     "text": [
      "Extracting term frequency features for LDA...\n"
     ]
    },
    {
     "data": {
      "image/png": "[encoded data removed]",
      "text/plain": [
       "<Figure size 432x288 with 1 Axes>"
      ]
     },
     "metadata": {
      "needs_background": "light"
     },
     "output_type": "display_data"
    },
    {
     "name": "stdout",
     "output_type": "stream",
     "text": [
      "The process took: 0hour:5min:14sec\n"
     ]
    }
   ],
   "source": [
    "process_time_starts()\n",
    "lda(c_vectorizer, X_bag_of_words_train, X_bag_of_words_test)\n",
    "time_elapsed()"
   ]
  },
  {
   "cell_type": "code",
   "execution_count": 30,
   "metadata": {
    "colab": {
     "base_uri": "https://localhost:8080/",
     "height": 330
    },
    "colab_type": "code",
    "id": "07JgkdwyISBg",
    "outputId": "38c7a4ac-d396-4311-aa14-b0128b4d51f9"
   },
   "outputs": [
    {
     "name": "stdout",
     "output_type": "stream",
     "text": [
      "Extracting term frequency features for LDA...\n"
     ]
    },
    {
     "data": {
      "image/png": "[encoded data removed]",
      "text/plain": [
       "<Figure size 432x288 with 1 Axes>"
      ]
     },
     "metadata": {
      "needs_background": "light"
     },
     "output_type": "display_data"
    },
    {
     "name": "stdout",
     "output_type": "stream",
     "text": [
      "The process took: 0hour:4min:53sec\n"
     ]
    }
   ],
   "source": [
    "process_time_starts()\n",
    "lda(tfidfVectorizer,X_tfidf_train, X_tfidf_test )\n",
    "time_elapsed()"
   ]
  },
  {
   "cell_type": "markdown",
   "metadata": {
    "colab_type": "text",
    "id": "kFMkY12KISBp"
   },
   "source": [
    "#### 2.1.2 Recommendation algorithm based on unsupervised topic modeling\n",
    "Topics are automatically assigned based on word and component weight"
   ]
  },
  {
   "cell_type": "code",
   "execution_count": 31,
   "metadata": {
    "colab": {},
    "colab_type": "code",
    "id": "yECudx8BISBq"
   },
   "outputs": [],
   "source": [
    "n_topics = 100 # based on perplexity calculations"
   ]
  },
  {
   "cell_type": "code",
   "execution_count": 32,
   "metadata": {
    "colab": {},
    "colab_type": "code",
    "id": "8WVznws_ISBw"
   },
   "outputs": [],
   "source": [
    "def Recommend_tags(text, model):\n",
    "    \n",
    "    ''' Recomendation system for stackoverflow posts based on a lda model, \n",
    "    it returns up to 5 tags.\n",
    "    Parameters:\n",
    "    text: the stackoverflow post of user\n",
    "    data_train: data to fit the model with\n",
    "    '''\n",
    "\n",
    "    threshold = 0.011\n",
    "    list_scores = []\n",
    "    list_words = []\n",
    "    used = set()\n",
    "       \n",
    "    text_tfidf = tfidfVectorizer.transform([text])\n",
    "    text_projection = model.transform(text_tfidf)\n",
    "    feature_names = tfidfVectorizer.get_feature_names()\n",
    "    components = model.components_ / model.components_.sum(axis=1)[:, np.newaxis] # normalization\n",
    "\n",
    "    for topic in range(n_topics):\n",
    "        topic_score = text_projection[0][topic]\n",
    "\n",
    "        for (word_idx, word_score) in zip(components[topic].argsort()[:-5:-1], sorted(components[topic])[:-5:-1]):\n",
    "            score = topic_score*word_score\n",
    "\n",
    "            if score >= threshold:\n",
    "                list_scores.append(score)\n",
    "                list_words.append(feature_names[word_idx])\n",
    "                used.add(feature_names[word_idx])\n",
    "\n",
    "    results = [tag for (y,tag) in sorted(zip(list_scores,list_words), key=lambda pair: pair[0], reverse=True)]\n",
    "    unique_results = [x for x in results if x not in used] # get only unique tags\n",
    "    tags = \" \".join(results[:5])\n",
    "    \n",
    "    return tags"
   ]
  },
  {
   "cell_type": "code",
   "execution_count": 33,
   "metadata": {
    "colab": {},
    "colab_type": "code",
    "id": "JpjlSURhISB2"
   },
   "outputs": [],
   "source": [
    "lda_model = LatentDirichletAllocation(n_components=n_topics, max_iter=5,\n",
    "                                        learning_method='online',\n",
    "                                        learning_offset=50.,\n",
    "                                        random_state=0).fit(X_train_dense)"
   ]
  },
  {
   "cell_type": "code",
   "execution_count": 34,
   "metadata": {
    "colab": {
     "base_uri": "https://localhost:8080/",
     "height": 34
    },
    "colab_type": "code",
    "id": "lOwbpNo7ISB6",
    "outputId": "28c21d02-d1a0-4e1d-f700-d06af544c28f"
   },
   "outputs": [
    {
     "name": "stdout",
     "output_type": "stream",
     "text": [
      "The process took: 0hour:2min:58sec\n"
     ]
    }
   ],
   "source": [
    "process_time_starts()\n",
    "LDA_tags = [Recommend_tags(text, lda_model) for text in X_test ]\n",
    "time_elapsed()"
   ]
  },
  {
   "cell_type": "code",
   "execution_count": 35,
   "metadata": {
    "colab": {
     "base_uri": "https://localhost:8080/",
     "height": 206
    },
    "colab_type": "code",
    "id": "PKGspy2kISB9",
    "outputId": "f80d0eea-864a-4904-abb9-bb6164ce1694"
   },
   "outputs": [
    {
     "data": {
      "text/html": [
       "<div>\n",
       "<style scoped>\n",
       "    .dataframe tbody tr th:only-of-type {\n",
       "        vertical-align: middle;\n",
       "    }\n",
       "\n",
       "    .dataframe tbody tr th {\n",
       "        vertical-align: top;\n",
       "    }\n",
       "\n",
       "    .dataframe thead th {\n",
       "        text-align: right;\n",
       "    }\n",
       "</style>\n",
       "<table border=\"1\" class=\"dataframe\">\n",
       "  <thead>\n",
       "    <tr style=\"text-align: right;\">\n",
       "      <th></th>\n",
       "      <th>Lemma</th>\n",
       "      <th>taglist</th>\n",
       "      <th>LDA_tags</th>\n",
       "    </tr>\n",
       "  </thead>\n",
       "  <tbody>\n",
       "    <tr>\n",
       "      <th>0</th>\n",
       "      <td>['instal', 'libv', 'gem', 'o', '+', 'try', 'in...</td>\n",
       "      <td>gem rubygems osx-mavericks osx-yosemite libv8</td>\n",
       "      <td>error instance connection self target</td>\n",
       "    </tr>\n",
       "    <tr>\n",
       "      <th>1</th>\n",
       "      <td>['right', 'leave', 'support', 'twitter', 'boot...</td>\n",
       "      <td>css html twitter-bootstrap twitter-bootstrap-3</td>\n",
       "      <td>element right project view support</td>\n",
       "    </tr>\n",
       "    <tr>\n",
       "      <th>2</th>\n",
       "      <td>['operator', 'mysql', 'work', 'code', 'write',...</td>\n",
       "      <td>mysql sql operators spaceship-operator</td>\n",
       "      <td>table query error mysql null</td>\n",
       "    </tr>\n",
       "    <tr>\n",
       "      <th>3</th>\n",
       "      <td>['warn', 'implicit', 'declaration', 'function'...</td>\n",
       "      <td>c compiler-warnings</td>\n",
       "      <td>python give let site understand</td>\n",
       "    </tr>\n",
       "    <tr>\n",
       "      <th>4</th>\n",
       "      <td>['exportimport', 'job', 'jenkins', 'possible',...</td>\n",
       "      <td>jenkins</td>\n",
       "      <td>content search multiple set different</td>\n",
       "    </tr>\n",
       "  </tbody>\n",
       "</table>\n",
       "</div>"
      ],
      "text/plain": [
       "                                               Lemma  \\\n",
       "0  ['instal', 'libv', 'gem', 'o', '+', 'try', 'in...   \n",
       "1  ['right', 'leave', 'support', 'twitter', 'boot...   \n",
       "2  ['operator', 'mysql', 'work', 'code', 'write',...   \n",
       "3  ['warn', 'implicit', 'declaration', 'function'...   \n",
       "4  ['exportimport', 'job', 'jenkins', 'possible',...   \n",
       "\n",
       "                                          taglist  \\\n",
       "0   gem rubygems osx-mavericks osx-yosemite libv8   \n",
       "1  css html twitter-bootstrap twitter-bootstrap-3   \n",
       "2          mysql sql operators spaceship-operator   \n",
       "3                             c compiler-warnings   \n",
       "4                                         jenkins   \n",
       "\n",
       "                                LDA_tags  \n",
       "0  error instance connection self target  \n",
       "1     element right project view support  \n",
       "2           table query error mysql null  \n",
       "3        python give let site understand  \n",
       "4  content search multiple set different  "
      ]
     },
     "execution_count": 35,
     "metadata": {},
     "output_type": "execute_result"
    }
   ],
   "source": [
    "df_xtest = pd.DataFrame(X_test).reset_index()\n",
    "df_ytest = pd.DataFrame(y_test).reset_index()\n",
    "\n",
    "df_test = pd.merge(df_xtest, df_ytest)\n",
    "df_test.drop('index', axis=1, inplace=True)\n",
    "df_test['LDA_tags'] = LDA_tags\n",
    "df_test.head()"
   ]
  },
  {
   "cell_type": "markdown",
   "metadata": {
    "colab_type": "text",
    "id": "FOwKlTvbISCC"
   },
   "source": [
    "#### 2.1.3 Performance evaluation of LDA predictions"
   ]
  },
  {
   "cell_type": "markdown",
   "metadata": {
    "colab_type": "text",
    "id": "DlXsmRjjISCD"
   },
   "source": [
    "##### Baseline: we create a tags vector with a dummy classifier "
   ]
  },
  {
   "cell_type": "code",
   "execution_count": 36,
   "metadata": {
    "colab": {},
    "colab_type": "code",
    "id": "MjwpKi56ISCE"
   },
   "outputs": [],
   "source": [
    "# Dummy Classifier (baseline)\n",
    "\n",
    "dummy_clf = DummyClassifier(random_state=0, strategy=\"most_frequent\")\n",
    "\n",
    "model_dummy = dummy_clf.fit(X_tfidf_train, y_train)\n",
    "y_dummy_pred = model_dummy.predict(X_tfidf_test)"
   ]
  },
  {
   "cell_type": "markdown",
   "metadata": {
    "colab_type": "text",
    "id": "DZBZfxDNISCH"
   },
   "source": [
    "##### Cosine similarity as score metrics:\n",
    "\n",
    "Cosine similarity is a measure of similarity between two non-zero vectors of an inner product space that measures the cosine of the angle between them.\n",
    "We have to construct a vector space from all the ‘sentences’ in tags arrays. We do so by using the TF-IDF approach."
   ]
  },
  {
   "cell_type": "code",
   "execution_count": 37,
   "metadata": {
    "colab": {},
    "colab_type": "code",
    "id": "3YCclOn6ISCI"
   },
   "outputs": [],
   "source": [
    "y_tfidf_test = tfidfVectorizer.transform(y_test)\n",
    "y_tfidf_LDA = tfidfVectorizer.transform(LDA_tags)\n",
    "y_tfidf_dummy = tfidfVectorizer.transform(y_dummy_pred)\n",
    "#print(y_tfidf_test.shape, y_tfidf_LDA.shape, y_tfidf_dummy.shape)"
   ]
  },
  {
   "cell_type": "markdown",
   "metadata": {
    "colab_type": "text",
    "id": "T0nLMDBNISCM"
   },
   "source": [
    "##### Verify scores"
   ]
  },
  {
   "cell_type": "code",
   "execution_count": 38,
   "metadata": {
    "colab": {
     "base_uri": "https://localhost:8080/",
     "height": 52
    },
    "colab_type": "code",
    "id": "SX0PXCVsISCM",
    "outputId": "f5845968-7249-4f2e-a9bd-046b1c26160d"
   },
   "outputs": [
    {
     "name": "stdout",
     "output_type": "stream",
     "text": [
      "Dummy score: [[0.03996314]]\n",
      "LDA score: [[0.14911082]]\n"
     ]
    }
   ],
   "source": [
    "# Cosine similarity varies between 0 and 1.\n",
    "# If the predicted tags are exactly the same as those given by stackoverflow, cosine similarity is = 1\n",
    "#  to have one number we need reshaping 1D vectors representing tags, as 2D vectors(-1,1)\n",
    "print('Dummy score:',cosine_similarity(y_tfidf_test.reshape(1,-1), y_tfidf_dummy.reshape(1,-1))) \n",
    "print('LDA score:',cosine_similarity(y_tfidf_test.reshape(1,-1), y_tfidf_LDA.reshape(1,-1)))"
   ]
  },
  {
   "cell_type": "code",
   "execution_count": 39,
   "metadata": {
    "colab": {
     "base_uri": "https://localhost:8080/",
     "height": 52
    },
    "colab_type": "code",
    "id": "SX0PXCVsISCM",
    "outputId": "f5845968-7249-4f2e-a9bd-046b1c26160d"
   },
   "outputs": [],
   "source": [
    "y_LDA_bin = multilabel_binarizer.fit_transform(df_test['LDA_tags'])\n",
    "#jaccard_score(y_test_bin,y_LDA_bin, average='macro') #doesn't work: Multi-label binary indicator input with different numbers of labels"
   ]
  },
  {
   "cell_type": "markdown",
   "metadata": {
    "colab_type": "text",
    "id": "WrloSJlZISCS"
   },
   "source": [
    "### 2.2 Tags reccommendation with non-negative matrix factorization(NMF) topic modelling"
   ]
  },
  {
   "cell_type": "code",
   "execution_count": 40,
   "metadata": {
    "colab": {},
    "colab_type": "code",
    "id": "JOh5--5wISCS"
   },
   "outputs": [],
   "source": [
    "nmf_model = NMF(n_components=n_topics, random_state=1,\n",
    "          alpha=.1, l1_ratio=.5).fit(X_train_dense)"
   ]
  },
  {
   "cell_type": "code",
   "execution_count": 41,
   "metadata": {
    "colab": {
     "base_uri": "https://localhost:8080/",
     "height": 34
    },
    "colab_type": "code",
    "id": "a88emROVISCW",
    "outputId": "0a10e480-3f24-4f7d-a244-3f17a3811a3a"
   },
   "outputs": [
    {
     "name": "stdout",
     "output_type": "stream",
     "text": [
      "The process took: 0hour:2min:33sec\n"
     ]
    }
   ],
   "source": [
    "process_time_starts()\n",
    "NMF_tags = [Recommend_tags(text, nmf_model) for text in X_test ]\n",
    "time_elapsed()"
   ]
  },
  {
   "cell_type": "code",
   "execution_count": 42,
   "metadata": {
    "colab": {
     "base_uri": "https://localhost:8080/",
     "height": 206
    },
    "colab_type": "code",
    "id": "-FUttuXwISCb",
    "outputId": "70be557e-7143-471a-f760-8ce57707cdb2"
   },
   "outputs": [
    {
     "data": {
      "text/html": [
       "<div>\n",
       "<style scoped>\n",
       "    .dataframe tbody tr th:only-of-type {\n",
       "        vertical-align: middle;\n",
       "    }\n",
       "\n",
       "    .dataframe tbody tr th {\n",
       "        vertical-align: top;\n",
       "    }\n",
       "\n",
       "    .dataframe thead th {\n",
       "        text-align: right;\n",
       "    }\n",
       "</style>\n",
       "<table border=\"1\" class=\"dataframe\">\n",
       "  <thead>\n",
       "    <tr style=\"text-align: right;\">\n",
       "      <th></th>\n",
       "      <th>Lemma</th>\n",
       "      <th>taglist</th>\n",
       "      <th>LDA_tags</th>\n",
       "      <th>NMF_tags</th>\n",
       "    </tr>\n",
       "  </thead>\n",
       "  <tbody>\n",
       "    <tr>\n",
       "      <th>0</th>\n",
       "      <td>['instal', 'libv', 'gem', 'o', '+', 'try', 'in...</td>\n",
       "      <td>gem rubygems osx-mavericks osx-yosemite libv8</td>\n",
       "      <td>error instance connection self target</td>\n",
       "      <td>target error pointer size package</td>\n",
       "    </tr>\n",
       "    <tr>\n",
       "      <th>1</th>\n",
       "      <td>['right', 'leave', 'support', 'twitter', 'boot...</td>\n",
       "      <td>css html twitter-bootstrap twitter-bootstrap-3</td>\n",
       "      <td>element right project view support</td>\n",
       "      <td>project</td>\n",
       "    </tr>\n",
       "    <tr>\n",
       "      <th>2</th>\n",
       "      <td>['operator', 'mysql', 'work', 'code', 'write',...</td>\n",
       "      <td>mysql sql operators spaceship-operator</td>\n",
       "      <td>table query error mysql null</td>\n",
       "      <td>error password mysql null exception</td>\n",
       "    </tr>\n",
       "    <tr>\n",
       "      <th>3</th>\n",
       "      <td>['warn', 'implicit', 'declaration', 'function'...</td>\n",
       "      <td>c compiler-warnings</td>\n",
       "      <td>python give let site understand</td>\n",
       "      <td>warn format argument character function</td>\n",
       "    </tr>\n",
       "    <tr>\n",
       "      <th>4</th>\n",
       "      <td>['exportimport', 'job', 'jenkins', 'possible',...</td>\n",
       "      <td>jenkins</td>\n",
       "      <td>content search multiple set different</td>\n",
       "      <td></td>\n",
       "    </tr>\n",
       "  </tbody>\n",
       "</table>\n",
       "</div>"
      ],
      "text/plain": [
       "                                               Lemma  \\\n",
       "0  ['instal', 'libv', 'gem', 'o', '+', 'try', 'in...   \n",
       "1  ['right', 'leave', 'support', 'twitter', 'boot...   \n",
       "2  ['operator', 'mysql', 'work', 'code', 'write',...   \n",
       "3  ['warn', 'implicit', 'declaration', 'function'...   \n",
       "4  ['exportimport', 'job', 'jenkins', 'possible',...   \n",
       "\n",
       "                                          taglist  \\\n",
       "0   gem rubygems osx-mavericks osx-yosemite libv8   \n",
       "1  css html twitter-bootstrap twitter-bootstrap-3   \n",
       "2          mysql sql operators spaceship-operator   \n",
       "3                             c compiler-warnings   \n",
       "4                                         jenkins   \n",
       "\n",
       "                                LDA_tags  \\\n",
       "0  error instance connection self target   \n",
       "1     element right project view support   \n",
       "2           table query error mysql null   \n",
       "3        python give let site understand   \n",
       "4  content search multiple set different   \n",
       "\n",
       "                                  NMF_tags  \n",
       "0        target error pointer size package  \n",
       "1                                  project  \n",
       "2      error password mysql null exception  \n",
       "3  warn format argument character function  \n",
       "4                                           "
      ]
     },
     "execution_count": 42,
     "metadata": {},
     "output_type": "execute_result"
    }
   ],
   "source": [
    "df_test['NMF_tags'] = NMF_tags\n",
    "df_test.head()"
   ]
  },
  {
   "cell_type": "code",
   "execution_count": 43,
   "metadata": {
    "colab": {
     "base_uri": "https://localhost:8080/",
     "height": 52
    },
    "colab_type": "code",
    "id": "oll30ONGISCh",
    "outputId": "dcdc9b3e-8d16-495d-e7b6-392989cf1a16"
   },
   "outputs": [
    {
     "name": "stdout",
     "output_type": "stream",
     "text": [
      "Dummy score: [[0.03996314]]\n",
      "NMF score: [[0.19351249]]\n"
     ]
    }
   ],
   "source": [
    "y_tfidf_NMF = tfidfVectorizer.transform(NMF_tags)\n",
    "print('Dummy score:',cosine_similarity(y_tfidf_test.reshape(1,-1), y_tfidf_dummy.reshape(1,-1))) \n",
    "print('NMF score:',cosine_similarity(y_tfidf_test.reshape(1,-1), y_tfidf_NMF.reshape(1,-1)))"
   ]
  },
  {
   "cell_type": "markdown",
   "metadata": {
    "colab_type": "text",
    "id": "pwqaUeeWISCk"
   },
   "source": [
    "## 3. Supervised topic modeling"
   ]
  },
  {
   "cell_type": "markdown",
   "metadata": {
    "colab_type": "text",
    "id": "zuYcNVPYISCl"
   },
   "source": [
    "To evaluate the supervised training models, I'll use the jacard score since it's the best fitted for multi label classification. \n",
    "https://en.wikipedia.org/wiki/Multi-label_classification#Statistics_and_evaluation_metrics"
   ]
  },
  {
   "cell_type": "code",
   "execution_count": 44,
   "metadata": {
    "colab": {},
    "colab_type": "code",
    "id": "boheaXGPISCm"
   },
   "outputs": [],
   "source": [
    "def print_score(y_pred, clf):\n",
    "    \n",
    "    print(\"Clf: \", clf.__class__.__name__)\n",
    "    print(\"Jaccard score: {}\".format(jaccard_score(y_test_bin, y_pred, average='samples'))) # measure of similarity for the two sets of data. Average is set to \"samples\" since is between two multilabeled\n",
    "    print(\"Hamming loss: {}\".format((hamming_loss(y_pred, y_test_bin)))) #% of the wrong labels to the total number of labels\n",
    "       \n",
    "    print(\"---\")    "
   ]
  },
  {
   "cell_type": "markdown",
   "metadata": {
    "colab_type": "text",
    "id": "gW9iEoQmISCq"
   },
   "source": [
    "### 3.1 Evaluate several classifiers"
   ]
  },
  {
   "cell_type": "code",
   "execution_count": 45,
   "metadata": {
    "colab": {
     "base_uri": "https://localhost:8080/",
     "height": 746
    },
    "colab_type": "code",
    "id": "8f4mkt5xISCr",
    "outputId": "663ead64-2e34-4230-f463-4e5ee4a38032"
   },
   "outputs": [],
   "source": [
    "process_time_starts()\n",
    "\n",
    "Jaccard_KNN =[]\n",
    "Hamming_KNN = []\n",
    "for n in range(2,60,8):\n",
    "    knn = KNeighborsClassifier(n_neighbors = n)\n",
    "    knn_clf = knn.fit(X_train_dense, y_train_bin)\n",
    "    y_pred = knn_clf.predict(X_test_dense)\n",
    "    Jaccard_KNN.append(jaccard_score(y_test_bin, y_pred, average='samples'))\n",
    "    Hamming_KNN.append(hamming_loss(y_pred, y_test_bin))\n",
    "\n",
    "time_elapsed()"
   ]
  },
  {
   "cell_type": "code",
   "execution_count": 46,
   "metadata": {
    "colab": {
     "base_uri": "https://localhost:8080/",
     "height": 746
    },
    "colab_type": "code",
    "id": "8f4mkt5xISCr",
    "outputId": "663ead64-2e34-4230-f463-4e5ee4a38032"
   },
   "outputs": [],
   "source": [
    "KNN_range = np.arange(2,60,8)\n",
    "df_KNN = pd.DataFrame(KNN_range, columns = ['range'])\n",
    "df_KNN['Jaccard_score'] = Jaccard_KNN\n",
    "df_KNN['Hamming_loss'] = Hamming_KNN"
   ]
  },
  {
   "cell_type": "code",
   "execution_count": 47,
   "metadata": {
    "colab": {
     "base_uri": "https://localhost:8080/",
     "height": 746
    },
    "colab_type": "code",
    "id": "8f4mkt5xISCr",
    "outputId": "663ead64-2e34-4230-f463-4e5ee4a38032"
   },
   "outputs": [],
   "source": [
    "neighbors_max = df_KNN.iloc[df_KNN['Jaccard_score'].argmax(), 0]\n",
    "print(neighbors_max)\n",
    "df_KNN"
   ]
  },
  {
   "cell_type": "code",
   "execution_count": 48,
   "metadata": {
    "colab": {
     "base_uri": "https://localhost:8080/",
     "height": 746
    },
    "colab_type": "code",
    "id": "8f4mkt5xISCr",
    "outputId": "663ead64-2e34-4230-f463-4e5ee4a38032"
   },
   "outputs": [
    {
     "name": "stdout",
     "output_type": "stream",
     "text": [
      "Clf:  DummyClassifier\n",
      "Jaccard score: 0.5005673273137752\n",
      "Hamming loss: 0.2051240835205931\n",
      "---\n",
      "time up\n",
      "The process took: 0hour:0min:0sec\n",
      "---\n",
      "Clf:  LogisticRegression\n",
      "Jaccard score: 0.5894070269265197\n",
      "Hamming loss: 0.16419374415667493\n",
      "---\n",
      "time up\n",
      "The process took: 0hour:0min:59sec\n",
      "---\n",
      "Clf:  LinearSVC\n",
      "Jaccard score: 0.5503494908104994\n",
      "Hamming loss: 0.18384699919628653\n",
      "---\n",
      "time up\n",
      "The process took: 0hour:3min:40sec\n",
      "---\n",
      "Clf:  MultinomialNB\n",
      "Jaccard score: 0.45665648518517776\n",
      "Hamming loss: 0.2608886774812604\n",
      "---\n",
      "time up\n",
      "The process took: 0hour:0min:2sec\n",
      "---\n",
      "Clf:  Perceptron\n",
      "Jaccard score: 0.5122214882139483\n",
      "Hamming loss: 0.21011366804992865\n",
      "---\n",
      "time up\n",
      "The process took: 0hour:0min:10sec\n",
      "---\n",
      "Clf:  PassiveAggressiveClassifier\n",
      "Jaccard score: 0.48550069272194246\n",
      "Hamming loss: 0.22441976807125166\n",
      "---\n",
      "time up\n",
      "The process took: 0hour:0min:15sec\n",
      "---\n",
      "Clf:  KNeighborsClassifier\n",
      "Jaccard score: 0.550476050003206\n",
      "Hamming loss: 0.17856217297882462\n",
      "---\n",
      "time up\n",
      "The process took: 1hour:47min:58sec\n",
      "---\n",
      "Clf:  RandomForestClassifier\n",
      "Jaccard score: 0.6032354996399248\n",
      "Hamming loss: 0.15870880968392737\n",
      "---\n",
      "time up\n",
      "The process took: 0hour:19min:22sec\n",
      "---\n"
     ]
    }
   ],
   "source": [
    "sgd = SGDClassifier() # stochastic gradient descent (SGD) learning\n",
    "mn = MultinomialNB() # naive Bayes algorithm for multinomially distributed data,\n",
    "svc = LinearSVC()\n",
    "perceptron = Perceptron()\n",
    "pac = PassiveAggressiveClassifier() # Passive: if correct classification, keep the model; Aggressive: if incorrect classification, update to adjust to this misclassified example.\n",
    "\n",
    "random_forest = RandomForestClassifier(random_state=42)\n",
    "\n",
    "classifiers_list = [dummy_clf, svc, mn, perceptron, pac]\n",
    "classifiers_jaccard_scores = []\n",
    "classifiers_hamming_losses = []\n",
    "\n",
    "for classifier in classifiers_list:\n",
    "    process_time_starts()\n",
    "    \n",
    "    clf = OneVsRestClassifier(classifier)\n",
    "    clf.fit(X_train_dense, y_train_bin)\n",
    "    y_pred = clf.predict(X_test_dense)\n",
    "    classifiers_jaccard_scores.append(jaccard_score(y_test_bin, y_pred, average='weighted'))\n",
    "    classifiers_jaccard_scores.append((hamming_loss(y_pred, y_test_bin)))\n",
    "    \n",
    "    \n",
    "    print_score(y_pred, classifier)\n",
    "    print(\"time up\")\n",
    "    time_elapsed()\n",
    "    print(\"---\")"
   ]
  },
  {
   "cell_type": "code",
   "execution_count": 49,
   "metadata": {
    "colab": {},
    "colab_type": "code",
    "id": "dPtLSMIpISC0"
   },
   "outputs": [],
   "source": [
    "process_time_starts()\n",
    "lr = LogisticRegression()\n",
    "    lr_clf = lr.fit(X_train_dense, y_train_bin)\n",
    "    y_pred_LR = lr_clf.predict(X_test_dense)\n",
    "time_elapsed()\n",
    "classifiers_jaccard_scores.append(jaccard_score(y_test_bin, y_pred_LR, average='weighted'))\n",
    "classifiers_jaccard_scores.append((hamming_loss(y_pred_LR, y_test_bin)))"
   ]
  },
  {
   "cell_type": "code",
   "execution_count": 49,
   "metadata": {
    "colab": {},
    "colab_type": "code",
    "id": "dPtLSMIpISC0"
   },
   "outputs": [],
   "source": [
    "process_time_starts()\n",
    "knn = KNeighborsClassifier(n_neighbors = neighbors_max)\n",
    "    knn_clf = knn.fit(X_train_dense, y_train_bin)\n",
    "    y_pred_KNN = knn_clf.predict(X_test_dense)\n",
    "time_elapsed()\n",
    "classifiers_jaccard_scores.append(jaccard_score(y_test_bin, y_pred_KNN, average='weighted'))\n",
    "classifiers_jaccard_scores.append((hamming_loss(y_pred_KNN, y_test_bin)))"
   ]
  },
  {
   "cell_type": "code",
   "execution_count": 50,
   "metadata": {
    "colab": {},
    "colab_type": "code",
    "id": "dPtLSMIpISC0"
   },
   "outputs": [],
   "source": [
    "process_time_starts()\n",
    "rf_opt = RandomForestClassifier(random_state=42, n_jobs=-1, bootstrap = False, max_depth= None, max_features= 56, min_samples_split= 11, n_estimators= 100)\n",
    "rf_clf = rf_opt.fit(X_train_dense, y_train_bin)\n",
    "\n",
    "y_pred_RF = rf_clf.predict(X_test_dense)\n",
    "time_elapsed()\n",
    "classifiers_jaccard_scores.append(jaccard_score(y_test_bin, y_pred_RF, average='weighted'))\n",
    "classifiers_jaccard_scores.append((hamming_loss(y_pred_RF, y_test_bin)))"
   ]
  },
  {
   "cell_type": "code",
   "execution_count": 50,
   "metadata": {
    "colab": {},
    "colab_type": "code",
    "id": "dPtLSMIpISC0"
   },
   "outputs": [],
   "source": [
    "#param_dist = {\"max_depth\": [3, None],\n",
    "#              \"max_features\": [10, 50, 100, 500],\n",
    "#              \"min_samples_split\": [2, 11],\n",
    "#              \"bootstrap\": [True, False],\n",
    "#              \"n_estimators\": [10, 50, 100]}\n",
    "\n",
    "\n",
    "\n",
    "#random_search1 = RandomizedSearchCV(base_rf, param_distributions=param_dist, n_iter=10, cv=5, iid=False, random_state=42)"
   ]
  },
  {
   "cell_type": "code",
   "execution_count": 51,
   "metadata": {
    "colab": {
     "base_uri": "https://localhost:8080/",
     "height": 69
    },
    "colab_type": "code",
    "id": "KkaXfghmavK1",
    "outputId": "77365c16-b598-4e1d-848b-b5feefda59ab"
   },
   "outputs": [],
   "source": [
    "#process_time_starts()\n",
    "#opt_rf = random_search1.fit(X_train_dense, y_train_bin)\n",
    "#time_elapsed()\n",
    "#print('Best Parameters for the random forest regressor after random search \\n',random_search1.best_params_)"
   ]
  },
  {
   "cell_type": "code",
   "execution_count": 52,
   "metadata": {
    "colab": {
     "base_uri": "https://localhost:8080/",
     "height": 121
    },
    "colab_type": "code",
    "id": "SXslJhco4ZcR",
    "outputId": "3a6371a7-f3fd-4512-b378-ec33d1d3916f"
   },
   "outputs": [],
   "source": [
    "#process_time_starts()\n",
    "#rf_opt = RandomForestClassifier(random_state=42, n_jobs=-1, bootstrap = False, max_depth= None, max_features= 56, min_samples_split= 11, n_estimators= 100)\n",
    "#rf_clf = rf_opt.fit(X_train_dense, y_train_bin)\n",
    "\n",
    "#y_pred = rf_clf.predict(X_test_dense)\n",
    "    \n",
    "#print_score(y_pred, rf_clf)\n",
    "#print(\"time up\")\n",
    "#time_elapsed()\n",
    "\n",
    "#print_score(base_y_pred, basic_random_forest_fit)"
   ]
  },
  {
   "cell_type": "code",
   "execution_count": null,
   "metadata": {
    "colab": {
     "base_uri": "https://localhost:8080/",
     "height": 167
    },
    "colab_type": "code",
    "id": "M8xJ6O2B_9ht",
    "outputId": "744834b5-3916-4c0e-ca67-2b44cbbf2052"
   },
   "outputs": [],
   "source": []
  },
  {
   "cell_type": "code",
   "execution_count": null,
   "metadata": {},
   "outputs": [],
   "source": []
  }
 ],
 "metadata": {
  "colab": {
   "collapsed_sections": [
    "DOksFtifIR_W"
   ],
   "name": "Stackoverflowtags-Part2.ipynb",
   "provenance": [],
   "toc_visible": true
  },
  "kernelspec": {
   "display_name": "Python 3",
   "language": "python",
   "name": "python3"
  },
  "language_info": {
   "codemirror_mode": {
    "name": "ipython",
    "version": 3
   },
   "file_extension": ".py",
   "mimetype": "text/x-python",
   "name": "python",
   "nbconvert_exporter": "python",
   "pygments_lexer": "ipython3",
   "version": "3.7.6"
  }
 },
 "nbformat": 4,
 "nbformat_minor": 4
}
