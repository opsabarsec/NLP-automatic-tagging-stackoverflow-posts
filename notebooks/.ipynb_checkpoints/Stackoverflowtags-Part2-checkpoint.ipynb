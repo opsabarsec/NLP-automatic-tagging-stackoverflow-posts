{
 "cells": [
  {
   "cell_type": "markdown",
   "metadata": {},
   "source": [
    "# Stack Overflow Tag Prediction 2: Topic Modeling"
   ]
  },
  {
   "cell_type": "markdown",
   "metadata": {},
   "source": [
    "Stack Overflow is the largest, most trusted online community for developers to learn, share their programming knowledge, and build their careers. The goal of this project is to predict as many tags as possible with high precision and recall. Incorrect tags could impact user experience on StackOverflow. \n",
    "\n",
    "To automatically assign tags we use in a first step an unsupervised approach: the text analysis technique called topic modeling. The ultimate goal of topic modeling is to find various topics that are present in your corpus. Each document in the corpus will be made up of at least one topic, if not multiple topics."
   ]
  },
  {
   "cell_type": "markdown",
   "metadata": {},
   "source": [
    "## Import libraries and load dataset"
   ]
  },
  {
   "cell_type": "code",
   "execution_count": 2,
   "metadata": {},
   "outputs": [],
   "source": [
    "import pandas as pd\n",
    "import numpy as np\n",
    "import nltk, re, pprint\n",
    "from nltk import word_tokenize, pos_tag\n",
    "from sklearn.preprocessing import MultiLabelBinarizer\n",
    "from sklearn.metrics.pairwise import cosine_similarity\n",
    "\n",
    "from sklearn.feature_extraction.text import CountVectorizer\n",
    "from sklearn.feature_extraction.text import TfidfTransformer\n",
    "from sklearn.feature_extraction.text import TfidfVectorizer\n",
    "\n",
    "from sklearn.decomposition import NMF, LatentDirichletAllocation, TruncatedSVD\n",
    "from gensim import matutils, models\n",
    "from gensim.models.ldamulticore import LdaMulticore\n",
    "from gensim.models import CoherenceModel\n",
    "from gensim import corpora\n",
    "from gensim.corpora.dictionary import Dictionary\n",
    "from gensim.parsing.preprocessing import preprocess_documents\n",
    "from gensim.utils import simple_preprocess\n",
    "from gensim.parsing.preprocessing import remove_stopwords\n",
    "import time\n",
    "import pyLDAvis.sklearn\n",
    "from pylab import bone, pcolor, colorbar, plot, show, rcParams, savefig\n",
    "import warnings\n",
    "warnings.filterwarnings('ignore')\n",
    "\n",
    "from sklearn.model_selection import train_test_split\n",
    "from matplotlib import pyplot as plt\n",
    "from sklearn.dummy import DummyClassifier"
   ]
  },
  {
   "cell_type": "code",
   "execution_count": 3,
   "metadata": {},
   "outputs": [
    {
     "data": {
      "text/html": [
       "<div>\n",
       "<style scoped>\n",
       "    .dataframe tbody tr th:only-of-type {\n",
       "        vertical-align: middle;\n",
       "    }\n",
       "\n",
       "    .dataframe tbody tr th {\n",
       "        vertical-align: top;\n",
       "    }\n",
       "\n",
       "    .dataframe thead th {\n",
       "        text-align: right;\n",
       "    }\n",
       "</style>\n",
       "<table border=\"1\" class=\"dataframe\">\n",
       "  <thead>\n",
       "    <tr style=\"text-align: right;\">\n",
       "      <th></th>\n",
       "      <th>Lemma</th>\n",
       "      <th>lemmalist</th>\n",
       "      <th>tags</th>\n",
       "      <th>taglist</th>\n",
       "    </tr>\n",
       "  </thead>\n",
       "  <tbody>\n",
       "    <tr>\n",
       "      <th>0</th>\n",
       "      <td>['piece', 'c++', 'code', 'show', 'peculiar', '...</td>\n",
       "      <td>piece c++ code show peculiar behavior strange ...</td>\n",
       "      <td>['java', 'c++', 'performance', 'optimization',...</td>\n",
       "      <td>java c++ performance optimization branch-predi...</td>\n",
       "    </tr>\n",
       "    <tr>\n",
       "      <th>1</th>\n",
       "      <td>['accidentally', 'commit', 'wrong', 'file', 'g...</td>\n",
       "      <td>accidentally commit wrong file git push commit...</td>\n",
       "      <td>['git', 'version-control', 'git-commit', 'undo...</td>\n",
       "      <td>git version-control git-commit undo pre-commit</td>\n",
       "    </tr>\n",
       "    <tr>\n",
       "      <th>2</th>\n",
       "      <td>['want', 'delete', 'branch', 'locally', 'remot...</td>\n",
       "      <td>want delete branch locally remotely fail attem...</td>\n",
       "      <td>['git', 'version-control', 'git-branch', 'git-...</td>\n",
       "      <td>git version-control git-branch git-push git-re...</td>\n",
       "    </tr>\n",
       "    <tr>\n",
       "      <th>3</th>\n",
       "      <td>['difference', 'git', 'pull', 'git', 'fetch']</td>\n",
       "      <td>difference git pull git fetch</td>\n",
       "      <td>['git', 'version-control', 'git-pull', 'git-fe...</td>\n",
       "      <td>git version-control git-pull git-fetch</td>\n",
       "    </tr>\n",
       "    <tr>\n",
       "      <th>4</th>\n",
       "      <td>['mess', 'json', 'time', 'push', 'text', 'hurt...</td>\n",
       "      <td>mess json time push text hurt anybody know lik...</td>\n",
       "      <td>['json', 'http-headers', 'content-type']</td>\n",
       "      <td>json http-headers content-type</td>\n",
       "    </tr>\n",
       "  </tbody>\n",
       "</table>\n",
       "</div>"
      ],
      "text/plain": [
       "                                               Lemma  \\\n",
       "0  ['piece', 'c++', 'code', 'show', 'peculiar', '...   \n",
       "1  ['accidentally', 'commit', 'wrong', 'file', 'g...   \n",
       "2  ['want', 'delete', 'branch', 'locally', 'remot...   \n",
       "3      ['difference', 'git', 'pull', 'git', 'fetch']   \n",
       "4  ['mess', 'json', 'time', 'push', 'text', 'hurt...   \n",
       "\n",
       "                                           lemmalist  \\\n",
       "0  piece c++ code show peculiar behavior strange ...   \n",
       "1  accidentally commit wrong file git push commit...   \n",
       "2  want delete branch locally remotely fail attem...   \n",
       "3                      difference git pull git fetch   \n",
       "4  mess json time push text hurt anybody know lik...   \n",
       "\n",
       "                                                tags  \\\n",
       "0  ['java', 'c++', 'performance', 'optimization',...   \n",
       "1  ['git', 'version-control', 'git-commit', 'undo...   \n",
       "2  ['git', 'version-control', 'git-branch', 'git-...   \n",
       "3  ['git', 'version-control', 'git-pull', 'git-fe...   \n",
       "4           ['json', 'http-headers', 'content-type']   \n",
       "\n",
       "                                             taglist  \n",
       "0  java c++ performance optimization branch-predi...  \n",
       "1     git version-control git-commit undo pre-commit  \n",
       "2  git version-control git-branch git-push git-re...  \n",
       "3             git version-control git-pull git-fetch  \n",
       "4                     json http-headers content-type  "
      ]
     },
     "execution_count": 3,
     "metadata": {},
     "output_type": "execute_result"
    }
   ],
   "source": [
    "df_base = pd.read_csv('/home/marco/Documents/OC_Machine_learning/section_5/tags_stackoverflow/data-output/stackoverflow_processed_sample.csv', encoding='utf-8')\n",
    "df_base.head()"
   ]
  },
  {
   "cell_type": "markdown",
   "metadata": {},
   "source": [
    "Test and train set"
   ]
  },
  {
   "cell_type": "code",
   "execution_count": 4,
   "metadata": {},
   "outputs": [],
   "source": [
    "# 80/20 split\n",
    "X_train, X_test, y_train, y_test = train_test_split(df_base['Lemma'], df_base['taglist'], test_size=0.2,train_size=0.8, random_state=0)"
   ]
  },
  {
   "cell_type": "markdown",
   "metadata": {},
   "source": [
    "## 1. Document-term matrix\n",
    "\n",
    "\n",
    "To use a topic modeling technique, we calculate have to calculate (1) a document-term matrix and (2) choose the number of topics for the algorithm to pick up.\n",
    "Documemt-term matrix is calculated using either using the \"Bag of Words\" or \"TF-IDF\" approach.\n",
    "The number of topics is chosen beforehands"
   ]
  },
  {
   "cell_type": "code",
   "execution_count": 5,
   "metadata": {},
   "outputs": [],
   "source": [
    "num_features = 500"
   ]
  },
  {
   "cell_type": "markdown",
   "metadata": {},
   "source": [
    "### 1.1 Bag of Words approach\n",
    "\n",
    "In order to perform machine learning on text documents, we first need to turn the text content into numerical feature vectors, i.e build a document-term matrix.\n",
    "One common approach is called a Bag of Words. The Bag of Words model learns a vocabulary from all of the documents, then models each document by counting the number of times each word appears. "
   ]
  },
  {
   "cell_type": "code",
   "execution_count": 6,
   "metadata": {},
   "outputs": [],
   "source": [
    "# Initialize the \"CountVectorizer\" object, which is scikit-learn's bag of words tool\n",
    "c_vectorizer = CountVectorizer(analyzer = \"word\",tokenizer = None,  min_df=5, max_df = 0.8, max_features = num_features) \n",
    "#The input to fit_transform should be a list of strings like column \"Lemma\" and \"tags\" in our dataframe.\n"
   ]
  },
  {
   "cell_type": "code",
   "execution_count": 7,
   "metadata": {},
   "outputs": [],
   "source": [
    "# apply the vectorizer\n",
    "X_bag_of_words_train = c_vectorizer.fit_transform(X_train)\n",
    "X_bag_of_words_test = c_vectorizer.transform(X_test)\n",
    "# fit_transform() does two functions: First, it fits the model\n",
    "# and learns the vocabulary; second, it transforms our training data\n",
    "# into feature vectors. "
   ]
  },
  {
   "cell_type": "code",
   "execution_count": 8,
   "metadata": {},
   "outputs": [],
   "source": [
    "# Numpy arrays are easy to work with, so convert the result to an array\n",
    "bag_of_words_array = X_bag_of_words_train.toarray()\n"
   ]
  },
  {
   "cell_type": "markdown",
   "metadata": {},
   "source": [
    "document-term matrix calculated with \"Bag of Words\" method"
   ]
  },
  {
   "cell_type": "code",
   "execution_count": 9,
   "metadata": {},
   "outputs": [
    {
     "name": "stdout",
     "output_type": "stream",
     "text": [
      "(29740, 500)\n"
     ]
    },
    {
     "data": {
      "text/html": [
       "<div>\n",
       "<style scoped>\n",
       "    .dataframe tbody tr th:only-of-type {\n",
       "        vertical-align: middle;\n",
       "    }\n",
       "\n",
       "    .dataframe tbody tr th {\n",
       "        vertical-align: top;\n",
       "    }\n",
       "\n",
       "    .dataframe thead th {\n",
       "        text-align: right;\n",
       "    }\n",
       "</style>\n",
       "<table border=\"1\" class=\"dataframe\">\n",
       "  <thead>\n",
       "    <tr style=\"text-align: right;\">\n",
       "      <th></th>\n",
       "      <th>able</th>\n",
       "      <th>access</th>\n",
       "      <th>achieve</th>\n",
       "      <th>action</th>\n",
       "      <th>activity</th>\n",
       "      <th>actually</th>\n",
       "      <th>add</th>\n",
       "      <th>address</th>\n",
       "      <th>alert</th>\n",
       "      <th>allow</th>\n",
       "      <th>...</th>\n",
       "      <th>word</th>\n",
       "      <th>work</th>\n",
       "      <th>world</th>\n",
       "      <th>wrap_content</th>\n",
       "      <th>write</th>\n",
       "      <th>wrong</th>\n",
       "      <th>xad</th>\n",
       "      <th>xcode</th>\n",
       "      <th>xml</th>\n",
       "      <th>yes</th>\n",
       "    </tr>\n",
       "  </thead>\n",
       "  <tbody>\n",
       "    <tr>\n",
       "      <th>0</th>\n",
       "      <td>0</td>\n",
       "      <td>0</td>\n",
       "      <td>0</td>\n",
       "      <td>0</td>\n",
       "      <td>0</td>\n",
       "      <td>0</td>\n",
       "      <td>0</td>\n",
       "      <td>0</td>\n",
       "      <td>0</td>\n",
       "      <td>0</td>\n",
       "      <td>...</td>\n",
       "      <td>0</td>\n",
       "      <td>0</td>\n",
       "      <td>0</td>\n",
       "      <td>0</td>\n",
       "      <td>0</td>\n",
       "      <td>0</td>\n",
       "      <td>0</td>\n",
       "      <td>0</td>\n",
       "      <td>0</td>\n",
       "      <td>0</td>\n",
       "    </tr>\n",
       "    <tr>\n",
       "      <th>1</th>\n",
       "      <td>0</td>\n",
       "      <td>0</td>\n",
       "      <td>0</td>\n",
       "      <td>0</td>\n",
       "      <td>0</td>\n",
       "      <td>0</td>\n",
       "      <td>0</td>\n",
       "      <td>0</td>\n",
       "      <td>0</td>\n",
       "      <td>0</td>\n",
       "      <td>...</td>\n",
       "      <td>0</td>\n",
       "      <td>0</td>\n",
       "      <td>0</td>\n",
       "      <td>0</td>\n",
       "      <td>0</td>\n",
       "      <td>0</td>\n",
       "      <td>0</td>\n",
       "      <td>0</td>\n",
       "      <td>0</td>\n",
       "      <td>0</td>\n",
       "    </tr>\n",
       "    <tr>\n",
       "      <th>2</th>\n",
       "      <td>0</td>\n",
       "      <td>0</td>\n",
       "      <td>0</td>\n",
       "      <td>0</td>\n",
       "      <td>0</td>\n",
       "      <td>0</td>\n",
       "      <td>0</td>\n",
       "      <td>0</td>\n",
       "      <td>0</td>\n",
       "      <td>0</td>\n",
       "      <td>...</td>\n",
       "      <td>0</td>\n",
       "      <td>0</td>\n",
       "      <td>0</td>\n",
       "      <td>0</td>\n",
       "      <td>0</td>\n",
       "      <td>0</td>\n",
       "      <td>0</td>\n",
       "      <td>0</td>\n",
       "      <td>0</td>\n",
       "      <td>0</td>\n",
       "    </tr>\n",
       "    <tr>\n",
       "      <th>3</th>\n",
       "      <td>0</td>\n",
       "      <td>0</td>\n",
       "      <td>0</td>\n",
       "      <td>0</td>\n",
       "      <td>0</td>\n",
       "      <td>0</td>\n",
       "      <td>0</td>\n",
       "      <td>0</td>\n",
       "      <td>0</td>\n",
       "      <td>0</td>\n",
       "      <td>...</td>\n",
       "      <td>0</td>\n",
       "      <td>0</td>\n",
       "      <td>0</td>\n",
       "      <td>0</td>\n",
       "      <td>0</td>\n",
       "      <td>0</td>\n",
       "      <td>0</td>\n",
       "      <td>0</td>\n",
       "      <td>0</td>\n",
       "      <td>0</td>\n",
       "    </tr>\n",
       "    <tr>\n",
       "      <th>4</th>\n",
       "      <td>0</td>\n",
       "      <td>0</td>\n",
       "      <td>0</td>\n",
       "      <td>0</td>\n",
       "      <td>0</td>\n",
       "      <td>0</td>\n",
       "      <td>0</td>\n",
       "      <td>0</td>\n",
       "      <td>0</td>\n",
       "      <td>0</td>\n",
       "      <td>...</td>\n",
       "      <td>0</td>\n",
       "      <td>0</td>\n",
       "      <td>0</td>\n",
       "      <td>0</td>\n",
       "      <td>0</td>\n",
       "      <td>0</td>\n",
       "      <td>0</td>\n",
       "      <td>0</td>\n",
       "      <td>0</td>\n",
       "      <td>0</td>\n",
       "    </tr>\n",
       "  </tbody>\n",
       "</table>\n",
       "<p>5 rows × 500 columns</p>\n",
       "</div>"
      ],
      "text/plain": [
       "   able  access  achieve  action  activity  actually  add  address  alert  \\\n",
       "0     0       0        0       0         0         0    0        0      0   \n",
       "1     0       0        0       0         0         0    0        0      0   \n",
       "2     0       0        0       0         0         0    0        0      0   \n",
       "3     0       0        0       0         0         0    0        0      0   \n",
       "4     0       0        0       0         0         0    0        0      0   \n",
       "\n",
       "   allow  ...  word  work  world  wrap_content  write  wrong  xad  xcode  xml  \\\n",
       "0      0  ...     0     0      0             0      0      0    0      0    0   \n",
       "1      0  ...     0     0      0             0      0      0    0      0    0   \n",
       "2      0  ...     0     0      0             0      0      0    0      0    0   \n",
       "3      0  ...     0     0      0             0      0      0    0      0    0   \n",
       "4      0  ...     0     0      0             0      0      0    0      0    0   \n",
       "\n",
       "   yes  \n",
       "0    0  \n",
       "1    0  \n",
       "2    0  \n",
       "3    0  \n",
       "4    0  \n",
       "\n",
       "[5 rows x 500 columns]"
      ]
     },
     "execution_count": 9,
     "metadata": {},
     "output_type": "execute_result"
    }
   ],
   "source": [
    "# define vocabulary words\n",
    "vocab = c_vectorizer.get_feature_names()\n",
    "# build a dataframe out of the bag of words\n",
    "df_tf = pd.DataFrame(bag_of_words_array, columns=vocab)\n",
    "print(df_tf.shape)\n",
    "df_tf.head() # visualize the matrix"
   ]
  },
  {
   "cell_type": "markdown",
   "metadata": {},
   "source": [
    "### 1.2 TF-IDF approach\n",
    "\n",
    "Text frequency - inverse documents frequency is a more advanced approach to build a document-term matrix than bag of words where only word counts (text frequency) is used.\n",
    "Inverse document frequency means, how common or rare a word is in the entire document set.\n",
    "It varies between 0 and 1. The closer it is to 0, the more common a word is.\n",
    "Before building the matrix here we check which are the most popular terms, i.e. the words with highest TF-IDF score. Those should correspond to the most popular tags."
   ]
  },
  {
   "cell_type": "markdown",
   "metadata": {},
   "source": [
    "#### 1.2.1 Word count and TF-IDF score\n"
   ]
  },
  {
   "cell_type": "markdown",
   "metadata": {},
   "source": [
    "Word counts (term frequency)"
   ]
  },
  {
   "cell_type": "code",
   "execution_count": 10,
   "metadata": {},
   "outputs": [],
   "source": [
    "# Sum up the counts of each vocabulary word\n",
    "dist = np.sum(bag_of_words_array, axis=0)\n",
    "\n",
    "# For each, append to a list the vocabulary word and the number of times it \n",
    "# appears in the training set\n",
    "counts = []\n",
    "words = []\n",
    "for word, count in zip(vocab, dist):\n",
    "    counts.append(count)\n",
    "    words.append(word)\n",
    "    \n",
    "df_wordcount = pd.DataFrame({'words': words, 'count':counts})"
   ]
  },
  {
   "cell_type": "markdown",
   "metadata": {},
   "source": [
    "IDF values calculated from the bag-of-words matrix"
   ]
  },
  {
   "cell_type": "code",
   "execution_count": 11,
   "metadata": {},
   "outputs": [
    {
     "data": {
      "text/plain": [
       "TfidfTransformer(norm='l2', smooth_idf=True, sublinear_tf=False, use_idf=True)"
      ]
     },
     "execution_count": 11,
     "metadata": {},
     "output_type": "execute_result"
    }
   ],
   "source": [
    "tfidf_transformer=TfidfTransformer(smooth_idf=True,use_idf=True)\n",
    "tfidf_transformer.fit(X_bag_of_words_train)"
   ]
  },
  {
   "cell_type": "code",
   "execution_count": 12,
   "metadata": {},
   "outputs": [],
   "source": [
    "# get idf values\n",
    "df_idf = pd.DataFrame(tfidf_transformer.idf_, index= c_vectorizer.get_feature_names(),columns=[\"idf_weight\"]).reset_index()\n",
    "df_idf.rename(columns={'index':'words'},inplace=True) \n",
    "\n",
    "# join with word counts data\n",
    "df_words = pd.merge(df_idf, df_wordcount, on='words', how='inner')"
   ]
  },
  {
   "cell_type": "markdown",
   "metadata": {},
   "source": [
    "Finally we get a words dataframe ordered by TF-IDF scores"
   ]
  },
  {
   "cell_type": "code",
   "execution_count": 13,
   "metadata": {},
   "outputs": [
    {
     "data": {
      "text/html": [
       "<div>\n",
       "<style scoped>\n",
       "    .dataframe tbody tr th:only-of-type {\n",
       "        vertical-align: middle;\n",
       "    }\n",
       "\n",
       "    .dataframe tbody tr th {\n",
       "        vertical-align: top;\n",
       "    }\n",
       "\n",
       "    .dataframe thead th {\n",
       "        text-align: right;\n",
       "    }\n",
       "</style>\n",
       "<table border=\"1\" class=\"dataframe\">\n",
       "  <thead>\n",
       "    <tr style=\"text-align: right;\">\n",
       "      <th></th>\n",
       "      <th>words</th>\n",
       "      <th>idf_weight</th>\n",
       "      <th>count</th>\n",
       "      <th>TF_IDF score</th>\n",
       "    </tr>\n",
       "  </thead>\n",
       "  <tbody>\n",
       "    <tr>\n",
       "      <th>0</th>\n",
       "      <td>file</td>\n",
       "      <td>2.762306</td>\n",
       "      <td>12047</td>\n",
       "      <td>33277.501751</td>\n",
       "    </tr>\n",
       "    <tr>\n",
       "      <th>1</th>\n",
       "      <td>android</td>\n",
       "      <td>4.163799</td>\n",
       "      <td>7167</td>\n",
       "      <td>29841.944821</td>\n",
       "    </tr>\n",
       "    <tr>\n",
       "      <th>2</th>\n",
       "      <td>string</td>\n",
       "      <td>3.089614</td>\n",
       "      <td>8716</td>\n",
       "      <td>26929.073994</td>\n",
       "    </tr>\n",
       "    <tr>\n",
       "      <th>3</th>\n",
       "      <td>class</td>\n",
       "      <td>3.167575</td>\n",
       "      <td>8414</td>\n",
       "      <td>26651.979033</td>\n",
       "    </tr>\n",
       "    <tr>\n",
       "      <th>4</th>\n",
       "      <td>like</td>\n",
       "      <td>2.265724</td>\n",
       "      <td>11627</td>\n",
       "      <td>26343.578205</td>\n",
       "    </tr>\n",
       "    <tr>\n",
       "      <th>5</th>\n",
       "      <td>use</td>\n",
       "      <td>2.448332</td>\n",
       "      <td>10230</td>\n",
       "      <td>25046.438129</td>\n",
       "    </tr>\n",
       "    <tr>\n",
       "      <th>6</th>\n",
       "      <td>error</td>\n",
       "      <td>3.041341</td>\n",
       "      <td>8205</td>\n",
       "      <td>24954.206033</td>\n",
       "    </tr>\n",
       "    <tr>\n",
       "      <th>7</th>\n",
       "      <td>function</td>\n",
       "      <td>3.123890</td>\n",
       "      <td>7572</td>\n",
       "      <td>23654.096955</td>\n",
       "    </tr>\n",
       "    <tr>\n",
       "      <th>8</th>\n",
       "      <td>code</td>\n",
       "      <td>2.631742</td>\n",
       "      <td>8939</td>\n",
       "      <td>23525.140847</td>\n",
       "    </tr>\n",
       "    <tr>\n",
       "      <th>9</th>\n",
       "      <td>new</td>\n",
       "      <td>2.890006</td>\n",
       "      <td>7985</td>\n",
       "      <td>23076.697392</td>\n",
       "    </tr>\n",
       "  </tbody>\n",
       "</table>\n",
       "</div>"
      ],
      "text/plain": [
       "      words  idf_weight  count  TF_IDF score\n",
       "0      file    2.762306  12047  33277.501751\n",
       "1   android    4.163799   7167  29841.944821\n",
       "2    string    3.089614   8716  26929.073994\n",
       "3     class    3.167575   8414  26651.979033\n",
       "4      like    2.265724  11627  26343.578205\n",
       "5       use    2.448332  10230  25046.438129\n",
       "6     error    3.041341   8205  24954.206033\n",
       "7  function    3.123890   7572  23654.096955\n",
       "8      code    2.631742   8939  23525.140847\n",
       "9       new    2.890006   7985  23076.697392"
      ]
     },
     "execution_count": 13,
     "metadata": {},
     "output_type": "execute_result"
    }
   ],
   "source": [
    "#calculate the TF-IDF score\n",
    "df_words['TF_IDF score'] = df_words[\"idf_weight\"]*df_words['count']\n",
    "df_words = df_words.sort_values(by=['TF_IDF score'], ascending=False).reset_index(drop = True)# sort ascending\n",
    "df_words[:10]"
   ]
  },
  {
   "cell_type": "markdown",
   "metadata": {},
   "source": [
    "#### 1.2.2 Build the matrix: TF-IDF scores to vectors"
   ]
  },
  {
   "cell_type": "code",
   "execution_count": 14,
   "metadata": {},
   "outputs": [],
   "source": [
    "tfidfVectorizer = TfidfVectorizer(norm=None,analyzer='word',min_df = 5, max_df = 0.8, max_features = num_features, use_idf=True)"
   ]
  },
  {
   "cell_type": "code",
   "execution_count": 15,
   "metadata": {},
   "outputs": [],
   "source": [
    "# TF-IDF matrices\n",
    "X_tfidf_train = tfidfVectorizer.fit_transform(X_train)\n",
    "X_tfidf_test = tfidfVectorizer.transform(X_test)"
   ]
  },
  {
   "cell_type": "code",
   "execution_count": 16,
   "metadata": {},
   "outputs": [],
   "source": [
    "dense = X_tfidf_train.todense()"
   ]
  },
  {
   "cell_type": "code",
   "execution_count": 17,
   "metadata": {},
   "outputs": [],
   "source": [
    "denselist = dense.tolist()"
   ]
  },
  {
   "cell_type": "code",
   "execution_count": 18,
   "metadata": {},
   "outputs": [
    {
     "name": "stdout",
     "output_type": "stream",
     "text": [
      "(29740, 500)\n"
     ]
    },
    {
     "data": {
      "text/html": [
       "<div>\n",
       "<style scoped>\n",
       "    .dataframe tbody tr th:only-of-type {\n",
       "        vertical-align: middle;\n",
       "    }\n",
       "\n",
       "    .dataframe tbody tr th {\n",
       "        vertical-align: top;\n",
       "    }\n",
       "\n",
       "    .dataframe thead th {\n",
       "        text-align: right;\n",
       "    }\n",
       "</style>\n",
       "<table border=\"1\" class=\"dataframe\">\n",
       "  <thead>\n",
       "    <tr style=\"text-align: right;\">\n",
       "      <th></th>\n",
       "      <th>able</th>\n",
       "      <th>access</th>\n",
       "      <th>achieve</th>\n",
       "      <th>action</th>\n",
       "      <th>activity</th>\n",
       "      <th>actually</th>\n",
       "      <th>add</th>\n",
       "      <th>address</th>\n",
       "      <th>alert</th>\n",
       "      <th>allow</th>\n",
       "      <th>...</th>\n",
       "      <th>word</th>\n",
       "      <th>work</th>\n",
       "      <th>world</th>\n",
       "      <th>wrap_content</th>\n",
       "      <th>write</th>\n",
       "      <th>wrong</th>\n",
       "      <th>xad</th>\n",
       "      <th>xcode</th>\n",
       "      <th>xml</th>\n",
       "      <th>yes</th>\n",
       "    </tr>\n",
       "  </thead>\n",
       "  <tbody>\n",
       "    <tr>\n",
       "      <th>0</th>\n",
       "      <td>0.0</td>\n",
       "      <td>0.0</td>\n",
       "      <td>0.0</td>\n",
       "      <td>0.0</td>\n",
       "      <td>0.0</td>\n",
       "      <td>0.0</td>\n",
       "      <td>0.0</td>\n",
       "      <td>0.0</td>\n",
       "      <td>0.0</td>\n",
       "      <td>0.0</td>\n",
       "      <td>...</td>\n",
       "      <td>0.0</td>\n",
       "      <td>0.0</td>\n",
       "      <td>0.0</td>\n",
       "      <td>0.0</td>\n",
       "      <td>0.0</td>\n",
       "      <td>0.0</td>\n",
       "      <td>0.0</td>\n",
       "      <td>0.0</td>\n",
       "      <td>0.0</td>\n",
       "      <td>0.0</td>\n",
       "    </tr>\n",
       "    <tr>\n",
       "      <th>1</th>\n",
       "      <td>0.0</td>\n",
       "      <td>0.0</td>\n",
       "      <td>0.0</td>\n",
       "      <td>0.0</td>\n",
       "      <td>0.0</td>\n",
       "      <td>0.0</td>\n",
       "      <td>0.0</td>\n",
       "      <td>0.0</td>\n",
       "      <td>0.0</td>\n",
       "      <td>0.0</td>\n",
       "      <td>...</td>\n",
       "      <td>0.0</td>\n",
       "      <td>0.0</td>\n",
       "      <td>0.0</td>\n",
       "      <td>0.0</td>\n",
       "      <td>0.0</td>\n",
       "      <td>0.0</td>\n",
       "      <td>0.0</td>\n",
       "      <td>0.0</td>\n",
       "      <td>0.0</td>\n",
       "      <td>0.0</td>\n",
       "    </tr>\n",
       "    <tr>\n",
       "      <th>2</th>\n",
       "      <td>0.0</td>\n",
       "      <td>0.0</td>\n",
       "      <td>0.0</td>\n",
       "      <td>0.0</td>\n",
       "      <td>0.0</td>\n",
       "      <td>0.0</td>\n",
       "      <td>0.0</td>\n",
       "      <td>0.0</td>\n",
       "      <td>0.0</td>\n",
       "      <td>0.0</td>\n",
       "      <td>...</td>\n",
       "      <td>0.0</td>\n",
       "      <td>0.0</td>\n",
       "      <td>0.0</td>\n",
       "      <td>0.0</td>\n",
       "      <td>0.0</td>\n",
       "      <td>0.0</td>\n",
       "      <td>0.0</td>\n",
       "      <td>0.0</td>\n",
       "      <td>0.0</td>\n",
       "      <td>0.0</td>\n",
       "    </tr>\n",
       "    <tr>\n",
       "      <th>3</th>\n",
       "      <td>0.0</td>\n",
       "      <td>0.0</td>\n",
       "      <td>0.0</td>\n",
       "      <td>0.0</td>\n",
       "      <td>0.0</td>\n",
       "      <td>0.0</td>\n",
       "      <td>0.0</td>\n",
       "      <td>0.0</td>\n",
       "      <td>0.0</td>\n",
       "      <td>0.0</td>\n",
       "      <td>...</td>\n",
       "      <td>0.0</td>\n",
       "      <td>0.0</td>\n",
       "      <td>0.0</td>\n",
       "      <td>0.0</td>\n",
       "      <td>0.0</td>\n",
       "      <td>0.0</td>\n",
       "      <td>0.0</td>\n",
       "      <td>0.0</td>\n",
       "      <td>0.0</td>\n",
       "      <td>0.0</td>\n",
       "    </tr>\n",
       "    <tr>\n",
       "      <th>4</th>\n",
       "      <td>0.0</td>\n",
       "      <td>0.0</td>\n",
       "      <td>0.0</td>\n",
       "      <td>0.0</td>\n",
       "      <td>0.0</td>\n",
       "      <td>0.0</td>\n",
       "      <td>0.0</td>\n",
       "      <td>0.0</td>\n",
       "      <td>0.0</td>\n",
       "      <td>0.0</td>\n",
       "      <td>...</td>\n",
       "      <td>0.0</td>\n",
       "      <td>0.0</td>\n",
       "      <td>0.0</td>\n",
       "      <td>0.0</td>\n",
       "      <td>0.0</td>\n",
       "      <td>0.0</td>\n",
       "      <td>0.0</td>\n",
       "      <td>0.0</td>\n",
       "      <td>0.0</td>\n",
       "      <td>0.0</td>\n",
       "    </tr>\n",
       "  </tbody>\n",
       "</table>\n",
       "<p>5 rows × 500 columns</p>\n",
       "</div>"
      ],
      "text/plain": [
       "   able  access  achieve  action  activity  actually  add  address  alert  \\\n",
       "0   0.0     0.0      0.0     0.0       0.0       0.0  0.0      0.0    0.0   \n",
       "1   0.0     0.0      0.0     0.0       0.0       0.0  0.0      0.0    0.0   \n",
       "2   0.0     0.0      0.0     0.0       0.0       0.0  0.0      0.0    0.0   \n",
       "3   0.0     0.0      0.0     0.0       0.0       0.0  0.0      0.0    0.0   \n",
       "4   0.0     0.0      0.0     0.0       0.0       0.0  0.0      0.0    0.0   \n",
       "\n",
       "   allow  ...  word  work  world  wrap_content  write  wrong  xad  xcode  xml  \\\n",
       "0    0.0  ...   0.0   0.0    0.0           0.0    0.0    0.0  0.0    0.0  0.0   \n",
       "1    0.0  ...   0.0   0.0    0.0           0.0    0.0    0.0  0.0    0.0  0.0   \n",
       "2    0.0  ...   0.0   0.0    0.0           0.0    0.0    0.0  0.0    0.0  0.0   \n",
       "3    0.0  ...   0.0   0.0    0.0           0.0    0.0    0.0  0.0    0.0  0.0   \n",
       "4    0.0  ...   0.0   0.0    0.0           0.0    0.0    0.0  0.0    0.0  0.0   \n",
       "\n",
       "   yes  \n",
       "0  0.0  \n",
       "1  0.0  \n",
       "2  0.0  \n",
       "3  0.0  \n",
       "4  0.0  \n",
       "\n",
       "[5 rows x 500 columns]"
      ]
     },
     "execution_count": 18,
     "metadata": {},
     "output_type": "execute_result"
    }
   ],
   "source": [
    "df_tf_idf = pd.DataFrame(denselist, columns = tfidfVectorizer.get_feature_names())\n",
    "df_tf_idf.rename(columns={'index':'words'},inplace=True)\n",
    "print(df_tf_idf.shape)\n",
    "df_tf_idf.head()"
   ]
  },
  {
   "cell_type": "markdown",
   "metadata": {},
   "source": [
    "## 2. Unsupervised topic modeling"
   ]
  },
  {
   "cell_type": "code",
   "execution_count": 19,
   "metadata": {},
   "outputs": [],
   "source": [
    "# Define a time counter function to test the algorythm performance \n",
    "_start_time = time.time()\n",
    "\n",
    "def process_time_starts():\n",
    "    global _start_time \n",
    "    _start_time = time.time()\n",
    "\n",
    "def time_elapsed():\n",
    "    t_sec = round(time.time() - _start_time)\n",
    "    (t_min, t_sec) = divmod(t_sec,60)\n",
    "    (t_hour,t_min) = divmod(t_min,60) \n",
    "    print('The process took: {}hour:{}min:{}sec'.format(t_hour,t_min,t_sec))"
   ]
  },
  {
   "cell_type": "markdown",
   "metadata": {},
   "source": [
    "### 2.1 Latent Dirichlet Allocation (LDA) topic model"
   ]
  },
  {
   "cell_type": "markdown",
   "metadata": {},
   "source": [
    "#### 2.1.1 Choice of training data and hyperparameters: perplexity and coherence metrics"
   ]
  },
  {
   "cell_type": "markdown",
   "metadata": {},
   "source": [
    "Perplexity is essentially a measure of how puzzled a trained model is by previously unseen documents. The core measure here is log-likelihood, which looks at the probability of seeing the content of the unseen documents given the trained model — i.e. does the model generalize? If it doesn’t, the log-likelihood is very low and perplexity ((exp(-1. * log-likelihood per word)) is high. A good model will have low perplexity."
   ]
  },
  {
   "cell_type": "code",
   "execution_count": 20,
   "metadata": {},
   "outputs": [],
   "source": [
    "# given a vectorizer and set of data we calculate the perplexity as a function of topics evaluated\n",
    "\n",
    "def lda(vectorizer, data_train, data_test):\n",
    "\n",
    "    ''' Showing the perplexity score for several LDA models with different values\n",
    "    for n_components parameter, and printing the top words for the best LDA model\n",
    "    (the one with the lowest perplexity)\n",
    "    Parameters:\n",
    "    vectorizer: TF-IDF or Bag-of-Words convertizer                                              \n",
    "    data_train: data to fit the model with\n",
    "    data_test: data to test\n",
    "    '''\n",
    "\n",
    "    best_perplexity = np.inf\n",
    "    best_lda = 0\n",
    "    perplexity_list = []\n",
    "    n_topics_list = []\n",
    "    print(\"Extracting term frequency features for LDA...\")\n",
    "\n",
    "    for n_topics in np.linspace(10, 200, 5, dtype='int'):\n",
    "        lda_model = LatentDirichletAllocation(n_components=n_topics, max_iter=5,\n",
    "                                        learning_method='online',\n",
    "                                        learning_offset=50.,\n",
    "                                        random_state=0).fit(data_train)\n",
    "        n_topics_list.append(n_topics)\n",
    "        perplexity = lda_model.perplexity(data_test)\n",
    "        perplexity_list.append(perplexity)\n",
    "\n",
    "        # Perplexity is defined as exp(-1. * log-likelihood per word)\n",
    "        # Perplexity: The smaller the better\n",
    "        if perplexity <= best_perplexity:\n",
    "            best_perplexity = perplexity\n",
    "            best_lda = lda_model\n",
    "                                \n",
    "    plt.title(\"Evolution of perplexity score depending on number of topics\")\n",
    "    plt.xlabel(\"Number of topics\")\n",
    "    plt.ylabel(\"Perplexity\")\n",
    "    plt.plot(n_topics_list, perplexity_list)\n",
    "    plt.show()"
   ]
  },
  {
   "cell_type": "code",
   "execution_count": 21,
   "metadata": {},
   "outputs": [
    {
     "name": "stdout",
     "output_type": "stream",
     "text": [
      "Extracting term frequency features for LDA...\n"
     ]
    },
    {
     "data": {
      "image/png": "[encoded data removed]",
      "text/plain": [
       "<Figure size 432x288 with 1 Axes>"
      ]
     },
     "metadata": {
      "needs_background": "light"
     },
     "output_type": "display_data"
    },
    {
     "name": "stdout",
     "output_type": "stream",
     "text": [
      "The process took: 0hour:5min:47sec\n"
     ]
    }
   ],
   "source": [
    "process_time_starts()\n",
    "lda(c_vectorizer, X_bag_of_words_train, X_bag_of_words_test)\n",
    "time_elapsed()"
   ]
  },
  {
   "cell_type": "code",
   "execution_count": 22,
   "metadata": {},
   "outputs": [
    {
     "name": "stdout",
     "output_type": "stream",
     "text": [
      "Extracting term frequency features for LDA...\n"
     ]
    },
    {
     "data": {
      "image/png": "[encoded data removed]",
      "text/plain": [
       "<Figure size 432x288 with 1 Axes>"
      ]
     },
     "metadata": {
      "needs_background": "light"
     },
     "output_type": "display_data"
    },
    {
     "name": "stdout",
     "output_type": "stream",
     "text": [
      "The process took: 0hour:5min:36sec\n"
     ]
    }
   ],
   "source": [
    "process_time_starts()\n",
    "lda(tfidfVectorizer,X_tfidf_train, X_tfidf_test )\n",
    "time_elapsed()"
   ]
  },
  {
   "cell_type": "markdown",
   "metadata": {},
   "source": [
    "#### 2.1.2 Recommendation algorithm based on LDA optimized model"
   ]
  },
  {
   "cell_type": "code",
   "execution_count": 23,
   "metadata": {},
   "outputs": [],
   "source": [
    "n_topics = 150 # based on perplexity calculations\n",
    "lda_model = LatentDirichletAllocation(n_components=n_topics, max_iter=5,\n",
    "                                        learning_method='online',\n",
    "                                        learning_offset=50.,\n",
    "                                        random_state=0).fit(X_tfidf_train)\n",
    "\n",
    "def Recommend_tags_lda(text):\n",
    "    \n",
    "    ''' Recomendation system for stackoverflow posts based on a lda model, \n",
    "    it returns up to 5 tags.\n",
    "    Parameters:\n",
    "    text: the stackoverflow post of user\n",
    "    data_train: data to fit the model with\n",
    "    '''\n",
    "\n",
    "    threshold = 0.012\n",
    "    list_scores = []\n",
    "    list_words = []\n",
    "    used = set()\n",
    "       \n",
    "    text_tfidf = tfidfVectorizer.transform([text])\n",
    "    text_projection = lda_model.transform(text_tfidf)\n",
    "    feature_names = tfidfVectorizer.get_feature_names()\n",
    "    lda_components = lda_model.components_ / lda_model.components_.sum(axis=1)[:, np.newaxis] # normalization\n",
    "\n",
    "    for topic in range(n_topics):\n",
    "        topic_score = text_projection[0][topic]\n",
    "\n",
    "        for (word_idx, word_score) in zip(lda_components[topic].argsort()[:-5:-1], sorted(lda_components[topic])[:-5:-1]):\n",
    "            score = topic_score*word_score\n",
    "\n",
    "            if score >= threshold:\n",
    "                list_scores.append(score)\n",
    "                list_words.append(feature_names[word_idx])\n",
    "                used.add(feature_names[word_idx])\n",
    "\n",
    "    results = [tag for (y,tag) in sorted(zip(list_scores,list_words), key=lambda pair: pair[0], reverse=True)]\n",
    "    unique_results = [x for x in results if x not in used] # get only unique tags\n",
    "    tags = \" \".join(results[:5])\n",
    "    \n",
    "    return tags"
   ]
  },
  {
   "cell_type": "code",
   "execution_count": 24,
   "metadata": {},
   "outputs": [
    {
     "name": "stdout",
     "output_type": "stream",
     "text": [
      "The process took: 0hour:4min:10sec\n"
     ]
    }
   ],
   "source": [
    "process_time_starts()\n",
    "LDA_tags = [Recommend_tags_lda(text) for text in X_test ]\n",
    "time_elapsed()"
   ]
  },
  {
   "cell_type": "code",
   "execution_count": 25,
   "metadata": {},
   "outputs": [
    {
     "data": {
      "text/html": [
       "<div>\n",
       "<style scoped>\n",
       "    .dataframe tbody tr th:only-of-type {\n",
       "        vertical-align: middle;\n",
       "    }\n",
       "\n",
       "    .dataframe tbody tr th {\n",
       "        vertical-align: top;\n",
       "    }\n",
       "\n",
       "    .dataframe thead th {\n",
       "        text-align: right;\n",
       "    }\n",
       "</style>\n",
       "<table border=\"1\" class=\"dataframe\">\n",
       "  <thead>\n",
       "    <tr style=\"text-align: right;\">\n",
       "      <th></th>\n",
       "      <th>Lemma</th>\n",
       "      <th>taglist</th>\n",
       "      <th>LDA_tags</th>\n",
       "    </tr>\n",
       "  </thead>\n",
       "  <tbody>\n",
       "    <tr>\n",
       "      <th>0</th>\n",
       "      <td>['try', 'install', 'libv', 'get', 'error', 'os...</td>\n",
       "      <td>gem rubygems osx-mavericks osx-yosemite libv8</td>\n",
       "      <td>self target valid error build</td>\n",
       "    </tr>\n",
       "    <tr>\n",
       "      <th>1</th>\n",
       "      <td>['question', 'twitter', 'bootstrap', 'cs', 'su...</td>\n",
       "      <td>css html twitter-bootstrap twitter-bootstrap-3</td>\n",
       "      <td>android div project question html</td>\n",
       "    </tr>\n",
       "    <tr>\n",
       "      <th>2</th>\n",
       "      <td>['work', 'code', 'write', 'previous', 'develop...</td>\n",
       "      <td>mysql sql operators spaceship-operator</td>\n",
       "      <td>select null error solution python</td>\n",
       "    </tr>\n",
       "    <tr>\n",
       "      <th>3</th>\n",
       "      <td>['compiler', 'gcc', 'give', 'warn', 'warn', 'i...</td>\n",
       "      <td>c compiler-warnings</td>\n",
       "      <td>give function let container site</td>\n",
       "    </tr>\n",
       "    <tr>\n",
       "      <th>4</th>\n",
       "      <td>['possible', 'exchange', 'job', 'different', '...</td>\n",
       "      <td>jenkins</td>\n",
       "      <td>way find know different exception</td>\n",
       "    </tr>\n",
       "  </tbody>\n",
       "</table>\n",
       "</div>"
      ],
      "text/plain": [
       "                                               Lemma  \\\n",
       "0  ['try', 'install', 'libv', 'get', 'error', 'os...   \n",
       "1  ['question', 'twitter', 'bootstrap', 'cs', 'su...   \n",
       "2  ['work', 'code', 'write', 'previous', 'develop...   \n",
       "3  ['compiler', 'gcc', 'give', 'warn', 'warn', 'i...   \n",
       "4  ['possible', 'exchange', 'job', 'different', '...   \n",
       "\n",
       "                                          taglist  \\\n",
       "0   gem rubygems osx-mavericks osx-yosemite libv8   \n",
       "1  css html twitter-bootstrap twitter-bootstrap-3   \n",
       "2          mysql sql operators spaceship-operator   \n",
       "3                             c compiler-warnings   \n",
       "4                                         jenkins   \n",
       "\n",
       "                            LDA_tags  \n",
       "0      self target valid error build  \n",
       "1  android div project question html  \n",
       "2  select null error solution python  \n",
       "3   give function let container site  \n",
       "4  way find know different exception  "
      ]
     },
     "execution_count": 25,
     "metadata": {},
     "output_type": "execute_result"
    }
   ],
   "source": [
    "df_xtest = pd.DataFrame(X_test).reset_index()\n",
    "df_ytest = pd.DataFrame(y_test).reset_index()\n",
    "\n",
    "df_test = pd.merge(df_xtest, df_ytest)\n",
    "df_test.drop('index', axis=1, inplace=True)\n",
    "df_test['LDA_tags'] = LDA_tags\n",
    "df_test.head()"
   ]
  },
  {
   "cell_type": "markdown",
   "metadata": {},
   "source": [
    "#### 2.1.3 Performance evaluation of LDA predictions"
   ]
  },
  {
   "cell_type": "markdown",
   "metadata": {},
   "source": [
    "##### Baseline: we create a tags vector with a dummy classifier "
   ]
  },
  {
   "cell_type": "code",
   "execution_count": 26,
   "metadata": {},
   "outputs": [],
   "source": [
    "# Dummy Classifier (baseline)\n",
    "\n",
    "dummy_clf = DummyClassifier(random_state=0, strategy=\"most_frequent\")\n",
    "model_dummy = dummy_clf.fit(X_tfidf_train, y_train)\n",
    "y_dummy_pred = model_dummy.predict(X_tfidf_test)"
   ]
  },
  {
   "cell_type": "markdown",
   "metadata": {},
   "source": [
    "##### Cosine similarity as score metrics:\n",
    "\n",
    "Cosine similarity is a measure of similarity between two non-zero vectors of an inner product space that measures the cosine of the angle between them.\n",
    "We have to construct a vector space from all the ‘sentences’ in tags arrays. We do so by using the TF-IDF approach."
   ]
  },
  {
   "cell_type": "code",
   "execution_count": 27,
   "metadata": {},
   "outputs": [],
   "source": [
    "y_tfidf_test = tfidfVectorizer.transform(y_test)\n",
    "y_tfidf_LDA = tfidfVectorizer.transform(LDA_tags)\n",
    "y_tfidf_dummy = tfidfVectorizer.transform(y_dummy_pred)\n",
    "#print(y_tfidf_test.shape, y_tfidf_LDA.shape, y_tfidf_dummy.shape)"
   ]
  },
  {
   "cell_type": "markdown",
   "metadata": {},
   "source": [
    "##### Verify scores"
   ]
  },
  {
   "cell_type": "code",
   "execution_count": 28,
   "metadata": {},
   "outputs": [
    {
     "name": "stdout",
     "output_type": "stream",
     "text": [
      "Dummy score: [[0.04150446]]\n",
      "LDA score: [[0.12926921]]\n"
     ]
    }
   ],
   "source": [
    "# Cosine similarity varies between 0 and 1.\n",
    "# If the predicted tags are exactly the same as those given by stackoverflow, cosine similarity is = 1\n",
    "#  to have one number we need reshaping 1D vectors representing tags, as 2D vectors(-1,1)\n",
    "print('Dummy score:',cosine_similarity(y_tfidf_test.reshape(1,-1), y_tfidf_dummy.reshape(1,-1))) \n",
    "print('LDA score:',cosine_similarity(y_tfidf_test.reshape(1,-1), y_tfidf_LDA.reshape(1,-1)))"
   ]
  },
  {
   "cell_type": "code",
   "execution_count": null,
   "metadata": {},
   "outputs": [],
   "source": []
  },
  {
   "cell_type": "code",
   "execution_count": 30,
   "metadata": {},
   "outputs": [],
   "source": [
    "n_topics = 150 # based on perplexity calculations\n",
    "nmf_model = NMF(n_components=n_topics, random_state=1,\n",
    "          alpha=.1, l1_ratio=.5).fit(X_tfidf_train)\n",
    "\n",
    "def Recommend_tags_nmf(text, model):\n",
    "    \n",
    "    ''' Recomendation system for stackoverflow posts based on a lda model, \n",
    "    it returns up to 5 tags.\n",
    "    Parameters:\n",
    "    text: the stackoverflow post of user\n",
    "    data_train: data to fit the model with\n",
    "    '''\n",
    "\n",
    "    threshold = 0.012\n",
    "    list_scores = []\n",
    "    list_words = []\n",
    "    used = set()\n",
    "       \n",
    "    text_tfidf = tfidfVectorizer.transform([text])\n",
    "    text_projection = model.transform(text_tfidf)\n",
    "    feature_names = tfidfVectorizer.get_feature_names()\n",
    "    components = model.components_ / model.components_.sum(axis=1)[:, np.newaxis] # normalization\n",
    "\n",
    "    for topic in range(n_topics):\n",
    "        topic_score = text_projection[0][topic]\n",
    "\n",
    "        for (word_idx, word_score) in zip(components[topic].argsort()[:-5:-1], sorted(components[topic])[:-5:-1]):\n",
    "            score = topic_score*word_score\n",
    "\n",
    "            if score >= threshold:\n",
    "                list_scores.append(score)\n",
    "                list_words.append(feature_names[word_idx])\n",
    "                used.add(feature_names[word_idx])\n",
    "\n",
    "    results = [tag for (y,tag) in sorted(zip(list_scores,list_words), key=lambda pair: pair[0], reverse=True)]\n",
    "    unique_results = [x for x in results if x not in used] # get only unique tags\n",
    "    tags = \" \".join(results[:5])\n",
    "    \n",
    "    return tags"
   ]
  },
  {
   "cell_type": "code",
   "execution_count": 32,
   "metadata": {},
   "outputs": [
    {
     "name": "stdout",
     "output_type": "stream",
     "text": [
      "The process took: 0hour:3min:45sec\n"
     ]
    }
   ],
   "source": [
    "process_time_starts()\n",
    "NMF_tags = [Recommend_tags_nmf(text, nmf_model) for text in X_test ]\n",
    "time_elapsed()"
   ]
  },
  {
   "cell_type": "code",
   "execution_count": 33,
   "metadata": {},
   "outputs": [
    {
     "data": {
      "text/html": [
       "<div>\n",
       "<style scoped>\n",
       "    .dataframe tbody tr th:only-of-type {\n",
       "        vertical-align: middle;\n",
       "    }\n",
       "\n",
       "    .dataframe tbody tr th {\n",
       "        vertical-align: top;\n",
       "    }\n",
       "\n",
       "    .dataframe thead th {\n",
       "        text-align: right;\n",
       "    }\n",
       "</style>\n",
       "<table border=\"1\" class=\"dataframe\">\n",
       "  <thead>\n",
       "    <tr style=\"text-align: right;\">\n",
       "      <th></th>\n",
       "      <th>Lemma</th>\n",
       "      <th>taglist</th>\n",
       "      <th>LDA_tags</th>\n",
       "      <th>NMF_tags</th>\n",
       "    </tr>\n",
       "  </thead>\n",
       "  <tbody>\n",
       "    <tr>\n",
       "      <th>0</th>\n",
       "      <td>['try', 'install', 'libv', 'get', 'error', 'os...</td>\n",
       "      <td>gem rubygems osx-mavericks osx-yosemite libv8</td>\n",
       "      <td>self target valid error build</td>\n",
       "      <td>target pointer main install static</td>\n",
       "    </tr>\n",
       "    <tr>\n",
       "      <th>1</th>\n",
       "      <td>['question', 'twitter', 'bootstrap', 'cs', 'su...</td>\n",
       "      <td>css html twitter-bootstrap twitter-bootstrap-3</td>\n",
       "      <td>android div project question html</td>\n",
       "      <td>project</td>\n",
       "    </tr>\n",
       "    <tr>\n",
       "      <th>2</th>\n",
       "      <td>['work', 'code', 'write', 'previous', 'develop...</td>\n",
       "      <td>mysql sql operators spaceship-operator</td>\n",
       "      <td>select null error solution python</td>\n",
       "      <td>null mysql join root developer</td>\n",
       "    </tr>\n",
       "    <tr>\n",
       "      <th>3</th>\n",
       "      <td>['compiler', 'gcc', 'give', 'warn', 'warn', 'i...</td>\n",
       "      <td>c compiler-warnings</td>\n",
       "      <td>give function let container site</td>\n",
       "      <td>warn format argument character function</td>\n",
       "    </tr>\n",
       "    <tr>\n",
       "      <th>4</th>\n",
       "      <td>['possible', 'exchange', 'job', 'different', '...</td>\n",
       "      <td>jenkins</td>\n",
       "      <td>way find know different exception</td>\n",
       "      <td></td>\n",
       "    </tr>\n",
       "  </tbody>\n",
       "</table>\n",
       "</div>"
      ],
      "text/plain": [
       "                                               Lemma  \\\n",
       "0  ['try', 'install', 'libv', 'get', 'error', 'os...   \n",
       "1  ['question', 'twitter', 'bootstrap', 'cs', 'su...   \n",
       "2  ['work', 'code', 'write', 'previous', 'develop...   \n",
       "3  ['compiler', 'gcc', 'give', 'warn', 'warn', 'i...   \n",
       "4  ['possible', 'exchange', 'job', 'different', '...   \n",
       "\n",
       "                                          taglist  \\\n",
       "0   gem rubygems osx-mavericks osx-yosemite libv8   \n",
       "1  css html twitter-bootstrap twitter-bootstrap-3   \n",
       "2          mysql sql operators spaceship-operator   \n",
       "3                             c compiler-warnings   \n",
       "4                                         jenkins   \n",
       "\n",
       "                            LDA_tags                                 NMF_tags  \n",
       "0      self target valid error build       target pointer main install static  \n",
       "1  android div project question html                                  project  \n",
       "2  select null error solution python           null mysql join root developer  \n",
       "3   give function let container site  warn format argument character function  \n",
       "4  way find know different exception                                           "
      ]
     },
     "execution_count": 33,
     "metadata": {},
     "output_type": "execute_result"
    }
   ],
   "source": [
    "df_test['NMF_tags'] = NMF_tags\n",
    "df_test.head()"
   ]
  },
  {
   "cell_type": "code",
   "execution_count": 35,
   "metadata": {},
   "outputs": [
    {
     "name": "stdout",
     "output_type": "stream",
     "text": [
      "Dummy score: [[0.04150446]]\n",
      "NMF score: [[0.16651753]]\n"
     ]
    }
   ],
   "source": [
    "y_tfidf_NMF = tfidfVectorizer.transform(NMF_tags)\n",
    "print('Dummy score:',cosine_similarity(y_tfidf_test.reshape(1,-1), y_tfidf_dummy.reshape(1,-1))) \n",
    "print('NMF score:',cosine_similarity(y_tfidf_test.reshape(1,-1), y_tfidf_NMF.reshape(1,-1)))"
   ]
  },
  {
   "cell_type": "code",
   "execution_count": null,
   "metadata": {},
   "outputs": [],
   "source": []
  }
 ],
 "metadata": {
  "kernelspec": {
   "display_name": "Python 3",
   "language": "python",
   "name": "python3"
  },
  "language_info": {
   "codemirror_mode": {
    "name": "ipython",
    "version": 3
   },
   "file_extension": ".py",
   "mimetype": "text/x-python",
   "name": "python",
   "nbconvert_exporter": "python",
   "pygments_lexer": "ipython3",
   "version": "3.7.6"
  }
 },
 "nbformat": 4,
 "nbformat_minor": 4
}
