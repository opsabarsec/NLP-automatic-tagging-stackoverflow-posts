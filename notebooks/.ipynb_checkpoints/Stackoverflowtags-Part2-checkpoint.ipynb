{
 "cells": [
  {
   "cell_type": "markdown",
   "metadata": {
    "colab_type": "text",
    "id": "4jpKnAEbIR8_"
   },
   "source": [
    "# Stack Overflow Tag Prediction 2: Topic Modeling"
   ]
  },
  {
   "cell_type": "markdown",
   "metadata": {
    "colab_type": "text",
    "id": "Yq-biJY0IR9C"
   },
   "source": [
    "Stack Overflow is the largest, most trusted online community for developers to learn, share their programming knowledge, and build their careers. The goal of this project is to predict as many tags as possible with high precision and recall. Incorrect tags could impact user experience on StackOverflow. \n",
    "\n",
    "To automatically assign tags we use in a first step an unsupervised approach: the text analysis technique called topic modeling. The ultimate goal of topic modeling is to find various topics that are present in your corpus. Each document in the corpus will be made up of at least one topic, if not multiple topics."
   ]
  },
  {
   "cell_type": "markdown",
   "metadata": {
    "colab_type": "text",
    "id": "5qNeoPoJIR9G"
   },
   "source": [
    "## Import libraries and load dataset"
   ]
  },
  {
   "cell_type": "code",
   "execution_count": null,
   "metadata": {
    "colab": {},
    "colab_type": "code",
    "id": "8ovXyaPCIR9J"
   },
   "outputs": [],
   "source": [
    "import pandas as pd\n",
    "import numpy as np\n",
    "import nltk, re, pprint\n",
    "from nltk import word_tokenize, pos_tag\n",
    "\n",
    "from sklearn.metrics.pairwise import cosine_similarity\n",
    "\n",
    "from sklearn.feature_extraction.text import CountVectorizer\n",
    "from sklearn.feature_extraction.text import TfidfTransformer\n",
    "from sklearn.feature_extraction.text import TfidfVectorizer\n",
    "\n",
    "from sklearn.decomposition import NMF, LatentDirichletAllocation, TruncatedSVD\n",
    "from gensim import matutils, models\n",
    "from gensim.models.ldamulticore import LdaMulticore\n",
    "from gensim.models import CoherenceModel\n",
    "from gensim import corpora\n",
    "from gensim.corpora.dictionary import Dictionary\n",
    "from gensim.parsing.preprocessing import preprocess_documents\n",
    "from gensim.utils import simple_preprocess\n",
    "from gensim.parsing.preprocessing import remove_stopwords\n",
    "from gensim.models.word2vec import Word2Vec\n",
    "import time\n",
    "\n",
    "import warnings\n",
    "warnings.filterwarnings('ignore')\n",
    "\n",
    "from sklearn.model_selection import train_test_split\n",
    "from matplotlib import pyplot as plt\n",
    "\n",
    "from matplotlib.legend_handler import HandlerLine2D\n",
    "\n",
    "from sklearn.dummy import DummyClassifier\n",
    "from sklearn.naive_bayes import MultinomialNB\n",
    "from sklearn.linear_model import SGDClassifier\n",
    "from sklearn.linear_model import LogisticRegression\n",
    "from sklearn.multiclass import OneVsRestClassifier\n",
    "from sklearn.svm import LinearSVC\n",
    "from sklearn.linear_model import Perceptron\n",
    "from sklearn.linear_model import PassiveAggressiveClassifier\n",
    "from sklearn.neural_network import MLPClassifier\n",
    "from sklearn.ensemble import RandomForestClassifier\n",
    "\n",
    "from sklearn.neighbors import KNeighborsClassifier\n",
    "\n",
    "from sklearn import model_selection\n",
    "\n",
    "from sklearn.metrics import make_scorer\n",
    "from sklearn.metrics import f1_score\n",
    "from sklearn.metrics import confusion_matrix\n",
    "from sklearn.metrics import hamming_loss\n",
    "from sklearn.metrics import roc_curve\n",
    "from sklearn.metrics import roc_auc_score\n",
    "from sklearn.metrics import jaccard_score\n",
    "\n",
    "from sklearn.cluster import KMeans\n",
    "from sklearn.model_selection import RandomizedSearchCV\n",
    "\n",
    "from scipy.stats import randint as sp_randint\n",
    "\n",
    "from sklearn.preprocessing import StandardScaler\n",
    "from sklearn.preprocessing import MultiLabelBinarizer\n",
    "from sklearn.decomposition import PCA"
   ]
  },
  {
   "cell_type": "code",
   "execution_count": 2,
   "metadata": {
    "colab": {
     "base_uri": "https://localhost:8080/",
     "height": 206
    },
    "colab_type": "code",
    "id": "Ln7IkimLIR9b",
    "outputId": "74557e8e-dd1e-4f2d-fced-db7b1d411545"
   },
   "outputs": [
    {
     "data": {
      "text/html": [
       "<div>\n",
       "<style scoped>\n",
       "    .dataframe tbody tr th:only-of-type {\n",
       "        vertical-align: middle;\n",
       "    }\n",
       "\n",
       "    .dataframe tbody tr th {\n",
       "        vertical-align: top;\n",
       "    }\n",
       "\n",
       "    .dataframe thead th {\n",
       "        text-align: right;\n",
       "    }\n",
       "</style>\n",
       "<table border=\"1\" class=\"dataframe\">\n",
       "  <thead>\n",
       "    <tr style=\"text-align: right;\">\n",
       "      <th></th>\n",
       "      <th>Lemma</th>\n",
       "      <th>lemmalist</th>\n",
       "      <th>tags</th>\n",
       "      <th>taglist</th>\n",
       "    </tr>\n",
       "  </thead>\n",
       "  <tbody>\n",
       "    <tr>\n",
       "      <th>0</th>\n",
       "      <td>['processing', 'sort', 'array', 'faster', 'pro...</td>\n",
       "      <td>processing sort array faster processing unsort...</td>\n",
       "      <td>['java', 'c++', 'performance', 'optimization',...</td>\n",
       "      <td>java c++ performance optimization branch-predi...</td>\n",
       "    </tr>\n",
       "    <tr>\n",
       "      <th>1</th>\n",
       "      <td>['undo', 'recent', 'local', 'commits', 'git', ...</td>\n",
       "      <td>undo recent local commits git accidentally com...</td>\n",
       "      <td>['git', 'version-control', 'git-commit', 'undo...</td>\n",
       "      <td>git version-control git-commit undo pre-commit</td>\n",
       "    </tr>\n",
       "    <tr>\n",
       "      <th>2</th>\n",
       "      <td>['delete', 'git', 'branch', 'locally', 'remote...</td>\n",
       "      <td>delete git branch locally remotely want delete...</td>\n",
       "      <td>['git', 'version-control', 'git-branch', 'git-...</td>\n",
       "      <td>git version-control git-branch git-push git-re...</td>\n",
       "    </tr>\n",
       "    <tr>\n",
       "      <th>3</th>\n",
       "      <td>['difference', 'git', 'pull', 'git', 'fetch', ...</td>\n",
       "      <td>difference git pull git fetch difference git p...</td>\n",
       "      <td>['git', 'version-control', 'git-pull', 'git-fe...</td>\n",
       "      <td>git version-control git-pull git-fetch</td>\n",
       "    </tr>\n",
       "    <tr>\n",
       "      <th>4</th>\n",
       "      <td>['correct', 'json', 'content', 'type', 'mess',...</td>\n",
       "      <td>correct json content type mess json time push ...</td>\n",
       "      <td>['json', 'http-headers', 'content-type']</td>\n",
       "      <td>json http-headers content-type</td>\n",
       "    </tr>\n",
       "  </tbody>\n",
       "</table>\n",
       "</div>"
      ],
      "text/plain": [
       "                                               Lemma  ...                                            taglist\n",
       "0  ['processing', 'sort', 'array', 'faster', 'pro...  ...  java c++ performance optimization branch-predi...\n",
       "1  ['undo', 'recent', 'local', 'commits', 'git', ...  ...     git version-control git-commit undo pre-commit\n",
       "2  ['delete', 'git', 'branch', 'locally', 'remote...  ...  git version-control git-branch git-push git-re...\n",
       "3  ['difference', 'git', 'pull', 'git', 'fetch', ...  ...             git version-control git-pull git-fetch\n",
       "4  ['correct', 'json', 'content', 'type', 'mess',...  ...                     json http-headers content-type\n",
       "\n",
       "[5 rows x 4 columns]"
      ]
     },
     "execution_count": 2,
     "metadata": {
      "tags": []
     },
     "output_type": "execute_result"
    }
   ],
   "source": [
    "df_base = pd.read_csv('stackoverflow_processed_sample.csv', encoding='utf-8')\n",
    "df_base.head()"
   ]
  },
  {
   "cell_type": "code",
   "execution_count": null,
   "metadata": {
    "colab": {},
    "colab_type": "code",
    "id": "1Nje6HBsIR94"
   },
   "outputs": [],
   "source": [
    "# Define a time counter function to test the algorythms performance \n",
    "_start_time = time.time()\n",
    "\n",
    "def process_time_starts():\n",
    "    global _start_time \n",
    "    _start_time = time.time()\n",
    "\n",
    "def time_elapsed():\n",
    "    t_sec = round(time.time() - _start_time)\n",
    "    (t_min, t_sec) = divmod(t_sec,60)\n",
    "    (t_hour,t_min) = divmod(t_min,60) \n",
    "    print('The process took: {}hour:{}min:{}sec'.format(t_hour,t_min,t_sec))"
   ]
  },
  {
   "cell_type": "markdown",
   "metadata": {
    "colab_type": "text",
    "id": "NFEFO3CfIR-C"
   },
   "source": [
    "## Encoded target matrix"
   ]
  },
  {
   "cell_type": "code",
   "execution_count": null,
   "metadata": {
    "colab": {},
    "colab_type": "code",
    "id": "gA0_eDvyIR-E"
   },
   "outputs": [],
   "source": [
    "one_hot = MultiLabelBinarizer()\n",
    "y = df_base['taglist']\n",
    "y_onehot = one_hot.fit_transform(y.str.split(' ')) \n",
    "y_bin = pd.DataFrame(y_onehot, columns=one_hot.classes_ )"
   ]
  },
  {
   "cell_type": "code",
   "execution_count": 5,
   "metadata": {
    "colab": {
     "base_uri": "https://localhost:8080/",
     "height": 214
    },
    "colab_type": "code",
    "id": "Dtgkh1mM9RoS",
    "outputId": "90225bc6-28a8-47ce-9cf4-4bea38d51842"
   },
   "outputs": [
    {
     "name": "stdout",
     "output_type": "stream",
     "text": [
      "(37175, 8578)\n"
     ]
    },
    {
     "data": {
      "text/html": [
       "<div>\n",
       "<style scoped>\n",
       "    .dataframe tbody tr th:only-of-type {\n",
       "        vertical-align: middle;\n",
       "    }\n",
       "\n",
       "    .dataframe tbody tr th {\n",
       "        vertical-align: top;\n",
       "    }\n",
       "\n",
       "    .dataframe thead th {\n",
       "        text-align: right;\n",
       "    }\n",
       "</style>\n",
       "<table border=\"1\" class=\"dataframe\">\n",
       "  <thead>\n",
       "    <tr style=\"text-align: right;\">\n",
       "      <th></th>\n",
       "      <th>.a</th>\n",
       "      <th>.bash-profile</th>\n",
       "      <th>.d.ts</th>\n",
       "      <th>.htaccess</th>\n",
       "      <th>.net</th>\n",
       "      <th>.net-2.0</th>\n",
       "      <th>.net-3.0</th>\n",
       "      <th>.net-3.5</th>\n",
       "      <th>.net-4.0</th>\n",
       "      <th>.net-4.5</th>\n",
       "      <th>.net-4.5.2</th>\n",
       "      <th>.net-assembly</th>\n",
       "      <th>.net-attributes</th>\n",
       "      <th>.net-client-profile</th>\n",
       "      <th>.net-core</th>\n",
       "      <th>.net-core-3.0</th>\n",
       "      <th>.net-framework-version</th>\n",
       "      <th>.net-standard</th>\n",
       "      <th>.net-standard-2.0</th>\n",
       "      <th>.when</th>\n",
       "      <th>16-bit</th>\n",
       "      <th>2048</th>\n",
       "      <th>2d</th>\n",
       "      <th>32-bit</th>\n",
       "      <th>32bit-64bit</th>\n",
       "      <th>3d</th>\n",
       "      <th>3g</th>\n",
       "      <th>3nf</th>\n",
       "      <th>64-bit</th>\n",
       "      <th>7zip</th>\n",
       "      <th>a-records</th>\n",
       "      <th>a-star</th>\n",
       "      <th>aapt</th>\n",
       "      <th>aar</th>\n",
       "      <th>abbreviation</th>\n",
       "      <th>abc</th>\n",
       "      <th>abi</th>\n",
       "      <th>abort</th>\n",
       "      <th>absolute</th>\n",
       "      <th>absolute-path</th>\n",
       "      <th>...</th>\n",
       "      <th>yeoman</th>\n",
       "      <th>yesod</th>\n",
       "      <th>yield</th>\n",
       "      <th>yield-keyword</th>\n",
       "      <th>yield-return</th>\n",
       "      <th>youtube</th>\n",
       "      <th>youtube-api</th>\n",
       "      <th>youtube-data-api</th>\n",
       "      <th>youtube-iframe-api</th>\n",
       "      <th>youtube-javascript-api</th>\n",
       "      <th>yui</th>\n",
       "      <th>yum</th>\n",
       "      <th>z-index</th>\n",
       "      <th>z-order</th>\n",
       "      <th>zalgo</th>\n",
       "      <th>zebra-puzzle</th>\n",
       "      <th>zen-of-python</th>\n",
       "      <th>zend-framework2</th>\n",
       "      <th>zend-studio</th>\n",
       "      <th>zepto</th>\n",
       "      <th>zero</th>\n",
       "      <th>zero-extension</th>\n",
       "      <th>zero-pad</th>\n",
       "      <th>zero-padding</th>\n",
       "      <th>zerofill</th>\n",
       "      <th>zeromq</th>\n",
       "      <th>zip</th>\n",
       "      <th>zipalign</th>\n",
       "      <th>ziparchive</th>\n",
       "      <th>zipcode</th>\n",
       "      <th>zipfile</th>\n",
       "      <th>zipper</th>\n",
       "      <th>zlib</th>\n",
       "      <th>zombie-process</th>\n",
       "      <th>zoo</th>\n",
       "      <th>zoom</th>\n",
       "      <th>zsh</th>\n",
       "      <th>zsh-completion</th>\n",
       "      <th>zurb-foundation</th>\n",
       "      <th>zxing</th>\n",
       "    </tr>\n",
       "  </thead>\n",
       "  <tbody>\n",
       "    <tr>\n",
       "      <th>0</th>\n",
       "      <td>0</td>\n",
       "      <td>0</td>\n",
       "      <td>0</td>\n",
       "      <td>0</td>\n",
       "      <td>0</td>\n",
       "      <td>0</td>\n",
       "      <td>0</td>\n",
       "      <td>0</td>\n",
       "      <td>0</td>\n",
       "      <td>0</td>\n",
       "      <td>0</td>\n",
       "      <td>0</td>\n",
       "      <td>0</td>\n",
       "      <td>0</td>\n",
       "      <td>0</td>\n",
       "      <td>0</td>\n",
       "      <td>0</td>\n",
       "      <td>0</td>\n",
       "      <td>0</td>\n",
       "      <td>0</td>\n",
       "      <td>0</td>\n",
       "      <td>0</td>\n",
       "      <td>0</td>\n",
       "      <td>0</td>\n",
       "      <td>0</td>\n",
       "      <td>0</td>\n",
       "      <td>0</td>\n",
       "      <td>0</td>\n",
       "      <td>0</td>\n",
       "      <td>0</td>\n",
       "      <td>0</td>\n",
       "      <td>0</td>\n",
       "      <td>0</td>\n",
       "      <td>0</td>\n",
       "      <td>0</td>\n",
       "      <td>0</td>\n",
       "      <td>0</td>\n",
       "      <td>0</td>\n",
       "      <td>0</td>\n",
       "      <td>0</td>\n",
       "      <td>...</td>\n",
       "      <td>0</td>\n",
       "      <td>0</td>\n",
       "      <td>0</td>\n",
       "      <td>0</td>\n",
       "      <td>0</td>\n",
       "      <td>0</td>\n",
       "      <td>0</td>\n",
       "      <td>0</td>\n",
       "      <td>0</td>\n",
       "      <td>0</td>\n",
       "      <td>0</td>\n",
       "      <td>0</td>\n",
       "      <td>0</td>\n",
       "      <td>0</td>\n",
       "      <td>0</td>\n",
       "      <td>0</td>\n",
       "      <td>0</td>\n",
       "      <td>0</td>\n",
       "      <td>0</td>\n",
       "      <td>0</td>\n",
       "      <td>0</td>\n",
       "      <td>0</td>\n",
       "      <td>0</td>\n",
       "      <td>0</td>\n",
       "      <td>0</td>\n",
       "      <td>0</td>\n",
       "      <td>0</td>\n",
       "      <td>0</td>\n",
       "      <td>0</td>\n",
       "      <td>0</td>\n",
       "      <td>0</td>\n",
       "      <td>0</td>\n",
       "      <td>0</td>\n",
       "      <td>0</td>\n",
       "      <td>0</td>\n",
       "      <td>0</td>\n",
       "      <td>0</td>\n",
       "      <td>0</td>\n",
       "      <td>0</td>\n",
       "      <td>0</td>\n",
       "    </tr>\n",
       "    <tr>\n",
       "      <th>1</th>\n",
       "      <td>0</td>\n",
       "      <td>0</td>\n",
       "      <td>0</td>\n",
       "      <td>0</td>\n",
       "      <td>0</td>\n",
       "      <td>0</td>\n",
       "      <td>0</td>\n",
       "      <td>0</td>\n",
       "      <td>0</td>\n",
       "      <td>0</td>\n",
       "      <td>0</td>\n",
       "      <td>0</td>\n",
       "      <td>0</td>\n",
       "      <td>0</td>\n",
       "      <td>0</td>\n",
       "      <td>0</td>\n",
       "      <td>0</td>\n",
       "      <td>0</td>\n",
       "      <td>0</td>\n",
       "      <td>0</td>\n",
       "      <td>0</td>\n",
       "      <td>0</td>\n",
       "      <td>0</td>\n",
       "      <td>0</td>\n",
       "      <td>0</td>\n",
       "      <td>0</td>\n",
       "      <td>0</td>\n",
       "      <td>0</td>\n",
       "      <td>0</td>\n",
       "      <td>0</td>\n",
       "      <td>0</td>\n",
       "      <td>0</td>\n",
       "      <td>0</td>\n",
       "      <td>0</td>\n",
       "      <td>0</td>\n",
       "      <td>0</td>\n",
       "      <td>0</td>\n",
       "      <td>0</td>\n",
       "      <td>0</td>\n",
       "      <td>0</td>\n",
       "      <td>...</td>\n",
       "      <td>0</td>\n",
       "      <td>0</td>\n",
       "      <td>0</td>\n",
       "      <td>0</td>\n",
       "      <td>0</td>\n",
       "      <td>0</td>\n",
       "      <td>0</td>\n",
       "      <td>0</td>\n",
       "      <td>0</td>\n",
       "      <td>0</td>\n",
       "      <td>0</td>\n",
       "      <td>0</td>\n",
       "      <td>0</td>\n",
       "      <td>0</td>\n",
       "      <td>0</td>\n",
       "      <td>0</td>\n",
       "      <td>0</td>\n",
       "      <td>0</td>\n",
       "      <td>0</td>\n",
       "      <td>0</td>\n",
       "      <td>0</td>\n",
       "      <td>0</td>\n",
       "      <td>0</td>\n",
       "      <td>0</td>\n",
       "      <td>0</td>\n",
       "      <td>0</td>\n",
       "      <td>0</td>\n",
       "      <td>0</td>\n",
       "      <td>0</td>\n",
       "      <td>0</td>\n",
       "      <td>0</td>\n",
       "      <td>0</td>\n",
       "      <td>0</td>\n",
       "      <td>0</td>\n",
       "      <td>0</td>\n",
       "      <td>0</td>\n",
       "      <td>0</td>\n",
       "      <td>0</td>\n",
       "      <td>0</td>\n",
       "      <td>0</td>\n",
       "    </tr>\n",
       "  </tbody>\n",
       "</table>\n",
       "<p>2 rows × 8578 columns</p>\n",
       "</div>"
      ],
      "text/plain": [
       "   .a  .bash-profile  .d.ts  ...  zsh-completion  zurb-foundation  zxing\n",
       "0   0              0      0  ...               0                0      0\n",
       "1   0              0      0  ...               0                0      0\n",
       "\n",
       "[2 rows x 8578 columns]"
      ]
     },
     "execution_count": 5,
     "metadata": {
      "tags": []
     },
     "output_type": "execute_result"
    }
   ],
   "source": [
    "print(y_bin.shape)\n",
    "y_bin[:2] # still lots of non-relevant columns\n"
   ]
  },
  {
   "cell_type": "code",
   "execution_count": null,
   "metadata": {
    "colab": {},
    "colab_type": "code",
    "id": "HbbDwtWKIR-S"
   },
   "outputs": [],
   "source": [
    "df_tags = pd.read_csv('stackoverflow_processed_tags.csv', encoding='utf-8') # load the taglist in order to perform a tags selection\n",
    "df_tags = df_tags.dropna()\n",
    "tags = df_tags.tags #tags ordered by popularity\n",
    "\n",
    "popular_tags = tags[:80].tolist() # get the list of 80 most popular tags\n"
   ]
  },
  {
   "cell_type": "code",
   "execution_count": 7,
   "metadata": {
    "colab": {
     "base_uri": "https://localhost:8080/",
     "height": 167
    },
    "colab_type": "code",
    "id": "XlfZjgFhIR-d",
    "outputId": "1091a9f9-18a4-4d5e-ad6a-08fd42962588"
   },
   "outputs": [
    {
     "data": {
      "text/html": [
       "<div>\n",
       "<style scoped>\n",
       "    .dataframe tbody tr th:only-of-type {\n",
       "        vertical-align: middle;\n",
       "    }\n",
       "\n",
       "    .dataframe tbody tr th {\n",
       "        vertical-align: top;\n",
       "    }\n",
       "\n",
       "    .dataframe thead th {\n",
       "        text-align: right;\n",
       "    }\n",
       "</style>\n",
       "<table border=\"1\" class=\"dataframe\">\n",
       "  <thead>\n",
       "    <tr style=\"text-align: right;\">\n",
       "      <th></th>\n",
       "      <th>java</th>\n",
       "      <th>c++</th>\n",
       "      <th>performance</th>\n",
       "      <th>optimization</th>\n",
       "      <th>branch-prediction</th>\n",
       "      <th>git</th>\n",
       "      <th>version-control</th>\n",
       "      <th>git-commit</th>\n",
       "      <th>undo</th>\n",
       "      <th>pre-commit</th>\n",
       "      <th>git</th>\n",
       "      <th>version-control</th>\n",
       "      <th>git-branch</th>\n",
       "      <th>git-push</th>\n",
       "      <th>git-remote</th>\n",
       "      <th>git</th>\n",
       "      <th>version-control</th>\n",
       "      <th>git-pull</th>\n",
       "      <th>git-fetch</th>\n",
       "      <th>json</th>\n",
       "      <th>http-headers</th>\n",
       "      <th>content-type</th>\n",
       "      <th>python</th>\n",
       "      <th>iterator</th>\n",
       "      <th>generator</th>\n",
       "      <th>yield</th>\n",
       "      <th>coroutine</th>\n",
       "      <th>git</th>\n",
       "      <th>version-control</th>\n",
       "      <th>git-commit</th>\n",
       "      <th>git-stage</th>\n",
       "      <th>c++</th>\n",
       "      <th>c</th>\n",
       "      <th>operators</th>\n",
       "      <th>code-formatting</th>\n",
       "      <th>standards-compliance</th>\n",
       "      <th>git</th>\n",
       "      <th>version-control</th>\n",
       "      <th>git-branch</th>\n",
       "      <th>javascript</th>\n",
       "      <th>arrays</th>\n",
       "      <th>memory-management</th>\n",
       "      <th>stack</th>\n",
       "      <th>language-agnostic</th>\n",
       "      <th>heap</th>\n",
       "      <th>dynamic-memory-allocation</th>\n",
       "      <th>javascript</th>\n",
       "      <th>jquery</th>\n",
       "      <th>redirect</th>\n",
       "      <th>javascript</th>\n",
       "      <th>jquery</th>\n",
       "      <th>dom</th>\n",
       "      <th>visibility</th>\n",
       "      <th>git</th>\n",
       "      <th>git-commit</th>\n",
       "      <th>git-rewrite-history</th>\n",
       "      <th>amend</th>\n",
       "      <th>javascript</th>\n",
       "      <th>function</th>\n",
       "      <th>variables</th>\n",
       "      <th>scope</th>\n",
       "      <th>closures</th>\n",
       "      <th>git</th>\n",
       "      <th>git-checkout</th>\n",
       "      <th>git-reset</th>\n",
       "      <th>git-revert</th>\n",
       "      <th>json</th>\n",
       "      <th>comments</th>\n",
       "      <th>javascript</th>\n",
       "      <th>syntax</th>\n",
       "      <th>jslint</th>\n",
       "      <th>use-strict</th>\n",
       "      <th>html</th>\n",
       "      <th>browser</th>\n",
       "      <th>background-color</th>\n",
       "      <th>javascript</th>\n",
       "      <th>string</th>\n",
       "      <th>substring</th>\n",
       "      <th>string-matching</th>\n",
       "      <th>git</th>\n",
       "    </tr>\n",
       "  </thead>\n",
       "  <tbody>\n",
       "    <tr>\n",
       "      <th>0</th>\n",
       "      <td>1</td>\n",
       "      <td>1</td>\n",
       "      <td>1</td>\n",
       "      <td>1</td>\n",
       "      <td>1</td>\n",
       "      <td>0</td>\n",
       "      <td>0</td>\n",
       "      <td>0</td>\n",
       "      <td>0</td>\n",
       "      <td>0</td>\n",
       "      <td>0</td>\n",
       "      <td>0</td>\n",
       "      <td>0</td>\n",
       "      <td>0</td>\n",
       "      <td>0</td>\n",
       "      <td>0</td>\n",
       "      <td>0</td>\n",
       "      <td>0</td>\n",
       "      <td>0</td>\n",
       "      <td>0</td>\n",
       "      <td>0</td>\n",
       "      <td>0</td>\n",
       "      <td>0</td>\n",
       "      <td>0</td>\n",
       "      <td>0</td>\n",
       "      <td>0</td>\n",
       "      <td>0</td>\n",
       "      <td>0</td>\n",
       "      <td>0</td>\n",
       "      <td>0</td>\n",
       "      <td>0</td>\n",
       "      <td>1</td>\n",
       "      <td>0</td>\n",
       "      <td>0</td>\n",
       "      <td>0</td>\n",
       "      <td>0</td>\n",
       "      <td>0</td>\n",
       "      <td>0</td>\n",
       "      <td>0</td>\n",
       "      <td>0</td>\n",
       "      <td>0</td>\n",
       "      <td>0</td>\n",
       "      <td>0</td>\n",
       "      <td>0</td>\n",
       "      <td>0</td>\n",
       "      <td>0</td>\n",
       "      <td>0</td>\n",
       "      <td>0</td>\n",
       "      <td>0</td>\n",
       "      <td>0</td>\n",
       "      <td>0</td>\n",
       "      <td>0</td>\n",
       "      <td>0</td>\n",
       "      <td>0</td>\n",
       "      <td>0</td>\n",
       "      <td>0</td>\n",
       "      <td>0</td>\n",
       "      <td>0</td>\n",
       "      <td>0</td>\n",
       "      <td>0</td>\n",
       "      <td>0</td>\n",
       "      <td>0</td>\n",
       "      <td>0</td>\n",
       "      <td>0</td>\n",
       "      <td>0</td>\n",
       "      <td>0</td>\n",
       "      <td>0</td>\n",
       "      <td>0</td>\n",
       "      <td>0</td>\n",
       "      <td>0</td>\n",
       "      <td>0</td>\n",
       "      <td>0</td>\n",
       "      <td>0</td>\n",
       "      <td>0</td>\n",
       "      <td>0</td>\n",
       "      <td>0</td>\n",
       "      <td>0</td>\n",
       "      <td>0</td>\n",
       "      <td>0</td>\n",
       "      <td>0</td>\n",
       "    </tr>\n",
       "    <tr>\n",
       "      <th>1</th>\n",
       "      <td>0</td>\n",
       "      <td>0</td>\n",
       "      <td>0</td>\n",
       "      <td>0</td>\n",
       "      <td>0</td>\n",
       "      <td>1</td>\n",
       "      <td>1</td>\n",
       "      <td>1</td>\n",
       "      <td>1</td>\n",
       "      <td>1</td>\n",
       "      <td>1</td>\n",
       "      <td>1</td>\n",
       "      <td>0</td>\n",
       "      <td>0</td>\n",
       "      <td>0</td>\n",
       "      <td>1</td>\n",
       "      <td>1</td>\n",
       "      <td>0</td>\n",
       "      <td>0</td>\n",
       "      <td>0</td>\n",
       "      <td>0</td>\n",
       "      <td>0</td>\n",
       "      <td>0</td>\n",
       "      <td>0</td>\n",
       "      <td>0</td>\n",
       "      <td>0</td>\n",
       "      <td>0</td>\n",
       "      <td>1</td>\n",
       "      <td>1</td>\n",
       "      <td>1</td>\n",
       "      <td>0</td>\n",
       "      <td>0</td>\n",
       "      <td>0</td>\n",
       "      <td>0</td>\n",
       "      <td>0</td>\n",
       "      <td>0</td>\n",
       "      <td>1</td>\n",
       "      <td>1</td>\n",
       "      <td>0</td>\n",
       "      <td>0</td>\n",
       "      <td>0</td>\n",
       "      <td>0</td>\n",
       "      <td>0</td>\n",
       "      <td>0</td>\n",
       "      <td>0</td>\n",
       "      <td>0</td>\n",
       "      <td>0</td>\n",
       "      <td>0</td>\n",
       "      <td>0</td>\n",
       "      <td>0</td>\n",
       "      <td>0</td>\n",
       "      <td>0</td>\n",
       "      <td>0</td>\n",
       "      <td>1</td>\n",
       "      <td>1</td>\n",
       "      <td>0</td>\n",
       "      <td>0</td>\n",
       "      <td>0</td>\n",
       "      <td>0</td>\n",
       "      <td>0</td>\n",
       "      <td>0</td>\n",
       "      <td>0</td>\n",
       "      <td>1</td>\n",
       "      <td>0</td>\n",
       "      <td>0</td>\n",
       "      <td>0</td>\n",
       "      <td>0</td>\n",
       "      <td>0</td>\n",
       "      <td>0</td>\n",
       "      <td>0</td>\n",
       "      <td>0</td>\n",
       "      <td>0</td>\n",
       "      <td>0</td>\n",
       "      <td>0</td>\n",
       "      <td>0</td>\n",
       "      <td>0</td>\n",
       "      <td>0</td>\n",
       "      <td>0</td>\n",
       "      <td>0</td>\n",
       "      <td>1</td>\n",
       "    </tr>\n",
       "  </tbody>\n",
       "</table>\n",
       "</div>"
      ],
      "text/plain": [
       "   java  c++  performance  ...  substring  string-matching  git\n",
       "0     1    1            1  ...          0                0    0\n",
       "1     0    0            0  ...          0                0    1\n",
       "\n",
       "[2 rows x 80 columns]"
      ]
     },
     "execution_count": 7,
     "metadata": {
      "tags": []
     },
     "output_type": "execute_result"
    }
   ],
   "source": [
    "y_bin = y_bin.filter(items=popular_tags)\n",
    "\n",
    "y_bin[:2]"
   ]
  },
  {
   "cell_type": "code",
   "execution_count": 8,
   "metadata": {
    "colab": {
     "base_uri": "https://localhost:8080/",
     "height": 34
    },
    "colab_type": "code",
    "id": "_6VBKU_Xqi04",
    "outputId": "693b3a8a-1d4e-4fad-aede-c30adae3463f"
   },
   "outputs": [
    {
     "name": "stdout",
     "output_type": "stream",
     "text": [
      "(37175, 80)\n"
     ]
    }
   ],
   "source": [
    "print(y_bin.shape)"
   ]
  },
  {
   "cell_type": "markdown",
   "metadata": {
    "colab_type": "text",
    "id": "0OjEnDe3IR-l"
   },
   "source": [
    "## 1. Document-term matrix\n",
    "\n",
    "\n",
    "To use a topic modeling technique, we calculate have to calculate (1) a document-term matrix and (2) choose the number of topics for the algorithm to pick up.\n",
    "Documemt-term matrix is calculated using either using the \"Bag of Words\" or \"TF-IDF\" approach.\n",
    "The number of topics is chosen beforehands"
   ]
  },
  {
   "cell_type": "code",
   "execution_count": null,
   "metadata": {
    "colab": {},
    "colab_type": "code",
    "id": "8bD2-FL0IR-n"
   },
   "outputs": [],
   "source": [
    "num_features = 200"
   ]
  },
  {
   "cell_type": "markdown",
   "metadata": {
    "colab_type": "text",
    "id": "s5JRfe7DIR-w"
   },
   "source": [
    "### 1.1 Bag of Words approach\n",
    "\n",
    "In order to perform machine learning on text documents, we first need to turn the text content into numerical feature vectors, i.e build a document-term matrix.\n",
    "One common approach is called a Bag of Words. The Bag of Words model learns a vocabulary from all of the documents, then models each document by counting the number of times each word appears. "
   ]
  },
  {
   "cell_type": "code",
   "execution_count": null,
   "metadata": {
    "colab": {},
    "colab_type": "code",
    "id": "psAJZPv3IR-x"
   },
   "outputs": [],
   "source": [
    "# Initialize the \"CountVectorizer\" object, which is scikit-learn's bag of words tool\n",
    "c_vectorizer = CountVectorizer(analyzer = \"word\",tokenizer = None,  min_df=5, max_df = 0.8, max_features = num_features, ngram_range=(1, 2)) # count vectorizer with bigrams\n",
    "#The input to fit_transform should be a list of strings like column \"Lemma\" and \"tags\" in our dataframe."
   ]
  },
  {
   "cell_type": "markdown",
   "metadata": {
    "colab_type": "text",
    "id": "zNKoAhN0IR-4"
   },
   "source": [
    "- parameters explanation:\n",
    "ngram_range: We want to consider both unigrams and bigrams.\n",
    "max_df: When building the vocabulary ignore terms that have a document frequency strictly higher than the given threshold\n",
    "min_df: When building the vocabulary ignore terms that have a document frequency strictly lower than the given threshold.\n",
    "max_features: Build a vocabulary that only consider the top max 500_features ordered by term frequency across the corpus\n"
   ]
  },
  {
   "cell_type": "code",
   "execution_count": null,
   "metadata": {
    "colab": {},
    "colab_type": "code",
    "id": "T4u7cDCnIR-6"
   },
   "outputs": [],
   "source": [
    "# apply the vectorizer\n",
    "bag_of_words = c_vectorizer.fit_transform(df_base['Lemma']) \n",
    "# fit_transform() does two functions: First, it fits the model\n",
    "# and learns the vocabulary; second, it transforms our data\n",
    "# into feature vectors. "
   ]
  },
  {
   "cell_type": "code",
   "execution_count": null,
   "metadata": {
    "colab": {},
    "colab_type": "code",
    "id": "k5cMiZ-OIR_D"
   },
   "outputs": [],
   "source": [
    "# Numpy arrays are easy to work with, so convert the result to an array\n",
    "bag_of_words_array = bag_of_words.toarray()\n",
    "bag_of_words_dense = bag_of_words.todense()"
   ]
  },
  {
   "cell_type": "markdown",
   "metadata": {
    "colab_type": "text",
    "id": "jrj-tuIkIR_O"
   },
   "source": [
    "document-term matrix calculated with \"Bag of Words\" method"
   ]
  },
  {
   "cell_type": "code",
   "execution_count": 13,
   "metadata": {
    "colab": {
     "base_uri": "https://localhost:8080/",
     "height": 273
    },
    "colab_type": "code",
    "id": "jP9XTWg5IR_P",
    "outputId": "a1d3df28-92f9-438c-b01f-5b81237b7969"
   },
   "outputs": [
    {
     "name": "stdout",
     "output_type": "stream",
     "text": [
      "(37175, 200)\n"
     ]
    },
    {
     "data": {
      "text/html": [
       "<div>\n",
       "<style scoped>\n",
       "    .dataframe tbody tr th:only-of-type {\n",
       "        vertical-align: middle;\n",
       "    }\n",
       "\n",
       "    .dataframe tbody tr th {\n",
       "        vertical-align: top;\n",
       "    }\n",
       "\n",
       "    .dataframe thead th {\n",
       "        text-align: right;\n",
       "    }\n",
       "</style>\n",
       "<table border=\"1\" class=\"dataframe\">\n",
       "  <thead>\n",
       "    <tr style=\"text-align: right;\">\n",
       "      <th></th>\n",
       "      <th>able</th>\n",
       "      <th>access</th>\n",
       "      <th>add</th>\n",
       "      <th>allow</th>\n",
       "      <th>android</th>\n",
       "      <th>answer</th>\n",
       "      <th>api</th>\n",
       "      <th>app</th>\n",
       "      <th>application</th>\n",
       "      <th>array</th>\n",
       "      <th>background</th>\n",
       "      <th>base</th>\n",
       "      <th>best</th>\n",
       "      <th>branch</th>\n",
       "      <th>browser</th>\n",
       "      <th>build</th>\n",
       "      <th>button</th>\n",
       "      <th>call</th>\n",
       "      <th>case</th>\n",
       "      <th>change</th>\n",
       "      <th>character</th>\n",
       "      <th>check</th>\n",
       "      <th>class</th>\n",
       "      <th>click</th>\n",
       "      <th>code</th>\n",
       "      <th>color</th>\n",
       "      <th>column</th>\n",
       "      <th>come</th>\n",
       "      <th>command</th>\n",
       "      <th>commit</th>\n",
       "      <th>compile</th>\n",
       "      <th>contain</th>\n",
       "      <th>content</th>\n",
       "      <th>convert</th>\n",
       "      <th>create</th>\n",
       "      <th>current</th>\n",
       "      <th>data</th>\n",
       "      <th>database</th>\n",
       "      <th>date</th>\n",
       "      <th>default</th>\n",
       "      <th>...</th>\n",
       "      <th>simple</th>\n",
       "      <th>size</th>\n",
       "      <th>solution</th>\n",
       "      <th>source</th>\n",
       "      <th>sql</th>\n",
       "      <th>start</th>\n",
       "      <th>static</th>\n",
       "      <th>store</th>\n",
       "      <th>string</th>\n",
       "      <th>studio</th>\n",
       "      <th>style</th>\n",
       "      <th>sure</th>\n",
       "      <th>system</th>\n",
       "      <th>table</th>\n",
       "      <th>test</th>\n",
       "      <th>text</th>\n",
       "      <th>thing</th>\n",
       "      <th>think</th>\n",
       "      <th>time</th>\n",
       "      <th>true</th>\n",
       "      <th>try</th>\n",
       "      <th>type</th>\n",
       "      <th>understand</th>\n",
       "      <th>update</th>\n",
       "      <th>url</th>\n",
       "      <th>use</th>\n",
       "      <th>user</th>\n",
       "      <th>value</th>\n",
       "      <th>var</th>\n",
       "      <th>variable</th>\n",
       "      <th>version</th>\n",
       "      <th>view</th>\n",
       "      <th>void</th>\n",
       "      <th>want</th>\n",
       "      <th>way</th>\n",
       "      <th>web</th>\n",
       "      <th>width</th>\n",
       "      <th>window</th>\n",
       "      <th>work</th>\n",
       "      <th>write</th>\n",
       "    </tr>\n",
       "  </thead>\n",
       "  <tbody>\n",
       "    <tr>\n",
       "      <th>0</th>\n",
       "      <td>0</td>\n",
       "      <td>0</td>\n",
       "      <td>0</td>\n",
       "      <td>0</td>\n",
       "      <td>0</td>\n",
       "      <td>0</td>\n",
       "      <td>0</td>\n",
       "      <td>0</td>\n",
       "      <td>0</td>\n",
       "      <td>5</td>\n",
       "      <td>0</td>\n",
       "      <td>0</td>\n",
       "      <td>0</td>\n",
       "      <td>0</td>\n",
       "      <td>0</td>\n",
       "      <td>0</td>\n",
       "      <td>0</td>\n",
       "      <td>0</td>\n",
       "      <td>0</td>\n",
       "      <td>0</td>\n",
       "      <td>0</td>\n",
       "      <td>0</td>\n",
       "      <td>1</td>\n",
       "      <td>0</td>\n",
       "      <td>5</td>\n",
       "      <td>0</td>\n",
       "      <td>0</td>\n",
       "      <td>0</td>\n",
       "      <td>0</td>\n",
       "      <td>0</td>\n",
       "      <td>0</td>\n",
       "      <td>0</td>\n",
       "      <td>0</td>\n",
       "      <td>0</td>\n",
       "      <td>0</td>\n",
       "      <td>0</td>\n",
       "      <td>18</td>\n",
       "      <td>0</td>\n",
       "      <td>0</td>\n",
       "      <td>0</td>\n",
       "      <td>...</td>\n",
       "      <td>0</td>\n",
       "      <td>0</td>\n",
       "      <td>0</td>\n",
       "      <td>0</td>\n",
       "      <td>0</td>\n",
       "      <td>4</td>\n",
       "      <td>1</td>\n",
       "      <td>0</td>\n",
       "      <td>1</td>\n",
       "      <td>0</td>\n",
       "      <td>0</td>\n",
       "      <td>0</td>\n",
       "      <td>0</td>\n",
       "      <td>0</td>\n",
       "      <td>2</td>\n",
       "      <td>0</td>\n",
       "      <td>0</td>\n",
       "      <td>2</td>\n",
       "      <td>1</td>\n",
       "      <td>0</td>\n",
       "      <td>1</td>\n",
       "      <td>0</td>\n",
       "      <td>0</td>\n",
       "      <td>0</td>\n",
       "      <td>0</td>\n",
       "      <td>0</td>\n",
       "      <td>0</td>\n",
       "      <td>0</td>\n",
       "      <td>0</td>\n",
       "      <td>0</td>\n",
       "      <td>0</td>\n",
       "      <td>0</td>\n",
       "      <td>1</td>\n",
       "      <td>0</td>\n",
       "      <td>0</td>\n",
       "      <td>0</td>\n",
       "      <td>0</td>\n",
       "      <td>0</td>\n",
       "      <td>0</td>\n",
       "      <td>0</td>\n",
       "    </tr>\n",
       "    <tr>\n",
       "      <th>1</th>\n",
       "      <td>0</td>\n",
       "      <td>0</td>\n",
       "      <td>0</td>\n",
       "      <td>0</td>\n",
       "      <td>0</td>\n",
       "      <td>0</td>\n",
       "      <td>0</td>\n",
       "      <td>0</td>\n",
       "      <td>0</td>\n",
       "      <td>0</td>\n",
       "      <td>0</td>\n",
       "      <td>0</td>\n",
       "      <td>0</td>\n",
       "      <td>0</td>\n",
       "      <td>0</td>\n",
       "      <td>0</td>\n",
       "      <td>0</td>\n",
       "      <td>0</td>\n",
       "      <td>0</td>\n",
       "      <td>0</td>\n",
       "      <td>0</td>\n",
       "      <td>0</td>\n",
       "      <td>0</td>\n",
       "      <td>0</td>\n",
       "      <td>0</td>\n",
       "      <td>0</td>\n",
       "      <td>0</td>\n",
       "      <td>0</td>\n",
       "      <td>0</td>\n",
       "      <td>2</td>\n",
       "      <td>0</td>\n",
       "      <td>0</td>\n",
       "      <td>0</td>\n",
       "      <td>0</td>\n",
       "      <td>0</td>\n",
       "      <td>0</td>\n",
       "      <td>0</td>\n",
       "      <td>0</td>\n",
       "      <td>0</td>\n",
       "      <td>0</td>\n",
       "      <td>...</td>\n",
       "      <td>0</td>\n",
       "      <td>0</td>\n",
       "      <td>0</td>\n",
       "      <td>0</td>\n",
       "      <td>0</td>\n",
       "      <td>0</td>\n",
       "      <td>0</td>\n",
       "      <td>0</td>\n",
       "      <td>0</td>\n",
       "      <td>0</td>\n",
       "      <td>0</td>\n",
       "      <td>0</td>\n",
       "      <td>0</td>\n",
       "      <td>0</td>\n",
       "      <td>0</td>\n",
       "      <td>0</td>\n",
       "      <td>0</td>\n",
       "      <td>0</td>\n",
       "      <td>0</td>\n",
       "      <td>0</td>\n",
       "      <td>0</td>\n",
       "      <td>0</td>\n",
       "      <td>0</td>\n",
       "      <td>0</td>\n",
       "      <td>0</td>\n",
       "      <td>0</td>\n",
       "      <td>0</td>\n",
       "      <td>0</td>\n",
       "      <td>0</td>\n",
       "      <td>0</td>\n",
       "      <td>0</td>\n",
       "      <td>0</td>\n",
       "      <td>0</td>\n",
       "      <td>0</td>\n",
       "      <td>0</td>\n",
       "      <td>0</td>\n",
       "      <td>0</td>\n",
       "      <td>0</td>\n",
       "      <td>0</td>\n",
       "      <td>0</td>\n",
       "    </tr>\n",
       "    <tr>\n",
       "      <th>2</th>\n",
       "      <td>0</td>\n",
       "      <td>0</td>\n",
       "      <td>0</td>\n",
       "      <td>0</td>\n",
       "      <td>0</td>\n",
       "      <td>0</td>\n",
       "      <td>0</td>\n",
       "      <td>0</td>\n",
       "      <td>0</td>\n",
       "      <td>0</td>\n",
       "      <td>0</td>\n",
       "      <td>0</td>\n",
       "      <td>0</td>\n",
       "      <td>11</td>\n",
       "      <td>0</td>\n",
       "      <td>0</td>\n",
       "      <td>0</td>\n",
       "      <td>0</td>\n",
       "      <td>0</td>\n",
       "      <td>0</td>\n",
       "      <td>0</td>\n",
       "      <td>0</td>\n",
       "      <td>0</td>\n",
       "      <td>0</td>\n",
       "      <td>0</td>\n",
       "      <td>0</td>\n",
       "      <td>0</td>\n",
       "      <td>0</td>\n",
       "      <td>0</td>\n",
       "      <td>0</td>\n",
       "      <td>0</td>\n",
       "      <td>0</td>\n",
       "      <td>0</td>\n",
       "      <td>0</td>\n",
       "      <td>0</td>\n",
       "      <td>0</td>\n",
       "      <td>0</td>\n",
       "      <td>0</td>\n",
       "      <td>2</td>\n",
       "      <td>0</td>\n",
       "      <td>...</td>\n",
       "      <td>0</td>\n",
       "      <td>0</td>\n",
       "      <td>0</td>\n",
       "      <td>0</td>\n",
       "      <td>0</td>\n",
       "      <td>0</td>\n",
       "      <td>0</td>\n",
       "      <td>0</td>\n",
       "      <td>0</td>\n",
       "      <td>0</td>\n",
       "      <td>0</td>\n",
       "      <td>0</td>\n",
       "      <td>0</td>\n",
       "      <td>0</td>\n",
       "      <td>0</td>\n",
       "      <td>0</td>\n",
       "      <td>0</td>\n",
       "      <td>0</td>\n",
       "      <td>0</td>\n",
       "      <td>0</td>\n",
       "      <td>0</td>\n",
       "      <td>0</td>\n",
       "      <td>0</td>\n",
       "      <td>0</td>\n",
       "      <td>0</td>\n",
       "      <td>0</td>\n",
       "      <td>0</td>\n",
       "      <td>0</td>\n",
       "      <td>0</td>\n",
       "      <td>0</td>\n",
       "      <td>0</td>\n",
       "      <td>0</td>\n",
       "      <td>0</td>\n",
       "      <td>1</td>\n",
       "      <td>0</td>\n",
       "      <td>0</td>\n",
       "      <td>0</td>\n",
       "      <td>0</td>\n",
       "      <td>0</td>\n",
       "      <td>0</td>\n",
       "    </tr>\n",
       "    <tr>\n",
       "      <th>3</th>\n",
       "      <td>0</td>\n",
       "      <td>0</td>\n",
       "      <td>0</td>\n",
       "      <td>0</td>\n",
       "      <td>0</td>\n",
       "      <td>0</td>\n",
       "      <td>0</td>\n",
       "      <td>0</td>\n",
       "      <td>0</td>\n",
       "      <td>0</td>\n",
       "      <td>0</td>\n",
       "      <td>0</td>\n",
       "      <td>0</td>\n",
       "      <td>0</td>\n",
       "      <td>0</td>\n",
       "      <td>0</td>\n",
       "      <td>0</td>\n",
       "      <td>0</td>\n",
       "      <td>0</td>\n",
       "      <td>0</td>\n",
       "      <td>0</td>\n",
       "      <td>0</td>\n",
       "      <td>0</td>\n",
       "      <td>0</td>\n",
       "      <td>0</td>\n",
       "      <td>0</td>\n",
       "      <td>0</td>\n",
       "      <td>0</td>\n",
       "      <td>0</td>\n",
       "      <td>0</td>\n",
       "      <td>0</td>\n",
       "      <td>0</td>\n",
       "      <td>0</td>\n",
       "      <td>0</td>\n",
       "      <td>0</td>\n",
       "      <td>0</td>\n",
       "      <td>0</td>\n",
       "      <td>0</td>\n",
       "      <td>0</td>\n",
       "      <td>0</td>\n",
       "      <td>...</td>\n",
       "      <td>0</td>\n",
       "      <td>0</td>\n",
       "      <td>0</td>\n",
       "      <td>0</td>\n",
       "      <td>0</td>\n",
       "      <td>0</td>\n",
       "      <td>0</td>\n",
       "      <td>0</td>\n",
       "      <td>0</td>\n",
       "      <td>0</td>\n",
       "      <td>0</td>\n",
       "      <td>0</td>\n",
       "      <td>0</td>\n",
       "      <td>0</td>\n",
       "      <td>0</td>\n",
       "      <td>0</td>\n",
       "      <td>0</td>\n",
       "      <td>0</td>\n",
       "      <td>0</td>\n",
       "      <td>0</td>\n",
       "      <td>0</td>\n",
       "      <td>0</td>\n",
       "      <td>0</td>\n",
       "      <td>0</td>\n",
       "      <td>0</td>\n",
       "      <td>0</td>\n",
       "      <td>0</td>\n",
       "      <td>0</td>\n",
       "      <td>0</td>\n",
       "      <td>0</td>\n",
       "      <td>0</td>\n",
       "      <td>0</td>\n",
       "      <td>0</td>\n",
       "      <td>0</td>\n",
       "      <td>0</td>\n",
       "      <td>0</td>\n",
       "      <td>0</td>\n",
       "      <td>0</td>\n",
       "      <td>0</td>\n",
       "      <td>0</td>\n",
       "    </tr>\n",
       "    <tr>\n",
       "      <th>4</th>\n",
       "      <td>0</td>\n",
       "      <td>0</td>\n",
       "      <td>0</td>\n",
       "      <td>0</td>\n",
       "      <td>0</td>\n",
       "      <td>1</td>\n",
       "      <td>1</td>\n",
       "      <td>0</td>\n",
       "      <td>0</td>\n",
       "      <td>0</td>\n",
       "      <td>0</td>\n",
       "      <td>0</td>\n",
       "      <td>1</td>\n",
       "      <td>0</td>\n",
       "      <td>1</td>\n",
       "      <td>0</td>\n",
       "      <td>0</td>\n",
       "      <td>0</td>\n",
       "      <td>0</td>\n",
       "      <td>0</td>\n",
       "      <td>0</td>\n",
       "      <td>0</td>\n",
       "      <td>0</td>\n",
       "      <td>0</td>\n",
       "      <td>0</td>\n",
       "      <td>0</td>\n",
       "      <td>0</td>\n",
       "      <td>0</td>\n",
       "      <td>0</td>\n",
       "      <td>0</td>\n",
       "      <td>0</td>\n",
       "      <td>0</td>\n",
       "      <td>2</td>\n",
       "      <td>0</td>\n",
       "      <td>0</td>\n",
       "      <td>0</td>\n",
       "      <td>0</td>\n",
       "      <td>0</td>\n",
       "      <td>0</td>\n",
       "      <td>0</td>\n",
       "      <td>...</td>\n",
       "      <td>0</td>\n",
       "      <td>0</td>\n",
       "      <td>0</td>\n",
       "      <td>0</td>\n",
       "      <td>0</td>\n",
       "      <td>1</td>\n",
       "      <td>0</td>\n",
       "      <td>0</td>\n",
       "      <td>0</td>\n",
       "      <td>0</td>\n",
       "      <td>0</td>\n",
       "      <td>0</td>\n",
       "      <td>0</td>\n",
       "      <td>0</td>\n",
       "      <td>0</td>\n",
       "      <td>1</td>\n",
       "      <td>1</td>\n",
       "      <td>0</td>\n",
       "      <td>1</td>\n",
       "      <td>0</td>\n",
       "      <td>0</td>\n",
       "      <td>3</td>\n",
       "      <td>0</td>\n",
       "      <td>0</td>\n",
       "      <td>0</td>\n",
       "      <td>0</td>\n",
       "      <td>0</td>\n",
       "      <td>0</td>\n",
       "      <td>0</td>\n",
       "      <td>0</td>\n",
       "      <td>0</td>\n",
       "      <td>0</td>\n",
       "      <td>0</td>\n",
       "      <td>0</td>\n",
       "      <td>0</td>\n",
       "      <td>0</td>\n",
       "      <td>0</td>\n",
       "      <td>0</td>\n",
       "      <td>0</td>\n",
       "      <td>0</td>\n",
       "    </tr>\n",
       "  </tbody>\n",
       "</table>\n",
       "<p>5 rows × 200 columns</p>\n",
       "</div>"
      ],
      "text/plain": [
       "   able  access  add  allow  android  ...  web  width  window  work  write\n",
       "0     0       0    0      0        0  ...    0      0       0     0      0\n",
       "1     0       0    0      0        0  ...    0      0       0     0      0\n",
       "2     0       0    0      0        0  ...    0      0       0     0      0\n",
       "3     0       0    0      0        0  ...    0      0       0     0      0\n",
       "4     0       0    0      0        0  ...    0      0       0     0      0\n",
       "\n",
       "[5 rows x 200 columns]"
      ]
     },
     "execution_count": 13,
     "metadata": {
      "tags": []
     },
     "output_type": "execute_result"
    }
   ],
   "source": [
    "# define vocabulary words\n",
    "vocab = c_vectorizer.get_feature_names()\n",
    "# build a dataframe out of the bag of words\n",
    "df_tf = pd.DataFrame(bag_of_words_dense, columns=vocab)\n",
    "print(df_tf.shape)\n",
    "df_tf.head() # visualize the matrix"
   ]
  },
  {
   "cell_type": "markdown",
   "metadata": {
    "colab_type": "text",
    "id": "GqaU7kiRIR_W"
   },
   "source": [
    "### 1.2 TF-IDF approach\n",
    "\n",
    "Text frequency - inverse documents frequency is a more advanced approach to build a document-term matrix than bag of words where only word counts (text frequency) is used.\n",
    "Inverse document frequency means, how common or rare a word is in the entire document set.\n",
    "It varies between 0 and 1. The closer it is to 0, the more common a word is.\n",
    "Before building the matrix here we check which are the most popular terms, i.e. the words with highest TF-IDF score. Those should correspond to the most popular tags."
   ]
  },
  {
   "cell_type": "markdown",
   "metadata": {
    "colab_type": "text",
    "id": "DOksFtifIR_W"
   },
   "source": [
    "#### 1.2.1 Word count and TF-IDF score\n"
   ]
  },
  {
   "cell_type": "markdown",
   "metadata": {
    "colab_type": "text",
    "id": "hWX4PZZBIR_Y"
   },
   "source": [
    "Word counts (term frequency)"
   ]
  },
  {
   "cell_type": "code",
   "execution_count": null,
   "metadata": {
    "colab": {},
    "colab_type": "code",
    "id": "SZuK5DkAIR_a"
   },
   "outputs": [],
   "source": [
    "# Sum up the counts of each vocabulary word\n",
    "dist = np.sum(bag_of_words_array, axis=0)\n",
    "\n",
    "# For each, append to a list the vocabulary word and the number of times it \n",
    "# appears in the training set\n",
    "counts = []\n",
    "words = []\n",
    "for word, count in zip(vocab, dist):\n",
    "    counts.append(count)\n",
    "    words.append(word)\n",
    "    \n",
    "df_wordcount = pd.DataFrame({'words': words, 'count':counts})"
   ]
  },
  {
   "cell_type": "markdown",
   "metadata": {
    "colab_type": "text",
    "id": "MLXcgaeKIR_k"
   },
   "source": [
    "IDF values calculated from the bag-of-words matrix"
   ]
  },
  {
   "cell_type": "code",
   "execution_count": 15,
   "metadata": {
    "colab": {
     "base_uri": "https://localhost:8080/",
     "height": 34
    },
    "colab_type": "code",
    "id": "-Ti3n7cYIR_l",
    "outputId": "3a4037db-e041-4d9e-de2f-b54edb1dfd72"
   },
   "outputs": [
    {
     "data": {
      "text/plain": [
       "TfidfTransformer(norm='l2', smooth_idf=True, sublinear_tf=False, use_idf=True)"
      ]
     },
     "execution_count": 15,
     "metadata": {
      "tags": []
     },
     "output_type": "execute_result"
    }
   ],
   "source": [
    "tfidf_transformer=TfidfTransformer(smooth_idf=True,use_idf=True)\n",
    "tfidf_transformer.fit(bag_of_words)"
   ]
  },
  {
   "cell_type": "code",
   "execution_count": null,
   "metadata": {
    "colab": {},
    "colab_type": "code",
    "id": "wqFfg1P_IR_q"
   },
   "outputs": [],
   "source": [
    "# get idf values\n",
    "df_idf = pd.DataFrame(tfidf_transformer.idf_, index= c_vectorizer.get_feature_names(),columns=[\"idf_weight\"]).reset_index()\n",
    "df_idf.rename(columns={'index':'words'},inplace=True) \n",
    "\n",
    "# join with word counts data\n",
    "df_words = pd.merge(df_idf, df_wordcount, on='words', how='inner')"
   ]
  },
  {
   "cell_type": "markdown",
   "metadata": {
    "colab_type": "text",
    "id": "TCaqBxfsIR_z"
   },
   "source": [
    "Finally we get a words dataframe ordered by TF-IDF scores"
   ]
  },
  {
   "cell_type": "code",
   "execution_count": 17,
   "metadata": {
    "colab": {
     "base_uri": "https://localhost:8080/",
     "height": 363
    },
    "colab_type": "code",
    "id": "f1pbJBcCIR_0",
    "outputId": "a21a5998-3b57-4c6f-c9a2-805d769abc29"
   },
   "outputs": [
    {
     "data": {
      "text/html": [
       "<div>\n",
       "<style scoped>\n",
       "    .dataframe tbody tr th:only-of-type {\n",
       "        vertical-align: middle;\n",
       "    }\n",
       "\n",
       "    .dataframe tbody tr th {\n",
       "        vertical-align: top;\n",
       "    }\n",
       "\n",
       "    .dataframe thead th {\n",
       "        text-align: right;\n",
       "    }\n",
       "</style>\n",
       "<table border=\"1\" class=\"dataframe\">\n",
       "  <thead>\n",
       "    <tr style=\"text-align: right;\">\n",
       "      <th></th>\n",
       "      <th>words</th>\n",
       "      <th>idf_weight</th>\n",
       "      <th>count</th>\n",
       "      <th>TF_IDF score</th>\n",
       "    </tr>\n",
       "  </thead>\n",
       "  <tbody>\n",
       "    <tr>\n",
       "      <th>0</th>\n",
       "      <td>file</td>\n",
       "      <td>2.736351</td>\n",
       "      <td>17370</td>\n",
       "      <td>47530.417314</td>\n",
       "    </tr>\n",
       "    <tr>\n",
       "      <th>1</th>\n",
       "      <td>android</td>\n",
       "      <td>3.915541</td>\n",
       "      <td>10096</td>\n",
       "      <td>39531.297872</td>\n",
       "    </tr>\n",
       "    <tr>\n",
       "      <th>2</th>\n",
       "      <td>string</td>\n",
       "      <td>3.048507</td>\n",
       "      <td>12716</td>\n",
       "      <td>38764.813379</td>\n",
       "    </tr>\n",
       "    <tr>\n",
       "      <th>3</th>\n",
       "      <td>class</td>\n",
       "      <td>3.145947</td>\n",
       "      <td>11375</td>\n",
       "      <td>35785.151931</td>\n",
       "    </tr>\n",
       "    <tr>\n",
       "      <th>4</th>\n",
       "      <td>error</td>\n",
       "      <td>3.020527</td>\n",
       "      <td>11575</td>\n",
       "      <td>34962.603081</td>\n",
       "    </tr>\n",
       "    <tr>\n",
       "      <th>5</th>\n",
       "      <td>use</td>\n",
       "      <td>2.386402</td>\n",
       "      <td>14324</td>\n",
       "      <td>34182.821721</td>\n",
       "    </tr>\n",
       "    <tr>\n",
       "      <th>6</th>\n",
       "      <td>like</td>\n",
       "      <td>2.264955</td>\n",
       "      <td>14620</td>\n",
       "      <td>33113.642445</td>\n",
       "    </tr>\n",
       "    <tr>\n",
       "      <th>7</th>\n",
       "      <td>function</td>\n",
       "      <td>3.100097</td>\n",
       "      <td>10272</td>\n",
       "      <td>31844.193251</td>\n",
       "    </tr>\n",
       "    <tr>\n",
       "      <th>8</th>\n",
       "      <td>value</td>\n",
       "      <td>3.125460</td>\n",
       "      <td>9943</td>\n",
       "      <td>31076.444477</td>\n",
       "    </tr>\n",
       "    <tr>\n",
       "      <th>9</th>\n",
       "      <td>code</td>\n",
       "      <td>2.616212</td>\n",
       "      <td>11800</td>\n",
       "      <td>30871.307214</td>\n",
       "    </tr>\n",
       "  </tbody>\n",
       "</table>\n",
       "</div>"
      ],
      "text/plain": [
       "      words  idf_weight  count  TF_IDF score\n",
       "0      file    2.736351  17370  47530.417314\n",
       "1   android    3.915541  10096  39531.297872\n",
       "2    string    3.048507  12716  38764.813379\n",
       "3     class    3.145947  11375  35785.151931\n",
       "4     error    3.020527  11575  34962.603081\n",
       "5       use    2.386402  14324  34182.821721\n",
       "6      like    2.264955  14620  33113.642445\n",
       "7  function    3.100097  10272  31844.193251\n",
       "8     value    3.125460   9943  31076.444477\n",
       "9      code    2.616212  11800  30871.307214"
      ]
     },
     "execution_count": 17,
     "metadata": {
      "tags": []
     },
     "output_type": "execute_result"
    }
   ],
   "source": [
    "#calculate the TF-IDF score\n",
    "df_words['TF_IDF score'] = df_words[\"idf_weight\"]*df_words['count']\n",
    "df_words = df_words.sort_values(by=['TF_IDF score'], ascending=False).reset_index(drop = True)# sort ascending\n",
    "df_words[:10]"
   ]
  },
  {
   "cell_type": "markdown",
   "metadata": {
    "colab_type": "text",
    "id": "oaCKXz05IR_-"
   },
   "source": [
    "#### 1.2.2 Build the matrix: TF-IDF scores to vectors"
   ]
  },
  {
   "cell_type": "code",
   "execution_count": null,
   "metadata": {
    "colab": {},
    "colab_type": "code",
    "id": "fhd2Xx24IR__"
   },
   "outputs": [],
   "source": [
    "tfidfVectorizer = TfidfVectorizer(norm=None,analyzer='word',min_df = 5, max_df = 0.8, ngram_range=(1,2),max_features = num_features, use_idf=True)"
   ]
  },
  {
   "cell_type": "code",
   "execution_count": null,
   "metadata": {
    "colab": {},
    "colab_type": "code",
    "id": "Mjf0OuuLISAE"
   },
   "outputs": [],
   "source": [
    "# TF-IDF matrices\n",
    "TF_IDF = tfidfVectorizer.fit_transform(df_base['Lemma'])\n"
   ]
  },
  {
   "cell_type": "code",
   "execution_count": null,
   "metadata": {
    "colab": {},
    "colab_type": "code",
    "id": "NGb7svMjISAM"
   },
   "outputs": [],
   "source": [
    "TF_IDF_dense = TF_IDF.todense()\n"
   ]
  },
  {
   "cell_type": "code",
   "execution_count": null,
   "metadata": {
    "colab": {},
    "colab_type": "code",
    "id": "RS7pTaPBISAU"
   },
   "outputs": [],
   "source": [
    "denselist = TF_IDF_dense.tolist()"
   ]
  },
  {
   "cell_type": "code",
   "execution_count": 22,
   "metadata": {
    "colab": {
     "base_uri": "https://localhost:8080/",
     "height": 273
    },
    "colab_type": "code",
    "id": "bk9mbNrXISAd",
    "outputId": "56753347-70f8-4e12-c6a6-1588f2f15c01"
   },
   "outputs": [
    {
     "name": "stdout",
     "output_type": "stream",
     "text": [
      "(37175, 200)\n"
     ]
    },
    {
     "data": {
      "text/html": [
       "<div>\n",
       "<style scoped>\n",
       "    .dataframe tbody tr th:only-of-type {\n",
       "        vertical-align: middle;\n",
       "    }\n",
       "\n",
       "    .dataframe tbody tr th {\n",
       "        vertical-align: top;\n",
       "    }\n",
       "\n",
       "    .dataframe thead th {\n",
       "        text-align: right;\n",
       "    }\n",
       "</style>\n",
       "<table border=\"1\" class=\"dataframe\">\n",
       "  <thead>\n",
       "    <tr style=\"text-align: right;\">\n",
       "      <th></th>\n",
       "      <th>able</th>\n",
       "      <th>access</th>\n",
       "      <th>add</th>\n",
       "      <th>allow</th>\n",
       "      <th>android</th>\n",
       "      <th>answer</th>\n",
       "      <th>api</th>\n",
       "      <th>app</th>\n",
       "      <th>application</th>\n",
       "      <th>array</th>\n",
       "      <th>background</th>\n",
       "      <th>base</th>\n",
       "      <th>best</th>\n",
       "      <th>branch</th>\n",
       "      <th>browser</th>\n",
       "      <th>build</th>\n",
       "      <th>button</th>\n",
       "      <th>call</th>\n",
       "      <th>case</th>\n",
       "      <th>change</th>\n",
       "      <th>character</th>\n",
       "      <th>check</th>\n",
       "      <th>class</th>\n",
       "      <th>click</th>\n",
       "      <th>code</th>\n",
       "      <th>color</th>\n",
       "      <th>column</th>\n",
       "      <th>come</th>\n",
       "      <th>command</th>\n",
       "      <th>commit</th>\n",
       "      <th>compile</th>\n",
       "      <th>contain</th>\n",
       "      <th>content</th>\n",
       "      <th>convert</th>\n",
       "      <th>create</th>\n",
       "      <th>current</th>\n",
       "      <th>data</th>\n",
       "      <th>database</th>\n",
       "      <th>date</th>\n",
       "      <th>default</th>\n",
       "      <th>...</th>\n",
       "      <th>simple</th>\n",
       "      <th>size</th>\n",
       "      <th>solution</th>\n",
       "      <th>source</th>\n",
       "      <th>sql</th>\n",
       "      <th>start</th>\n",
       "      <th>static</th>\n",
       "      <th>store</th>\n",
       "      <th>string</th>\n",
       "      <th>studio</th>\n",
       "      <th>style</th>\n",
       "      <th>sure</th>\n",
       "      <th>system</th>\n",
       "      <th>table</th>\n",
       "      <th>test</th>\n",
       "      <th>text</th>\n",
       "      <th>thing</th>\n",
       "      <th>think</th>\n",
       "      <th>time</th>\n",
       "      <th>true</th>\n",
       "      <th>try</th>\n",
       "      <th>type</th>\n",
       "      <th>understand</th>\n",
       "      <th>update</th>\n",
       "      <th>url</th>\n",
       "      <th>use</th>\n",
       "      <th>user</th>\n",
       "      <th>value</th>\n",
       "      <th>var</th>\n",
       "      <th>variable</th>\n",
       "      <th>version</th>\n",
       "      <th>view</th>\n",
       "      <th>void</th>\n",
       "      <th>want</th>\n",
       "      <th>way</th>\n",
       "      <th>web</th>\n",
       "      <th>width</th>\n",
       "      <th>window</th>\n",
       "      <th>work</th>\n",
       "      <th>write</th>\n",
       "    </tr>\n",
       "  </thead>\n",
       "  <tbody>\n",
       "    <tr>\n",
       "      <th>0</th>\n",
       "      <td>0.0</td>\n",
       "      <td>0.0</td>\n",
       "      <td>0.0</td>\n",
       "      <td>0.0</td>\n",
       "      <td>0.0</td>\n",
       "      <td>0.000000</td>\n",
       "      <td>0.000000</td>\n",
       "      <td>0.0</td>\n",
       "      <td>0.0</td>\n",
       "      <td>20.33771</td>\n",
       "      <td>0.0</td>\n",
       "      <td>0.0</td>\n",
       "      <td>0.000000</td>\n",
       "      <td>0.000000</td>\n",
       "      <td>0.000000</td>\n",
       "      <td>0.0</td>\n",
       "      <td>0.0</td>\n",
       "      <td>0.0</td>\n",
       "      <td>0.0</td>\n",
       "      <td>0.0</td>\n",
       "      <td>0.0</td>\n",
       "      <td>0.0</td>\n",
       "      <td>3.145947</td>\n",
       "      <td>0.0</td>\n",
       "      <td>13.081062</td>\n",
       "      <td>0.0</td>\n",
       "      <td>0.0</td>\n",
       "      <td>0.0</td>\n",
       "      <td>0.0</td>\n",
       "      <td>0.000000</td>\n",
       "      <td>0.0</td>\n",
       "      <td>0.0</td>\n",
       "      <td>0.000000</td>\n",
       "      <td>0.0</td>\n",
       "      <td>0.0</td>\n",
       "      <td>0.0</td>\n",
       "      <td>62.371645</td>\n",
       "      <td>0.0</td>\n",
       "      <td>0.00000</td>\n",
       "      <td>0.0</td>\n",
       "      <td>...</td>\n",
       "      <td>0.0</td>\n",
       "      <td>0.0</td>\n",
       "      <td>0.0</td>\n",
       "      <td>0.0</td>\n",
       "      <td>0.0</td>\n",
       "      <td>15.157189</td>\n",
       "      <td>4.536852</td>\n",
       "      <td>0.0</td>\n",
       "      <td>3.048507</td>\n",
       "      <td>0.0</td>\n",
       "      <td>0.0</td>\n",
       "      <td>0.0</td>\n",
       "      <td>0.0</td>\n",
       "      <td>0.0</td>\n",
       "      <td>7.546469</td>\n",
       "      <td>0.000000</td>\n",
       "      <td>0.00000</td>\n",
       "      <td>7.438335</td>\n",
       "      <td>3.373528</td>\n",
       "      <td>0.0</td>\n",
       "      <td>2.55668</td>\n",
       "      <td>0.00000</td>\n",
       "      <td>0.0</td>\n",
       "      <td>0.0</td>\n",
       "      <td>0.0</td>\n",
       "      <td>0.0</td>\n",
       "      <td>0.0</td>\n",
       "      <td>0.0</td>\n",
       "      <td>0.0</td>\n",
       "      <td>0.0</td>\n",
       "      <td>0.0</td>\n",
       "      <td>0.0</td>\n",
       "      <td>4.261492</td>\n",
       "      <td>0.000000</td>\n",
       "      <td>0.0</td>\n",
       "      <td>0.0</td>\n",
       "      <td>0.0</td>\n",
       "      <td>0.0</td>\n",
       "      <td>0.0</td>\n",
       "      <td>0.0</td>\n",
       "    </tr>\n",
       "    <tr>\n",
       "      <th>1</th>\n",
       "      <td>0.0</td>\n",
       "      <td>0.0</td>\n",
       "      <td>0.0</td>\n",
       "      <td>0.0</td>\n",
       "      <td>0.0</td>\n",
       "      <td>0.000000</td>\n",
       "      <td>0.000000</td>\n",
       "      <td>0.0</td>\n",
       "      <td>0.0</td>\n",
       "      <td>0.00000</td>\n",
       "      <td>0.0</td>\n",
       "      <td>0.0</td>\n",
       "      <td>0.000000</td>\n",
       "      <td>0.000000</td>\n",
       "      <td>0.000000</td>\n",
       "      <td>0.0</td>\n",
       "      <td>0.0</td>\n",
       "      <td>0.0</td>\n",
       "      <td>0.0</td>\n",
       "      <td>0.0</td>\n",
       "      <td>0.0</td>\n",
       "      <td>0.0</td>\n",
       "      <td>0.000000</td>\n",
       "      <td>0.0</td>\n",
       "      <td>0.000000</td>\n",
       "      <td>0.0</td>\n",
       "      <td>0.0</td>\n",
       "      <td>0.0</td>\n",
       "      <td>0.0</td>\n",
       "      <td>9.584801</td>\n",
       "      <td>0.0</td>\n",
       "      <td>0.0</td>\n",
       "      <td>0.000000</td>\n",
       "      <td>0.0</td>\n",
       "      <td>0.0</td>\n",
       "      <td>0.0</td>\n",
       "      <td>0.000000</td>\n",
       "      <td>0.0</td>\n",
       "      <td>0.00000</td>\n",
       "      <td>0.0</td>\n",
       "      <td>...</td>\n",
       "      <td>0.0</td>\n",
       "      <td>0.0</td>\n",
       "      <td>0.0</td>\n",
       "      <td>0.0</td>\n",
       "      <td>0.0</td>\n",
       "      <td>0.000000</td>\n",
       "      <td>0.000000</td>\n",
       "      <td>0.0</td>\n",
       "      <td>0.000000</td>\n",
       "      <td>0.0</td>\n",
       "      <td>0.0</td>\n",
       "      <td>0.0</td>\n",
       "      <td>0.0</td>\n",
       "      <td>0.0</td>\n",
       "      <td>0.000000</td>\n",
       "      <td>0.000000</td>\n",
       "      <td>0.00000</td>\n",
       "      <td>0.000000</td>\n",
       "      <td>0.000000</td>\n",
       "      <td>0.0</td>\n",
       "      <td>0.00000</td>\n",
       "      <td>0.00000</td>\n",
       "      <td>0.0</td>\n",
       "      <td>0.0</td>\n",
       "      <td>0.0</td>\n",
       "      <td>0.0</td>\n",
       "      <td>0.0</td>\n",
       "      <td>0.0</td>\n",
       "      <td>0.0</td>\n",
       "      <td>0.0</td>\n",
       "      <td>0.0</td>\n",
       "      <td>0.0</td>\n",
       "      <td>0.000000</td>\n",
       "      <td>0.000000</td>\n",
       "      <td>0.0</td>\n",
       "      <td>0.0</td>\n",
       "      <td>0.0</td>\n",
       "      <td>0.0</td>\n",
       "      <td>0.0</td>\n",
       "      <td>0.0</td>\n",
       "    </tr>\n",
       "    <tr>\n",
       "      <th>2</th>\n",
       "      <td>0.0</td>\n",
       "      <td>0.0</td>\n",
       "      <td>0.0</td>\n",
       "      <td>0.0</td>\n",
       "      <td>0.0</td>\n",
       "      <td>0.000000</td>\n",
       "      <td>0.000000</td>\n",
       "      <td>0.0</td>\n",
       "      <td>0.0</td>\n",
       "      <td>0.00000</td>\n",
       "      <td>0.0</td>\n",
       "      <td>0.0</td>\n",
       "      <td>0.000000</td>\n",
       "      <td>54.933998</td>\n",
       "      <td>0.000000</td>\n",
       "      <td>0.0</td>\n",
       "      <td>0.0</td>\n",
       "      <td>0.0</td>\n",
       "      <td>0.0</td>\n",
       "      <td>0.0</td>\n",
       "      <td>0.0</td>\n",
       "      <td>0.0</td>\n",
       "      <td>0.000000</td>\n",
       "      <td>0.0</td>\n",
       "      <td>0.000000</td>\n",
       "      <td>0.0</td>\n",
       "      <td>0.0</td>\n",
       "      <td>0.0</td>\n",
       "      <td>0.0</td>\n",
       "      <td>0.000000</td>\n",
       "      <td>0.0</td>\n",
       "      <td>0.0</td>\n",
       "      <td>0.000000</td>\n",
       "      <td>0.0</td>\n",
       "      <td>0.0</td>\n",
       "      <td>0.0</td>\n",
       "      <td>0.000000</td>\n",
       "      <td>0.0</td>\n",
       "      <td>9.12804</td>\n",
       "      <td>0.0</td>\n",
       "      <td>...</td>\n",
       "      <td>0.0</td>\n",
       "      <td>0.0</td>\n",
       "      <td>0.0</td>\n",
       "      <td>0.0</td>\n",
       "      <td>0.0</td>\n",
       "      <td>0.000000</td>\n",
       "      <td>0.000000</td>\n",
       "      <td>0.0</td>\n",
       "      <td>0.000000</td>\n",
       "      <td>0.0</td>\n",
       "      <td>0.0</td>\n",
       "      <td>0.0</td>\n",
       "      <td>0.0</td>\n",
       "      <td>0.0</td>\n",
       "      <td>0.000000</td>\n",
       "      <td>0.000000</td>\n",
       "      <td>0.00000</td>\n",
       "      <td>0.000000</td>\n",
       "      <td>0.000000</td>\n",
       "      <td>0.0</td>\n",
       "      <td>0.00000</td>\n",
       "      <td>0.00000</td>\n",
       "      <td>0.0</td>\n",
       "      <td>0.0</td>\n",
       "      <td>0.0</td>\n",
       "      <td>0.0</td>\n",
       "      <td>0.0</td>\n",
       "      <td>0.0</td>\n",
       "      <td>0.0</td>\n",
       "      <td>0.0</td>\n",
       "      <td>0.0</td>\n",
       "      <td>0.0</td>\n",
       "      <td>0.000000</td>\n",
       "      <td>2.448669</td>\n",
       "      <td>0.0</td>\n",
       "      <td>0.0</td>\n",
       "      <td>0.0</td>\n",
       "      <td>0.0</td>\n",
       "      <td>0.0</td>\n",
       "      <td>0.0</td>\n",
       "    </tr>\n",
       "    <tr>\n",
       "      <th>3</th>\n",
       "      <td>0.0</td>\n",
       "      <td>0.0</td>\n",
       "      <td>0.0</td>\n",
       "      <td>0.0</td>\n",
       "      <td>0.0</td>\n",
       "      <td>0.000000</td>\n",
       "      <td>0.000000</td>\n",
       "      <td>0.0</td>\n",
       "      <td>0.0</td>\n",
       "      <td>0.00000</td>\n",
       "      <td>0.0</td>\n",
       "      <td>0.0</td>\n",
       "      <td>0.000000</td>\n",
       "      <td>0.000000</td>\n",
       "      <td>0.000000</td>\n",
       "      <td>0.0</td>\n",
       "      <td>0.0</td>\n",
       "      <td>0.0</td>\n",
       "      <td>0.0</td>\n",
       "      <td>0.0</td>\n",
       "      <td>0.0</td>\n",
       "      <td>0.0</td>\n",
       "      <td>0.000000</td>\n",
       "      <td>0.0</td>\n",
       "      <td>0.000000</td>\n",
       "      <td>0.0</td>\n",
       "      <td>0.0</td>\n",
       "      <td>0.0</td>\n",
       "      <td>0.0</td>\n",
       "      <td>0.000000</td>\n",
       "      <td>0.0</td>\n",
       "      <td>0.0</td>\n",
       "      <td>0.000000</td>\n",
       "      <td>0.0</td>\n",
       "      <td>0.0</td>\n",
       "      <td>0.0</td>\n",
       "      <td>0.000000</td>\n",
       "      <td>0.0</td>\n",
       "      <td>0.00000</td>\n",
       "      <td>0.0</td>\n",
       "      <td>...</td>\n",
       "      <td>0.0</td>\n",
       "      <td>0.0</td>\n",
       "      <td>0.0</td>\n",
       "      <td>0.0</td>\n",
       "      <td>0.0</td>\n",
       "      <td>0.000000</td>\n",
       "      <td>0.000000</td>\n",
       "      <td>0.0</td>\n",
       "      <td>0.000000</td>\n",
       "      <td>0.0</td>\n",
       "      <td>0.0</td>\n",
       "      <td>0.0</td>\n",
       "      <td>0.0</td>\n",
       "      <td>0.0</td>\n",
       "      <td>0.000000</td>\n",
       "      <td>0.000000</td>\n",
       "      <td>0.00000</td>\n",
       "      <td>0.000000</td>\n",
       "      <td>0.000000</td>\n",
       "      <td>0.0</td>\n",
       "      <td>0.00000</td>\n",
       "      <td>0.00000</td>\n",
       "      <td>0.0</td>\n",
       "      <td>0.0</td>\n",
       "      <td>0.0</td>\n",
       "      <td>0.0</td>\n",
       "      <td>0.0</td>\n",
       "      <td>0.0</td>\n",
       "      <td>0.0</td>\n",
       "      <td>0.0</td>\n",
       "      <td>0.0</td>\n",
       "      <td>0.0</td>\n",
       "      <td>0.000000</td>\n",
       "      <td>0.000000</td>\n",
       "      <td>0.0</td>\n",
       "      <td>0.0</td>\n",
       "      <td>0.0</td>\n",
       "      <td>0.0</td>\n",
       "      <td>0.0</td>\n",
       "      <td>0.0</td>\n",
       "    </tr>\n",
       "    <tr>\n",
       "      <th>4</th>\n",
       "      <td>0.0</td>\n",
       "      <td>0.0</td>\n",
       "      <td>0.0</td>\n",
       "      <td>0.0</td>\n",
       "      <td>0.0</td>\n",
       "      <td>3.899777</td>\n",
       "      <td>4.660661</td>\n",
       "      <td>0.0</td>\n",
       "      <td>0.0</td>\n",
       "      <td>0.00000</td>\n",
       "      <td>0.0</td>\n",
       "      <td>0.0</td>\n",
       "      <td>3.950916</td>\n",
       "      <td>0.000000</td>\n",
       "      <td>4.507706</td>\n",
       "      <td>0.0</td>\n",
       "      <td>0.0</td>\n",
       "      <td>0.0</td>\n",
       "      <td>0.0</td>\n",
       "      <td>0.0</td>\n",
       "      <td>0.0</td>\n",
       "      <td>0.0</td>\n",
       "      <td>0.000000</td>\n",
       "      <td>0.0</td>\n",
       "      <td>0.000000</td>\n",
       "      <td>0.0</td>\n",
       "      <td>0.0</td>\n",
       "      <td>0.0</td>\n",
       "      <td>0.0</td>\n",
       "      <td>0.000000</td>\n",
       "      <td>0.0</td>\n",
       "      <td>0.0</td>\n",
       "      <td>8.310158</td>\n",
       "      <td>0.0</td>\n",
       "      <td>0.0</td>\n",
       "      <td>0.0</td>\n",
       "      <td>0.000000</td>\n",
       "      <td>0.0</td>\n",
       "      <td>0.00000</td>\n",
       "      <td>0.0</td>\n",
       "      <td>...</td>\n",
       "      <td>0.0</td>\n",
       "      <td>0.0</td>\n",
       "      <td>0.0</td>\n",
       "      <td>0.0</td>\n",
       "      <td>0.0</td>\n",
       "      <td>3.789297</td>\n",
       "      <td>0.000000</td>\n",
       "      <td>0.0</td>\n",
       "      <td>0.000000</td>\n",
       "      <td>0.0</td>\n",
       "      <td>0.0</td>\n",
       "      <td>0.0</td>\n",
       "      <td>0.0</td>\n",
       "      <td>0.0</td>\n",
       "      <td>0.000000</td>\n",
       "      <td>3.740611</td>\n",
       "      <td>3.85299</td>\n",
       "      <td>0.000000</td>\n",
       "      <td>3.373528</td>\n",
       "      <td>0.0</td>\n",
       "      <td>0.00000</td>\n",
       "      <td>9.89455</td>\n",
       "      <td>0.0</td>\n",
       "      <td>0.0</td>\n",
       "      <td>0.0</td>\n",
       "      <td>0.0</td>\n",
       "      <td>0.0</td>\n",
       "      <td>0.0</td>\n",
       "      <td>0.0</td>\n",
       "      <td>0.0</td>\n",
       "      <td>0.0</td>\n",
       "      <td>0.0</td>\n",
       "      <td>0.000000</td>\n",
       "      <td>0.000000</td>\n",
       "      <td>0.0</td>\n",
       "      <td>0.0</td>\n",
       "      <td>0.0</td>\n",
       "      <td>0.0</td>\n",
       "      <td>0.0</td>\n",
       "      <td>0.0</td>\n",
       "    </tr>\n",
       "  </tbody>\n",
       "</table>\n",
       "<p>5 rows × 200 columns</p>\n",
       "</div>"
      ],
      "text/plain": [
       "   able  access  add  allow  android  ...  web  width  window  work  write\n",
       "0   0.0     0.0  0.0    0.0      0.0  ...  0.0    0.0     0.0   0.0    0.0\n",
       "1   0.0     0.0  0.0    0.0      0.0  ...  0.0    0.0     0.0   0.0    0.0\n",
       "2   0.0     0.0  0.0    0.0      0.0  ...  0.0    0.0     0.0   0.0    0.0\n",
       "3   0.0     0.0  0.0    0.0      0.0  ...  0.0    0.0     0.0   0.0    0.0\n",
       "4   0.0     0.0  0.0    0.0      0.0  ...  0.0    0.0     0.0   0.0    0.0\n",
       "\n",
       "[5 rows x 200 columns]"
      ]
     },
     "execution_count": 22,
     "metadata": {
      "tags": []
     },
     "output_type": "execute_result"
    }
   ],
   "source": [
    "df_tf_idf = pd.DataFrame(denselist, columns = tfidfVectorizer.get_feature_names())\n",
    "df_tf_idf.rename(columns={'index':'words'},inplace=True)\n",
    "print(df_tf_idf.shape)\n",
    "df_tf_idf.head()"
   ]
  },
  {
   "cell_type": "code",
   "execution_count": null,
   "metadata": {
    "colab": {},
    "colab_type": "code",
    "id": "utdq79xmvrK8"
   },
   "outputs": [],
   "source": [
    "# 80/20 split\n",
    "X_train, X_test,X_bag_of_words_train, X_bag_of_words_test, y_train, y_test, y_train_bin, y_test_bin  = train_test_split(df_base['Lemma'],bag_of_words, y, y_bin,  test_size=0.2,train_size=0.8, random_state=0)\n"
   ]
  },
  {
   "cell_type": "code",
   "execution_count": null,
   "metadata": {
    "colab": {},
    "colab_type": "code",
    "id": "qP87QSB_DFUy"
   },
   "outputs": [],
   "source": [
    "X_train, X_test,X_tfidf_train, X_tfidf_test, y_train, y_test, y_train_bin, y_test_bin = train_test_split(df_base['Lemma'],TF_IDF_dense, y, y_bin,  test_size=0.2,train_size=0.8, random_state=0)"
   ]
  },
  {
   "cell_type": "markdown",
   "metadata": {
    "colab_type": "text",
    "id": "sJc6CLc0ISAl"
   },
   "source": [
    "### 1.3 Word2Vec embedding"
   ]
  },
  {
   "cell_type": "code",
   "execution_count": 25,
   "metadata": {
    "colab": {
     "base_uri": "https://localhost:8080/",
     "height": 34
    },
    "colab_type": "code",
    "id": "eYMrcTTDISAm",
    "outputId": "d24f5d7b-6f42-45cd-8b88-532f500c6ad2"
   },
   "outputs": [
    {
     "name": "stdout",
     "output_type": "stream",
     "text": [
      "The process took: 0hour:1min:11sec\n"
     ]
    }
   ],
   "source": [
    "process_time_starts()\n",
    "word2vec = Word2Vec(df_base['Lemma'],               # data I vectorize\n",
    "                 min_count=3,   # Ignore words that appear less than this\n",
    "                 size= 50,      # Dimensionality of word embeddings\n",
    "                 workers=3,     # Number of processors (parallelisation)\n",
    "                 sg = 1,        # Training algorithm, either CBOW(0) or skip gram(1). \n",
    "                 window=3)      # Context window for words during training\n",
    "time_elapsed()"
   ]
  },
  {
   "cell_type": "markdown",
   "metadata": {
    "colab_type": "text",
    "id": "EZ2VM5-jISAt"
   },
   "source": [
    "## 2. Unsupervised topic modeling"
   ]
  },
  {
   "cell_type": "code",
   "execution_count": 26,
   "metadata": {
    "colab": {
     "base_uri": "https://localhost:8080/",
     "height": 34
    },
    "colab_type": "code",
    "id": "vSYskKc3ISAv",
    "outputId": "22d0824c-73d4-41a9-9531-eae39fcac692"
   },
   "outputs": [
    {
     "name": "stdout",
     "output_type": "stream",
     "text": [
      "The process took: 0hour:0min:41sec\n"
     ]
    }
   ],
   "source": [
    "#model 5 topics for our corpus both by LDA and NMF, see if they compare with top tags\n",
    "process_time_starts()\n",
    "\n",
    "lda_first_model = LatentDirichletAllocation(n_components=5, max_iter=5,\n",
    "                                        learning_method='online',\n",
    "                                        learning_offset=50.,\n",
    "                                        random_state=0).fit(X_bag_of_words_train)\n",
    "time_elapsed()"
   ]
  },
  {
   "cell_type": "code",
   "execution_count": 27,
   "metadata": {
    "colab": {
     "base_uri": "https://localhost:8080/",
     "height": 34
    },
    "colab_type": "code",
    "id": "r3dgpJbQISA2",
    "outputId": "72736366-8e7e-4a9b-a763-6051a4617d50"
   },
   "outputs": [
    {
     "name": "stdout",
     "output_type": "stream",
     "text": [
      "The process took: 0hour:0min:2sec\n"
     ]
    }
   ],
   "source": [
    "process_time_starts()\n",
    "\n",
    "nmf_first_model = NMF(n_components=5, random_state=1,\n",
    "          alpha=.1, l1_ratio=.5).fit(X_bag_of_words_train)\n",
    "\n",
    "time_elapsed()"
   ]
  },
  {
   "cell_type": "code",
   "execution_count": null,
   "metadata": {
    "colab": {},
    "colab_type": "code",
    "id": "YZloJs1TISA7"
   },
   "outputs": [],
   "source": [
    "def print_top_words(model):\n",
    "    feature_names = c_vectorizer.get_feature_names()\n",
    "    for topic_idx, topic in enumerate(model.components_):\n",
    "        message = \"Topic #%d: \" % topic_idx\n",
    "        n_top_words = 10\n",
    "        message += \" \".join([feature_names[i]\n",
    "                             for i in topic.argsort()[:-n_top_words - 1:-1]])\n",
    "        print(message)\n",
    "    print()"
   ]
  },
  {
   "cell_type": "code",
   "execution_count": 29,
   "metadata": {
    "colab": {
     "base_uri": "https://localhost:8080/",
     "height": 121
    },
    "colab_type": "code",
    "id": "owGtMnsNISBC",
    "outputId": "8b209730-6488-4f8e-89e8-c61dbbb54d2d"
   },
   "outputs": [
    {
     "name": "stdout",
     "output_type": "stream",
     "text": [
      "Topic #0: div text element input class html button id item page\n",
      "Topic #1: use function like way code array difference know time data\n",
      "Topic #2: file git line command change directory script want branch work\n",
      "Topic #3: string class value object public return new int method table\n",
      "Topic #4: android error version http run app try application project server\n",
      "\n"
     ]
    }
   ],
   "source": [
    "print_top_words(lda_first_model)"
   ]
  },
  {
   "cell_type": "code",
   "execution_count": 30,
   "metadata": {
    "colab": {
     "base_uri": "https://localhost:8080/",
     "height": 121
    },
    "colab_type": "code",
    "id": "vKSUnyU5ISBH",
    "outputId": "fa7039ea-3b60-42c0-fe6f-b10bcaa2e129"
   },
   "outputs": [
    {
     "name": "stdout",
     "output_type": "stream",
     "text": [
      "Topic #0: android id text true view background button app item http\n",
      "Topic #1: string public new return int code function like use method\n",
      "Topic #2: option value time select key php input type id name\n",
      "Topic #3: file error git directory version run find line build http\n",
      "Topic #4: div class id text button type width input form html\n",
      "\n"
     ]
    }
   ],
   "source": [
    "print_top_words(nmf_first_model)"
   ]
  },
  {
   "cell_type": "markdown",
   "metadata": {
    "colab_type": "text",
    "id": "JJMKrz3kISBW"
   },
   "source": [
    "### 2.1 Latent Dirichlet Allocation (LDA) topic model\n",
    "\n",
    "#### 2.1.1 Choice of training data and hyperparameters: perplexity and coherence metrics"
   ]
  },
  {
   "cell_type": "markdown",
   "metadata": {
    "colab_type": "text",
    "id": "Be4OcpeVISBW"
   },
   "source": [
    "Perplexity is essentially a measure of how puzzled a trained model is by previously unseen documents. The core measure here is log-likelihood, which looks at the probability of seeing the content of the unseen documents given the trained model — i.e. does the model generalize? If it doesn’t, the log-likelihood is very low and perplexity ((exp(-1. * log-likelihood per word)) is high. A good model will have low perplexity."
   ]
  },
  {
   "cell_type": "code",
   "execution_count": null,
   "metadata": {
    "colab": {},
    "colab_type": "code",
    "id": "wSS6dz8iISBY"
   },
   "outputs": [],
   "source": [
    "# given a vectorizer and set of data we calculate the perplexity as a function of topics evaluated\n",
    "\n",
    "def lda(vectorizer, data_train, data_test):\n",
    "\n",
    "    ''' Showing the perplexity score for several LDA models with different values\n",
    "    for n_components parameter, and printing the top words for the best LDA model\n",
    "    (the one with the lowest perplexity)\n",
    "    Parameters:\n",
    "    vectorizer: TF-IDF or Bag-of-Words convertizer                                              \n",
    "    data_train: data to fit the model with\n",
    "    data_test: data to test\n",
    "    '''\n",
    "\n",
    "    best_perplexity = np.inf\n",
    "    best_lda = 0\n",
    "    perplexity_list = []\n",
    "    n_topics_list = []\n",
    "    print(\"Extracting term frequency features for LDA...\")\n",
    "\n",
    "    for n_topics in np.linspace(10, 200, 5, dtype='int'):\n",
    "        lda_model = LatentDirichletAllocation(n_components=n_topics, max_iter=5,\n",
    "                                        learning_method='online',\n",
    "                                        learning_offset=50.,\n",
    "                                        random_state=0).fit(data_train)\n",
    "        n_topics_list.append(n_topics)\n",
    "        perplexity = lda_model.perplexity(data_test)\n",
    "        perplexity_list.append(perplexity)\n",
    "\n",
    "        # Perplexity is defined as exp(-1. * log-likelihood per word)\n",
    "        # Perplexity: The smaller the better\n",
    "        if perplexity <= best_perplexity:\n",
    "            best_perplexity = perplexity\n",
    "            best_lda = lda_model\n",
    "                                \n",
    "    plt.title(\"Evolution of perplexity score depending on number of topics\")\n",
    "    plt.xlabel(\"Number of topics\")\n",
    "    plt.ylabel(\"Perplexity\")\n",
    "    plt.plot(n_topics_list, perplexity_list)\n",
    "    plt.show()"
   ]
  },
  {
   "cell_type": "code",
   "execution_count": 32,
   "metadata": {
    "colab": {
     "base_uri": "https://localhost:8080/",
     "height": 330
    },
    "colab_type": "code",
    "id": "l6v46QkhISBc",
    "outputId": "9b3ad32b-87a2-430b-f14c-d6fbbd333067"
   },
   "outputs": [
    {
     "name": "stdout",
     "output_type": "stream",
     "text": [
      "Extracting term frequency features for LDA...\n"
     ]
    },
    {
     "data": {
      "image/png": "[encoded data removed]",
      "text/plain": [
       "<Figure size 432x288 with 1 Axes>"
      ]
     },
     "metadata": {
      "needs_background": "light",
      "tags": []
     },
     "output_type": "display_data"
    },
    {
     "name": "stdout",
     "output_type": "stream",
     "text": [
      "The process took: 0hour:3min:56sec\n"
     ]
    }
   ],
   "source": [
    "process_time_starts()\n",
    "lda(c_vectorizer, X_bag_of_words_train, X_bag_of_words_test)\n",
    "time_elapsed()"
   ]
  },
  {
   "cell_type": "code",
   "execution_count": 33,
   "metadata": {
    "colab": {
     "base_uri": "https://localhost:8080/",
     "height": 330
    },
    "colab_type": "code",
    "id": "07JgkdwyISBg",
    "outputId": "eb5d4e50-c67f-4a6b-99e3-3f62d6f8594d"
   },
   "outputs": [
    {
     "name": "stdout",
     "output_type": "stream",
     "text": [
      "Extracting term frequency features for LDA...\n"
     ]
    },
    {
     "data": {
      "image/png": "[encoded data removed]",
      "text/plain": [
       "<Figure size 432x288 with 1 Axes>"
      ]
     },
     "metadata": {
      "needs_background": "light",
      "tags": []
     },
     "output_type": "display_data"
    },
    {
     "name": "stdout",
     "output_type": "stream",
     "text": [
      "The process took: 0hour:3min:48sec\n"
     ]
    }
   ],
   "source": [
    "process_time_starts()\n",
    "lda(tfidfVectorizer,X_tfidf_train, X_tfidf_test )\n",
    "time_elapsed()"
   ]
  },
  {
   "cell_type": "markdown",
   "metadata": {
    "colab_type": "text",
    "id": "kFMkY12KISBp"
   },
   "source": [
    "#### 2.1.2 Recommendation algorithm based on unsupervised topic modeling\n",
    "Topics are automatically assigned based on word and component weight"
   ]
  },
  {
   "cell_type": "code",
   "execution_count": null,
   "metadata": {
    "colab": {},
    "colab_type": "code",
    "id": "yECudx8BISBq"
   },
   "outputs": [],
   "source": [
    "n_topics = 55 # based on perplexity calculations"
   ]
  },
  {
   "cell_type": "code",
   "execution_count": null,
   "metadata": {
    "colab": {},
    "colab_type": "code",
    "id": "8WVznws_ISBw"
   },
   "outputs": [],
   "source": [
    "def Recommend_tags(text, model):\n",
    "    \n",
    "    ''' Recomendation system for stackoverflow posts based on a lda model, \n",
    "    it returns up to 5 tags.\n",
    "    Parameters:\n",
    "    text: the stackoverflow post of user\n",
    "    data_train: data to fit the model with\n",
    "    '''\n",
    "\n",
    "    threshold = 0.011\n",
    "    list_scores = []\n",
    "    list_words = []\n",
    "    used = set()\n",
    "       \n",
    "    text_tfidf = tfidfVectorizer.transform([text])\n",
    "    text_projection = model.transform(text_tfidf)\n",
    "    feature_names = tfidfVectorizer.get_feature_names()\n",
    "    components = model.components_ / model.components_.sum(axis=1)[:, np.newaxis] # normalization\n",
    "\n",
    "    for topic in range(n_topics):\n",
    "        topic_score = text_projection[0][topic]\n",
    "\n",
    "        for (word_idx, word_score) in zip(components[topic].argsort()[:-5:-1], sorted(components[topic])[:-5:-1]):\n",
    "            score = topic_score*word_score\n",
    "\n",
    "            if score >= threshold:\n",
    "                list_scores.append(score)\n",
    "                list_words.append(feature_names[word_idx])\n",
    "                used.add(feature_names[word_idx])\n",
    "\n",
    "    results = [tag for (y,tag) in sorted(zip(list_scores,list_words), key=lambda pair: pair[0], reverse=True)]\n",
    "    unique_results = [x for x in results if x not in used] # get only unique tags\n",
    "    tags = \" \".join(results[:5])\n",
    "    \n",
    "    return tags"
   ]
  },
  {
   "cell_type": "code",
   "execution_count": null,
   "metadata": {
    "colab": {},
    "colab_type": "code",
    "id": "JpjlSURhISB2"
   },
   "outputs": [],
   "source": [
    "lda_model = LatentDirichletAllocation(n_components=n_topics, max_iter=5,\n",
    "                                        learning_method='online',\n",
    "                                        learning_offset=50.,\n",
    "                                        random_state=0).fit(X_tfidf_train)"
   ]
  },
  {
   "cell_type": "code",
   "execution_count": 37,
   "metadata": {
    "colab": {
     "base_uri": "https://localhost:8080/",
     "height": 34
    },
    "colab_type": "code",
    "id": "lOwbpNo7ISB6",
    "outputId": "fae82895-78b3-4c7c-f4a2-b38038fd424d"
   },
   "outputs": [
    {
     "name": "stdout",
     "output_type": "stream",
     "text": [
      "The process took: 0hour:1min:2sec\n"
     ]
    }
   ],
   "source": [
    "process_time_starts()\n",
    "LDA_tags = [Recommend_tags(text, lda_model) for text in X_test ]\n",
    "time_elapsed()"
   ]
  },
  {
   "cell_type": "code",
   "execution_count": 38,
   "metadata": {
    "colab": {
     "base_uri": "https://localhost:8080/",
     "height": 206
    },
    "colab_type": "code",
    "id": "PKGspy2kISB9",
    "outputId": "95acba29-42d1-4a3b-9b52-220d8bf2a96a"
   },
   "outputs": [
    {
     "data": {
      "text/html": [
       "<div>\n",
       "<style scoped>\n",
       "    .dataframe tbody tr th:only-of-type {\n",
       "        vertical-align: middle;\n",
       "    }\n",
       "\n",
       "    .dataframe tbody tr th {\n",
       "        vertical-align: top;\n",
       "    }\n",
       "\n",
       "    .dataframe thead th {\n",
       "        text-align: right;\n",
       "    }\n",
       "</style>\n",
       "<table border=\"1\" class=\"dataframe\">\n",
       "  <thead>\n",
       "    <tr style=\"text-align: right;\">\n",
       "      <th></th>\n",
       "      <th>Lemma</th>\n",
       "      <th>taglist</th>\n",
       "      <th>LDA_tags</th>\n",
       "    </tr>\n",
       "  </thead>\n",
       "  <tbody>\n",
       "    <tr>\n",
       "      <th>0</th>\n",
       "      <td>['instal', 'libv', 'gem', 'o', '+', 'try', 'in...</td>\n",
       "      <td>gem rubygems osx-mavericks osx-yosemite libv8</td>\n",
       "      <td>android error version method find</td>\n",
       "    </tr>\n",
       "    <tr>\n",
       "      <th>1</th>\n",
       "      <td>['right', 'leave', 'support', 'twitter', 'boot...</td>\n",
       "      <td>css html twitter-bootstrap twitter-bootstrap-3</td>\n",
       "      <td>input test form right python</td>\n",
       "    </tr>\n",
       "    <tr>\n",
       "      <th>2</th>\n",
       "      <td>['operator', 'mysql', 'work', 'code', 'write',...</td>\n",
       "      <td>mysql sql operators spaceship-operator</td>\n",
       "      <td>query mysql error long show</td>\n",
       "    </tr>\n",
       "    <tr>\n",
       "      <th>3</th>\n",
       "      <td>['warn', 'implicit', 'declaration', 'function'...</td>\n",
       "      <td>c compiler-warnings</td>\n",
       "      <td>function list return type open</td>\n",
       "    </tr>\n",
       "    <tr>\n",
       "      <th>4</th>\n",
       "      <td>['exportimport', 'job', 'jenkins', 'possible',...</td>\n",
       "      <td>jenkins</td>\n",
       "      <td>field search element possible create</td>\n",
       "    </tr>\n",
       "  </tbody>\n",
       "</table>\n",
       "</div>"
      ],
      "text/plain": [
       "                                               Lemma  ...                              LDA_tags\n",
       "0  ['instal', 'libv', 'gem', 'o', '+', 'try', 'in...  ...     android error version method find\n",
       "1  ['right', 'leave', 'support', 'twitter', 'boot...  ...          input test form right python\n",
       "2  ['operator', 'mysql', 'work', 'code', 'write',...  ...           query mysql error long show\n",
       "3  ['warn', 'implicit', 'declaration', 'function'...  ...        function list return type open\n",
       "4  ['exportimport', 'job', 'jenkins', 'possible',...  ...  field search element possible create\n",
       "\n",
       "[5 rows x 3 columns]"
      ]
     },
     "execution_count": 38,
     "metadata": {
      "tags": []
     },
     "output_type": "execute_result"
    }
   ],
   "source": [
    "df_xtest = pd.DataFrame(X_test).reset_index()\n",
    "df_ytest = pd.DataFrame(y_test).reset_index()\n",
    "\n",
    "df_test = pd.merge(df_xtest, df_ytest)\n",
    "df_test.drop('index', axis=1, inplace=True)\n",
    "df_test['LDA_tags'] = LDA_tags\n",
    "df_test.head()"
   ]
  },
  {
   "cell_type": "markdown",
   "metadata": {
    "colab_type": "text",
    "id": "FOwKlTvbISCC"
   },
   "source": [
    "#### 2.1.3 Performance evaluation of LDA predictions"
   ]
  },
  {
   "cell_type": "markdown",
   "metadata": {
    "colab_type": "text",
    "id": "DlXsmRjjISCD"
   },
   "source": [
    "##### Baseline: we create a tags vector with a dummy classifier "
   ]
  },
  {
   "cell_type": "code",
   "execution_count": null,
   "metadata": {
    "colab": {},
    "colab_type": "code",
    "id": "MjwpKi56ISCE"
   },
   "outputs": [],
   "source": [
    "# Dummy Classifier (baseline)\n",
    "\n",
    "dummy_clf = DummyClassifier(random_state=0, strategy=\"most_frequent\")\n",
    "\n",
    "model_dummy = dummy_clf.fit(X_tfidf_train, y_train)\n",
    "y_dummy_pred = model_dummy.predict(X_tfidf_test)"
   ]
  },
  {
   "cell_type": "markdown",
   "metadata": {
    "colab_type": "text",
    "id": "DZBZfxDNISCH"
   },
   "source": [
    "##### Cosine similarity as score metrics:\n",
    "\n",
    "Cosine similarity is a measure of similarity between two non-zero vectors of an inner product space that measures the cosine of the angle between them.\n",
    "We have to construct a vector space from all the ‘sentences’ in tags arrays. We do so by using the TF-IDF approach."
   ]
  },
  {
   "cell_type": "code",
   "execution_count": null,
   "metadata": {
    "colab": {},
    "colab_type": "code",
    "id": "3YCclOn6ISCI"
   },
   "outputs": [],
   "source": [
    "y_tfidf_test = tfidfVectorizer.transform(y_test)\n",
    "y_tfidf_LDA = tfidfVectorizer.transform(LDA_tags)\n",
    "y_tfidf_dummy = tfidfVectorizer.transform(y_dummy_pred)\n",
    "#print(y_tfidf_test.shape, y_tfidf_LDA.shape, y_tfidf_dummy.shape)"
   ]
  },
  {
   "cell_type": "markdown",
   "metadata": {
    "colab_type": "text",
    "id": "T0nLMDBNISCM"
   },
   "source": [
    "##### Verify scores"
   ]
  },
  {
   "cell_type": "code",
   "execution_count": 41,
   "metadata": {
    "colab": {
     "base_uri": "https://localhost:8080/",
     "height": 52
    },
    "colab_type": "code",
    "id": "SX0PXCVsISCM",
    "outputId": "fecece21-d76c-40fe-95c6-08fb0f199f0e"
   },
   "outputs": [
    {
     "name": "stdout",
     "output_type": "stream",
     "text": [
      "Dummy score: [[0.0548299]]\n",
      "LDA score: [[0.16075379]]\n"
     ]
    }
   ],
   "source": [
    "# Cosine similarity varies between 0 and 1.\n",
    "# If the predicted tags are exactly the same as those given by stackoverflow, cosine similarity is = 1\n",
    "#  to have one number we need reshaping 1D vectors representing tags, as 2D vectors(-1,1)\n",
    "print('Dummy score:',cosine_similarity(y_tfidf_test.reshape(1,-1), y_tfidf_dummy.reshape(1,-1))) \n",
    "print('LDA score:',cosine_similarity(y_tfidf_test.reshape(1,-1), y_tfidf_LDA.reshape(1,-1)))"
   ]
  },
  {
   "cell_type": "code",
   "execution_count": null,
   "metadata": {
    "colab": {},
    "colab_type": "code",
    "id": "UX1FUGcuxlhW"
   },
   "outputs": [],
   "source": [
    "y_LDA_bin = one_hot.fit_transform(df_test['LDA_tags'])\n",
    "#jaccard_score(y_test_bin,y_LDA_bin, average='macro') #jaccard_score doesn't work: Multi-label binary indicator input with different numbers of labels"
   ]
  },
  {
   "cell_type": "markdown",
   "metadata": {
    "colab_type": "text",
    "id": "WrloSJlZISCS"
   },
   "source": [
    "### 2.2 Tags reccommendation with non-negative matrix factorization(NMF) topic modelling"
   ]
  },
  {
   "cell_type": "code",
   "execution_count": null,
   "metadata": {
    "colab": {},
    "colab_type": "code",
    "id": "JOh5--5wISCS"
   },
   "outputs": [],
   "source": [
    "nmf_model = NMF(n_components=n_topics, random_state=1,\n",
    "          alpha=.1, l1_ratio=.5).fit(X_tfidf_train)"
   ]
  },
  {
   "cell_type": "code",
   "execution_count": 44,
   "metadata": {
    "colab": {
     "base_uri": "https://localhost:8080/",
     "height": 34
    },
    "colab_type": "code",
    "id": "a88emROVISCW",
    "outputId": "b74ad4ae-876c-4593-8d0e-e28ef37cb6c2"
   },
   "outputs": [
    {
     "name": "stdout",
     "output_type": "stream",
     "text": [
      "The process took: 0hour:1min:1sec\n"
     ]
    }
   ],
   "source": [
    "process_time_starts()\n",
    "NMF_tags = [Recommend_tags(text, nmf_model) for text in X_test ]\n",
    "time_elapsed()"
   ]
  },
  {
   "cell_type": "code",
   "execution_count": 45,
   "metadata": {
    "colab": {
     "base_uri": "https://localhost:8080/",
     "height": 206
    },
    "colab_type": "code",
    "id": "-FUttuXwISCb",
    "outputId": "9a3ebfbc-4679-4ab1-b44e-5e97d55d61a3"
   },
   "outputs": [
    {
     "data": {
      "text/html": [
       "<div>\n",
       "<style scoped>\n",
       "    .dataframe tbody tr th:only-of-type {\n",
       "        vertical-align: middle;\n",
       "    }\n",
       "\n",
       "    .dataframe tbody tr th {\n",
       "        vertical-align: top;\n",
       "    }\n",
       "\n",
       "    .dataframe thead th {\n",
       "        text-align: right;\n",
       "    }\n",
       "</style>\n",
       "<table border=\"1\" class=\"dataframe\">\n",
       "  <thead>\n",
       "    <tr style=\"text-align: right;\">\n",
       "      <th></th>\n",
       "      <th>Lemma</th>\n",
       "      <th>taglist</th>\n",
       "      <th>LDA_tags</th>\n",
       "      <th>NMF_tags</th>\n",
       "    </tr>\n",
       "  </thead>\n",
       "  <tbody>\n",
       "    <tr>\n",
       "      <th>0</th>\n",
       "      <td>['instal', 'libv', 'gem', 'o', '+', 'try', 'in...</td>\n",
       "      <td>gem rubygems osx-mavericks osx-yosemite libv8</td>\n",
       "      <td>android error version method find</td>\n",
       "      <td>error package compile build install</td>\n",
       "    </tr>\n",
       "    <tr>\n",
       "      <th>1</th>\n",
       "      <td>['right', 'leave', 'support', 'twitter', 'boot...</td>\n",
       "      <td>css html twitter-bootstrap twitter-bootstrap-3</td>\n",
       "      <td>input test form right python</td>\n",
       "      <td>project</td>\n",
       "    </tr>\n",
       "    <tr>\n",
       "      <th>2</th>\n",
       "      <td>['operator', 'mysql', 'work', 'code', 'write',...</td>\n",
       "      <td>mysql sql operators spaceship-operator</td>\n",
       "      <td>query mysql error long show</td>\n",
       "      <td>error null select exception table</td>\n",
       "    </tr>\n",
       "    <tr>\n",
       "      <th>3</th>\n",
       "      <td>['warn', 'implicit', 'declaration', 'function'...</td>\n",
       "      <td>c compiler-warnings</td>\n",
       "      <td>function list return type open</td>\n",
       "      <td>function return</td>\n",
       "    </tr>\n",
       "    <tr>\n",
       "      <th>4</th>\n",
       "      <td>['exportimport', 'job', 'jenkins', 'possible',...</td>\n",
       "      <td>jenkins</td>\n",
       "      <td>field search element possible create</td>\n",
       "      <td></td>\n",
       "    </tr>\n",
       "  </tbody>\n",
       "</table>\n",
       "</div>"
      ],
      "text/plain": [
       "                                               Lemma  ...                             NMF_tags\n",
       "0  ['instal', 'libv', 'gem', 'o', '+', 'try', 'in...  ...  error package compile build install\n",
       "1  ['right', 'leave', 'support', 'twitter', 'boot...  ...                              project\n",
       "2  ['operator', 'mysql', 'work', 'code', 'write',...  ...    error null select exception table\n",
       "3  ['warn', 'implicit', 'declaration', 'function'...  ...                      function return\n",
       "4  ['exportimport', 'job', 'jenkins', 'possible',...  ...                                     \n",
       "\n",
       "[5 rows x 4 columns]"
      ]
     },
     "execution_count": 45,
     "metadata": {
      "tags": []
     },
     "output_type": "execute_result"
    }
   ],
   "source": [
    "df_test['NMF_tags'] = NMF_tags\n",
    "df_test.head()"
   ]
  },
  {
   "cell_type": "code",
   "execution_count": 46,
   "metadata": {
    "colab": {
     "base_uri": "https://localhost:8080/",
     "height": 52
    },
    "colab_type": "code",
    "id": "oll30ONGISCh",
    "outputId": "d77c029e-b89c-46c3-aeb4-c86fc106af7f"
   },
   "outputs": [
    {
     "name": "stdout",
     "output_type": "stream",
     "text": [
      "Dummy score: [[0.0548299]]\n",
      "NMF score: [[0.16902996]]\n"
     ]
    }
   ],
   "source": [
    "y_tfidf_NMF = tfidfVectorizer.transform(NMF_tags)\n",
    "print('Dummy score:',cosine_similarity(y_tfidf_test.reshape(1,-1), y_tfidf_dummy.reshape(1,-1))) \n",
    "print('NMF score:',cosine_similarity(y_tfidf_test.reshape(1,-1), y_tfidf_NMF.reshape(1,-1)))"
   ]
  },
  {
   "cell_type": "markdown",
   "metadata": {
    "colab_type": "text",
    "id": "pwqaUeeWISCk"
   },
   "source": [
    "## 3. Supervised topic modeling"
   ]
  },
  {
   "cell_type": "markdown",
   "metadata": {
    "colab_type": "text",
    "id": "zuYcNVPYISCl"
   },
   "source": [
    "To evaluate the supervised training models, I'll use the Jaccard score since it's the best fitted for multi label classification. \n",
    "https://en.wikipedia.org/wiki/Multi-label_classification#Statistics_and_evaluation_metrics"
   ]
  },
  {
   "cell_type": "code",
   "execution_count": null,
   "metadata": {
    "colab": {},
    "colab_type": "code",
    "id": "boheaXGPISCm"
   },
   "outputs": [],
   "source": [
    "def print_score(y_pred, clf):\n",
    "    \n",
    "    print(\"Clf: \", clf.__class__.__name__)\n",
    "    print(\"Jaccard score: {}\".format(jaccard_score(y_test_bin, y_pred, average='samples'))) # measure of similarity for the two sets of data. Average is set to \"samples\" since is between two multilabeled\n",
    "    print(\"Hamming loss: {}\".format((hamming_loss(y_pred, y_test_bin)))) #% of the wrong labels to the total number of labels\n",
    "       \n",
    "    print(\"---\")    "
   ]
  },
  {
   "cell_type": "markdown",
   "metadata": {
    "colab_type": "text",
    "id": "gW9iEoQmISCq"
   },
   "source": [
    "### 3.1 Evaluate several classifiers"
   ]
  },
  {
   "cell_type": "code",
   "execution_count": 113,
   "metadata": {
    "colab": {
     "base_uri": "https://localhost:8080/",
     "height": 404
    },
    "colab_type": "code",
    "id": "QV2-BhVGCsJ8",
    "outputId": "a3d21291-b35f-4c2a-d197-5d7271f7fee6"
   },
   "outputs": [
    {
     "data": {
      "image/png": "[encoded data removed]",
      "text/plain": [
       "<Figure size 576x432 with 1 Axes>"
      ]
     },
     "metadata": {
      "needs_background": "light",
      "tags": []
     },
     "output_type": "display_data"
    }
   ],
   "source": [
    "#scaler = StandardScaler()\n",
    "#X_tfidf_train_std = scaler.fit_transform(X_tfidf_train)\n",
    "\n",
    "\n",
    "X_train_pca = PCA().fit(X_tfidf_train)\n",
    "\n",
    "fig, ax = plt.subplots(figsize=(8,6))\n",
    "\n",
    "x_values = range(1, X_train_pca.n_components_+1)\n",
    "\n",
    "ax.plot(x_values, X_train_pca.explained_variance_ratio_, lw=2, label='explained variance')\n",
    "ax.plot(x_values, np.cumsum(X_train_pca.explained_variance_ratio_), lw=2, label='cumulative explained variance')\n",
    "ax.set_title('TF-IDF : explained variance of components')\n",
    "ax.set_xlabel('principal component')\n",
    "ax.set_ylabel('explained variance')\n",
    "plt.legend()\n",
    "plt.show()"
   ]
  },
  {
   "cell_type": "code",
   "execution_count": 49,
   "metadata": {
    "colab": {
     "base_uri": "https://localhost:8080/",
     "height": 34
    },
    "colab_type": "code",
    "id": "MZPl-2uIDmmq",
    "outputId": "d6882045-7d28-4d75-b58d-369a73538240"
   },
   "outputs": [
    {
     "name": "stdout",
     "output_type": "stream",
     "text": [
      "(29740, 100) (7435, 100)\n"
     ]
    }
   ],
   "source": [
    "pca = PCA(n_components=100)\n",
    "\n",
    "\n",
    "X_PCA_train = pca.fit_transform(X_tfidf_train)\n",
    "X_PCA_test = pca.fit_transform(X_tfidf_test)\n",
    "\n",
    "print(X_PCA_train.shape, X_PCA_test.shape)"
   ]
  },
  {
   "cell_type": "code",
   "execution_count": 60,
   "metadata": {
    "colab": {
     "base_uri": "https://localhost:8080/",
     "height": 851
    },
    "colab_type": "code",
    "id": "6AuqFHqyxliE",
    "outputId": "c5fb34b7-6894-415c-e36e-ef7e6656b34e"
   },
   "outputs": [
    {
     "name": "stdout",
     "output_type": "stream",
     "text": [
      "fit running....\n",
      "time up\n",
      "The process took: 0hour:0min:0sec\n",
      "Clf:  DummyClassifier\n",
      "Jaccard score: 0.0\n",
      "Hamming loss: 0.01949058507061197\n",
      "---\n",
      "---\n",
      "fit running....\n",
      "time up\n",
      "The process took: 0hour:1min:57sec\n",
      "Clf:  LogisticRegression\n",
      "Jaccard score: 0.22558495839994316\n",
      "Hamming loss: 0.010764963012777405\n",
      "---\n",
      "---\n",
      "fit running....\n",
      "time up\n",
      "The process took: 0hour:1min:43sec\n",
      "Clf:  LinearSVC\n",
      "Jaccard score: 0.2210453826801388\n",
      "Hamming loss: 0.011376933422999327\n",
      "---\n",
      "---\n",
      "fit running....\n",
      "time up\n",
      "The process took: 0hour:0min:3sec\n",
      "Clf:  MultinomialNB\n",
      "Jaccard score: 0.13948540894659187\n",
      "Hamming loss: 0.08180228648285137\n",
      "---\n",
      "---\n",
      "fit running....\n",
      "time up\n",
      "The process took: 0hour:0min:14sec\n",
      "Clf:  Perceptron\n",
      "Jaccard score: 0.2309532167574416\n",
      "Hamming loss: 0.014603227975790181\n",
      "---\n",
      "---\n",
      "fit running....\n",
      "time up\n",
      "The process took: 0hour:0min:15sec\n",
      "Clf:  PassiveAggressiveClassifier\n",
      "Jaccard score: 0.200898117600321\n",
      "Hamming loss: 0.017215870880968393\n",
      "---\n",
      "---\n"
     ]
    }
   ],
   "source": [
    "lr = LogisticRegression()\n",
    "sgd = SGDClassifier() # stochastic gradient descent (SGD) learning\n",
    "mn = MultinomialNB() # naive Bayes algorithm for multinomially distributed data,\n",
    "svc = LinearSVC()\n",
    "perceptron = Perceptron()\n",
    "pac = PassiveAggressiveClassifier() # Passive: if correct classification, keep the model; Aggressive: if incorrect classification, update to adjust to this misclassified example.\n",
    "\n",
    "\n",
    "classifiers_list = [dummy_clf,lr, svc, mn, perceptron, pac]\n",
    "classifiers_jaccard_scores = []\n",
    "classifiers_hamming_losses = []\n",
    "\n",
    "for classifier in classifiers_list:\n",
    "    process_time_starts()\n",
    "    \n",
    "    clf = OneVsRestClassifier(classifier)\n",
    "    print(\"fit running....\")\n",
    "    clf.fit(X_tfidf_train, y_train_bin)\n",
    "    y_pred = clf.predict(X_tfidf_test)\n",
    "    classifiers_jaccard_scores.append(jaccard_score(y_test_bin, y_pred, average='weighted'))\n",
    "    classifiers_hamming_losses.append((hamming_loss(y_pred, y_test_bin)))\n",
    "    \n",
    "    print(\"time up\")\n",
    "    time_elapsed()\n",
    "    print_score(y_pred, classifier)\n",
    "    \n",
    "    print(\"---\")"
   ]
  },
  {
   "cell_type": "code",
   "execution_count": 51,
   "metadata": {
    "colab": {
     "base_uri": "https://localhost:8080/",
     "height": 712
    },
    "colab_type": "code",
    "id": "fzbOwmcDD5is",
    "outputId": "95063dc9-05d0-469a-fee6-910326c44946"
   },
   "outputs": [
    {
     "name": "stdout",
     "output_type": "stream",
     "text": [
      "time up\n",
      "The process took: 0hour:0min:0sec\n",
      "score after PCA\n",
      "Clf:  DummyClassifier\n",
      "Jaccard score: 0.0\n",
      "Hamming loss: 0.01949058507061197\n",
      "---\n",
      "---\n",
      "time up\n",
      "The process took: 0hour:1min:0sec\n",
      "score after PCA\n",
      "Clf:  LogisticRegression\n",
      "Jaccard score: 0.024261200080783023\n",
      "Hamming loss: 0.049272024209818424\n",
      "---\n",
      "---\n",
      "time up\n",
      "The process took: 0hour:13min:15sec\n",
      "score after PCA\n",
      "Clf:  LinearSVC\n",
      "Jaccard score: 0.023934672809056354\n",
      "Hamming loss: 0.043419636852723605\n",
      "---\n",
      "---\n",
      "time up\n",
      "The process took: 0hour:0min:9sec\n",
      "score after PCA\n",
      "Clf:  Perceptron\n",
      "Jaccard score: 0.021612239089599725\n",
      "Hamming loss: 0.11909381304640215\n",
      "---\n",
      "---\n",
      "time up\n",
      "The process took: 0hour:0min:11sec\n",
      "score after PCA\n",
      "Clf:  PassiveAggressiveClassifier\n",
      "Jaccard score: 0.030782970129671423\n",
      "Hamming loss: 0.049191324815063886\n",
      "---\n",
      "---\n"
     ]
    }
   ],
   "source": [
    "lr = LogisticRegression()\n",
    "sgd = SGDClassifier() # stochastic gradient descent (SGD) learning\n",
    "mn = MultinomialNB() # naive Bayes algorithm for multinomially distributed data,\n",
    "svc = LinearSVC()\n",
    "perceptron = Perceptron()\n",
    "pac = PassiveAggressiveClassifier() # Passive: if correct classification, keep the model; Aggressive: if incorrect classification, update to adjust to this misclassified example.\n",
    "\n",
    "\n",
    "classifiers_list = [dummy_clf,lr, svc, perceptron, pac]\n",
    "\n",
    "\n",
    "for classifier in classifiers_list:\n",
    "    process_time_starts()\n",
    "    \n",
    "    clf = OneVsRestClassifier(classifier)\n",
    "    clf.fit(X_PCA_train, y_train_bin)\n",
    "    y_pred = clf.predict(X_PCA_test)\n",
    "    #classifiers_jaccard_scores.append(jaccard_score(y_test_bin, y_pred, average='weighted'))\n",
    "    #classifiers_hamming_losses.append((hamming_loss(y_pred, y_test_bin)))\n",
    "    print(\"time up\")\n",
    "    time_elapsed()\n",
    "    print('score after PCA')\n",
    "    print_score(y_pred, classifier)\n",
    "        \n",
    "    print(\"---\")"
   ]
  },
  {
   "cell_type": "markdown",
   "metadata": {
    "colab_type": "text",
    "id": "B9UKsEI4PxUy"
   },
   "source": [
    "Find optimal number of neighbors for KNN Classifier"
   ]
  },
  {
   "cell_type": "code",
   "execution_count": 52,
   "metadata": {
    "colab": {
     "base_uri": "https://localhost:8080/",
     "height": 52
    },
    "colab_type": "code",
    "id": "8f4mkt5xISCr",
    "outputId": "8598363a-be3a-48a8-c44a-8bd5a3fd427e"
   },
   "outputs": [
    {
     "name": "stdout",
     "output_type": "stream",
     "text": [
      "The process took: 0hour:13min:0sec\n",
      "the number K of neighbors that returns highest score is:  10\n"
     ]
    }
   ],
   "source": [
    "process_time_starts()\n",
    "\n",
    "Jaccard_KNN =[]\n",
    "Hamming_KNN = []\n",
    "for n in range(2,60,8):\n",
    "    knn = KNeighborsClassifier(n_neighbors = n)\n",
    "    knn_clf = knn.fit(X_tfidf_train, y_train_bin)\n",
    "    y_pred = knn_clf.predict(X_tfidf_test)\n",
    "    Jaccard_KNN.append(jaccard_score(y_test_bin, y_pred, average='samples'))\n",
    "    Hamming_KNN.append(hamming_loss(y_pred, y_test_bin))\n",
    "\n",
    "time_elapsed()\n",
    "\n",
    "KNN_range = np.arange(2,60,8)\n",
    "df_KNN = pd.DataFrame(KNN_range, columns = ['range'])\n",
    "df_KNN['Jaccard_score'] = Jaccard_KNN\n",
    "df_KNN['Hamming_loss'] = Hamming_KNN\n",
    "\n",
    "neighbors_max = df_KNN.iloc[df_KNN['Jaccard_score'].argmax(), 0] # the number K of neighbors that returns highest score \n",
    "print(\"the number K of neighbors that returns highest score is: \",neighbors_max)\n"
   ]
  },
  {
   "cell_type": "code",
   "execution_count": 61,
   "metadata": {
    "colab": {
     "base_uri": "https://localhost:8080/",
     "height": 34
    },
    "colab_type": "code",
    "id": "9_OAXxb5xliO",
    "outputId": "dcc46c3c-ab28-4ea3-c190-24f58121f959"
   },
   "outputs": [
    {
     "name": "stdout",
     "output_type": "stream",
     "text": [
      "The process took: 0hour:1min:39sec\n"
     ]
    }
   ],
   "source": [
    "process_time_starts()\n",
    "knn = KNeighborsClassifier(n_neighbors = 10) # KNN optimized\n",
    "knn_clf = knn.fit(X_tfidf_train, y_train_bin)\n",
    "y_pred_KNN = knn_clf.predict(X_tfidf_test)\n",
    "time_elapsed()\n",
    "classifiers_jaccard_scores.append(jaccard_score(y_test_bin, y_pred_KNN, average='weighted'))\n",
    "classifiers_hamming_losses.append((hamming_loss(y_pred_KNN, y_test_bin)))\n",
    "classifiers_list.append('KNN')"
   ]
  },
  {
   "cell_type": "code",
   "execution_count": 66,
   "metadata": {
    "colab": {
     "base_uri": "https://localhost:8080/",
     "height": 69
    },
    "colab_type": "code",
    "id": "qcsS9NDgPH0P",
    "outputId": "dbb08444-6dea-40bc-ac2b-0a6744df0b8a"
   },
   "outputs": [
    {
     "name": "stdout",
     "output_type": "stream",
     "text": [
      "(7435, 80) (7435, 80)\n",
      "KNN score =  0.3419666669929801\n",
      "KNN loss =  0.01347511768661735\n"
     ]
    }
   ],
   "source": [
    "print(y_pred_KNN.shape, y_test_bin.shape)\n",
    "print('KNN score = ', jaccard_score(y_test_bin, y_pred_KNN, average='weighted'))\n",
    "print('KNN loss = ', hamming_loss(y_pred_KNN, y_test_bin))"
   ]
  },
  {
   "cell_type": "markdown",
   "metadata": {
    "colab_type": "text",
    "id": "nUNMxSfnP5NJ"
   },
   "source": [
    "Run Random Forest Classifier"
   ]
  },
  {
   "cell_type": "code",
   "execution_count": 63,
   "metadata": {
    "colab": {
     "base_uri": "https://localhost:8080/",
     "height": 34
    },
    "colab_type": "code",
    "id": "HMsEWsEixliT",
    "outputId": "9367572a-9249-40cd-cf6f-1a1be3a932ba"
   },
   "outputs": [
    {
     "name": "stdout",
     "output_type": "stream",
     "text": [
      "The process took: 0hour:1min:24sec\n"
     ]
    }
   ],
   "source": [
    "process_time_starts()\n",
    "rf = RandomForestClassifier(max_depth=None, random_state=42, n_jobs = -1, n_estimators=100)#, bootstrap = False, max_depth= None, max_features= 56, min_samples_split= 11, n_estimators= 100)\n",
    "rf_clf = rf.fit(X_tfidf_train, y_train_bin)\n",
    "\n",
    "time_elapsed()\n"
   ]
  },
  {
   "cell_type": "code",
   "execution_count": null,
   "metadata": {
    "colab": {},
    "colab_type": "code",
    "id": "c0FeCypzfLGY"
   },
   "outputs": [],
   "source": [
    "# apply the trained random forest model\n",
    "y_pred_RF = rf_clf.predict(X_tfidf_test)"
   ]
  },
  {
   "cell_type": "code",
   "execution_count": 65,
   "metadata": {
    "colab": {
     "base_uri": "https://localhost:8080/",
     "height": 69
    },
    "colab_type": "code",
    "id": "HSJZY2dYsz8y",
    "outputId": "063d2fec-280f-40ff-83c9-b973aabb01ab"
   },
   "outputs": [
    {
     "name": "stdout",
     "output_type": "stream",
     "text": [
      "(7435, 80) (7435, 80)\n",
      "random forest score =  0.5354636561711135\n",
      "random forest loss =  0.009821788836583726\n"
     ]
    }
   ],
   "source": [
    "print(y_pred_RF.shape, y_test_bin.shape)\n",
    "print('random forest score = ', jaccard_score(y_test_bin, y_pred_RF, average='weighted'))\n",
    "print('random forest loss = ', hamming_loss(y_pred_RF, y_test_bin))"
   ]
  },
  {
   "cell_type": "code",
   "execution_count": null,
   "metadata": {
    "colab": {},
    "colab_type": "code",
    "id": "b54hDqwygwL8"
   },
   "outputs": [],
   "source": [
    "classifiers_jaccard_scores.append(jaccard_score(y_test_bin, y_pred_RF, average='weighted'))\n",
    "classifiers_hamming_losses.append((hamming_loss(y_pred_RF, y_test_bin)))"
   ]
  },
  {
   "cell_type": "code",
   "execution_count": 100,
   "metadata": {
    "colab": {
     "base_uri": "https://localhost:8080/",
     "height": 69
    },
    "colab_type": "code",
    "id": "Q-Lp9zKAXi35",
    "outputId": "1cf2c58c-3b1f-47ec-8564-48de37481bac"
   },
   "outputs": [
    {
     "name": "stdout",
     "output_type": "stream",
     "text": [
      "8\n",
      "8\n",
      "8\n"
     ]
    }
   ],
   "source": [
    "print(len(classifiers_list))\n",
    "print(len(classifiers_jaccard_scores))\n",
    "print(len(classifiers_hamming_losses))"
   ]
  },
  {
   "cell_type": "code",
   "execution_count": 71,
   "metadata": {
    "colab": {
     "base_uri": "https://localhost:8080/",
     "height": 318
    },
    "colab_type": "code",
    "id": "M8xJ6O2B_9ht",
    "outputId": "870d4cc0-14da-41bd-df70-c3dd13e36b3d"
   },
   "outputs": [
    {
     "name": "stdout",
     "output_type": "stream",
     "text": [
      "The best classifier among those tested is:  Random Forest Classifier\n"
     ]
    },
    {
     "data": {
      "text/html": [
       "<div>\n",
       "<style scoped>\n",
       "    .dataframe tbody tr th:only-of-type {\n",
       "        vertical-align: middle;\n",
       "    }\n",
       "\n",
       "    .dataframe tbody tr th {\n",
       "        vertical-align: top;\n",
       "    }\n",
       "\n",
       "    .dataframe thead th {\n",
       "        text-align: right;\n",
       "    }\n",
       "</style>\n",
       "<table border=\"1\" class=\"dataframe\">\n",
       "  <thead>\n",
       "    <tr style=\"text-align: right;\">\n",
       "      <th></th>\n",
       "      <th>classifiers</th>\n",
       "      <th>Jaccard_score</th>\n",
       "      <th>Hamming_loss</th>\n",
       "    </tr>\n",
       "  </thead>\n",
       "  <tbody>\n",
       "    <tr>\n",
       "      <th>7</th>\n",
       "      <td>Random Forest Classifier</td>\n",
       "      <td>0.535464</td>\n",
       "      <td>0.009822</td>\n",
       "    </tr>\n",
       "    <tr>\n",
       "      <th>1</th>\n",
       "      <td>Logistic Regression</td>\n",
       "      <td>0.518062</td>\n",
       "      <td>0.010765</td>\n",
       "    </tr>\n",
       "    <tr>\n",
       "      <th>2</th>\n",
       "      <td>Multinomial Naive Bayes</td>\n",
       "      <td>0.509762</td>\n",
       "      <td>0.011377</td>\n",
       "    </tr>\n",
       "    <tr>\n",
       "      <th>6</th>\n",
       "      <td>K-Neighbors Classifier</td>\n",
       "      <td>0.341967</td>\n",
       "      <td>0.013475</td>\n",
       "    </tr>\n",
       "    <tr>\n",
       "      <th>4</th>\n",
       "      <td>Perceptron</td>\n",
       "      <td>0.483191</td>\n",
       "      <td>0.014603</td>\n",
       "    </tr>\n",
       "    <tr>\n",
       "      <th>5</th>\n",
       "      <td>PassiveAggressiveClassifier</td>\n",
       "      <td>0.446298</td>\n",
       "      <td>0.017216</td>\n",
       "    </tr>\n",
       "    <tr>\n",
       "      <th>0</th>\n",
       "      <td>Dummy Classifier</td>\n",
       "      <td>0.000000</td>\n",
       "      <td>0.019491</td>\n",
       "    </tr>\n",
       "    <tr>\n",
       "      <th>3</th>\n",
       "      <td>LinearSVC</td>\n",
       "      <td>0.342539</td>\n",
       "      <td>0.081802</td>\n",
       "    </tr>\n",
       "  </tbody>\n",
       "</table>\n",
       "</div>"
      ],
      "text/plain": [
       "                   classifiers  Jaccard_score  Hamming_loss\n",
       "7     Random Forest Classifier       0.535464      0.009822\n",
       "1          Logistic Regression       0.518062      0.010765\n",
       "2      Multinomial Naive Bayes       0.509762      0.011377\n",
       "6       K-Neighbors Classifier       0.341967      0.013475\n",
       "4                   Perceptron       0.483191      0.014603\n",
       "5  PassiveAggressiveClassifier       0.446298      0.017216\n",
       "0             Dummy Classifier       0.000000      0.019491\n",
       "3                    LinearSVC       0.342539      0.081802"
      ]
     },
     "execution_count": 71,
     "metadata": {
      "tags": []
     },
     "output_type": "execute_result"
    }
   ],
   "source": [
    "classifiers_list =['Dummy Classifier', 'Logistic Regression', 'Multinomial Naive Bayes', 'LinearSVC','Perceptron', 'PassiveAggressiveClassifier', 'K-Neighbors Classifier', \"Random Forest Classifier\"]\n",
    "df_clf = pd.DataFrame(classifiers_list, columns = ['classifiers'])\n",
    "df_clf['Jaccard_score'] = classifiers_jaccard_scores\n",
    "df_clf['Hamming_loss'] = classifiers_hamming_losses\n",
    "df_clf = df_clf.sort_values(by=['Hamming_loss'])\n",
    "best_classifier = df_clf.iloc[df_clf['Jaccard_score'].argmax(), 0]\n",
    "print('The best classifier among those tested is: ',best_classifier)\n",
    "df_clf"
   ]
  },
  {
   "cell_type": "code",
   "execution_count": 74,
   "metadata": {
    "colab": {
     "base_uri": "https://localhost:8080/",
     "height": 867
    },
    "colab_type": "code",
    "id": "N2FayfFaxliw",
    "outputId": "d293b022-e11a-4432-ba89-ec5f92fcb742"
   },
   "outputs": [
    {
     "data": {
      "text/plain": [
       "[]"
      ]
     },
     "execution_count": 74,
     "metadata": {
      "tags": []
     },
     "output_type": "execute_result"
    },
    {
     "data": {
      "image/png": "[encoded data removed]",
      "text/plain": [
       "<Figure size 432x864 with 2 Axes>"
      ]
     },
     "metadata": {
      "needs_background": "light",
      "tags": []
     },
     "output_type": "display_data"
    }
   ],
   "source": [
    "plt.figure(figsize=(6, 12))\n",
    "plt.subplot(211)\n",
    "plt.bar(df_clf['classifiers'],df_clf['Jaccard_score'], color = 'k')\n",
    "plt.ylabel('Jaccard_score',fontsize = 14)\n",
    "plt.ylim((0.1, 0.6))   # set the ylim to bottom, top\n",
    "plt.xticks(df_clf['classifiers'],\" \")\n",
    "\n",
    "plt.subplot(212)\n",
    "plt.bar(df_clf['classifiers'],df_clf['Hamming_loss'], color = 'r') \n",
    "plt.ylabel('Hamming_loss',fontsize = 14)\n",
    "#plt.ylim((0.1, 0.3))\n",
    "plt.xlabel('Classifier', fontsize = 14)\n",
    "plt.xticks(rotation=90)\n",
    "plt.plot()"
   ]
  },
  {
   "cell_type": "code",
   "execution_count": 77,
   "metadata": {
    "colab": {
     "base_uri": "https://localhost:8080/",
     "height": 135
    },
    "colab_type": "code",
    "id": "g2wurQ7KYGR1",
    "outputId": "f6da598c-38aa-4bed-dbbf-ef164b6627ad"
   },
   "outputs": [
    {
     "data": {
      "text/html": [
       "<div>\n",
       "<style scoped>\n",
       "    .dataframe tbody tr th:only-of-type {\n",
       "        vertical-align: middle;\n",
       "    }\n",
       "\n",
       "    .dataframe tbody tr th {\n",
       "        vertical-align: top;\n",
       "    }\n",
       "\n",
       "    .dataframe thead th {\n",
       "        text-align: right;\n",
       "    }\n",
       "</style>\n",
       "<table border=\"1\" class=\"dataframe\">\n",
       "  <thead>\n",
       "    <tr style=\"text-align: right;\">\n",
       "      <th></th>\n",
       "      <th>java</th>\n",
       "      <th>c++</th>\n",
       "      <th>performance</th>\n",
       "      <th>optimization</th>\n",
       "      <th>branch-prediction</th>\n",
       "      <th>git</th>\n",
       "      <th>version-control</th>\n",
       "      <th>git-commit</th>\n",
       "      <th>undo</th>\n",
       "      <th>pre-commit</th>\n",
       "      <th>git</th>\n",
       "      <th>version-control</th>\n",
       "      <th>git-branch</th>\n",
       "      <th>git-push</th>\n",
       "      <th>git-remote</th>\n",
       "      <th>git</th>\n",
       "      <th>version-control</th>\n",
       "      <th>git-pull</th>\n",
       "      <th>git-fetch</th>\n",
       "      <th>json</th>\n",
       "      <th>http-headers</th>\n",
       "      <th>content-type</th>\n",
       "      <th>python</th>\n",
       "      <th>iterator</th>\n",
       "      <th>generator</th>\n",
       "      <th>yield</th>\n",
       "      <th>coroutine</th>\n",
       "      <th>git</th>\n",
       "      <th>version-control</th>\n",
       "      <th>git-commit</th>\n",
       "      <th>git-stage</th>\n",
       "      <th>c++</th>\n",
       "      <th>c</th>\n",
       "      <th>operators</th>\n",
       "      <th>code-formatting</th>\n",
       "      <th>standards-compliance</th>\n",
       "      <th>git</th>\n",
       "      <th>version-control</th>\n",
       "      <th>git-branch</th>\n",
       "      <th>javascript</th>\n",
       "      <th>arrays</th>\n",
       "      <th>memory-management</th>\n",
       "      <th>stack</th>\n",
       "      <th>language-agnostic</th>\n",
       "      <th>heap</th>\n",
       "      <th>dynamic-memory-allocation</th>\n",
       "      <th>javascript</th>\n",
       "      <th>jquery</th>\n",
       "      <th>redirect</th>\n",
       "      <th>javascript</th>\n",
       "      <th>jquery</th>\n",
       "      <th>dom</th>\n",
       "      <th>visibility</th>\n",
       "      <th>git</th>\n",
       "      <th>git-commit</th>\n",
       "      <th>git-rewrite-history</th>\n",
       "      <th>amend</th>\n",
       "      <th>javascript</th>\n",
       "      <th>function</th>\n",
       "      <th>variables</th>\n",
       "      <th>scope</th>\n",
       "      <th>closures</th>\n",
       "      <th>git</th>\n",
       "      <th>git-checkout</th>\n",
       "      <th>git-reset</th>\n",
       "      <th>git-revert</th>\n",
       "      <th>json</th>\n",
       "      <th>comments</th>\n",
       "      <th>javascript</th>\n",
       "      <th>syntax</th>\n",
       "      <th>jslint</th>\n",
       "      <th>use-strict</th>\n",
       "      <th>html</th>\n",
       "      <th>browser</th>\n",
       "      <th>background-color</th>\n",
       "      <th>javascript</th>\n",
       "      <th>string</th>\n",
       "      <th>substring</th>\n",
       "      <th>string-matching</th>\n",
       "      <th>git</th>\n",
       "    </tr>\n",
       "  </thead>\n",
       "  <tbody>\n",
       "    <tr>\n",
       "      <th>0</th>\n",
       "      <td>0</td>\n",
       "      <td>0</td>\n",
       "      <td>0</td>\n",
       "      <td>0</td>\n",
       "      <td>0</td>\n",
       "      <td>0</td>\n",
       "      <td>0</td>\n",
       "      <td>0</td>\n",
       "      <td>0</td>\n",
       "      <td>0</td>\n",
       "      <td>0</td>\n",
       "      <td>0</td>\n",
       "      <td>0</td>\n",
       "      <td>0</td>\n",
       "      <td>0</td>\n",
       "      <td>0</td>\n",
       "      <td>0</td>\n",
       "      <td>0</td>\n",
       "      <td>0</td>\n",
       "      <td>0</td>\n",
       "      <td>0</td>\n",
       "      <td>0</td>\n",
       "      <td>0</td>\n",
       "      <td>0</td>\n",
       "      <td>0</td>\n",
       "      <td>0</td>\n",
       "      <td>0</td>\n",
       "      <td>0</td>\n",
       "      <td>0</td>\n",
       "      <td>0</td>\n",
       "      <td>0</td>\n",
       "      <td>0</td>\n",
       "      <td>0</td>\n",
       "      <td>0</td>\n",
       "      <td>0</td>\n",
       "      <td>0</td>\n",
       "      <td>0</td>\n",
       "      <td>0</td>\n",
       "      <td>0</td>\n",
       "      <td>0</td>\n",
       "      <td>0</td>\n",
       "      <td>0</td>\n",
       "      <td>0</td>\n",
       "      <td>0</td>\n",
       "      <td>0</td>\n",
       "      <td>0</td>\n",
       "      <td>0</td>\n",
       "      <td>0</td>\n",
       "      <td>0</td>\n",
       "      <td>0</td>\n",
       "      <td>0</td>\n",
       "      <td>0</td>\n",
       "      <td>0</td>\n",
       "      <td>0</td>\n",
       "      <td>0</td>\n",
       "      <td>0</td>\n",
       "      <td>0</td>\n",
       "      <td>0</td>\n",
       "      <td>0</td>\n",
       "      <td>0</td>\n",
       "      <td>0</td>\n",
       "      <td>0</td>\n",
       "      <td>0</td>\n",
       "      <td>0</td>\n",
       "      <td>0</td>\n",
       "      <td>0</td>\n",
       "      <td>0</td>\n",
       "      <td>0</td>\n",
       "      <td>0</td>\n",
       "      <td>0</td>\n",
       "      <td>0</td>\n",
       "      <td>0</td>\n",
       "      <td>0</td>\n",
       "      <td>0</td>\n",
       "      <td>0</td>\n",
       "      <td>0</td>\n",
       "      <td>0</td>\n",
       "      <td>0</td>\n",
       "      <td>0</td>\n",
       "      <td>0</td>\n",
       "    </tr>\n",
       "  </tbody>\n",
       "</table>\n",
       "</div>"
      ],
      "text/plain": [
       "   java  c++  performance  ...  substring  string-matching  git\n",
       "0     0    0            0  ...          0                0    0\n",
       "\n",
       "[1 rows x 80 columns]"
      ]
     },
     "execution_count": 77,
     "metadata": {
      "tags": []
     },
     "output_type": "execute_result"
    }
   ],
   "source": [
    "#print (one_hot.inverse_transform(y_pred_RF))\n",
    "y_pred_rf_matrix = pd.DataFrame(y_pred_RF, columns=y_test_bin.columns)\n",
    "y_pred_rf_matrix [:1]"
   ]
  },
  {
   "cell_type": "markdown",
   "metadata": {
    "colab_type": "text",
    "id": "JCsFEZlglf6k"
   },
   "source": [
    "### 3.2 extract tags out of the matrix predicted by the best classifier"
   ]
  },
  {
   "cell_type": "code",
   "execution_count": null,
   "metadata": {
    "colab": {},
    "colab_type": "code",
    "id": "AXCrT3E-5sJ7"
   },
   "outputs": [],
   "source": [
    "\n",
    "def get_tags(df):\n",
    "    indexarray = np.arange(0,len(df.index))\n",
    "    taglist =[]\n",
    "    def unique_list(l):\n",
    "        x = []\n",
    "        for a in l:\n",
    "        if a not in x:\n",
    "            x.append(a)\n",
    "        return x\n",
    "    \n",
    "    for i in indexarray:\n",
    "        onelist = df.columns[(df > 0).iloc[i]].tolist()\n",
    "        uniques = unique_list(onelist)\n",
    "        taglist.append(uniques)\n",
    "    return taglist"
   ]
  },
  {
   "cell_type": "code",
   "execution_count": null,
   "metadata": {
    "colab": {},
    "colab_type": "code",
    "id": "7yTJjXgO9G7o"
   },
   "outputs": [],
   "source": [
    "tags_rf = get_tags(y_pred_rf_matrix)\n",
    "RF_tags = [' '.join(map(str, l)) for l in tags_rf]\n",
    "df_test['Random_Forest_tags'] = RF_tags\n",
    "\n"
   ]
  },
  {
   "cell_type": "code",
   "execution_count": 111,
   "metadata": {
    "colab": {
     "base_uri": "https://localhost:8080/",
     "height": 224
    },
    "colab_type": "code",
    "id": "_vdFTW_FXns5",
    "outputId": "41ffbb77-19b8-4c00-9149-8a1880a52193"
   },
   "outputs": [
    {
     "name": "stdout",
     "output_type": "stream",
     "text": [
      "0\n"
     ]
    },
    {
     "data": {
      "text/html": [
       "<div>\n",
       "<style scoped>\n",
       "    .dataframe tbody tr th:only-of-type {\n",
       "        vertical-align: middle;\n",
       "    }\n",
       "\n",
       "    .dataframe tbody tr th {\n",
       "        vertical-align: top;\n",
       "    }\n",
       "\n",
       "    .dataframe thead th {\n",
       "        text-align: right;\n",
       "    }\n",
       "</style>\n",
       "<table border=\"1\" class=\"dataframe\">\n",
       "  <thead>\n",
       "    <tr style=\"text-align: right;\">\n",
       "      <th></th>\n",
       "      <th>Lemma</th>\n",
       "      <th>taglist</th>\n",
       "      <th>LDA_tags</th>\n",
       "      <th>NMF_tags</th>\n",
       "      <th>Random_Forest_tags</th>\n",
       "    </tr>\n",
       "  </thead>\n",
       "  <tbody>\n",
       "    <tr>\n",
       "      <th>0</th>\n",
       "      <td>['instal', 'libv', 'gem', 'o', '+', 'try', 'in...</td>\n",
       "      <td>gem rubygems osx-mavericks osx-yosemite libv8</td>\n",
       "      <td>android error version method find</td>\n",
       "      <td>error package compile build install</td>\n",
       "      <td></td>\n",
       "    </tr>\n",
       "    <tr>\n",
       "      <th>1</th>\n",
       "      <td>['right', 'leave', 'support', 'twitter', 'boot...</td>\n",
       "      <td>css html twitter-bootstrap twitter-bootstrap-3</td>\n",
       "      <td>input test form right python</td>\n",
       "      <td>project</td>\n",
       "      <td></td>\n",
       "    </tr>\n",
       "    <tr>\n",
       "      <th>2</th>\n",
       "      <td>['operator', 'mysql', 'work', 'code', 'write',...</td>\n",
       "      <td>mysql sql operators spaceship-operator</td>\n",
       "      <td>query mysql error long show</td>\n",
       "      <td>error null select exception table</td>\n",
       "      <td></td>\n",
       "    </tr>\n",
       "    <tr>\n",
       "      <th>3</th>\n",
       "      <td>['warn', 'implicit', 'declaration', 'function'...</td>\n",
       "      <td>c compiler-warnings</td>\n",
       "      <td>function list return type open</td>\n",
       "      <td>function return</td>\n",
       "      <td></td>\n",
       "    </tr>\n",
       "    <tr>\n",
       "      <th>4</th>\n",
       "      <td>['exportimport', 'job', 'jenkins', 'possible',...</td>\n",
       "      <td>jenkins</td>\n",
       "      <td>field search element possible create</td>\n",
       "      <td></td>\n",
       "      <td></td>\n",
       "    </tr>\n",
       "  </tbody>\n",
       "</table>\n",
       "</div>"
      ],
      "text/plain": [
       "                                               Lemma  ... Random_Forest_tags\n",
       "0  ['instal', 'libv', 'gem', 'o', '+', 'try', 'in...  ...                   \n",
       "1  ['right', 'leave', 'support', 'twitter', 'boot...  ...                   \n",
       "2  ['operator', 'mysql', 'work', 'code', 'write',...  ...                   \n",
       "3  ['warn', 'implicit', 'declaration', 'function'...  ...                   \n",
       "4  ['exportimport', 'job', 'jenkins', 'possible',...  ...                   \n",
       "\n",
       "[5 rows x 5 columns]"
      ]
     },
     "execution_count": 111,
     "metadata": {
      "tags": []
     },
     "output_type": "execute_result"
    }
   ],
   "source": [
    "print(df_test['Random_Forest_tags'].isna().sum())\n",
    "df_test.head()"
   ]
  },
  {
   "cell_type": "code",
   "execution_count": 99,
   "metadata": {
    "colab": {
     "base_uri": "https://localhost:8080/",
     "height": 52
    },
    "colab_type": "code",
    "id": "ZotFNRjQUBEQ",
    "outputId": "b3ac4960-a192-4c05-a362-63bed68bf3a6"
   },
   "outputs": [
    {
     "name": "stdout",
     "output_type": "stream",
     "text": [
      "Dummy score: [[0.0548299]]\n",
      "RF score: [[0.44192904]]\n"
     ]
    }
   ],
   "source": [
    "y_tfidf_RF = tfidfVectorizer.transform(RF_tags)\n",
    "print('Dummy score:',cosine_similarity(y_tfidf_test.reshape(1,-1), y_tfidf_dummy.reshape(1,-1))) \n",
    "print('RF score:',cosine_similarity(y_tfidf_test.reshape(1,-1), y_tfidf_RF.reshape(1,-1)))"
   ]
  },
  {
   "cell_type": "markdown",
   "metadata": {
    "colab_type": "text",
    "id": "qM7_MOWhlzlB"
   },
   "source": [
    "### 3.3 Neural networks"
   ]
  },
  {
   "cell_type": "code",
   "execution_count": null,
   "metadata": {
    "colab": {},
    "colab_type": "code",
    "id": "vGkvOYWqly9p"
   },
   "outputs": [],
   "source": []
  },
  {
   "cell_type": "code",
   "execution_count": null,
   "metadata": {
    "colab": {},
    "colab_type": "code",
    "id": "m6Ojyr06UBph"
   },
   "outputs": [],
   "source": []
  },
  {
   "cell_type": "code",
   "execution_count": null,
   "metadata": {
    "colab": {},
    "colab_type": "code",
    "id": "ii3GT2j0WJGm"
   },
   "outputs": [],
   "source": [
    "w2v_vectors = word2vec.wv.vectors\n",
    "print(w2v_vectors.shape)"
   ]
  },
  {
   "cell_type": "code",
   "execution_count": null,
   "metadata": {
    "colab": {},
    "colab_type": "code",
    "id": "eQdv-V_5kiX0"
   },
   "outputs": [],
   "source": [
    "\n",
    "\n",
    "scaler = StandardScaler()\n",
    "w2v_vectors_std = scaler.fit_transform(w2v_vectors)\n",
    "\n",
    "\n",
    "d2v_pca = PCA().fit(w2v_vectors_std)\n",
    "\n",
    "fig, ax = plt.subplots(figsize=(8,6))\n",
    "\n",
    "x_values = range(1, d2v_pca.n_components_+1)\n",
    "\n",
    "ax.plot(x_values, d2v_pca.explained_variance_ratio_, lw=2, label='explained variance')\n",
    "ax.plot(x_values, np.cumsum(d2v_pca.explained_variance_ratio_), lw=2, label='cumulative explained variance')\n",
    "ax.set_title('Word2vec : explained variance of components')\n",
    "ax.set_xlabel('principal component')\n",
    "ax.set_ylabel('explained variance')\n",
    "plt.show()"
   ]
  },
  {
   "cell_type": "code",
   "execution_count": null,
   "metadata": {
    "colab": {},
    "colab_type": "code",
    "id": "b5Hs3fp6xbct"
   },
   "outputs": [],
   "source": [
    "#word2vec_train.most_similar('python')\n",
    "word2vec_train.wv.vocab"
   ]
  }
 ],
 "metadata": {
  "colab": {
   "collapsed_sections": [],
   "name": "Stackoverflowtags-Part2.ipynb",
   "provenance": [],
   "toc_visible": true
  },
  "kernelspec": {
   "display_name": "Python 3",
   "language": "python",
   "name": "python3"
  },
  "language_info": {
   "codemirror_mode": {
    "name": "ipython",
    "version": 3
   },
   "file_extension": ".py",
   "mimetype": "text/x-python",
   "name": "python",
   "nbconvert_exporter": "python",
   "pygments_lexer": "ipython3",
   "version": "3.7.6"
  }
 },
 "nbformat": 4,
 "nbformat_minor": 4
}
