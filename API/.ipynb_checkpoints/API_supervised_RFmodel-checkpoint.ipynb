{
 "cells": [
  {
   "cell_type": "markdown",
   "metadata": {},
   "source": [
    "# Model to return stackoverflow tags from a clean text"
   ]
  },
  {
   "cell_type": "code",
   "execution_count": 1,
   "metadata": {},
   "outputs": [],
   "source": [
    "# import libraries\n",
    "import pandas as pd\n",
    "import numpy as np\n",
    "import itertools\n",
    "from bs4 import BeautifulSoup\n",
    "import nltk, re, pprint\n",
    "from nltk import word_tokenize, pos_tag\n",
    "from nltk.corpus import stopwords \n",
    "from collections import defaultdict \n",
    "from nltk.corpus import wordnet as wn\n",
    "from itertools import chain\n",
    "import re\n",
    "from textblob import TextBlob, Word\n",
    "import time\n",
    "from collections import Counter\n",
    "\n",
    "import spacy \n",
    "from spacy.lang.en.stop_words import STOP_WORDS\n",
    "\n",
    "\n",
    "from sklearn.ensemble import RandomForestClassifier\n",
    "from sklearn.metrics.pairwise import cosine_similarity\n",
    "from sklearn.metrics import accuracy_score\n",
    "\n",
    "from sklearn.preprocessing import MultiLabelBinarizer\n",
    "from sklearn.feature_extraction.text import TfidfVectorizer\n",
    "from sklearn.model_selection import train_test_split\n",
    "import yake\n",
    "\n",
    "import pickle as p\n",
    "import json\n",
    "from flask import Flask, jsonify\n",
    "import joblib\n",
    "from joblib import dump, load"
   ]
  },
  {
   "cell_type": "code",
   "execution_count": 2,
   "metadata": {},
   "outputs": [],
   "source": [
    "df_base = pd.read_csv('/media/marco/DATA/OC_Machine_learning/section_5/tags_stackoverflow/data-output/stackoverflow_processed_sample.csv', encoding='utf-8')\n",
    "df_base.head()\n",
    "\n",
    "df_tags = pd.read_csv('/media/marco/DATA/OC_Machine_learning/section_5/tags_stackoverflow/data-output/stackoverflow_processed_tags.csv', encoding='utf-8') # load the taglist in order to perform a tags selection\n",
    "df_tags = df_tags.dropna()\n",
    "tags = df_tags.tag #tags ordered by popularity\n",
    "\n",
    "Number_tags = 50 # chosen number of most popular tags\n",
    "popular_tags = tags[:Number_tags].tolist() # get the list of n most popular tags"
   ]
  },
  {
   "cell_type": "code",
   "execution_count": 3,
   "metadata": {},
   "outputs": [
    {
     "name": "stdout",
     "output_type": "stream",
     "text": [
      "['javascript', 'python', 'java', 'c#', 'android', 'html', 'git', 'css', 'jquery', 'c++', 'ios', '.net', 'php', 'string', 'sql', 'mysql', 'node.js', 'bash', 'arrays', 'c', 'linux', 'objective-c', 'sql-server', 'ruby', 'swift', 'json', 'shell', 'ruby-on-rails', 'iphone', 'angularjs', 'list', 'windows', 'xcode', 'regex', 'r', 'visual-studio', 'performance', 'asp.net', 'database', 'macos', 'asp.net-mvc', 'eclipse', 'django', 'github', 'datetime', 'angular', 'unix', 'postgresql', 'vim', 'reactjs']\n"
     ]
    }
   ],
   "source": [
    "with open('tagsRF.pkl', 'wb') as pickle_out:\n",
    "    p.dump(popular_tags, pickle_out)\n",
    "print(popular_tags)"
   ]
  },
  {
   "cell_type": "code",
   "execution_count": 4,
   "metadata": {},
   "outputs": [],
   "source": [
    "# create model target from tags\n",
    "one_hot = MultiLabelBinarizer() # encoder for the  tags \n",
    "y = df_base['taglist']\n",
    "y_onehot = one_hot.fit_transform(y.str.split(' ')) \n",
    "y_bin = pd.DataFrame(y_onehot, columns=one_hot.classes_ ) # transform it to Pandas object\n",
    "y_bin = y_bin.filter(items=popular_tags)"
   ]
  },
  {
   "cell_type": "code",
   "execution_count": 5,
   "metadata": {},
   "outputs": [],
   "source": [
    "tfidfVectorizer = TfidfVectorizer(norm=None,analyzer='word',min_df = 5, max_df = 0.8, ngram_range=(1,2),max_features = 220, use_idf=True)\n",
    "# TF-IDF matrices\n",
    "tfidfvect = tfidfVectorizer.fit(df_base['Lemma'])\n",
    "TF_IDF = tfidfvect.transform(df_base['Lemma'])\n",
    "\n",
    "TF_IDF_dense = TF_IDF.todense()"
   ]
  },
  {
   "cell_type": "code",
   "execution_count": 6,
   "metadata": {},
   "outputs": [
    {
     "data": {
      "text/plain": [
       "['vectorizer.pkl']"
      ]
     },
     "execution_count": 6,
     "metadata": {},
     "output_type": "execute_result"
    }
   ],
   "source": [
    "joblib.dump(tfidfvect, 'vectorizer.pkl')"
   ]
  },
  {
   "cell_type": "code",
   "execution_count": null,
   "metadata": {},
   "outputs": [],
   "source": []
  },
  {
   "cell_type": "code",
   "execution_count": 7,
   "metadata": {},
   "outputs": [],
   "source": [
    "# 80/20 split TF-IDF\n",
    "X_train, X_test,X_tfidf_train, X_tfidf_test, y_train, y_test, y_train_bin, y_test_bin = train_test_split(df_base['Lemma'],TF_IDF_dense, y, y_bin,  test_size=0.2,train_size=0.8, random_state=0)"
   ]
  },
  {
   "cell_type": "code",
   "execution_count": 8,
   "metadata": {},
   "outputs": [],
   "source": [
    "#rf = RandomForestClassifier(max_depth=30000, random_state=42, n_jobs = -1, n_estimators=100)#, parameters optimized to balance consumption and accuracy\n",
    "lr = LogisticRegression()\n",
    "clf = MultiOutputClassifier(lr)\n",
    "lr_clf = clf.fit(X_tfidf_train, y_train_bin)"
   ]
  },
  {
   "cell_type": "code",
   "execution_count": 9,
   "metadata": {},
   "outputs": [
    {
     "data": {
      "text/plain": [
       "['model.pkl']"
      ]
     },
     "execution_count": 9,
     "metadata": {},
     "output_type": "execute_result"
    }
   ],
   "source": [
    "joblib.dump(lr_clf , 'model.pkl')"
   ]
  },
  {
   "cell_type": "code",
   "execution_count": 10,
   "metadata": {},
   "outputs": [],
   "source": [
    "def preprocess_text(text):\n",
    "    text = text.lower() # lowercase\n",
    "    text = re.sub(r\"what's\", \"what is \", text)\n",
    "    text = re.sub(r\"\\'s\", \" \", text)\n",
    "    text = re.sub(r\"\\'ve\", \" have \", text)\n",
    "    text = re.sub(r\"can't\", \"can not \", text)\n",
    "    text = re.sub(r\"n't\", \" not \", text)\n",
    "    text = re.sub(r\"i'm\", \"i am \", text)\n",
    "    text = re.sub(r\"\\'re\", \" are \", text)\n",
    "    text = re.sub(r\"\\'d\", \" would \", text)\n",
    "    text = re.sub(r\"\\'ll\", \" will \", text)\n",
    "    text = re.sub(r\"\\'scuse\", \" excuse \", text)\n",
    "    text = re.sub(r\"[0-9]\", \" \", text)\n",
    "    text = re.sub(r\"[?.!/;:']\", \" \", text)\n",
    "    text = re.sub(r\"[<>\\@%*=]\", \" \", text)\n",
    "    text = re.sub(r\"[\\ |\\]|\\[|\\|\\/|\\#|\\:]\", \" \", text)\n",
    "    text = re.sub(r\"\\'\\n\", \" \", text) #line breaks\n",
    "    text = re.sub(r\"\\'\\xa0\", \" \", text) # xa0 Unicode representing spaces\n",
    "    text = re.sub('\\s+', ' ', text) # one or more whitespace characters\n",
    "    text = text.strip(' ') # spaces\n",
    "    list_tokens = word_tokenize(text)\n",
    "    return list_tokens\n",
    "\n"
   ]
  },
  {
   "cell_type": "code",
   "execution_count": 11,
   "metadata": {},
   "outputs": [
    {
     "name": "stdout",
     "output_type": "stream",
     "text": [
      "['peppio', 'python', 'java', 'function']\n"
     ]
    }
   ],
   "source": [
    "query = 'peppio python java function'\n",
    "tokens = preprocess_text(query)\n",
    "tfidfVectorizer = load(\"vectorizer.pkl\")\n",
    "\n",
    "def vectorize_query(tokens):\n",
    "    vectorized_query = tfidfVectorizer.transform(tokens).todense()\n",
    "    return vectorized_query\n",
    "vectorize_query(tokens)\n",
    "print(tokens[:10])"
   ]
  },
  {
   "cell_type": "code",
   "execution_count": null,
   "metadata": {},
   "outputs": [],
   "source": []
  },
  {
   "cell_type": "code",
   "execution_count": 12,
   "metadata": {},
   "outputs": [],
   "source": [
    "#def vectorize_query(tokens):\n",
    "#    vectorized_query = tfidfVectorizer.transform(tokens).todense()\n",
    "#    return vectorized_query"
   ]
  },
  {
   "cell_type": "code",
   "execution_count": 14,
   "metadata": {},
   "outputs": [],
   "source": [
    "def predict_tags(vectors):\n",
    "    y_preds= lr_clf.predict(vectorized_query)\n",
    "    popular_tags = ['javascript', 'python', 'java', 'c#', 'android', 'html', 'git', 'css', 'jquery', 'c++', 'ios', '.net', 'php', 'string', 'sql', 'mysql', 'node.js', 'bash', 'arrays', 'c', 'linux', 'objective-c', 'sql-server', 'ruby', 'swift', 'json', 'shell', 'ruby-on-rails', 'iphone', 'angularjs', 'list', 'windows', 'xcode', 'regex', 'r', 'visual-studio', 'performance', 'asp.net', 'database', 'macos', 'asp.net-mvc', 'eclipse', 'django', 'github', 'datetime', 'angular', 'unix', 'postgresql', 'vim', 'reactjs', 'pandas', 'algorithm', 'multithreading', 'date', 'dictionary', 'http', 'file', 'tsql', 'cocoa-touch', 'docker', 'android-studio', 'typescript', 'unit-testing', 'command-line', 'twitter-bootstrap', 'oop', 'google-chrome', 'version-control', 'xml', 'syntax', 'debugging', 'intellij-idea', 'dataframe', 'c++11', 'ajax', 'linq', 'python-3.x', 'rest', 'wpf', 'spring', 'npm', 'language-agnostic', 'exception', 'numpy', 'mongodb', 'function', 'sorting', 'object', 'collections', 'go', 'generics', 'scala', 'class', 'forms', 'android-layout', 'maven', 'security', 'gradle', 'url', 'image', 'types', 'java-8', 'dom', 'svn', 'entity-framework', 'variables', 'matplotlib', 'sql-server-2008', 'logging', 'express']\n",
    "    df_probs = pd.DataFrame(y_preds, columns= popular_tags).T\n",
    "    df_probs[\"probability\"] = df_probs.sum(axis=1)\n",
    "    df_probs.reset_index(inplace=True)\n",
    "    \n",
    "    df_probs = df_probs.sort_values(by='probability', ascending=False)\n",
    "    tags = df_probs['index'][:5].tolist()\n",
    "    return tags"
   ]
  },
  {
   "cell_type": "code",
   "execution_count": 15,
   "metadata": {},
   "outputs": [],
   "source": [
    "vectorized_query =  tfidfVectorizer.transform(tokens).todense()"
   ]
  },
  {
   "cell_type": "code",
   "execution_count": 16,
   "metadata": {},
   "outputs": [],
   "source": [
    "y_preds= rf_clf.predict(vectorized_query)"
   ]
  },
  {
   "cell_type": "code",
   "execution_count": 18,
   "metadata": {},
   "outputs": [
    {
     "name": "stdout",
     "output_type": "stream",
     "text": [
      "(50, 6)\n",
      "['python', 'java', 'c++', 'database', 'iphone']\n"
     ]
    },
    {
     "data": {
      "text/html": [
       "<div>\n",
       "<style scoped>\n",
       "    .dataframe tbody tr th:only-of-type {\n",
       "        vertical-align: middle;\n",
       "    }\n",
       "\n",
       "    .dataframe tbody tr th {\n",
       "        vertical-align: top;\n",
       "    }\n",
       "\n",
       "    .dataframe thead th {\n",
       "        text-align: right;\n",
       "    }\n",
       "</style>\n",
       "<table border=\"1\" class=\"dataframe\">\n",
       "  <thead>\n",
       "    <tr style=\"text-align: right;\">\n",
       "      <th></th>\n",
       "      <th>index</th>\n",
       "      <th>0</th>\n",
       "      <th>1</th>\n",
       "      <th>2</th>\n",
       "      <th>3</th>\n",
       "      <th>probability</th>\n",
       "    </tr>\n",
       "  </thead>\n",
       "  <tbody>\n",
       "    <tr>\n",
       "      <th>1</th>\n",
       "      <td>python</td>\n",
       "      <td>0</td>\n",
       "      <td>1</td>\n",
       "      <td>0</td>\n",
       "      <td>0</td>\n",
       "      <td>1</td>\n",
       "    </tr>\n",
       "    <tr>\n",
       "      <th>2</th>\n",
       "      <td>java</td>\n",
       "      <td>0</td>\n",
       "      <td>0</td>\n",
       "      <td>1</td>\n",
       "      <td>0</td>\n",
       "      <td>1</td>\n",
       "    </tr>\n",
       "    <tr>\n",
       "      <th>9</th>\n",
       "      <td>c++</td>\n",
       "      <td>0</td>\n",
       "      <td>0</td>\n",
       "      <td>0</td>\n",
       "      <td>1</td>\n",
       "      <td>1</td>\n",
       "    </tr>\n",
       "    <tr>\n",
       "      <th>38</th>\n",
       "      <td>database</td>\n",
       "      <td>0</td>\n",
       "      <td>0</td>\n",
       "      <td>0</td>\n",
       "      <td>0</td>\n",
       "      <td>0</td>\n",
       "    </tr>\n",
       "    <tr>\n",
       "      <th>28</th>\n",
       "      <td>iphone</td>\n",
       "      <td>0</td>\n",
       "      <td>0</td>\n",
       "      <td>0</td>\n",
       "      <td>0</td>\n",
       "      <td>0</td>\n",
       "    </tr>\n",
       "  </tbody>\n",
       "</table>\n",
       "</div>"
      ],
      "text/plain": [
       "       index  0  1  2  3  probability\n",
       "1     python  0  1  0  0            1\n",
       "2       java  0  0  1  0            1\n",
       "9        c++  0  0  0  1            1\n",
       "38  database  0  0  0  0            0\n",
       "28    iphone  0  0  0  0            0"
      ]
     },
     "execution_count": 18,
     "metadata": {},
     "output_type": "execute_result"
    }
   ],
   "source": [
    "\n",
    "df_probs = pd.DataFrame(y_preds, columns= popular_tags).T\n",
    "#df_probs.loc[:, 'probability'] = df_probs[0].map(lambda x: x[1]) # get out only positive probability\n",
    "df_probs[\"probability\"] = df_probs.sum(axis=1)\n",
    "df_probs.reset_index(inplace=True)\n",
    "print(df_probs.shape)\n",
    "df_probs = df_probs.sort_values(by='probability', ascending=False)\n",
    "tags = df_probs['index'][:5].tolist()\n",
    "print(tags)\n",
    "df_probs.head()"
   ]
  },
  {
   "cell_type": "code",
   "execution_count": 19,
   "metadata": {},
   "outputs": [
    {
     "ename": "ValueError",
     "evalue": "Shape of passed values is (50, 4), indices imply (110, 4)",
     "output_type": "error",
     "traceback": [
      "\u001b[0;31m---------------------------------------------------------------------------\u001b[0m",
      "\u001b[0;31mValueError\u001b[0m                                Traceback (most recent call last)",
      "\u001b[0;32m/media/marco/DATA/anaconda3/lib/python3.7/site-packages/pandas/core/internals/managers.py\u001b[0m in \u001b[0;36mcreate_block_manager_from_arrays\u001b[0;34m(arrays, names, axes)\u001b[0m\n\u001b[1;32m   1670\u001b[0m         \u001b[0mblocks\u001b[0m \u001b[0;34m=\u001b[0m \u001b[0mform_blocks\u001b[0m\u001b[0;34m(\u001b[0m\u001b[0marrays\u001b[0m\u001b[0;34m,\u001b[0m \u001b[0mnames\u001b[0m\u001b[0;34m,\u001b[0m \u001b[0maxes\u001b[0m\u001b[0;34m)\u001b[0m\u001b[0;34m\u001b[0m\u001b[0;34m\u001b[0m\u001b[0m\n\u001b[0;32m-> 1671\u001b[0;31m         \u001b[0mmgr\u001b[0m \u001b[0;34m=\u001b[0m \u001b[0mBlockManager\u001b[0m\u001b[0;34m(\u001b[0m\u001b[0mblocks\u001b[0m\u001b[0;34m,\u001b[0m \u001b[0maxes\u001b[0m\u001b[0;34m)\u001b[0m\u001b[0;34m\u001b[0m\u001b[0;34m\u001b[0m\u001b[0m\n\u001b[0m\u001b[1;32m   1672\u001b[0m         \u001b[0mmgr\u001b[0m\u001b[0;34m.\u001b[0m\u001b[0m_consolidate_inplace\u001b[0m\u001b[0;34m(\u001b[0m\u001b[0;34m)\u001b[0m\u001b[0;34m\u001b[0m\u001b[0;34m\u001b[0m\u001b[0m\n",
      "\u001b[0;32m/media/marco/DATA/anaconda3/lib/python3.7/site-packages/pandas/core/internals/managers.py\u001b[0m in \u001b[0;36m__init__\u001b[0;34m(self, blocks, axes, do_integrity_check)\u001b[0m\n\u001b[1;32m    138\u001b[0m         \u001b[0;32mif\u001b[0m \u001b[0mdo_integrity_check\u001b[0m\u001b[0;34m:\u001b[0m\u001b[0;34m\u001b[0m\u001b[0;34m\u001b[0m\u001b[0m\n\u001b[0;32m--> 139\u001b[0;31m             \u001b[0mself\u001b[0m\u001b[0;34m.\u001b[0m\u001b[0m_verify_integrity\u001b[0m\u001b[0;34m(\u001b[0m\u001b[0;34m)\u001b[0m\u001b[0;34m\u001b[0m\u001b[0;34m\u001b[0m\u001b[0m\n\u001b[0m\u001b[1;32m    140\u001b[0m \u001b[0;34m\u001b[0m\u001b[0m\n",
      "\u001b[0;32m/media/marco/DATA/anaconda3/lib/python3.7/site-packages/pandas/core/internals/managers.py\u001b[0m in \u001b[0;36m_verify_integrity\u001b[0;34m(self)\u001b[0m\n\u001b[1;32m    333\u001b[0m             \u001b[0;32mif\u001b[0m \u001b[0mblock\u001b[0m\u001b[0;34m.\u001b[0m\u001b[0m_verify_integrity\u001b[0m \u001b[0;32mand\u001b[0m \u001b[0mblock\u001b[0m\u001b[0;34m.\u001b[0m\u001b[0mshape\u001b[0m\u001b[0;34m[\u001b[0m\u001b[0;36m1\u001b[0m\u001b[0;34m:\u001b[0m\u001b[0;34m]\u001b[0m \u001b[0;34m!=\u001b[0m \u001b[0mmgr_shape\u001b[0m\u001b[0;34m[\u001b[0m\u001b[0;36m1\u001b[0m\u001b[0;34m:\u001b[0m\u001b[0;34m]\u001b[0m\u001b[0;34m:\u001b[0m\u001b[0;34m\u001b[0m\u001b[0;34m\u001b[0m\u001b[0m\n\u001b[0;32m--> 334\u001b[0;31m                 \u001b[0mconstruction_error\u001b[0m\u001b[0;34m(\u001b[0m\u001b[0mtot_items\u001b[0m\u001b[0;34m,\u001b[0m \u001b[0mblock\u001b[0m\u001b[0;34m.\u001b[0m\u001b[0mshape\u001b[0m\u001b[0;34m[\u001b[0m\u001b[0;36m1\u001b[0m\u001b[0;34m:\u001b[0m\u001b[0;34m]\u001b[0m\u001b[0;34m,\u001b[0m \u001b[0mself\u001b[0m\u001b[0;34m.\u001b[0m\u001b[0maxes\u001b[0m\u001b[0;34m)\u001b[0m\u001b[0;34m\u001b[0m\u001b[0;34m\u001b[0m\u001b[0m\n\u001b[0m\u001b[1;32m    335\u001b[0m         \u001b[0;32mif\u001b[0m \u001b[0mlen\u001b[0m\u001b[0;34m(\u001b[0m\u001b[0mself\u001b[0m\u001b[0;34m.\u001b[0m\u001b[0mitems\u001b[0m\u001b[0;34m)\u001b[0m \u001b[0;34m!=\u001b[0m \u001b[0mtot_items\u001b[0m\u001b[0;34m:\u001b[0m\u001b[0;34m\u001b[0m\u001b[0;34m\u001b[0m\u001b[0m\n",
      "\u001b[0;32m/media/marco/DATA/anaconda3/lib/python3.7/site-packages/pandas/core/internals/managers.py\u001b[0m in \u001b[0;36mconstruction_error\u001b[0;34m(tot_items, block_shape, axes, e)\u001b[0m\n\u001b[1;32m   1693\u001b[0m         \u001b[0;32mraise\u001b[0m \u001b[0mValueError\u001b[0m\u001b[0;34m(\u001b[0m\u001b[0;34m\"Empty data passed with indices specified.\"\u001b[0m\u001b[0;34m)\u001b[0m\u001b[0;34m\u001b[0m\u001b[0;34m\u001b[0m\u001b[0m\n\u001b[0;32m-> 1694\u001b[0;31m     \u001b[0;32mraise\u001b[0m \u001b[0mValueError\u001b[0m\u001b[0;34m(\u001b[0m\u001b[0;34mf\"Shape of passed values is {passed}, indices imply {implied}\"\u001b[0m\u001b[0;34m)\u001b[0m\u001b[0;34m\u001b[0m\u001b[0;34m\u001b[0m\u001b[0m\n\u001b[0m\u001b[1;32m   1695\u001b[0m \u001b[0;34m\u001b[0m\u001b[0m\n",
      "\u001b[0;31mValueError\u001b[0m: Shape of passed values is (50, 4), indices imply (110, 4)",
      "\nDuring handling of the above exception, another exception occurred:\n",
      "\u001b[0;31mValueError\u001b[0m                                Traceback (most recent call last)",
      "\u001b[0;32m<ipython-input-19-b66c46d75b93>\u001b[0m in \u001b[0;36m<module>\u001b[0;34m\u001b[0m\n\u001b[1;32m      1\u001b[0m \u001b[0mprob_preds\u001b[0m \u001b[0;34m=\u001b[0m \u001b[0mrf_clf\u001b[0m\u001b[0;34m.\u001b[0m\u001b[0mpredict_proba\u001b[0m\u001b[0;34m(\u001b[0m\u001b[0mvectorized_query\u001b[0m\u001b[0;34m)\u001b[0m\u001b[0;34m\u001b[0m\u001b[0;34m\u001b[0m\u001b[0m\n\u001b[1;32m      2\u001b[0m \u001b[0mpopular_tags\u001b[0m \u001b[0;34m=\u001b[0m \u001b[0;34m[\u001b[0m\u001b[0;34m'javascript'\u001b[0m\u001b[0;34m,\u001b[0m \u001b[0;34m'python'\u001b[0m\u001b[0;34m,\u001b[0m \u001b[0;34m'java'\u001b[0m\u001b[0;34m,\u001b[0m \u001b[0;34m'c#'\u001b[0m\u001b[0;34m,\u001b[0m \u001b[0;34m'android'\u001b[0m\u001b[0;34m,\u001b[0m \u001b[0;34m'html'\u001b[0m\u001b[0;34m,\u001b[0m \u001b[0;34m'git'\u001b[0m\u001b[0;34m,\u001b[0m \u001b[0;34m'css'\u001b[0m\u001b[0;34m,\u001b[0m \u001b[0;34m'jquery'\u001b[0m\u001b[0;34m,\u001b[0m \u001b[0;34m'c++'\u001b[0m\u001b[0;34m,\u001b[0m \u001b[0;34m'ios'\u001b[0m\u001b[0;34m,\u001b[0m \u001b[0;34m'.net'\u001b[0m\u001b[0;34m,\u001b[0m \u001b[0;34m'php'\u001b[0m\u001b[0;34m,\u001b[0m \u001b[0;34m'string'\u001b[0m\u001b[0;34m,\u001b[0m \u001b[0;34m'sql'\u001b[0m\u001b[0;34m,\u001b[0m \u001b[0;34m'mysql'\u001b[0m\u001b[0;34m,\u001b[0m \u001b[0;34m'node.js'\u001b[0m\u001b[0;34m,\u001b[0m \u001b[0;34m'bash'\u001b[0m\u001b[0;34m,\u001b[0m \u001b[0;34m'arrays'\u001b[0m\u001b[0;34m,\u001b[0m \u001b[0;34m'c'\u001b[0m\u001b[0;34m,\u001b[0m \u001b[0;34m'linux'\u001b[0m\u001b[0;34m,\u001b[0m \u001b[0;34m'objective-c'\u001b[0m\u001b[0;34m,\u001b[0m \u001b[0;34m'sql-server'\u001b[0m\u001b[0;34m,\u001b[0m \u001b[0;34m'ruby'\u001b[0m\u001b[0;34m,\u001b[0m \u001b[0;34m'swift'\u001b[0m\u001b[0;34m,\u001b[0m \u001b[0;34m'json'\u001b[0m\u001b[0;34m,\u001b[0m \u001b[0;34m'shell'\u001b[0m\u001b[0;34m,\u001b[0m \u001b[0;34m'ruby-on-rails'\u001b[0m\u001b[0;34m,\u001b[0m \u001b[0;34m'iphone'\u001b[0m\u001b[0;34m,\u001b[0m \u001b[0;34m'angularjs'\u001b[0m\u001b[0;34m,\u001b[0m \u001b[0;34m'list'\u001b[0m\u001b[0;34m,\u001b[0m \u001b[0;34m'windows'\u001b[0m\u001b[0;34m,\u001b[0m \u001b[0;34m'xcode'\u001b[0m\u001b[0;34m,\u001b[0m \u001b[0;34m'regex'\u001b[0m\u001b[0;34m,\u001b[0m \u001b[0;34m'r'\u001b[0m\u001b[0;34m,\u001b[0m \u001b[0;34m'visual-studio'\u001b[0m\u001b[0;34m,\u001b[0m \u001b[0;34m'performance'\u001b[0m\u001b[0;34m,\u001b[0m \u001b[0;34m'asp.net'\u001b[0m\u001b[0;34m,\u001b[0m \u001b[0;34m'database'\u001b[0m\u001b[0;34m,\u001b[0m \u001b[0;34m'macos'\u001b[0m\u001b[0;34m,\u001b[0m \u001b[0;34m'asp.net-mvc'\u001b[0m\u001b[0;34m,\u001b[0m \u001b[0;34m'eclipse'\u001b[0m\u001b[0;34m,\u001b[0m \u001b[0;34m'django'\u001b[0m\u001b[0;34m,\u001b[0m \u001b[0;34m'github'\u001b[0m\u001b[0;34m,\u001b[0m \u001b[0;34m'datetime'\u001b[0m\u001b[0;34m,\u001b[0m \u001b[0;34m'angular'\u001b[0m\u001b[0;34m,\u001b[0m \u001b[0;34m'unix'\u001b[0m\u001b[0;34m,\u001b[0m \u001b[0;34m'postgresql'\u001b[0m\u001b[0;34m,\u001b[0m \u001b[0;34m'vim'\u001b[0m\u001b[0;34m,\u001b[0m \u001b[0;34m'reactjs'\u001b[0m\u001b[0;34m,\u001b[0m \u001b[0;34m'pandas'\u001b[0m\u001b[0;34m,\u001b[0m \u001b[0;34m'algorithm'\u001b[0m\u001b[0;34m,\u001b[0m \u001b[0;34m'multithreading'\u001b[0m\u001b[0;34m,\u001b[0m \u001b[0;34m'date'\u001b[0m\u001b[0;34m,\u001b[0m \u001b[0;34m'dictionary'\u001b[0m\u001b[0;34m,\u001b[0m \u001b[0;34m'http'\u001b[0m\u001b[0;34m,\u001b[0m \u001b[0;34m'file'\u001b[0m\u001b[0;34m,\u001b[0m \u001b[0;34m'tsql'\u001b[0m\u001b[0;34m,\u001b[0m \u001b[0;34m'cocoa-touch'\u001b[0m\u001b[0;34m,\u001b[0m \u001b[0;34m'docker'\u001b[0m\u001b[0;34m,\u001b[0m \u001b[0;34m'android-studio'\u001b[0m\u001b[0;34m,\u001b[0m \u001b[0;34m'typescript'\u001b[0m\u001b[0;34m,\u001b[0m \u001b[0;34m'unit-testing'\u001b[0m\u001b[0;34m,\u001b[0m \u001b[0;34m'command-line'\u001b[0m\u001b[0;34m,\u001b[0m \u001b[0;34m'twitter-bootstrap'\u001b[0m\u001b[0;34m,\u001b[0m \u001b[0;34m'oop'\u001b[0m\u001b[0;34m,\u001b[0m \u001b[0;34m'google-chrome'\u001b[0m\u001b[0;34m,\u001b[0m \u001b[0;34m'version-control'\u001b[0m\u001b[0;34m,\u001b[0m \u001b[0;34m'xml'\u001b[0m\u001b[0;34m,\u001b[0m \u001b[0;34m'syntax'\u001b[0m\u001b[0;34m,\u001b[0m \u001b[0;34m'debugging'\u001b[0m\u001b[0;34m,\u001b[0m \u001b[0;34m'intellij-idea'\u001b[0m\u001b[0;34m,\u001b[0m \u001b[0;34m'dataframe'\u001b[0m\u001b[0;34m,\u001b[0m \u001b[0;34m'c++11'\u001b[0m\u001b[0;34m,\u001b[0m \u001b[0;34m'ajax'\u001b[0m\u001b[0;34m,\u001b[0m \u001b[0;34m'linq'\u001b[0m\u001b[0;34m,\u001b[0m \u001b[0;34m'python-3.x'\u001b[0m\u001b[0;34m,\u001b[0m \u001b[0;34m'rest'\u001b[0m\u001b[0;34m,\u001b[0m \u001b[0;34m'wpf'\u001b[0m\u001b[0;34m,\u001b[0m \u001b[0;34m'spring'\u001b[0m\u001b[0;34m,\u001b[0m \u001b[0;34m'npm'\u001b[0m\u001b[0;34m,\u001b[0m \u001b[0;34m'language-agnostic'\u001b[0m\u001b[0;34m,\u001b[0m \u001b[0;34m'exception'\u001b[0m\u001b[0;34m,\u001b[0m \u001b[0;34m'numpy'\u001b[0m\u001b[0;34m,\u001b[0m \u001b[0;34m'mongodb'\u001b[0m\u001b[0;34m,\u001b[0m \u001b[0;34m'function'\u001b[0m\u001b[0;34m,\u001b[0m \u001b[0;34m'sorting'\u001b[0m\u001b[0;34m,\u001b[0m \u001b[0;34m'object'\u001b[0m\u001b[0;34m,\u001b[0m \u001b[0;34m'collections'\u001b[0m\u001b[0;34m,\u001b[0m \u001b[0;34m'go'\u001b[0m\u001b[0;34m,\u001b[0m \u001b[0;34m'generics'\u001b[0m\u001b[0;34m,\u001b[0m \u001b[0;34m'scala'\u001b[0m\u001b[0;34m,\u001b[0m \u001b[0;34m'class'\u001b[0m\u001b[0;34m,\u001b[0m \u001b[0;34m'forms'\u001b[0m\u001b[0;34m,\u001b[0m \u001b[0;34m'android-layout'\u001b[0m\u001b[0;34m,\u001b[0m \u001b[0;34m'maven'\u001b[0m\u001b[0;34m,\u001b[0m \u001b[0;34m'security'\u001b[0m\u001b[0;34m,\u001b[0m \u001b[0;34m'gradle'\u001b[0m\u001b[0;34m,\u001b[0m \u001b[0;34m'url'\u001b[0m\u001b[0;34m,\u001b[0m \u001b[0;34m'image'\u001b[0m\u001b[0;34m,\u001b[0m \u001b[0;34m'types'\u001b[0m\u001b[0;34m,\u001b[0m \u001b[0;34m'java-8'\u001b[0m\u001b[0;34m,\u001b[0m \u001b[0;34m'dom'\u001b[0m\u001b[0;34m,\u001b[0m \u001b[0;34m'svn'\u001b[0m\u001b[0;34m,\u001b[0m \u001b[0;34m'entity-framework'\u001b[0m\u001b[0;34m,\u001b[0m \u001b[0;34m'variables'\u001b[0m\u001b[0;34m,\u001b[0m \u001b[0;34m'matplotlib'\u001b[0m\u001b[0;34m,\u001b[0m \u001b[0;34m'sql-server-2008'\u001b[0m\u001b[0;34m,\u001b[0m \u001b[0;34m'logging'\u001b[0m\u001b[0;34m,\u001b[0m \u001b[0;34m'express'\u001b[0m\u001b[0;34m]\u001b[0m\u001b[0;34m\u001b[0m\u001b[0;34m\u001b[0m\u001b[0m\n\u001b[0;32m----> 3\u001b[0;31m \u001b[0mdf_probs\u001b[0m \u001b[0;34m=\u001b[0m \u001b[0mpd\u001b[0m\u001b[0;34m.\u001b[0m\u001b[0mDataFrame\u001b[0m\u001b[0;34m.\u001b[0m\u001b[0mfrom_records\u001b[0m\u001b[0;34m(\u001b[0m\u001b[0mprob_preds\u001b[0m\u001b[0;34m,\u001b[0m \u001b[0mindex\u001b[0m\u001b[0;34m=\u001b[0m \u001b[0mpopular_tags\u001b[0m\u001b[0;34m)\u001b[0m\u001b[0;34m\u001b[0m\u001b[0;34m\u001b[0m\u001b[0m\n\u001b[0m\u001b[1;32m      4\u001b[0m \u001b[0mdf_probs\u001b[0m\u001b[0;34m.\u001b[0m\u001b[0mloc\u001b[0m\u001b[0;34m[\u001b[0m\u001b[0;34m:\u001b[0m\u001b[0;34m,\u001b[0m \u001b[0;34m'probability'\u001b[0m\u001b[0;34m]\u001b[0m \u001b[0;34m=\u001b[0m \u001b[0mdf_probs\u001b[0m\u001b[0;34m[\u001b[0m\u001b[0;36m0\u001b[0m\u001b[0;34m]\u001b[0m\u001b[0;34m.\u001b[0m\u001b[0mmap\u001b[0m\u001b[0;34m(\u001b[0m\u001b[0;32mlambda\u001b[0m \u001b[0mx\u001b[0m\u001b[0;34m:\u001b[0m \u001b[0mx\u001b[0m\u001b[0;34m[\u001b[0m\u001b[0;36m1\u001b[0m\u001b[0;34m]\u001b[0m\u001b[0;34m)\u001b[0m \u001b[0;31m# get out only positive probability\u001b[0m\u001b[0;34m\u001b[0m\u001b[0;34m\u001b[0m\u001b[0m\n\u001b[1;32m      5\u001b[0m \u001b[0;34m\u001b[0m\u001b[0m\n",
      "\u001b[0;32m/media/marco/DATA/anaconda3/lib/python3.7/site-packages/pandas/core/frame.py\u001b[0m in \u001b[0;36mfrom_records\u001b[0;34m(cls, data, index, exclude, columns, coerce_float, nrows)\u001b[0m\n\u001b[1;32m   1674\u001b[0m             \u001b[0mcolumns\u001b[0m \u001b[0;34m=\u001b[0m \u001b[0mcolumns\u001b[0m\u001b[0;34m.\u001b[0m\u001b[0mdrop\u001b[0m\u001b[0;34m(\u001b[0m\u001b[0mexclude\u001b[0m\u001b[0;34m)\u001b[0m\u001b[0;34m\u001b[0m\u001b[0;34m\u001b[0m\u001b[0m\n\u001b[1;32m   1675\u001b[0m \u001b[0;34m\u001b[0m\u001b[0m\n\u001b[0;32m-> 1676\u001b[0;31m         \u001b[0mmgr\u001b[0m \u001b[0;34m=\u001b[0m \u001b[0marrays_to_mgr\u001b[0m\u001b[0;34m(\u001b[0m\u001b[0marrays\u001b[0m\u001b[0;34m,\u001b[0m \u001b[0marr_columns\u001b[0m\u001b[0;34m,\u001b[0m \u001b[0mresult_index\u001b[0m\u001b[0;34m,\u001b[0m \u001b[0mcolumns\u001b[0m\u001b[0;34m)\u001b[0m\u001b[0;34m\u001b[0m\u001b[0;34m\u001b[0m\u001b[0m\n\u001b[0m\u001b[1;32m   1677\u001b[0m \u001b[0;34m\u001b[0m\u001b[0m\n\u001b[1;32m   1678\u001b[0m         \u001b[0;32mreturn\u001b[0m \u001b[0mcls\u001b[0m\u001b[0;34m(\u001b[0m\u001b[0mmgr\u001b[0m\u001b[0;34m)\u001b[0m\u001b[0;34m\u001b[0m\u001b[0;34m\u001b[0m\u001b[0m\n",
      "\u001b[0;32m/media/marco/DATA/anaconda3/lib/python3.7/site-packages/pandas/core/internals/construction.py\u001b[0m in \u001b[0;36marrays_to_mgr\u001b[0;34m(arrays, arr_names, index, columns, dtype)\u001b[0m\n\u001b[1;32m     72\u001b[0m     \u001b[0maxes\u001b[0m \u001b[0;34m=\u001b[0m \u001b[0;34m[\u001b[0m\u001b[0mensure_index\u001b[0m\u001b[0;34m(\u001b[0m\u001b[0mcolumns\u001b[0m\u001b[0;34m)\u001b[0m\u001b[0;34m,\u001b[0m \u001b[0mindex\u001b[0m\u001b[0;34m]\u001b[0m\u001b[0;34m\u001b[0m\u001b[0;34m\u001b[0m\u001b[0m\n\u001b[1;32m     73\u001b[0m \u001b[0;34m\u001b[0m\u001b[0m\n\u001b[0;32m---> 74\u001b[0;31m     \u001b[0;32mreturn\u001b[0m \u001b[0mcreate_block_manager_from_arrays\u001b[0m\u001b[0;34m(\u001b[0m\u001b[0marrays\u001b[0m\u001b[0;34m,\u001b[0m \u001b[0marr_names\u001b[0m\u001b[0;34m,\u001b[0m \u001b[0maxes\u001b[0m\u001b[0;34m)\u001b[0m\u001b[0;34m\u001b[0m\u001b[0;34m\u001b[0m\u001b[0m\n\u001b[0m\u001b[1;32m     75\u001b[0m \u001b[0;34m\u001b[0m\u001b[0m\n\u001b[1;32m     76\u001b[0m \u001b[0;34m\u001b[0m\u001b[0m\n",
      "\u001b[0;32m/media/marco/DATA/anaconda3/lib/python3.7/site-packages/pandas/core/internals/managers.py\u001b[0m in \u001b[0;36mcreate_block_manager_from_arrays\u001b[0;34m(arrays, names, axes)\u001b[0m\n\u001b[1;32m   1673\u001b[0m         \u001b[0;32mreturn\u001b[0m \u001b[0mmgr\u001b[0m\u001b[0;34m\u001b[0m\u001b[0;34m\u001b[0m\u001b[0m\n\u001b[1;32m   1674\u001b[0m     \u001b[0;32mexcept\u001b[0m \u001b[0mValueError\u001b[0m \u001b[0;32mas\u001b[0m \u001b[0me\u001b[0m\u001b[0;34m:\u001b[0m\u001b[0;34m\u001b[0m\u001b[0;34m\u001b[0m\u001b[0m\n\u001b[0;32m-> 1675\u001b[0;31m         \u001b[0mconstruction_error\u001b[0m\u001b[0;34m(\u001b[0m\u001b[0mlen\u001b[0m\u001b[0;34m(\u001b[0m\u001b[0marrays\u001b[0m\u001b[0;34m)\u001b[0m\u001b[0;34m,\u001b[0m \u001b[0marrays\u001b[0m\u001b[0;34m[\u001b[0m\u001b[0;36m0\u001b[0m\u001b[0;34m]\u001b[0m\u001b[0;34m.\u001b[0m\u001b[0mshape\u001b[0m\u001b[0;34m,\u001b[0m \u001b[0maxes\u001b[0m\u001b[0;34m,\u001b[0m \u001b[0me\u001b[0m\u001b[0;34m)\u001b[0m\u001b[0;34m\u001b[0m\u001b[0;34m\u001b[0m\u001b[0m\n\u001b[0m\u001b[1;32m   1676\u001b[0m \u001b[0;34m\u001b[0m\u001b[0m\n\u001b[1;32m   1677\u001b[0m \u001b[0;34m\u001b[0m\u001b[0m\n",
      "\u001b[0;32m/media/marco/DATA/anaconda3/lib/python3.7/site-packages/pandas/core/internals/managers.py\u001b[0m in \u001b[0;36mconstruction_error\u001b[0;34m(tot_items, block_shape, axes, e)\u001b[0m\n\u001b[1;32m   1692\u001b[0m     \u001b[0;32mif\u001b[0m \u001b[0mblock_shape\u001b[0m\u001b[0;34m[\u001b[0m\u001b[0;36m0\u001b[0m\u001b[0;34m]\u001b[0m \u001b[0;34m==\u001b[0m \u001b[0;36m0\u001b[0m\u001b[0;34m:\u001b[0m\u001b[0;34m\u001b[0m\u001b[0;34m\u001b[0m\u001b[0m\n\u001b[1;32m   1693\u001b[0m         \u001b[0;32mraise\u001b[0m \u001b[0mValueError\u001b[0m\u001b[0;34m(\u001b[0m\u001b[0;34m\"Empty data passed with indices specified.\"\u001b[0m\u001b[0;34m)\u001b[0m\u001b[0;34m\u001b[0m\u001b[0;34m\u001b[0m\u001b[0m\n\u001b[0;32m-> 1694\u001b[0;31m     \u001b[0;32mraise\u001b[0m \u001b[0mValueError\u001b[0m\u001b[0;34m(\u001b[0m\u001b[0;34mf\"Shape of passed values is {passed}, indices imply {implied}\"\u001b[0m\u001b[0;34m)\u001b[0m\u001b[0;34m\u001b[0m\u001b[0;34m\u001b[0m\u001b[0m\n\u001b[0m\u001b[1;32m   1695\u001b[0m \u001b[0;34m\u001b[0m\u001b[0m\n\u001b[1;32m   1696\u001b[0m \u001b[0;34m\u001b[0m\u001b[0m\n",
      "\u001b[0;31mValueError\u001b[0m: Shape of passed values is (50, 4), indices imply (110, 4)"
     ]
    }
   ],
   "source": [
    "prob_preds = rf_clf.predict_proba(vectorized_query)\n",
    "\n",
    "df_probs = pd.DataFrame.from_records(prob_preds, index= popular_tags)\n",
    "df_probs.loc[:, 'probability'] = df_probs[0].map(lambda x: x[1]) # get out only positive probability\n",
    "\n",
    "df_probs.reset_index(inplace=True)\n",
    "print(df_probs.shape)\n",
    "df_probs"
   ]
  },
  {
   "cell_type": "code",
   "execution_count": null,
   "metadata": {},
   "outputs": [],
   "source": [
    "df_probs = df_probs.sort_values(by='probability', ascending=False)\n",
    "tags = df_probs['index'][:5].tolist()\n",
    "print(tags)\n",
    "df_probs"
   ]
  },
  {
   "cell_type": "code",
   "execution_count": null,
   "metadata": {},
   "outputs": [],
   "source": []
  }
 ],
 "metadata": {
  "kernelspec": {
   "display_name": "Python 3",
   "language": "python",
   "name": "python3"
  },
  "language_info": {
   "codemirror_mode": {
    "name": "ipython",
    "version": 3
   },
   "file_extension": ".py",
   "mimetype": "text/x-python",
   "name": "python",
   "nbconvert_exporter": "python",
   "pygments_lexer": "ipython3",
   "version": "3.7.6"
  }
 },
 "nbformat": 4,
 "nbformat_minor": 4
}
