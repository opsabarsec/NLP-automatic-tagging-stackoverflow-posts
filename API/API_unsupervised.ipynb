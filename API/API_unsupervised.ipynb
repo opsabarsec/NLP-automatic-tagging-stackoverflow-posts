{
 "cells": [
  {
   "cell_type": "code",
   "execution_count": 1,
   "metadata": {},
   "outputs": [],
   "source": [
    "import pandas as pd\n",
    "\n",
    "import nltk, re, pprint\n",
    "! pip install git+https://github.com/LIAAD/yake\n",
    "import yake"
   ]
  },
  {
   "cell_type": "code",
   "execution_count": 2,
   "metadata": {},
   "outputs": [],
   "source": [
    "def preprocess_text(text):\n",
    "    text = text.lower() # lowercase\n",
    "    text = re.sub(r\"what's\", \"what is \", text)\n",
    "    text = re.sub(r\"\\'s\", \" \", text)\n",
    "    text = re.sub(r\"\\'ve\", \" have \", text)\n",
    "    text = re.sub(r\"can't\", \"can not \", text)\n",
    "    text = re.sub(r\"n't\", \" not \", text)\n",
    "    text = re.sub(r\"i'm\", \"i am \", text)\n",
    "    text = re.sub(r\"\\'re\", \" are \", text)\n",
    "    text = re.sub(r\"\\'d\", \" would \", text)\n",
    "    text = re.sub(r\"\\'ll\", \" will \", text)\n",
    "    text = re.sub(r\"\\'scuse\", \" excuse \", text)\n",
    "    text = re.sub(r\"[0-9]\", \" \", text)\n",
    "    text = re.sub(r\"[?.!/;:']\", \" \", text)\n",
    "    text = re.sub(r\"[<>\\@%*=]\", \" \", text)\n",
    "    text = re.sub(r\"[\\ |\\]|\\[|\\|\\/|\\#|\\:]\", \" \", text)\n",
    "    text = re.sub(r\"\\'\\n\", \" \", text) #line breaks\n",
    "    text = re.sub(r\"\\'\\xa0\", \" \", text) # xa0 Unicode representing spaces\n",
    "    text = re.sub('\\s+', ' ', text) # one or more whitespace characters\n",
    "    text = text.strip(' ') # spaces\n",
    "    return text"
   ]
  },
  {
   "cell_type": "code",
   "execution_count": 16,
   "metadata": {},
   "outputs": [],
   "source": [
    "def extract_tags(text):\n",
    "    simple_kwextractor = yake.KeywordExtractor()\n",
    "    post_keywords = simple_kwextractor.extract_keywords(text)\n",
    "    post_keywords = list(set(post_keywords))\n",
    "    sentence_output = \"\"\n",
    "    for word, number in post_keywords[:2]:\n",
    "        sentence_output += word + \" \"\n",
    "    \n",
    "    return sentence_output"
   ]
  },
  {
   "cell_type": "code",
   "execution_count": 17,
   "metadata": {},
   "outputs": [
    {
     "data": {
      "text/plain": [
       "'if you do want one every save, in jupyter you can trigger nbconvert via pre- or post-save hooks contentsmanager pre_save_hook abd filecontentsmanager post_save_hook you would add a post-save hook jupyter nbconvert --to script notebook'"
      ]
     },
     "execution_count": 17,
     "metadata": {},
     "output_type": "execute_result"
    }
   ],
   "source": [
    "post = \"If you DO want one every save, in jupyter you can trigger nbconvert via pre- or post-save hooks: ContentsManager.pre_save_hook abd FileContentsManager.post_save_hook. You would add a post-save hook jupyter nbconvert --to script [notebook]\"\n",
    "p = preprocess_text(post)\n",
    "p"
   ]
  },
  {
   "cell_type": "code",
   "execution_count": 20,
   "metadata": {},
   "outputs": [
    {
     "data": {
      "text/plain": [
       "'filecontentsmanager post save '"
      ]
     },
     "execution_count": 20,
     "metadata": {},
     "output_type": "execute_result"
    }
   ],
   "source": [
    "\n",
    "\n",
    "extract_tags(p)"
   ]
  },
  {
   "cell_type": "code",
   "execution_count": null,
   "metadata": {},
   "outputs": [],
   "source": []
  }
 ],
 "metadata": {
  "kernelspec": {
   "display_name": "Python 3",
   "language": "python",
   "name": "python3"
  },
  "language_info": {
   "codemirror_mode": {
    "name": "ipython",
    "version": 3
   },
   "file_extension": ".py",
   "mimetype": "text/x-python",
   "name": "python",
   "nbconvert_exporter": "python",
   "pygments_lexer": "ipython3",
   "version": "3.7.6"
  }
 },
 "nbformat": 4,
 "nbformat_minor": 4
}
